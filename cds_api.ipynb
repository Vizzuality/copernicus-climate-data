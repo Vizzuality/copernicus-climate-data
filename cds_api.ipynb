{
  "nbformat": 4,
  "nbformat_minor": 0,
  "metadata": {
    "colab": {
      "name": "cds-api.ipynb",
      "provenance": [],
      "collapsed_sections": [],
      "toc_visible": true,
      "mount_file_id": "1j_cliVN3gKk-dK_1qpLYUWyrgWypGwVq",
      "authorship_tag": "ABX9TyOjjSYaP5i0pNgCEUIVcHQT",
      "include_colab_link": true
    },
    "kernelspec": {
      "name": "python3",
      "display_name": "Python 3"
    }
  },
  "cells": [
    {
      "cell_type": "markdown",
      "metadata": {
        "id": "view-in-github",
        "colab_type": "text"
      },
      "source": [
        "<a href=\"https://colab.research.google.com/github/Vizzuality/copernicus-climate-data/blob/master/cds_api.ipynb\" target=\"_parent\"><img src=\"https://colab.research.google.com/assets/colab-badge.svg\" alt=\"Open In Colab\"/></a>"
      ]
    },
    {
      "cell_type": "markdown",
      "metadata": {
        "id": "uKARM1_f3Ccg",
        "colab_type": "text"
      },
      "source": [
        "# Setup"
      ]
    },
    {
      "cell_type": "markdown",
      "metadata": {
        "id": "FjdjX-Vc3LVK",
        "colab_type": "text"
      },
      "source": [
        "## Linux dependencies"
      ]
    },
    {
      "cell_type": "markdown",
      "metadata": {
        "id": "LGWeJje13Tcw",
        "colab_type": "text"
      },
      "source": [
        "## Python packages"
      ]
    },
    {
      "cell_type": "code",
      "metadata": {
        "id": "U53feFohKqnU",
        "colab_type": "code",
        "outputId": "0b7f2a3b-daca-4ba8-a89e-434a16f36bd4",
        "colab": {
          "base_uri": "https://localhost:8080/",
          "height": 729
        }
      },
      "source": [
        "!pip install cftime netcdf4 zarr xarray xclim cdsapi cdstoolbox-remote"
      ],
      "execution_count": 0,
      "outputs": [
        {
          "output_type": "stream",
          "text": [
            "Requirement already satisfied: cftime in /usr/local/lib/python3.6/dist-packages (1.1.0)\n",
            "Requirement already satisfied: netcdf4 in /usr/local/lib/python3.6/dist-packages (1.5.3)\n",
            "Collecting zarr\n",
            "\u001b[?25l  Downloading https://files.pythonhosted.org/packages/a3/87/383d77399148ef0772da3472b513ecf143252e7c365c51b0f06714800366/zarr-2.4.0.tar.gz (3.3MB)\n",
            "\u001b[K     |████████████████████████████████| 3.3MB 2.8MB/s \n",
            "\u001b[?25hRequirement already satisfied: xarray in /usr/local/lib/python3.6/dist-packages (0.14.1)\n",
            "Requirement already satisfied: cdsapi in /usr/local/lib/python3.6/dist-packages (0.2.5)\n",
            "Requirement already satisfied: cdstoolbox-remote in /usr/local/lib/python3.6/dist-packages (0.0.1)\n",
            "Requirement already satisfied: numpy in /usr/local/lib/python3.6/dist-packages (from cftime) (1.17.5)\n",
            "Collecting asciitree\n",
            "  Downloading https://files.pythonhosted.org/packages/2d/6a/885bc91484e1aa8f618f6f0228d76d0e67000b0fdd6090673b777e311913/asciitree-0.3.3.tar.gz\n",
            "Collecting fasteners\n",
            "  Downloading https://files.pythonhosted.org/packages/18/bd/55eb2d6397b9c0e263af9d091ebdb756b15756029b3cededf6461481bc63/fasteners-0.15-py2.py3-none-any.whl\n",
            "Collecting numcodecs>=0.6.4\n",
            "\u001b[?25l  Downloading https://files.pythonhosted.org/packages/53/2a/1dc435cbd1d082827190a3e46168fd04f74e266e91313969d5a1aab601bf/numcodecs-0.6.4.tar.gz (3.8MB)\n",
            "\u001b[K     |████████████████████████████████| 3.8MB 33.2MB/s \n",
            "\u001b[?25hRequirement already satisfied: pandas>=0.24 in /usr/local/lib/python3.6/dist-packages (from xarray) (0.25.3)\n",
            "Requirement already satisfied: requests>=2.5.0 in /usr/local/lib/python3.6/dist-packages (from cdsapi) (2.21.0)\n",
            "Requirement already satisfied: tqdm in /usr/local/lib/python3.6/dist-packages (from cdsapi) (4.28.1)\n",
            "Requirement already satisfied: six in /usr/local/lib/python3.6/dist-packages (from fasteners->zarr) (1.12.0)\n",
            "Collecting monotonic>=0.1\n",
            "  Downloading https://files.pythonhosted.org/packages/ac/aa/063eca6a416f397bd99552c534c6d11d57f58f2e94c14780f3bbf818c4cf/monotonic-1.5-py2.py3-none-any.whl\n",
            "Requirement already satisfied: python-dateutil>=2.6.1 in /usr/local/lib/python3.6/dist-packages (from pandas>=0.24->xarray) (2.6.1)\n",
            "Requirement already satisfied: pytz>=2017.2 in /usr/local/lib/python3.6/dist-packages (from pandas>=0.24->xarray) (2018.9)\n",
            "Requirement already satisfied: urllib3<1.25,>=1.21.1 in /usr/local/lib/python3.6/dist-packages (from requests>=2.5.0->cdsapi) (1.24.3)\n",
            "Requirement already satisfied: certifi>=2017.4.17 in /usr/local/lib/python3.6/dist-packages (from requests>=2.5.0->cdsapi) (2019.11.28)\n",
            "Requirement already satisfied: chardet<3.1.0,>=3.0.2 in /usr/local/lib/python3.6/dist-packages (from requests>=2.5.0->cdsapi) (3.0.4)\n",
            "Requirement already satisfied: idna<2.9,>=2.5 in /usr/local/lib/python3.6/dist-packages (from requests>=2.5.0->cdsapi) (2.8)\n",
            "Building wheels for collected packages: zarr, asciitree, numcodecs\n",
            "  Building wheel for zarr (setup.py) ... \u001b[?25l\u001b[?25hdone\n",
            "  Created wheel for zarr: filename=zarr-2.4.0-cp36-none-any.whl size=127066 sha256=04770c8d838f2a57584817dc901889faa063fdda791a57cd52d7fabd72fe4089\n",
            "  Stored in directory: /root/.cache/pip/wheels/e1/5b/25/24c685604b91139aba00a5b6299b53e7a0661f737f27782559\n",
            "  Building wheel for asciitree (setup.py) ... \u001b[?25l\u001b[?25hdone\n",
            "  Created wheel for asciitree: filename=asciitree-0.3.3-cp36-none-any.whl size=5037 sha256=aba747db9907186ba367694654b96eb6d449580d99cfd81b08faef4fa3044eb7\n",
            "  Stored in directory: /root/.cache/pip/wheels/1d/d9/58/9808b306744df0208fccc640d3d9952a5bc7468502d42897d5\n",
            "  Building wheel for numcodecs (setup.py) ... \u001b[?25l\u001b[?25hdone\n",
            "  Created wheel for numcodecs: filename=numcodecs-0.6.4-cp36-cp36m-linux_x86_64.whl size=3885735 sha256=63a8f24bcc660bdc6db6bb87c2936eabb8e04ad7e4ed68528fe96c6ab650825a\n",
            "  Stored in directory: /root/.cache/pip/wheels/ca/07/ed/fea2e120cbb91d90b577c5ac56b4b082024f56fcd88e9afa55\n",
            "Successfully built zarr asciitree numcodecs\n",
            "Installing collected packages: asciitree, monotonic, fasteners, numcodecs, zarr\n",
            "Successfully installed asciitree-0.3.3 fasteners-0.15 monotonic-1.5 numcodecs-0.6.4 zarr-2.4.0\n"
          ],
          "name": "stdout"
        }
      ]
    },
    {
      "cell_type": "markdown",
      "metadata": {
        "id": "IK4kYzml3bDD",
        "colab_type": "text"
      },
      "source": [
        "## Authorisation"
      ]
    },
    {
      "cell_type": "code",
      "metadata": {
        "colab_type": "code",
        "id": "oY_ymKY_oIY8",
        "colab": {}
      },
      "source": [
        "# For auth WITHOUT service account\n",
        "#from google.colab import auth\n",
        "#auth.authenticate_user()\n",
        "\n",
        "# https://cloud.google.com/resource-manager/docs/creating-managing-projects\n",
        "#project_id = \"skydipper-196010\"\n",
        "#!gcloud config set project {project_id}"
      ],
      "execution_count": 0,
      "outputs": []
    },
    {
      "cell_type": "code",
      "metadata": {
        "id": "ZALwrMk6mZi1",
        "colab_type": "code",
        "colab": {}
      },
      "source": [
        "# Copy GC credentials to home (place in your GDrive, and connect Drive)\n",
        "!cp \"/content/drive/My Drive/skydipper-196010-f842645fd0f3.json\" \"/root/.skydipper-196010-f842645fd0f3.json\""
      ],
      "execution_count": 0,
      "outputs": []
    },
    {
      "cell_type": "code",
      "metadata": {
        "id": "UjfIs-8cleB8",
        "colab_type": "code",
        "outputId": "3fe2a16f-ecce-479f-be71-7e77c6acbdcd",
        "colab": {
          "base_uri": "https://localhost:8080/",
          "height": 121
        }
      },
      "source": [
        "# Auth WITH service account\n",
        "!gcloud auth activate-service-account \\\n",
        "  edward-morris@skydipper-196010.iam.gserviceaccount.com \\\n",
        "          --key-file=/root/.skydipper-196010-f842645fd0f3.json --project=\"skydipper-196010\"\n"
      ],
      "execution_count": 0,
      "outputs": [
        {
          "output_type": "stream",
          "text": [
            "Activated service account credentials for: [edward-morris@skydipper-196010.iam.gserviceaccount.com]\n",
            "\n",
            "\n",
            "To take a quick anonymous survey, run:\n",
            "  $ gcloud survey\n",
            "\n"
          ],
          "name": "stdout"
        }
      ]
    },
    {
      "cell_type": "code",
      "metadata": {
        "id": "9WXZ5rz5owNn",
        "colab_type": "code",
        "outputId": "71146edf-14fb-4def-9055-eb0ec847f343",
        "colab": {
          "base_uri": "https://localhost:8080/",
          "height": 243
        }
      },
      "source": [
        "# Test GC auth\n",
        "!gsutil ls \"gs://copernicus-climate\""
      ],
      "execution_count": 0,
      "outputs": [
        {
          "output_type": "stream",
          "text": [
            "gs://copernicus-climate/RH_ERA5.zip\n",
            "gs://copernicus-climate/variables_futuro_CMIP5_AEMET.zip\n",
            "gs://copernicus-climate/variables_futuro_CMIP5_ERA5land_1.zip\n",
            "gs://copernicus-climate/variables_futuro_CMIP5_ERA5land_2.zip\n",
            "gs://copernicus-climate/variables_futuro_CMIP5_ERA5land_3.zip\n",
            "gs://copernicus-climate/variables_futuro_CMIP5_ERA5land_4.zip\n",
            "gs://copernicus-climate/variables_futuro_seasonal_ERA5land_1.zip\n",
            "gs://copernicus-climate/variables_futuro_seasonal_ERA5land_2.zip\n",
            "gs://copernicus-climate/variables_futuro_seasonal_ERA5land_3.zip\n",
            "gs://copernicus-climate/ws_ERA5.zip\n",
            "gs://copernicus-climate/dataset/\n",
            "gs://copernicus-climate/future-daily/\n",
            "gs://copernicus-climate/spain.zarr/\n"
          ],
          "name": "stdout"
        }
      ]
    },
    {
      "cell_type": "code",
      "metadata": {
        "id": "fjHZ_e7rk9If",
        "colab_type": "code",
        "colab": {}
      },
      "source": [
        "# Copy CDS API credentials to home (place in your GDrive, and connect Drive)\n",
        "!cp \"/content/drive/My Drive/cdsapirc\" \"/root/.cdsapirc\"\n"
      ],
      "execution_count": 0,
      "outputs": []
    },
    {
      "cell_type": "code",
      "metadata": {
        "id": "5f327xg8JujU",
        "colab_type": "code",
        "colab": {}
      },
      "source": [
        "# Clean up\n",
        "!rm -r sample_data"
      ],
      "execution_count": 0,
      "outputs": []
    },
    {
      "cell_type": "markdown",
      "metadata": {
        "id": "s1rict6O77XF",
        "colab_type": "text"
      },
      "source": [
        "# Utils"
      ]
    },
    {
      "cell_type": "markdown",
      "metadata": {
        "id": "-l-NVtcE8KdV",
        "colab_type": "text"
      },
      "source": [
        "## copy_gcs"
      ]
    },
    {
      "cell_type": "code",
      "metadata": {
        "id": "h1KygWllicHk",
        "colab_type": "code",
        "colab": {}
      },
      "source": [
        "import os\n",
        "import subprocess\n",
        "\n",
        "def copy_gcs(source_list, dest_list, opts=\"\"):\n",
        "  \"\"\"\n",
        "  Use gsutil to copy each corresponding item in source_list\n",
        "  to dest_list\n",
        "\n",
        "  \"\"\"\n",
        "  for s, d  in zip(source_list, dest_list):\n",
        "    cmd = f\"gsutil -m cp -r {opts} {s} {d}\"\n",
        "    print(f\"Processing: {cmd}\")\n",
        "    r = subprocess.call(cmd, shell=True)\n",
        "    if r == 0:\n",
        "        print(\"Task created\")\n",
        "    else:\n",
        "        print(\"Task failed\")\n",
        "  print(\"Finished copy\")"
      ],
      "execution_count": 0,
      "outputs": []
    },
    {
      "cell_type": "markdown",
      "metadata": {
        "id": "TqlC-HYq8XuR",
        "colab_type": "text"
      },
      "source": [
        "## list_paths"
      ]
    },
    {
      "cell_type": "code",
      "metadata": {
        "id": "x-6sC0Zc5HGQ",
        "colab_type": "code",
        "colab": {}
      },
      "source": [
        "import glob\n",
        "import subprocess\n",
        "\n",
        "def list_paths(uri_prefix, dir_path, file_pattern=\"*\", gsutil=True, return_dir_path=True):\n",
        "        ''' Creates a list of full paths \n",
        "    \n",
        "        Uses glob regex rules allowing flexible patterns\n",
        "    \n",
        "        Parameters\n",
        "        ----------\n",
        "        uri_prefix : str\n",
        "            The (GCS) uri prefix.\n",
        "        dir_path : str\n",
        "            Directory path, can use regex.\n",
        "        file_pattern : str\n",
        "            File pattern for glob searching.\n",
        "        gsutil : bool\n",
        "            Use gsutil, default is True.\n",
        "        return_dir_path : bool\n",
        "            Return directory path relative to uri_prefix, default is True.        \n",
        "    \n",
        "        Returns\n",
        "        -------\n",
        "        List of path strings.\n",
        "        \n",
        "        Examples\n",
        "        --------\n",
        "        # Requires authentication\n",
        "        #list_paths(\"gs://skydipper-water-quality\", \"cloud-masks/*\", \"*.tif\", True, False)\n",
        "        '''\n",
        "        p = f\"{uri_prefix}/{dir_path}/{file_pattern}\"\n",
        "        print(f\"Searching {p}\")\n",
        "        if not gsutil:\n",
        "          out = glob.glob(p)\n",
        "        if gsutil:\n",
        "          cmd = f\"gsutil ls {p}\"\n",
        "          out = subprocess.check_output(cmd, shell=True).decode('utf8').split('\\n')\n",
        "          out.pop(-1)\n",
        "        if return_dir_path:\n",
        "          out = [f.split(uri_prefix)[1] for f in out]  \n",
        "        print(f\"Found {len(out)} path(s)\")\n",
        "        return out\n",
        "\n",
        "#path_list = list_paths(\"gs://skydipper-water-quality\", \"cloud-masks/*\", \"*.tif\", True, True)\n",
        "#print(path_list[0])\n",
        "\n"
      ],
      "execution_count": 0,
      "outputs": []
    },
    {
      "cell_type": "markdown",
      "metadata": {
        "id": "ywPFO-97E0bK",
        "colab_type": "text"
      },
      "source": [
        "## extract_string"
      ]
    },
    {
      "cell_type": "code",
      "metadata": {
        "id": "I-Bua3ur0bN6",
        "colab_type": "code",
        "colab": {}
      },
      "source": [
        "import os\n",
        "def extract_string(file_path, split, index):\n",
        "  \"\"\"\n",
        "  Get string by splitting path\n",
        "  \n",
        "  @arg file_path The file path string to split\n",
        "  @arg split Caracter to split path on\n",
        "  @index Index integer to retain\n",
        "\n",
        "  @return A string\n",
        "  \"\"\" \n",
        "  return os.path.splitext(file_path)[0].split(split)[index]"
      ],
      "execution_count": 0,
      "outputs": []
    },
    {
      "cell_type": "markdown",
      "metadata": {
        "id": "z1y_R6gT8btq",
        "colab_type": "text"
      },
      "source": [
        "## set_acl_to_public"
      ]
    },
    {
      "cell_type": "code",
      "metadata": {
        "id": "aWaLaClDVSaK",
        "colab_type": "code",
        "colab": {}
      },
      "source": [
        "import subprocess\n",
        "\n",
        "# Set to asset permissions to public for https read\n",
        "def set_acl_to_public(gs_path):\n",
        "  \"\"\" \n",
        "  Set all Google Storage assets to puplic read access.\n",
        "\n",
        "  Requires GS authentication\n",
        "\n",
        "  Parameters\n",
        "  ----------\n",
        "  gs_path str\n",
        "    The google storage path, note the \"-r\" option is used, setting the acl of all assets below this path\n",
        "  \"\"\"\n",
        "  cmd = f\"gsutil -m acl -r ch -u AllUsers:R {gs_path}\"\n",
        "  print(cmd)\n",
        "  r = subprocess.call(cmd, shell=True)\n",
        "  if r is 0:\n",
        "    print(\"Set acl(s) sucsessful\")\n",
        "  else:\n",
        "    print(\"Set acl(s) failed\")  \n",
        "\n",
        "#set_acl_to_public(\"gs://skydipper-water-quality/cloud-masks\")"
      ],
      "execution_count": 0,
      "outputs": []
    },
    {
      "cell_type": "markdown",
      "metadata": {
        "id": "HNmfMa87ScyA",
        "colab_type": "text"
      },
      "source": [
        "## extract_zip"
      ]
    },
    {
      "cell_type": "code",
      "metadata": {
        "id": "mOIClkRtSjoj",
        "colab_type": "code",
        "colab": {}
      },
      "source": [
        "# Extract only what we want\n",
        "from zipfile import ZipFile\n",
        "\n",
        "def extract_zip(zip_path, dest_path, patterns):\n",
        "  with ZipFile(zip_path, 'r') as zipObj:\n",
        "      # Get a list of all archived file names from the zip\n",
        "      fl = zipObj.namelist()\n",
        "      #print(fl)\n",
        "      for pattern in patterns:\n",
        "          for f in fl:\n",
        "              if pattern in f:\n",
        "                print(f)\n",
        "                zipObj.extract(f, dest_path)\n",
        "  print(\"Finished extraction\")"
      ],
      "execution_count": 0,
      "outputs": []
    },
    {
      "cell_type": "markdown",
      "metadata": {
        "id": "fUAibwIxUjCV",
        "colab_type": "text"
      },
      "source": [
        "## copy_zip_extract_rm"
      ]
    },
    {
      "cell_type": "code",
      "metadata": {
        "id": "NRw8-qiPUro2",
        "colab_type": "code",
        "colab": {}
      },
      "source": [
        "import os\n",
        "def copy_zip_extract_rm(src_path, dest_path, extract_path, patterns):\n",
        "  print(f\"Copying {src_path} to {dest_path}\")\n",
        "  copy_gcs([src_path], [dest_path], opts=\"-n\")\n",
        "  zp = os.path.join(dest_path, os.path.basename(src_path))\n",
        "  print(f\"Extracting {zp} with pattern {patterns} to {extract_path}\")\n",
        "  extract_zip(zp, extract_path, patterns)\n",
        "  print(f\"Removing {zp}\")\n",
        "  os.remove(zp)\n",
        "  print(\"Finished copy, extract, and remove\")\n"
      ],
      "execution_count": 0,
      "outputs": []
    },
    {
      "cell_type": "markdown",
      "metadata": {
        "id": "dJKYR9gKStAq",
        "colab_type": "text"
      },
      "source": [
        "# Data package structure\n",
        "\n",
        "+ CMIP5 future predictions, datetimes are not correct, they are simply a placeholder for the daily data.\n",
        "+ There are 4 scenarios, we only require \"rcp45\" and \"rcp85\".\n",
        "+ There are various models per scenario, eventually we require the mean and sd of the models\n",
        "+ Data are clipped to a single region (Spain)\n",
        "+ Seperate files for tasmax and tasmin\n",
        "\n",
        "\n",
        "```\n",
        "*.zip\n",
        "  [variable]_[model]_[scenario]_[country]_[period].nc  \n",
        "```\n"
      ]
    },
    {
      "cell_type": "markdown",
      "metadata": {
        "id": "F2wufKRg3qWL",
        "colab_type": "text"
      },
      "source": [
        "# Data packages\n",
        "\n",
        "1. Transform and download using the CDS toolbox or, if unavailable in the Toolbox, use the CDS API.\n",
        "1. Convert to min-max temperature at daily temporal resolution.\n",
        "1. Interploate to same grid size\n",
        "\n",
        "\n",
        "+ Bounding box Spain (mainland): [44.0, -10.0, 35.0, 5.0] #NWSE\n",
        "\n",
        "\n",
        "+ ERA5-Land hourly data from 1981 to present\n",
        "    + 2m temperature\n",
        "    + grid [0.1, 0.1]\n",
        "    + years 1981--2020, all months, days, and hours\n",
        "    + convert to daily min/max using CDS toolbox\n",
        "\n",
        "+ CMIP5 daily data on single levels\n",
        "    + variable grid size\n",
        "    + experiments 'rcp_4_5', 'rcp_8_5'\n",
        "    + 'minimum_2m_temperature_in_the_last_24_hours', 'maximum_2m_temperature_in_the_last_24_hours'\n",
        "    + models 'bnu_esm', 'access1_0', 'mpi_esm_lr', 'mpi_esm_mr', 'noresm1_m'\n",
        "    + realizations 'r1i1p1'\n",
        "    + extract bbox using cds toolbox\n",
        "\n",
        "+ Thermal-comfort-indices-derived-from-ERA5-reanalysis\n",
        "    + \"Mean radiant temperature\", 'Universal thermal climate index'\n",
        "    + years 1979--2020, all months, days, and hours\n",
        "    + grid [0.25, 0.25]\n",
        "    + extract bbox using cds toolbox "
      ]
    },
    {
      "cell_type": "code",
      "metadata": {
        "id": "GM2niMzBQBlN",
        "colab_type": "code",
        "colab": {}
      },
      "source": [
        "# Define paths\n",
        "ds_dir = \"dataset\"\n",
        "gs_prefix =\"gs://copernicus-climate\"           "
      ],
      "execution_count": 0,
      "outputs": []
    },
    {
      "cell_type": "markdown",
      "metadata": {
        "id": "IHal06GGXCJq",
        "colab_type": "text"
      },
      "source": [
        "## CMIP5 daily data on single levels"
      ]
    },
    {
      "cell_type": "markdown",
      "metadata": {
        "id": "MyECvt5oG-gC",
        "colab_type": "text"
      },
      "source": [
        "### Get data from CDS toolbox"
      ]
    },
    {
      "cell_type": "code",
      "metadata": {
        "id": "Dn4l2ueuN1Z1",
        "colab_type": "code",
        "outputId": "19b3ba6f-b272-466d-9960-b3deca17f699",
        "colab": {
          "base_uri": "https://localhost:8080/",
          "height": 34
        }
      },
      "source": [
        "%%writefile download.py\n",
        "import cdstoolbox as ct\n",
        "\n",
        "# Out directory\n",
        "ds_dir = \"dataset\"\n",
        "\n",
        "# Define region of interest\n",
        "bbox = [35, -10, 44, 5]\n",
        "grid = [0.1, 0.1]\n",
        "\n",
        "# Define datasets to download\n",
        "exp_list = ['rcp_4_5', 'rcp_8_5']\n",
        "var_list = ['minimum_2m_temperature_in_the_last_24_hours', 'maximum_2m_temperature_in_the_last_24_hours']\n",
        "model_list = ['bnu_esm', 'access1_0', 'mpi_esm_lr', 'mpi_esm_mr', 'noresm1_m']\n",
        "ensemble_list = ['r1i1p1']\n",
        "period_list = [\n",
        "               ['20060101-21001231'],\n",
        "               ['20060101-20301231', '20310101-20551231', '20560101-20801231','20810101-21001231'],\n",
        "               ['20060101-20091231', '20100101-20191231', '20200101-20291231',\n",
        "                '20300101-20391231', '20400101-20491231', '20500101-20591231',\n",
        "                '20600101-20691231', '20700101-20791231', '20800101-20891231',\n",
        "                '20900101-21001231'],\n",
        "               ['20060101-20091231', '20100101-20191231', '20200101-20291231',\n",
        "                '20300101-20391231', '20400101-20491231', '20500101-20591231',\n",
        "                '20600101-20691231', '20700101-20791231', '20800101-20891231',\n",
        "                '20900101-21001231'],\n",
        "               ['20060101-20551231', '20560101-21001231']\n",
        "               ]\n",
        "\n",
        "\n",
        "# Function to create properties dict for download\n",
        "def create_cmip5_dict(experiment, model, ensemble, variable, period):\n",
        "  return {\n",
        "        'ensemble_member': ensemble,\n",
        "        'experiment': experiment,\n",
        "        'variable': [variable],\n",
        "        'model': model,\n",
        "        'period': period\n",
        "    }\n",
        "\n",
        "# Make list of properties dicts, and out names\n",
        "pdict_list = []\n",
        "nm_list = []\n",
        "for experiment in exp_list:\n",
        "  for variable in var_list:\n",
        "    for model, period in zip(model_list, period_list):\n",
        "      for ensemble in ensemble_list:\n",
        "        pdict_list.append(create_cmip5_dict(experiment, model, ensemble, variable, period))\n",
        "        \n",
        "        # make file names\n",
        "        if len(period) >1:\n",
        "          ti = f\"{period[0].split('-')[0]}-{period[-1].split('-')[1]}\"\n",
        "        else:\n",
        "          ti = period[0] \n",
        "        e = experiment.replace(\"_\", \"-\")\n",
        "        m = model.replace(\"_\", \"-\")\n",
        "        v = variable.replace(\"_\", \"-\")\n",
        "        en = ensemble.replace(\"_\", \"-\")\n",
        "        nm_list.append(f\"{ds_dir}/bbox-{bbox[0]}-{bbox[1]}-{bbox[2]}-{bbox[3]}_{e}_{m}_{en}_{v}_{ti}.nc\")\n",
        "print(pdict_list[0])\n",
        "\n",
        "@ct.application(title='Get CMIP5')\n",
        "@ct.output.download()\n",
        "def application():\n",
        "    \n",
        "    #ref_grid = ct.catalogue.retrieve(\n",
        "    #    \"reanalysis-era5-land\",\\\n",
        "    #     {\"variable\" : \"2m_temperature\",\"time\" : '12:00',\"day\" : '15',\"month\" : '08', \"year\" : '2000', 'area': bbox, 'grid': grid})\n",
        "\n",
        "    def get_data(pdict, nm):\n",
        "      ds = ct.catalogue.retrieve('projections-cmip5-daily-single-levels', pdict)\n",
        "      dss = ct.cube.box_select(ds,lat=[bbox[0],bbox[2]], lon=[bbox[1],bbox[3]])\n",
        "      dsss = ct.cdm.update_attributes(dss, pdict)\n",
        "      #dssss = ct.geo.regrid(dsss, reference_grid_data = ref_grid)\n",
        "      return dsss\n",
        "    \n",
        "    return [get_data(pdict, nm) for pdict, nm in zip(pdict_list, nm_list)]\n",
        "\n"
      ],
      "execution_count": 0,
      "outputs": [
        {
          "output_type": "stream",
          "text": [
            "Writing download.py\n"
          ],
          "name": "stdout"
        }
      ]
    },
    {
      "cell_type": "code",
      "metadata": {
        "id": "ahBDktkZi52h",
        "colab_type": "code",
        "outputId": "551d991b-e5dd-44c5-f908-4d2aabca7f5f",
        "colab": {
          "base_uri": "https://localhost:8080/",
          "height": 836
        }
      },
      "source": [
        "%%time\n",
        "!python download.py"
      ],
      "execution_count": 0,
      "outputs": [
        {
          "output_type": "stream",
          "text": [
            "2020-03-03 15:41:32,553 INFO Welcome to the CDS\n",
            "2020-03-03 15:41:32,554 INFO Sending request to https://cds.climate.copernicus.eu/api/v2/tasks/services/tool/toolbox/orchestrator/run_workflow/clientid-b90650e3323a4306ab4aabc537526f7c\n",
            "2020-03-03 15:41:33,206 INFO Request is completed\n",
            "2020-03-03 15:41:33,206 INFO Downloading http://136.156.132.235/cache-compute-0006/cache/data9/cdm.update_attributes-1583105491.5020332-14551-28-075dce16-6f10-4659-8f31-31540de29181updated_attrs.nc to cdm.update_attributes-1583105491.5020332-14551-28-075dce16-6f10-4659-8f31-31540de29181updated_attrs.nc (2.3M)\n",
            "2020-03-03 15:41:34,054 INFO Download rate 2.7M/s\n",
            "2020-03-03 15:41:34,054 INFO Downloading http://136.156.133.37/cache-compute-0011/cache/data1/cdm.update_attributes-1583224018.170093-32545-21-487bb3a9-27b3-4756-996a-8375a2b8b103updated_attrs.nc to cdm.update_attributes-1583224018.170093-32545-21-487bb3a9-27b3-4756-996a-8375a2b8b103updated_attrs.nc (8.8M)\n",
            "2020-03-03 15:41:35,452 INFO Download rate 6.3M/s\n",
            "2020-03-03 15:41:35,453 INFO Downloading http://136.156.132.235/cache-compute-0006/cache/data4/cdm.update_attributes-1583224022.0802572-17537-34-15ddf416-f6ad-4e4b-8aef-d69016eb0dcdupdated_attrs.nc to cdm.update_attributes-1583224022.0802572-17537-34-15ddf416-f6ad-4e4b-8aef-d69016eb0dcdupdated_attrs.nc (5.6M)\n",
            "2020-03-03 15:41:36,549 INFO Download rate 5.1M/s\n",
            "2020-03-03 15:41:36,549 INFO Downloading http://136.156.133.46/cache-compute-0015/cache/data6/cdm.update_attributes-1583224025.7330155-27151-32-8c8ff367-fedb-458c-b91b-a7f2458a1b3aupdated_attrs.nc to cdm.update_attributes-1583224025.7330155-27151-32-8c8ff367-fedb-458c-b91b-a7f2458a1b3aupdated_attrs.nc (5.6M)\n",
            "2020-03-03 15:41:37,638 INFO Download rate 5.1M/s\n",
            "2020-03-03 15:41:37,639 INFO Downloading http://136.156.133.39/cache-compute-0012/cache/data7/cdm.update_attributes-1583224078.8425038-27100-22-30509ed8-c4c7-4b92-a7e8-cb731089ec93updated_attrs.nc to cdm.update_attributes-1583224078.8425038-27100-22-30509ed8-c4c7-4b92-a7e8-cb731089ec93updated_attrs.nc (4.9M)\n",
            "2020-03-03 15:41:38,654 INFO Download rate 4.8M/s\n",
            "2020-03-03 15:41:38,655 INFO Downloading http://136.156.133.39/cache-compute-0012/cache/data6/cdm.update_attributes-1583224096.0946393-29322-36-8de13197-161a-4b52-b1ba-a105f514695dupdated_attrs.nc to cdm.update_attributes-1583224096.0946393-29322-36-8de13197-161a-4b52-b1ba-a105f514695dupdated_attrs.nc (2.3M)\n",
            "2020-03-03 15:41:39,503 INFO Download rate 2.7M/s\n",
            "2020-03-03 15:41:39,504 INFO Downloading http://136.156.133.36/cache-compute-0010/cache/data3/cdm.update_attributes-1583224117.041823-11899-33-a1d207a6-cc60-4f06-9297-7ced56aee330updated_attrs.nc to cdm.update_attributes-1583224117.041823-11899-33-a1d207a6-cc60-4f06-9297-7ced56aee330updated_attrs.nc (8.8M)\n",
            "2020-03-03 15:41:40,988 INFO Download rate 5.9M/s\n",
            "2020-03-03 15:41:40,989 INFO Downloading http://136.156.133.39/cache-compute-0012/cache/data6/cdm.update_attributes-1583224120.8123815-30349-38-48cfb20d-9d85-4179-9120-5479dd361b93updated_attrs.nc to cdm.update_attributes-1583224120.8123815-30349-38-48cfb20d-9d85-4179-9120-5479dd361b93updated_attrs.nc (5.6M)\n",
            "2020-03-03 15:41:42,181 INFO Download rate 4.7M/s\n",
            "2020-03-03 15:41:42,181 INFO Downloading http://136.156.133.41/cache-compute-0013/cache/data5/cdm.update_attributes-1583224124.7870688-16505-30-81064b06-ce98-4c7f-b8a6-da4b85f10b4dupdated_attrs.nc to cdm.update_attributes-1583224124.7870688-16505-30-81064b06-ce98-4c7f-b8a6-da4b85f10b4dupdated_attrs.nc (5.6M)\n",
            "2020-03-03 15:41:43,390 INFO Download rate 4.6M/s\n",
            "2020-03-03 15:41:43,390 INFO Downloading http://136.156.132.210/cache-compute-0005/cache/data7/cdm.update_attributes-1583224140.5172293-1462-30-c002c65b-7ff5-41b9-9802-93116f4fdd06updated_attrs.nc to cdm.update_attributes-1583224140.5172293-1462-30-c002c65b-7ff5-41b9-9802-93116f4fdd06updated_attrs.nc (4.9M)\n",
            "2020-03-03 15:41:44,531 INFO Download rate 4.3M/s\n",
            "2020-03-03 15:41:44,532 INFO Downloading http://136.156.133.41/cache-compute-0013/cache/data0/cdm.update_attributes-1583224231.8278136-16665-36-c5a9923b-25a1-4250-93f8-b31cb4ca6e8eupdated_attrs.nc to cdm.update_attributes-1583224231.8278136-16665-36-c5a9923b-25a1-4250-93f8-b31cb4ca6e8eupdated_attrs.nc (2.3M)\n",
            "2020-03-03 15:41:45,473 INFO Download rate 2.4M/s\n",
            "2020-03-03 15:41:45,474 INFO Downloading http://136.156.133.36/cache-compute-0010/cache/data0/cdm.update_attributes-1583224252.131908-13023-31-041faa1e-f0c7-445f-8e51-7d48d952edd1updated_attrs.nc to cdm.update_attributes-1583224252.131908-13023-31-041faa1e-f0c7-445f-8e51-7d48d952edd1updated_attrs.nc (8.8M)\n",
            "2020-03-03 15:41:47,207 INFO Download rate 5.1M/s\n",
            "2020-03-03 15:41:47,207 INFO Downloading http://136.156.133.37/cache-compute-0011/cache/data7/cdm.update_attributes-1583224255.5815945-15857-38-e2bc0fbe-0bd2-42dc-a181-39a24acd905dupdated_attrs.nc to cdm.update_attributes-1583224255.5815945-15857-38-e2bc0fbe-0bd2-42dc-a181-39a24acd905dupdated_attrs.nc (5.6M)\n",
            "2020-03-03 15:41:48,404 INFO Download rate 4.7M/s\n",
            "2020-03-03 15:41:48,404 INFO Downloading http://136.156.133.36/cache-compute-0010/cache/data8/cdm.update_attributes-1583224258.8644996-13789-38-ad5e2c57-7201-4277-ad46-482dcfe784fcupdated_attrs.nc to cdm.update_attributes-1583224258.8644996-13789-38-ad5e2c57-7201-4277-ad46-482dcfe784fcupdated_attrs.nc (5.6M)\n",
            "2020-03-03 15:41:49,798 INFO Download rate 4M/s\n",
            "2020-03-03 15:41:49,798 INFO Downloading http://136.156.133.39/cache-compute-0012/cache/data6/cdm.update_attributes-1583224271.3069918-31502-30-cfb3f27a-93a6-4a55-b5af-4d26431ade9fupdated_attrs.nc to cdm.update_attributes-1583224271.3069918-31502-30-cfb3f27a-93a6-4a55-b5af-4d26431ade9fupdated_attrs.nc (4.9M)\n",
            "2020-03-03 15:41:50,920 INFO Download rate 4.4M/s\n",
            "2020-03-03 15:41:50,920 INFO Downloading http://136.156.133.36/cache-compute-0010/cache/data8/cdm.update_attributes-1583224289.3021362-14066-38-2546732a-8551-448d-8fef-3bc414c497d5updated_attrs.nc to cdm.update_attributes-1583224289.3021362-14066-38-2546732a-8551-448d-8fef-3bc414c497d5updated_attrs.nc (2.3M)\n",
            "2020-03-03 15:41:51,831 INFO Download rate 2.5M/s\n",
            "2020-03-03 15:41:51,831 INFO Downloading http://136.156.132.210/cache-compute-0005/cache/data7/cdm.update_attributes-1583224309.65743-2661-30-180d1080-49aa-4c5b-b630-0c54353a7b72updated_attrs.nc to cdm.update_attributes-1583224309.65743-2661-30-180d1080-49aa-4c5b-b630-0c54353a7b72updated_attrs.nc (8.8M)\n",
            "2020-03-03 15:41:53,031 INFO Download rate 7.3M/s\n",
            "2020-03-03 15:41:53,031 INFO Downloading http://136.156.133.36/cache-compute-0010/cache/data9/cdm.update_attributes-1583224313.1741607-14121-35-bcb76426-3d11-43cf-b415-d91a48ef2fa9updated_attrs.nc to cdm.update_attributes-1583224313.1741607-14121-35-bcb76426-3d11-43cf-b415-d91a48ef2fa9updated_attrs.nc (5.6M)\n",
            "2020-03-03 15:41:54,418 INFO Download rate 4M/s\n",
            "2020-03-03 15:41:54,418 INFO Downloading http://136.156.132.105/cache-compute-0000/cache/data9/cdm.update_attributes-1583224316.5325725-26301-35-a450a1fc-0145-47a7-9f9a-b3714ce7b7b3updated_attrs.nc to cdm.update_attributes-1583224316.5325725-26301-35-a450a1fc-0145-47a7-9f9a-b3714ce7b7b3updated_attrs.nc (5.6M)\n",
            "2020-03-03 15:41:55,644 INFO Download rate 4.6M/s\n",
            "2020-03-03 15:41:55,644 INFO Downloading http://136.156.132.153/cache-compute-0002/cache/data6/cdm.update_attributes-1583224329.6948-1695-37-1400d152-b5c3-4762-8b4f-f8a801eadf78updated_attrs.nc to cdm.update_attributes-1583224329.6948-1695-37-1400d152-b5c3-4762-8b4f-f8a801eadf78updated_attrs.nc (4.9M)\n",
            "2020-03-03 15:41:56,699 INFO Download rate 4.7M/s\n",
            "['cdm.update_attributes-1583105491.5020332-14551-28-075dce16-6f10-4659-8f31-31540de29181updated_attrs.nc', 'cdm.update_attributes-1583224018.170093-32545-21-487bb3a9-27b3-4756-996a-8375a2b8b103updated_attrs.nc', 'cdm.update_attributes-1583224022.0802572-17537-34-15ddf416-f6ad-4e4b-8aef-d69016eb0dcdupdated_attrs.nc', 'cdm.update_attributes-1583224025.7330155-27151-32-8c8ff367-fedb-458c-b91b-a7f2458a1b3aupdated_attrs.nc', 'cdm.update_attributes-1583224078.8425038-27100-22-30509ed8-c4c7-4b92-a7e8-cb731089ec93updated_attrs.nc', 'cdm.update_attributes-1583224096.0946393-29322-36-8de13197-161a-4b52-b1ba-a105f514695dupdated_attrs.nc', 'cdm.update_attributes-1583224117.041823-11899-33-a1d207a6-cc60-4f06-9297-7ced56aee330updated_attrs.nc', 'cdm.update_attributes-1583224120.8123815-30349-38-48cfb20d-9d85-4179-9120-5479dd361b93updated_attrs.nc', 'cdm.update_attributes-1583224124.7870688-16505-30-81064b06-ce98-4c7f-b8a6-da4b85f10b4dupdated_attrs.nc', 'cdm.update_attributes-1583224140.5172293-1462-30-c002c65b-7ff5-41b9-9802-93116f4fdd06updated_attrs.nc', 'cdm.update_attributes-1583224231.8278136-16665-36-c5a9923b-25a1-4250-93f8-b31cb4ca6e8eupdated_attrs.nc', 'cdm.update_attributes-1583224252.131908-13023-31-041faa1e-f0c7-445f-8e51-7d48d952edd1updated_attrs.nc', 'cdm.update_attributes-1583224255.5815945-15857-38-e2bc0fbe-0bd2-42dc-a181-39a24acd905dupdated_attrs.nc', 'cdm.update_attributes-1583224258.8644996-13789-38-ad5e2c57-7201-4277-ad46-482dcfe784fcupdated_attrs.nc', 'cdm.update_attributes-1583224271.3069918-31502-30-cfb3f27a-93a6-4a55-b5af-4d26431ade9fupdated_attrs.nc', 'cdm.update_attributes-1583224289.3021362-14066-38-2546732a-8551-448d-8fef-3bc414c497d5updated_attrs.nc', 'cdm.update_attributes-1583224309.65743-2661-30-180d1080-49aa-4c5b-b630-0c54353a7b72updated_attrs.nc', 'cdm.update_attributes-1583224313.1741607-14121-35-bcb76426-3d11-43cf-b415-d91a48ef2fa9updated_attrs.nc', 'cdm.update_attributes-1583224316.5325725-26301-35-a450a1fc-0145-47a7-9f9a-b3714ce7b7b3updated_attrs.nc', 'cdm.update_attributes-1583224329.6948-1695-37-1400d152-b5c3-4762-8b4f-f8a801eadf78updated_attrs.nc']\n",
            "CPU times: user 277 ms, sys: 40 ms, total: 317 ms\n",
            "Wall time: 25.8 s\n"
          ],
          "name": "stdout"
        }
      ]
    },
    {
      "cell_type": "markdown",
      "metadata": {
        "id": "N12z176eG5YS",
        "colab_type": "text"
      },
      "source": [
        "### Rename netcdfs"
      ]
    },
    {
      "cell_type": "code",
      "metadata": {
        "id": "sEsMmwGLVGrw",
        "colab_type": "code",
        "outputId": "4d0502f1-540b-4eb8-ec76-19658ece6286",
        "colab": {
          "base_uri": "https://localhost:8080/",
          "height": 402
        }
      },
      "source": [
        "import xarray as xr\n",
        "import glob\n",
        "import os\n",
        "import pprint\n",
        "xr.set_options(display_style='html')\n",
        "\n",
        "fl = glob.glob(\"*.nc\")\n",
        "print(fl)\n",
        "for f in fl:\n",
        "  ds = xr.open_dataset(f)\n",
        "  ds = xr.decode_cf(ds)\n",
        "  attrs = ds.attrs\n",
        "  #pprint.pprint(attrs)\n",
        "  if attrs['comment'].split(\" \")[0] == 'maximum':\n",
        "    v = 'tasmax'\n",
        "  if attrs['comment'].split(\" \")[0] == 'minimum':\n",
        "    v = 'tasmin'\n",
        "  dvattr = ds[v].attrs\n",
        "  #pprint.pprint(dvattr)\n",
        "  try:\n",
        "    m = dvattr['model_id']\n",
        "    e = dvattr['experiment_id']\n",
        "    r = dvattr['parent_experiment_rip']\n",
        "    nm = f\"daily_projections-cmip5-daily-single-levels_{v}_{m}_{e}_{r}.nc\"\n",
        "  except:\n",
        "    txt = dvattr['associated_files'].split('areacella:')[1]\n",
        "    m = txt.split(\"_\")[2]\n",
        "    e = txt.split(\"_\")[3]\n",
        "    r = txt.split(\"_\")[4]\n",
        "    nm = f\"daily_projections-cmip5-daily-single-levels_{v}_{m}_{e}_{r}\"\n",
        "\n",
        "  print(nm)\n",
        "  ds.to_netcdf(nm)"
      ],
      "execution_count": 0,
      "outputs": [
        {
          "output_type": "stream",
          "text": [
            "['cdm.update_attributes-1583224022.0802572-17537-34-15ddf416-f6ad-4e4b-8aef-d69016eb0dcdupdated_attrs.nc', 'cdm.update_attributes-1583224309.65743-2661-30-180d1080-49aa-4c5b-b630-0c54353a7b72updated_attrs.nc', 'cdm.update_attributes-1583105491.5020332-14551-28-075dce16-6f10-4659-8f31-31540de29181updated_attrs.nc', 'cdm.update_attributes-1583224117.041823-11899-33-a1d207a6-cc60-4f06-9297-7ced56aee330updated_attrs.nc', 'cdm.update_attributes-1583224258.8644996-13789-38-ad5e2c57-7201-4277-ad46-482dcfe784fcupdated_attrs.nc', 'cdm.update_attributes-1583224316.5325725-26301-35-a450a1fc-0145-47a7-9f9a-b3714ce7b7b3updated_attrs.nc', 'cdm.update_attributes-1583224289.3021362-14066-38-2546732a-8551-448d-8fef-3bc414c497d5updated_attrs.nc', 'cdm.update_attributes-1583224124.7870688-16505-30-81064b06-ce98-4c7f-b8a6-da4b85f10b4dupdated_attrs.nc', 'cdm.update_attributes-1583224018.170093-32545-21-487bb3a9-27b3-4756-996a-8375a2b8b103updated_attrs.nc', 'cdm.update_attributes-1583224255.5815945-15857-38-e2bc0fbe-0bd2-42dc-a181-39a24acd905dupdated_attrs.nc', 'cdm.update_attributes-1583224140.5172293-1462-30-c002c65b-7ff5-41b9-9802-93116f4fdd06updated_attrs.nc', 'cdm.update_attributes-1583224252.131908-13023-31-041faa1e-f0c7-445f-8e51-7d48d952edd1updated_attrs.nc', 'cdm.update_attributes-1583224313.1741607-14121-35-bcb76426-3d11-43cf-b415-d91a48ef2fa9updated_attrs.nc', 'cdm.update_attributes-1583224271.3069918-31502-30-cfb3f27a-93a6-4a55-b5af-4d26431ade9fupdated_attrs.nc', 'cdm.update_attributes-1583224231.8278136-16665-36-c5a9923b-25a1-4250-93f8-b31cb4ca6e8eupdated_attrs.nc', 'cdm.update_attributes-1583224096.0946393-29322-36-8de13197-161a-4b52-b1ba-a105f514695dupdated_attrs.nc', 'cdm.update_attributes-1583224025.7330155-27151-32-8c8ff367-fedb-458c-b91b-a7f2458a1b3aupdated_attrs.nc', 'cdm.update_attributes-1583224078.8425038-27100-22-30509ed8-c4c7-4b92-a7e8-cb731089ec93updated_attrs.nc', 'cdm.update_attributes-1583224329.6948-1695-37-1400d152-b5c3-4762-8b4f-f8a801eadf78updated_attrs.nc', 'cdm.update_attributes-1583224120.8123815-30349-38-48cfb20d-9d85-4179-9120-5479dd361b93updated_attrs.nc']\n",
            "daily_projections-cmip5-daily-single-levels_tasmin_MPI-ESM-LR_rcp45_r0i0p0.nc\n",
            "daily_projections-cmip5-daily-single-levels_tasmax_ACCESS1-0_rcp85_r0i0p0.nc\n",
            "daily_projections-cmip5-daily-single-levels_tasmin_BNU-ESM_rcp45_r1i1p1.nc\n",
            "daily_projections-cmip5-daily-single-levels_tasmax_ACCESS1-0_rcp45_r0i0p0.nc\n",
            "daily_projections-cmip5-daily-single-levels_tasmin_MPI-ESM-MR_rcp85_r0i0p0.nc\n",
            "daily_projections-cmip5-daily-single-levels_tasmax_MPI-ESM-MR_rcp85_r0i0p0.nc\n",
            "daily_projections-cmip5-daily-single-levels_tasmax_BNU-ESM_rcp85_r1i1p1.nc\n",
            "daily_projections-cmip5-daily-single-levels_tasmax_MPI-ESM-MR_rcp45_r0i0p0.nc\n",
            "daily_projections-cmip5-daily-single-levels_tasmin_ACCESS1-0_rcp45_r0i0p0.nc\n",
            "daily_projections-cmip5-daily-single-levels_tasmin_MPI-ESM-LR_rcp85_r0i0p0.nc\n",
            "daily_projections-cmip5-daily-single-levels_tasmax_NorESM1-M_rcp45_r0i0p0.nc\n",
            "daily_projections-cmip5-daily-single-levels_tasmin_ACCESS1-0_rcp85_r0i0p0.nc\n",
            "daily_projections-cmip5-daily-single-levels_tasmax_MPI-ESM-LR_rcp85_r0i0p0.nc\n",
            "daily_projections-cmip5-daily-single-levels_tasmin_NorESM1-M_rcp85_r0i0p0.nc\n",
            "daily_projections-cmip5-daily-single-levels_tasmin_BNU-ESM_rcp85_r1i1p1.nc\n",
            "daily_projections-cmip5-daily-single-levels_tasmax_BNU-ESM_rcp45_r1i1p1.nc\n",
            "daily_projections-cmip5-daily-single-levels_tasmin_MPI-ESM-MR_rcp45_r0i0p0.nc\n",
            "daily_projections-cmip5-daily-single-levels_tasmin_NorESM1-M_rcp45_r0i0p0.nc\n",
            "daily_projections-cmip5-daily-single-levels_tasmax_NorESM1-M_rcp85_r0i0p0.nc\n",
            "daily_projections-cmip5-daily-single-levels_tasmax_MPI-ESM-LR_rcp45_r0i0p0.nc\n"
          ],
          "name": "stdout"
        }
      ]
    },
    {
      "cell_type": "markdown",
      "metadata": {
        "id": "g93HgV2jGwRZ",
        "colab_type": "text"
      },
      "source": [
        "### Merge, fix issues, and rename netcdfs"
      ]
    },
    {
      "cell_type": "code",
      "metadata": {
        "id": "EDjHV0QEH9K2",
        "colab_type": "code",
        "outputId": "867a50dc-f7e8-4a46-c157-ee593563492d",
        "colab": {
          "base_uri": "https://localhost:8080/",
          "height": 34
        }
      },
      "source": [
        "# Make dataset dir\n",
        "!rm -r {ds_dir}\n",
        "!mkdir {ds_dir}"
      ],
      "execution_count": 0,
      "outputs": [
        {
          "output_type": "stream",
          "text": [
            "rm: cannot remove 'dataset': No such file or directory\n"
          ],
          "name": "stdout"
        }
      ]
    },
    {
      "cell_type": "code",
      "metadata": {
        "id": "CqLq3eU-XWXk",
        "colab_type": "code",
        "outputId": "5529fcaf-d52a-4605-b120-000d7955f74a",
        "colab": {
          "base_uri": "https://localhost:8080/",
          "height": 1000
        }
      },
      "source": [
        "import xarray as xr\n",
        "import numpy as np\n",
        "import glob\n",
        "import os\n",
        "\n",
        "def concat_dicts(*dicts):\n",
        "    keys = set().union(*dicts)\n",
        "    #print(keys)\n",
        "    return { k: \", \".join(list(set(dic.get(k) for dic in dicts)))  for k in keys}\n",
        "\n",
        "def merge_vars(m, s):\n",
        "  with xr.open_dataset(glob.glob(f\"daily_projections-cmip5-daily-single-levels_tasmin_{m}_{s}_*.nc\")[0])as ds1:\n",
        "    ds1.coords['experiment'] = s\n",
        "    ds1.coords['model'] = m\n",
        "    ds1.coords['realization'] = np.array([1])\n",
        "  \n",
        "  with xr.open_dataset(glob.glob(f\"daily_projections-cmip5-daily-single-levels_tasmax_{m}_{s}_*.nc\")[0]) as ds2:\n",
        "    ds2.coords['experiment'] = s\n",
        "    ds2.coords['model'] = m\n",
        "    ds2.coords['realization'] = np.array([1])\n",
        "\n",
        "  out = xr.merge([ds1, ds2])\n",
        "  out.set_coords(['lat', 'lon', 'time', 'experiment', 'model', 'realization'])\n",
        "  out.attrs = concat_dicts(ds1.attrs, ds2.attrs)\n",
        "  out.attrs['source'] = \", \".join([out.attrs['source'], 'CDS']) \n",
        "  return out\n",
        "\n",
        "def match_grid(ds_target, ds_source):\n",
        "  return ds_target.interp(lat=ds_source['lat'], lon=ds_source['lon'])\n",
        "\n",
        "def fix_time(ds):\n",
        "  a ={'standard_name': 'time',\n",
        "  'long_name':         'time',\n",
        "  'bounds':            'time_bnds',\n",
        "  'axis':              'T',\n",
        "  'stored_direction':  'increasing',\n",
        "  'type':              'double'}\n",
        "  ds = ds.sel(time=slice('2006-01-01', '2099-12-31'))\n",
        "  t = ds.coords['time'].attrs = a\n",
        "  t = ds.coords['time']\n",
        "  ds.coords['time'] = xr.cftime_range(start='2006', periods=len(t.values), freq='D', calendar='noleap')\n",
        "  return xr.decode_cf(ds)  \n",
        "\n",
        "\n",
        "fl = glob.glob('daily_projections-cmip5-daily-single-levels_*.nc')\n",
        "print(fl)\n",
        "models = list(set([f.split(\"_\")[3] for f in fl]))\n",
        "variables = list(set([f.split(\"_\")[2] for f in fl]))\n",
        "scenarios = list(set([f.split(\"_\")[4] for f in fl]))\n",
        "print(models)\n",
        "print(variables)\n",
        "print(scenarios)\n",
        "\n",
        "ds_source = xr.open_dataset('daily_projections-cmip5-daily-single-levels_tasmin_ACCESS1-0_rcp45_r0i0p0.nc')\n",
        "\n",
        "for s in scenarios:\n",
        "  print(s)\n",
        "  os.mkdir(os.path.join(ds_dir, s))\n",
        "  for m in models:\n",
        "    print(m)\n",
        "    os.mkdir(os.path.join(ds_dir, s, m))\n",
        "    out = merge_vars(m,s)\n",
        "    out = match_grid(out, ds_source)\n",
        "    out = fix_time(out)\n",
        "    print(out.time) \n",
        "    out.to_netcdf(os.path.join(ds_dir, s, m, f\"daily_projections-cmip5-daily-single-levels_tasmin-tasmax_{m}_{s}_r1i1p1.nc\"))\n",
        "\n",
        "ds_source.close()    "
      ],
      "execution_count": 0,
      "outputs": [
        {
          "output_type": "stream",
          "text": [
            "['daily_projections-cmip5-daily-single-levels_tasmax_ACCESS1-0_rcp45_r0i0p0.nc', 'daily_projections-cmip5-daily-single-levels_tasmin_MPI-ESM-MR_rcp85_r0i0p0.nc', 'daily_projections-cmip5-daily-single-levels_tasmin_BNU-ESM_rcp45_r1i1p1.nc', 'daily_projections-cmip5-daily-single-levels_tasmin_MPI-ESM-LR_rcp85_r0i0p0.nc', 'daily_projections-cmip5-daily-single-levels_tasmax_MPI-ESM-LR_rcp85_r0i0p0.nc', 'daily_projections-cmip5-daily-single-levels_tasmin_NorESM1-M_rcp85_r0i0p0.nc', 'daily_projections-cmip5-daily-single-levels_tasmax_MPI-ESM-LR_rcp45_r0i0p0.nc', 'daily_projections-cmip5-daily-single-levels_tasmax_BNU-ESM_rcp45_r1i1p1.nc', 'daily_projections-cmip5-daily-single-levels_tasmin_ACCESS1-0_rcp85_r0i0p0.nc', 'daily_projections-cmip5-daily-single-levels_tasmax_BNU-ESM_rcp85_r1i1p1.nc', 'daily_projections-cmip5-daily-single-levels_tasmax_ACCESS1-0_rcp85_r0i0p0.nc', 'daily_projections-cmip5-daily-single-levels_tasmin_BNU-ESM_rcp85_r1i1p1.nc', 'daily_projections-cmip5-daily-single-levels_tasmin_MPI-ESM-MR_rcp45_r0i0p0.nc', 'daily_projections-cmip5-daily-single-levels_tasmin_ACCESS1-0_rcp45_r0i0p0.nc', 'daily_projections-cmip5-daily-single-levels_tasmin_NorESM1-M_rcp45_r0i0p0.nc', 'daily_projections-cmip5-daily-single-levels_tasmax_MPI-ESM-MR_rcp45_r0i0p0.nc', 'daily_projections-cmip5-daily-single-levels_tasmax_NorESM1-M_rcp45_r0i0p0.nc', 'daily_projections-cmip5-daily-single-levels_tasmax_NorESM1-M_rcp85_r0i0p0.nc', 'daily_projections-cmip5-daily-single-levels_tasmin_MPI-ESM-LR_rcp45_r0i0p0.nc', 'daily_projections-cmip5-daily-single-levels_tasmax_MPI-ESM-MR_rcp85_r0i0p0.nc']\n",
            "['NorESM1-M', 'BNU-ESM', 'MPI-ESM-MR', 'MPI-ESM-LR', 'ACCESS1-0']\n",
            "['tasmin', 'tasmax']\n",
            "['rcp45', 'rcp85']\n",
            "rcp45\n",
            "NorESM1-M\n",
            "<xarray.DataArray 'time' (time: 34310)>\n",
            "array([cftime.DatetimeNoLeap(2006-01-01 00:00:00),\n",
            "       cftime.DatetimeNoLeap(2006-01-02 00:00:00),\n",
            "       cftime.DatetimeNoLeap(2006-01-03 00:00:00), ...,\n",
            "       cftime.DatetimeNoLeap(2099-12-29 00:00:00),\n",
            "       cftime.DatetimeNoLeap(2099-12-30 00:00:00),\n",
            "       cftime.DatetimeNoLeap(2099-12-31 00:00:00)], dtype=object)\n",
            "Coordinates:\n",
            "    height      float64 ...\n",
            "  * time        (time) object 2006-01-01 00:00:00 ... 2099-12-31 00:00:00\n",
            "    experiment  <U5 ...\n",
            "    model       <U9 ...\n",
            "BNU-ESM\n",
            "<xarray.DataArray 'time' (time: 34310)>\n",
            "array([cftime.DatetimeNoLeap(2006-01-01 00:00:00),\n",
            "       cftime.DatetimeNoLeap(2006-01-02 00:00:00),\n",
            "       cftime.DatetimeNoLeap(2006-01-03 00:00:00), ...,\n",
            "       cftime.DatetimeNoLeap(2099-12-29 00:00:00),\n",
            "       cftime.DatetimeNoLeap(2099-12-30 00:00:00),\n",
            "       cftime.DatetimeNoLeap(2099-12-31 00:00:00)], dtype=object)\n",
            "Coordinates:\n",
            "    height      float64 ...\n",
            "  * time        (time) object 2006-01-01 00:00:00 ... 2099-12-31 00:00:00\n",
            "    experiment  <U5 ...\n",
            "    model       <U7 ...\n",
            "MPI-ESM-MR\n",
            "<xarray.DataArray 'time' (time: 34333)>\n",
            "array([cftime.DatetimeNoLeap(2006-01-01 00:00:00),\n",
            "       cftime.DatetimeNoLeap(2006-01-02 00:00:00),\n",
            "       cftime.DatetimeNoLeap(2006-01-03 00:00:00), ...,\n",
            "       cftime.DatetimeNoLeap(2100-01-21 00:00:00),\n",
            "       cftime.DatetimeNoLeap(2100-01-22 00:00:00),\n",
            "       cftime.DatetimeNoLeap(2100-01-23 00:00:00)], dtype=object)\n",
            "Coordinates:\n",
            "    height      float64 ...\n",
            "  * time        (time) object 2006-01-01 00:00:00 ... 2100-01-23 00:00:00\n",
            "    experiment  <U5 ...\n",
            "    model       <U10 ...\n",
            "MPI-ESM-LR\n",
            "<xarray.DataArray 'time' (time: 34333)>\n",
            "array([cftime.DatetimeNoLeap(2006-01-01 00:00:00),\n",
            "       cftime.DatetimeNoLeap(2006-01-02 00:00:00),\n",
            "       cftime.DatetimeNoLeap(2006-01-03 00:00:00), ...,\n",
            "       cftime.DatetimeNoLeap(2100-01-21 00:00:00),\n",
            "       cftime.DatetimeNoLeap(2100-01-22 00:00:00),\n",
            "       cftime.DatetimeNoLeap(2100-01-23 00:00:00)], dtype=object)\n",
            "Coordinates:\n",
            "    height      float64 ...\n",
            "  * time        (time) object 2006-01-01 00:00:00 ... 2100-01-23 00:00:00\n",
            "    experiment  <U5 ...\n",
            "    model       <U10 ...\n",
            "ACCESS1-0\n",
            "<xarray.DataArray 'time' (time: 34333)>\n",
            "array([cftime.DatetimeNoLeap(2006-01-01 00:00:00),\n",
            "       cftime.DatetimeNoLeap(2006-01-02 00:00:00),\n",
            "       cftime.DatetimeNoLeap(2006-01-03 00:00:00), ...,\n",
            "       cftime.DatetimeNoLeap(2100-01-21 00:00:00),\n",
            "       cftime.DatetimeNoLeap(2100-01-22 00:00:00),\n",
            "       cftime.DatetimeNoLeap(2100-01-23 00:00:00)], dtype=object)\n",
            "Coordinates:\n",
            "    height      float64 ...\n",
            "  * time        (time) object 2006-01-01 00:00:00 ... 2100-01-23 00:00:00\n",
            "    experiment  <U5 ...\n",
            "    model       <U9 ...\n",
            "rcp85\n",
            "NorESM1-M\n",
            "<xarray.DataArray 'time' (time: 34310)>\n",
            "array([cftime.DatetimeNoLeap(2006-01-01 00:00:00),\n",
            "       cftime.DatetimeNoLeap(2006-01-02 00:00:00),\n",
            "       cftime.DatetimeNoLeap(2006-01-03 00:00:00), ...,\n",
            "       cftime.DatetimeNoLeap(2099-12-29 00:00:00),\n",
            "       cftime.DatetimeNoLeap(2099-12-30 00:00:00),\n",
            "       cftime.DatetimeNoLeap(2099-12-31 00:00:00)], dtype=object)\n",
            "Coordinates:\n",
            "    height      float64 ...\n",
            "  * time        (time) object 2006-01-01 00:00:00 ... 2099-12-31 00:00:00\n",
            "    experiment  <U5 ...\n",
            "    model       <U9 ...\n",
            "BNU-ESM\n",
            "<xarray.DataArray 'time' (time: 34310)>\n",
            "array([cftime.DatetimeNoLeap(2006-01-01 00:00:00),\n",
            "       cftime.DatetimeNoLeap(2006-01-02 00:00:00),\n",
            "       cftime.DatetimeNoLeap(2006-01-03 00:00:00), ...,\n",
            "       cftime.DatetimeNoLeap(2099-12-29 00:00:00),\n",
            "       cftime.DatetimeNoLeap(2099-12-30 00:00:00),\n",
            "       cftime.DatetimeNoLeap(2099-12-31 00:00:00)], dtype=object)\n",
            "Coordinates:\n",
            "    height      float64 ...\n",
            "  * time        (time) object 2006-01-01 00:00:00 ... 2099-12-31 00:00:00\n",
            "    experiment  <U5 ...\n",
            "    model       <U7 ...\n",
            "MPI-ESM-MR\n",
            "<xarray.DataArray 'time' (time: 34333)>\n",
            "array([cftime.DatetimeNoLeap(2006-01-01 00:00:00),\n",
            "       cftime.DatetimeNoLeap(2006-01-02 00:00:00),\n",
            "       cftime.DatetimeNoLeap(2006-01-03 00:00:00), ...,\n",
            "       cftime.DatetimeNoLeap(2100-01-21 00:00:00),\n",
            "       cftime.DatetimeNoLeap(2100-01-22 00:00:00),\n",
            "       cftime.DatetimeNoLeap(2100-01-23 00:00:00)], dtype=object)\n",
            "Coordinates:\n",
            "    height      float64 ...\n",
            "  * time        (time) object 2006-01-01 00:00:00 ... 2100-01-23 00:00:00\n",
            "    experiment  <U5 ...\n",
            "    model       <U10 ...\n",
            "MPI-ESM-LR\n",
            "<xarray.DataArray 'time' (time: 34333)>\n",
            "array([cftime.DatetimeNoLeap(2006-01-01 00:00:00),\n",
            "       cftime.DatetimeNoLeap(2006-01-02 00:00:00),\n",
            "       cftime.DatetimeNoLeap(2006-01-03 00:00:00), ...,\n",
            "       cftime.DatetimeNoLeap(2100-01-21 00:00:00),\n",
            "       cftime.DatetimeNoLeap(2100-01-22 00:00:00),\n",
            "       cftime.DatetimeNoLeap(2100-01-23 00:00:00)], dtype=object)\n",
            "Coordinates:\n",
            "    height      float64 ...\n",
            "  * time        (time) object 2006-01-01 00:00:00 ... 2100-01-23 00:00:00\n",
            "    experiment  <U5 ...\n",
            "    model       <U10 ...\n",
            "ACCESS1-0\n",
            "<xarray.DataArray 'time' (time: 34333)>\n",
            "array([cftime.DatetimeNoLeap(2006-01-01 00:00:00),\n",
            "       cftime.DatetimeNoLeap(2006-01-02 00:00:00),\n",
            "       cftime.DatetimeNoLeap(2006-01-03 00:00:00), ...,\n",
            "       cftime.DatetimeNoLeap(2100-01-21 00:00:00),\n",
            "       cftime.DatetimeNoLeap(2100-01-22 00:00:00),\n",
            "       cftime.DatetimeNoLeap(2100-01-23 00:00:00)], dtype=object)\n",
            "Coordinates:\n",
            "    height      float64 ...\n",
            "  * time        (time) object 2006-01-01 00:00:00 ... 2100-01-23 00:00:00\n",
            "    experiment  <U5 ...\n",
            "    model       <U9 ...\n"
          ],
          "name": "stdout"
        }
      ]
    },
    {
      "cell_type": "markdown",
      "metadata": {
        "id": "cizaTo_pGoHq",
        "colab_type": "text"
      },
      "source": [
        "### Open consolidated netcdf dataset"
      ]
    },
    {
      "cell_type": "code",
      "metadata": {
        "id": "cWEGBfuXPz2F",
        "colab_type": "code",
        "outputId": "aedb2703-bfd7-4c9e-9ad7-652e7d63acd6",
        "colab": {
          "base_uri": "https://localhost:8080/",
          "height": 1000
        }
      },
      "source": [
        "import os\n",
        "import glob\n",
        "\n",
        "fl = [[glob.glob(f\"{ds_dir}/{s}/{m}/*.nc\") for m in models] for s in scenarios]\n",
        "print(fl)\n",
        "ds = xr.open_mfdataset(fl, combine='nested', concat_dim=['experiment', 'model', 'realization'])\\\n",
        ".sel(time=slice('2006-01-01', '2099-12-31'))"
      ],
      "execution_count": 0,
      "outputs": [
        {
          "output_type": "stream",
          "text": [
            "[[['dataset/rcp45/NorESM1-M/daily_projections-cmip5-daily-single-levels_tasmin-tasmax_NorESM1-M_rcp45_r1i1p1.nc'], ['dataset/rcp45/BNU-ESM/daily_projections-cmip5-daily-single-levels_tasmin-tasmax_BNU-ESM_rcp45_r1i1p1.nc'], ['dataset/rcp45/MPI-ESM-MR/daily_projections-cmip5-daily-single-levels_tasmin-tasmax_MPI-ESM-MR_rcp45_r1i1p1.nc'], ['dataset/rcp45/MPI-ESM-LR/daily_projections-cmip5-daily-single-levels_tasmin-tasmax_MPI-ESM-LR_rcp45_r1i1p1.nc'], ['dataset/rcp45/ACCESS1-0/daily_projections-cmip5-daily-single-levels_tasmin-tasmax_ACCESS1-0_rcp45_r1i1p1.nc']], [['dataset/rcp85/NorESM1-M/daily_projections-cmip5-daily-single-levels_tasmin-tasmax_NorESM1-M_rcp85_r1i1p1.nc'], ['dataset/rcp85/BNU-ESM/daily_projections-cmip5-daily-single-levels_tasmin-tasmax_BNU-ESM_rcp85_r1i1p1.nc'], ['dataset/rcp85/MPI-ESM-MR/daily_projections-cmip5-daily-single-levels_tasmin-tasmax_MPI-ESM-MR_rcp85_r1i1p1.nc'], ['dataset/rcp85/MPI-ESM-LR/daily_projections-cmip5-daily-single-levels_tasmin-tasmax_MPI-ESM-LR_rcp85_r1i1p1.nc'], ['dataset/rcp85/ACCESS1-0/daily_projections-cmip5-daily-single-levels_tasmin-tasmax_ACCESS1-0_rcp85_r1i1p1.nc']]]\n"
          ],
          "name": "stdout"
        },
        {
          "output_type": "execute_result",
          "data": {
            "text/html": [
              "<div><svg style=\"position: absolute; width: 0; height: 0; overflow: hidden\">\n",
              "<defs>\n",
              "<symbol id=\"icon-database\" viewBox=\"0 0 32 32\">\n",
              "<title>Show/Hide data repr</title>\n",
              "<path d=\"M16 0c-8.837 0-16 2.239-16 5v4c0 2.761 7.163 5 16 5s16-2.239 16-5v-4c0-2.761-7.163-5-16-5z\"></path>\n",
              "<path d=\"M16 17c-8.837 0-16-2.239-16-5v6c0 2.761 7.163 5 16 5s16-2.239 16-5v-6c0 2.761-7.163 5-16 5z\"></path>\n",
              "<path d=\"M16 26c-8.837 0-16-2.239-16-5v6c0 2.761 7.163 5 16 5s16-2.239 16-5v-6c0 2.761-7.163 5-16 5z\"></path>\n",
              "</symbol>\n",
              "<symbol id=\"icon-file-text2\" viewBox=\"0 0 32 32\">\n",
              "<title>Show/Hide attributes</title>\n",
              "<path d=\"M28.681 7.159c-0.694-0.947-1.662-2.053-2.724-3.116s-2.169-2.030-3.116-2.724c-1.612-1.182-2.393-1.319-2.841-1.319h-15.5c-1.378 0-2.5 1.121-2.5 2.5v27c0 1.378 1.122 2.5 2.5 2.5h23c1.378 0 2.5-1.122 2.5-2.5v-19.5c0-0.448-0.137-1.23-1.319-2.841zM24.543 5.457c0.959 0.959 1.712 1.825 2.268 2.543h-4.811v-4.811c0.718 0.556 1.584 1.309 2.543 2.268zM28 29.5c0 0.271-0.229 0.5-0.5 0.5h-23c-0.271 0-0.5-0.229-0.5-0.5v-27c0-0.271 0.229-0.5 0.5-0.5 0 0 15.499-0 15.5 0v7c0 0.552 0.448 1 1 1h7v19.5z\"></path>\n",
              "<path d=\"M23 26h-14c-0.552 0-1-0.448-1-1s0.448-1 1-1h14c0.552 0 1 0.448 1 1s-0.448 1-1 1z\"></path>\n",
              "<path d=\"M23 22h-14c-0.552 0-1-0.448-1-1s0.448-1 1-1h14c0.552 0 1 0.448 1 1s-0.448 1-1 1z\"></path>\n",
              "<path d=\"M23 18h-14c-0.552 0-1-0.448-1-1s0.448-1 1-1h14c0.552 0 1 0.448 1 1s-0.448 1-1 1z\"></path>\n",
              "</symbol>\n",
              "</defs>\n",
              "</svg>\n",
              "<style>/* CSS stylesheet for displaying xarray objects in jupyterlab.\n",
              " *\n",
              " */\n",
              "\n",
              ":root {\n",
              "  --xr-font-color0: var(--jp-content-font-color0, rgba(0, 0, 0, 1));\n",
              "  --xr-font-color2: var(--jp-content-font-color2, rgba(0, 0, 0, 0.54));\n",
              "  --xr-font-color3: var(--jp-content-font-color3, rgba(0, 0, 0, 0.38));\n",
              "  --xr-border-color: var(--jp-border-color2, #e0e0e0);\n",
              "  --xr-disabled-color: var(--jp-layout-color3, #bdbdbd);\n",
              "  --xr-background-color: var(--jp-layout-color0, white);\n",
              "  --xr-background-color-row-even: var(--jp-layout-color1, white);\n",
              "  --xr-background-color-row-odd: var(--jp-layout-color2, #eeeeee);\n",
              "}\n",
              "\n",
              ".xr-wrap {\n",
              "  min-width: 300px;\n",
              "  max-width: 700px;\n",
              "}\n",
              "\n",
              ".xr-header {\n",
              "  padding-top: 6px;\n",
              "  padding-bottom: 6px;\n",
              "  margin-bottom: 4px;\n",
              "  border-bottom: solid 1px var(--xr-border-color);\n",
              "}\n",
              "\n",
              ".xr-header > div,\n",
              ".xr-header > ul {\n",
              "  display: inline;\n",
              "  margin-top: 0;\n",
              "  margin-bottom: 0;\n",
              "}\n",
              "\n",
              ".xr-obj-type,\n",
              ".xr-array-name {\n",
              "  margin-left: 2px;\n",
              "  margin-right: 10px;\n",
              "}\n",
              "\n",
              ".xr-obj-type {\n",
              "  color: var(--xr-font-color2);\n",
              "}\n",
              "\n",
              ".xr-sections {\n",
              "  padding-left: 0 !important;\n",
              "  display: grid;\n",
              "  grid-template-columns: 150px auto auto 1fr 20px 20px;\n",
              "}\n",
              "\n",
              ".xr-section-item {\n",
              "  display: contents;\n",
              "}\n",
              "\n",
              ".xr-section-item input {\n",
              "  display: none;\n",
              "}\n",
              "\n",
              ".xr-section-item input + label {\n",
              "  color: var(--xr-disabled-color);\n",
              "}\n",
              "\n",
              ".xr-section-item input:enabled + label {\n",
              "  cursor: pointer;\n",
              "  color: var(--xr-font-color2);\n",
              "}\n",
              "\n",
              ".xr-section-item input:enabled + label:hover {\n",
              "  color: var(--xr-font-color0);\n",
              "}\n",
              "\n",
              ".xr-section-summary {\n",
              "  grid-column: 1;\n",
              "  color: var(--xr-font-color2);\n",
              "  font-weight: 500;\n",
              "}\n",
              "\n",
              ".xr-section-summary > span {\n",
              "  display: inline-block;\n",
              "  padding-left: 0.5em;\n",
              "}\n",
              "\n",
              ".xr-section-summary-in:disabled + label {\n",
              "  color: var(--xr-font-color2);\n",
              "}\n",
              "\n",
              ".xr-section-summary-in + label:before {\n",
              "  display: inline-block;\n",
              "  content: '►';\n",
              "  font-size: 11px;\n",
              "  width: 15px;\n",
              "  text-align: center;\n",
              "}\n",
              "\n",
              ".xr-section-summary-in:disabled + label:before {\n",
              "  color: var(--xr-disabled-color);\n",
              "}\n",
              "\n",
              ".xr-section-summary-in:checked + label:before {\n",
              "  content: '▼';\n",
              "}\n",
              "\n",
              ".xr-section-summary-in:checked + label > span {\n",
              "  display: none;\n",
              "}\n",
              "\n",
              ".xr-section-summary,\n",
              ".xr-section-inline-details {\n",
              "  padding-top: 4px;\n",
              "  padding-bottom: 4px;\n",
              "}\n",
              "\n",
              ".xr-section-inline-details {\n",
              "  grid-column: 2 / -1;\n",
              "}\n",
              "\n",
              ".xr-section-details {\n",
              "  display: none;\n",
              "  grid-column: 1 / -1;\n",
              "  margin-bottom: 5px;\n",
              "}\n",
              "\n",
              ".xr-section-summary-in:checked ~ .xr-section-details {\n",
              "  display: contents;\n",
              "}\n",
              "\n",
              ".xr-array-wrap {\n",
              "  grid-column: 1 / -1;\n",
              "  display: grid;\n",
              "  grid-template-columns: 20px auto;\n",
              "}\n",
              "\n",
              ".xr-array-wrap > label {\n",
              "  grid-column: 1;\n",
              "  vertical-align: top;\n",
              "}\n",
              "\n",
              ".xr-preview {\n",
              "  color: var(--xr-font-color3);\n",
              "}\n",
              "\n",
              ".xr-array-preview,\n",
              ".xr-array-data {\n",
              "  padding: 0 5px !important;\n",
              "  grid-column: 2;\n",
              "}\n",
              "\n",
              ".xr-array-data,\n",
              ".xr-array-in:checked ~ .xr-array-preview {\n",
              "  display: none;\n",
              "}\n",
              "\n",
              ".xr-array-in:checked ~ .xr-array-data,\n",
              ".xr-array-preview {\n",
              "  display: inline-block;\n",
              "}\n",
              "\n",
              ".xr-dim-list {\n",
              "  display: inline-block !important;\n",
              "  list-style: none;\n",
              "  padding: 0 !important;\n",
              "  margin: 0;\n",
              "}\n",
              "\n",
              ".xr-dim-list li {\n",
              "  display: inline-block;\n",
              "  padding: 0;\n",
              "  margin: 0;\n",
              "}\n",
              "\n",
              ".xr-dim-list:before {\n",
              "  content: '(';\n",
              "}\n",
              "\n",
              ".xr-dim-list:after {\n",
              "  content: ')';\n",
              "}\n",
              "\n",
              ".xr-dim-list li:not(:last-child):after {\n",
              "  content: ',';\n",
              "  padding-right: 5px;\n",
              "}\n",
              "\n",
              ".xr-has-index {\n",
              "  font-weight: bold;\n",
              "}\n",
              "\n",
              ".xr-var-list,\n",
              ".xr-var-item {\n",
              "  display: contents;\n",
              "}\n",
              "\n",
              ".xr-var-item > div,\n",
              ".xr-var-item label,\n",
              ".xr-var-item > .xr-var-name span {\n",
              "  background-color: var(--xr-background-color-row-even);\n",
              "  margin-bottom: 0;\n",
              "}\n",
              "\n",
              ".xr-var-item > .xr-var-name:hover span {\n",
              "  padding-right: 5px;\n",
              "}\n",
              "\n",
              ".xr-var-list > li:nth-child(odd) > div,\n",
              ".xr-var-list > li:nth-child(odd) > label,\n",
              ".xr-var-list > li:nth-child(odd) > .xr-var-name span {\n",
              "  background-color: var(--xr-background-color-row-odd);\n",
              "}\n",
              "\n",
              ".xr-var-name {\n",
              "  grid-column: 1;\n",
              "}\n",
              "\n",
              ".xr-var-dims {\n",
              "  grid-column: 2;\n",
              "}\n",
              "\n",
              ".xr-var-dtype {\n",
              "  grid-column: 3;\n",
              "  text-align: right;\n",
              "  color: var(--xr-font-color2);\n",
              "}\n",
              "\n",
              ".xr-var-preview {\n",
              "  grid-column: 4;\n",
              "}\n",
              "\n",
              ".xr-var-name,\n",
              ".xr-var-dims,\n",
              ".xr-var-dtype,\n",
              ".xr-preview,\n",
              ".xr-attrs dt {\n",
              "  white-space: nowrap;\n",
              "  overflow: hidden;\n",
              "  text-overflow: ellipsis;\n",
              "  padding-right: 10px;\n",
              "}\n",
              "\n",
              ".xr-var-name:hover,\n",
              ".xr-var-dims:hover,\n",
              ".xr-var-dtype:hover,\n",
              ".xr-attrs dt:hover {\n",
              "  overflow: visible;\n",
              "  width: auto;\n",
              "  z-index: 1;\n",
              "}\n",
              "\n",
              ".xr-var-attrs,\n",
              ".xr-var-data {\n",
              "  display: none;\n",
              "  background-color: var(--xr-background-color) !important;\n",
              "  padding-bottom: 5px !important;\n",
              "}\n",
              "\n",
              ".xr-var-attrs-in:checked ~ .xr-var-attrs,\n",
              ".xr-var-data-in:checked ~ .xr-var-data {\n",
              "  display: block;\n",
              "}\n",
              "\n",
              ".xr-var-data > table {\n",
              "  float: right;\n",
              "}\n",
              "\n",
              ".xr-var-name span,\n",
              ".xr-var-data,\n",
              ".xr-attrs {\n",
              "  padding-left: 25px !important;\n",
              "}\n",
              "\n",
              ".xr-attrs,\n",
              ".xr-var-attrs,\n",
              ".xr-var-data {\n",
              "  grid-column: 1 / -1;\n",
              "}\n",
              "\n",
              "dl.xr-attrs {\n",
              "  padding: 0;\n",
              "  margin: 0;\n",
              "  display: grid;\n",
              "  grid-template-columns: 125px auto;\n",
              "}\n",
              "\n",
              ".xr-attrs dt, dd {\n",
              "  padding: 0;\n",
              "  margin: 0;\n",
              "  float: left;\n",
              "  padding-right: 10px;\n",
              "  width: auto;\n",
              "}\n",
              "\n",
              ".xr-attrs dt {\n",
              "  font-weight: normal;\n",
              "  grid-column: 1;\n",
              "}\n",
              "\n",
              ".xr-attrs dt:hover span {\n",
              "  display: inline-block;\n",
              "  background: var(--xr-background-color);\n",
              "  padding-right: 10px;\n",
              "}\n",
              "\n",
              ".xr-attrs dd {\n",
              "  grid-column: 2;\n",
              "  white-space: pre-wrap;\n",
              "  word-break: break-all;\n",
              "}\n",
              "\n",
              ".xr-icon-database,\n",
              ".xr-icon-file-text2 {\n",
              "  display: inline-block;\n",
              "  vertical-align: middle;\n",
              "  width: 1em;\n",
              "  height: 1.5em !important;\n",
              "  stroke-width: 0;\n",
              "  stroke: currentColor;\n",
              "  fill: currentColor;\n",
              "}\n",
              "</style><div class='xr-wrap'><div class='xr-header'><div class='xr-obj-type'>xarray.Dataset</div></div><ul class='xr-sections'><li class='xr-section-item'><input id='section-7e2bfbf8-5654-47b7-beed-22e6d47c60b5' class='xr-section-summary-in' type='checkbox' disabled ><label for='section-7e2bfbf8-5654-47b7-beed-22e6d47c60b5' class='xr-section-summary'  title='Expand/collapse section'>Dimensions:</label><div class='xr-section-inline-details'><ul class='xr-dim-list'><li><span class='xr-has-index'>experiment</span>: 2</li><li><span class='xr-has-index'>lat</span>: 8</li><li><span class='xr-has-index'>lon</span>: 8</li><li><span class='xr-has-index'>model</span>: 5</li><li><span class='xr-has-index'>realization</span>: 1</li><li><span class='xr-has-index'>time</span>: 34310</li></ul></div><div class='xr-section-details'></div></li><li class='xr-section-item'><input id='section-61c444a8-735c-440b-a622-cea813affba4' class='xr-section-summary-in' type='checkbox'  checked><label for='section-61c444a8-735c-440b-a622-cea813affba4' class='xr-section-summary' >Coordinates: <span>(7)</span></label><div class='xr-section-inline-details'></div><div class='xr-section-details'><ul class='xr-var-list'><li class='xr-var-item'><div class='xr-var-name'><span>height</span></div><div class='xr-var-dims'>(model)</div><div class='xr-var-dtype'>float64</div><div class='xr-var-preview xr-preview'>2.0 2.0 2.0 2.0 1.5</div><input id='attrs-f3bb3b9b-d873-4434-8fdf-5934c8e74ce7' class='xr-var-attrs-in' type='checkbox' ><label for='attrs-f3bb3b9b-d873-4434-8fdf-5934c8e74ce7' title='Show/Hide attributes'><svg class='icon xr-icon-file-text2'><use xlink:href='#icon-file-text2'></use></svg></label><input id='data-9a3f57c9-f372-45fb-84df-3ed946e9cb79' class='xr-var-data-in' type='checkbox'><label for='data-9a3f57c9-f372-45fb-84df-3ed946e9cb79' title='Show/Hide data repr'><svg class='icon xr-icon-database'><use xlink:href='#icon-database'></use></svg></label><div class='xr-var-attrs'><dl class='xr-attrs'><dt><span>standard_name :</span></dt><dd>height</dd><dt><span>long_name :</span></dt><dd>height</dd><dt><span>units :</span></dt><dd>m</dd><dt><span>positive :</span></dt><dd>up</dd><dt><span>axis :</span></dt><dd>Z</dd><dt><span>stored_direction :</span></dt><dd>increasing</dd><dt><span>type :</span></dt><dd>double</dd></dl></div><pre class='xr-var-data'>array([2. , 2. , 2. , 2. , 1.5])</pre></li><li class='xr-var-item'><div class='xr-var-name'><span class='xr-has-index'>lon</span></div><div class='xr-var-dims'>(lon)</div><div class='xr-var-dtype'>float64</div><div class='xr-var-preview xr-preview'>-9.375 -7.5 -5.625 ... 1.875 3.75</div><input id='attrs-d0aa20d6-4f86-4b06-9afc-71499470e1c8' class='xr-var-attrs-in' type='checkbox' ><label for='attrs-d0aa20d6-4f86-4b06-9afc-71499470e1c8' title='Show/Hide attributes'><svg class='icon xr-icon-file-text2'><use xlink:href='#icon-file-text2'></use></svg></label><input id='data-b54e7035-9842-4135-a0e4-d53c3e113475' class='xr-var-data-in' type='checkbox'><label for='data-b54e7035-9842-4135-a0e4-d53c3e113475' title='Show/Hide data repr'><svg class='icon xr-icon-database'><use xlink:href='#icon-database'></use></svg></label><div class='xr-var-attrs'><dl class='xr-attrs'><dt><span>standard_name :</span></dt><dd>longitude</dd><dt><span>long_name :</span></dt><dd>longitude</dd><dt><span>units :</span></dt><dd>degrees_east</dd><dt><span>axis :</span></dt><dd>X</dd><dt><span>bounds :</span></dt><dd>lon_bnds</dd><dt><span>stored_direction :</span></dt><dd>increasing</dd><dt><span>type :</span></dt><dd>double</dd><dt><span>valid_max :</span></dt><dd>360.0</dd><dt><span>valid_min :</span></dt><dd>-180.0</dd></dl></div><pre class='xr-var-data'>array([-9.375, -7.5  , -5.625, -3.75 , -1.875,  0.   ,  1.875,  3.75 ])</pre></li><li class='xr-var-item'><div class='xr-var-name'><span class='xr-has-index'>experiment</span></div><div class='xr-var-dims'>(experiment)</div><div class='xr-var-dtype'>object</div><div class='xr-var-preview xr-preview'>&#x27;rcp45&#x27; &#x27;rcp85&#x27;</div><input id='attrs-d1dea2fb-6fb8-455c-abf9-5b195c0d1d8a' class='xr-var-attrs-in' type='checkbox' disabled><label for='attrs-d1dea2fb-6fb8-455c-abf9-5b195c0d1d8a' title='Show/Hide attributes'><svg class='icon xr-icon-file-text2'><use xlink:href='#icon-file-text2'></use></svg></label><input id='data-437425de-3a4e-4bce-b797-05c8ac374baf' class='xr-var-data-in' type='checkbox'><label for='data-437425de-3a4e-4bce-b797-05c8ac374baf' title='Show/Hide data repr'><svg class='icon xr-icon-database'><use xlink:href='#icon-database'></use></svg></label><div class='xr-var-attrs'><dl class='xr-attrs'></dl></div><pre class='xr-var-data'>array([&#x27;rcp45&#x27;, &#x27;rcp85&#x27;], dtype=object)</pre></li><li class='xr-var-item'><div class='xr-var-name'><span class='xr-has-index'>lat</span></div><div class='xr-var-dims'>(lat)</div><div class='xr-var-dtype'>float64</div><div class='xr-var-preview xr-preview'>35.0 36.25 37.5 ... 42.5 43.75</div><input id='attrs-21c2bb7d-74a4-4577-bb7b-a956d43da345' class='xr-var-attrs-in' type='checkbox' ><label for='attrs-21c2bb7d-74a4-4577-bb7b-a956d43da345' title='Show/Hide attributes'><svg class='icon xr-icon-file-text2'><use xlink:href='#icon-file-text2'></use></svg></label><input id='data-69e56608-71e4-4f19-bd7f-f4432d5fa23a' class='xr-var-data-in' type='checkbox'><label for='data-69e56608-71e4-4f19-bd7f-f4432d5fa23a' title='Show/Hide data repr'><svg class='icon xr-icon-database'><use xlink:href='#icon-database'></use></svg></label><div class='xr-var-attrs'><dl class='xr-attrs'><dt><span>standard_name :</span></dt><dd>latitude</dd><dt><span>long_name :</span></dt><dd>latitude</dd><dt><span>units :</span></dt><dd>degrees_north</dd><dt><span>axis :</span></dt><dd>Y</dd><dt><span>bounds :</span></dt><dd>lat_bnds</dd><dt><span>stored_direction :</span></dt><dd>increasing</dd><dt><span>type :</span></dt><dd>double</dd><dt><span>valid_max :</span></dt><dd>90.0</dd><dt><span>valid_min :</span></dt><dd>-90.0</dd></dl></div><pre class='xr-var-data'>array([35.  , 36.25, 37.5 , 38.75, 40.  , 41.25, 42.5 , 43.75])</pre></li><li class='xr-var-item'><div class='xr-var-name'><span class='xr-has-index'>time</span></div><div class='xr-var-dims'>(time)</div><div class='xr-var-dtype'>object</div><div class='xr-var-preview xr-preview'>2006-01-01 00:00:00 ... 2099-12-31 00:00:00</div><input id='attrs-1deeae58-bd0d-4800-ae52-1db3ecce435e' class='xr-var-attrs-in' type='checkbox' disabled><label for='attrs-1deeae58-bd0d-4800-ae52-1db3ecce435e' title='Show/Hide attributes'><svg class='icon xr-icon-file-text2'><use xlink:href='#icon-file-text2'></use></svg></label><input id='data-10011aea-4f35-4e58-8e11-0929fe3fb009' class='xr-var-data-in' type='checkbox'><label for='data-10011aea-4f35-4e58-8e11-0929fe3fb009' title='Show/Hide data repr'><svg class='icon xr-icon-database'><use xlink:href='#icon-database'></use></svg></label><div class='xr-var-attrs'><dl class='xr-attrs'></dl></div><pre class='xr-var-data'>array([cftime.DatetimeNoLeap(2006-01-01 00:00:00),\n",
              "       cftime.DatetimeNoLeap(2006-01-02 00:00:00),\n",
              "       cftime.DatetimeNoLeap(2006-01-03 00:00:00), ...,\n",
              "       cftime.DatetimeNoLeap(2099-12-29 00:00:00),\n",
              "       cftime.DatetimeNoLeap(2099-12-30 00:00:00),\n",
              "       cftime.DatetimeNoLeap(2099-12-31 00:00:00)], dtype=object)</pre></li><li class='xr-var-item'><div class='xr-var-name'><span class='xr-has-index'>model</span></div><div class='xr-var-dims'>(model)</div><div class='xr-var-dtype'>object</div><div class='xr-var-preview xr-preview'>&#x27;NorESM1-M&#x27; ... &#x27;ACCESS1-0&#x27;</div><input id='attrs-e77ea213-35e8-462e-9986-72f600d9aecf' class='xr-var-attrs-in' type='checkbox' disabled><label for='attrs-e77ea213-35e8-462e-9986-72f600d9aecf' title='Show/Hide attributes'><svg class='icon xr-icon-file-text2'><use xlink:href='#icon-file-text2'></use></svg></label><input id='data-d352be44-279e-4ad1-acc7-d358d6e3ec05' class='xr-var-data-in' type='checkbox'><label for='data-d352be44-279e-4ad1-acc7-d358d6e3ec05' title='Show/Hide data repr'><svg class='icon xr-icon-database'><use xlink:href='#icon-database'></use></svg></label><div class='xr-var-attrs'><dl class='xr-attrs'></dl></div><pre class='xr-var-data'>array([&#x27;NorESM1-M&#x27;, &#x27;BNU-ESM&#x27;, &#x27;MPI-ESM-MR&#x27;, &#x27;MPI-ESM-LR&#x27;, &#x27;ACCESS1-0&#x27;],\n",
              "      dtype=object)</pre></li><li class='xr-var-item'><div class='xr-var-name'><span class='xr-has-index'>realization</span></div><div class='xr-var-dims'>(realization)</div><div class='xr-var-dtype'>int64</div><div class='xr-var-preview xr-preview'>1</div><input id='attrs-decdfb90-0626-47fd-b47c-d3611a5057e3' class='xr-var-attrs-in' type='checkbox' disabled><label for='attrs-decdfb90-0626-47fd-b47c-d3611a5057e3' title='Show/Hide attributes'><svg class='icon xr-icon-file-text2'><use xlink:href='#icon-file-text2'></use></svg></label><input id='data-3e444056-de06-40d5-8c97-5280ec922895' class='xr-var-data-in' type='checkbox'><label for='data-3e444056-de06-40d5-8c97-5280ec922895' title='Show/Hide data repr'><svg class='icon xr-icon-database'><use xlink:href='#icon-database'></use></svg></label><div class='xr-var-attrs'><dl class='xr-attrs'></dl></div><pre class='xr-var-data'>array([1])</pre></li></ul></div></li><li class='xr-section-item'><input id='section-ce726c9b-1662-4ff6-88e3-2c197c546ffa' class='xr-section-summary-in' type='checkbox'  checked><label for='section-ce726c9b-1662-4ff6-88e3-2c197c546ffa' class='xr-section-summary' >Data variables: <span>(2)</span></label><div class='xr-section-inline-details'></div><div class='xr-section-details'><ul class='xr-var-list'><li class='xr-var-item'><div class='xr-var-name'><span>tasmin</span></div><div class='xr-var-dims'>(model, experiment, realization, time, lat, lon)</div><div class='xr-var-dtype'>float64</div><div class='xr-var-preview xr-preview'>dask.array&lt;chunksize=(1, 1, 1, 34310, 8, 8), meta=np.ndarray&gt;</div><input id='attrs-fee2564f-23f5-4819-914b-765e698e3f51' class='xr-var-attrs-in' type='checkbox' ><label for='attrs-fee2564f-23f5-4819-914b-765e698e3f51' title='Show/Hide attributes'><svg class='icon xr-icon-file-text2'><use xlink:href='#icon-file-text2'></use></svg></label><input id='data-68a28da4-7dd5-415f-8667-f41c3f2eb6a4' class='xr-var-data-in' type='checkbox'><label for='data-68a28da4-7dd5-415f-8667-f41c3f2eb6a4' title='Show/Hide data repr'><svg class='icon xr-icon-database'><use xlink:href='#icon-database'></use></svg></label><div class='xr-var-attrs'><dl class='xr-attrs'><dt><span>standard_name :</span></dt><dd>air_temperature</dd><dt><span>long_name :</span></dt><dd>Daily Minimum Near-Surface Air Temperature</dd><dt><span>units :</span></dt><dd>K</dd><dt><span>cell_methods :</span></dt><dd>time: minimum</dd><dt><span>cell_measures :</span></dt><dd>area: areacella</dd><dt><span>type :</span></dt><dd>real</dd><dt><span>ensemble_member :</span></dt><dd>r1i1p1</dd><dt><span>variable :</span></dt><dd>[&#x27;minimum_2m_temperature_in_the_last_24_hours&#x27;]</dd></dl></div><pre class='xr-var-data'><table>\n",
              "<tr>\n",
              "<td>\n",
              "<table>\n",
              "  <thead>\n",
              "    <tr><td> </td><th> Array </th><th> Chunk </th></tr>\n",
              "  </thead>\n",
              "  <tbody>\n",
              "    <tr><th> Bytes </th><td> 175.67 MB </td> <td> 17.57 MB </td></tr>\n",
              "    <tr><th> Shape </th><td> (5, 2, 1, 34310, 8, 8) </td> <td> (1, 1, 1, 34310, 8, 8) </td></tr>\n",
              "    <tr><th> Count </th><td> 120 Tasks </td><td> 10 Chunks </td></tr>\n",
              "    <tr><th> Type </th><td> float64 </td><td> numpy.ndarray </td></tr>\n",
              "  </tbody>\n",
              "</table>\n",
              "</td>\n",
              "<td>\n",
              "<svg width=\"386\" height=\"146\" style=\"stroke:rgb(0,0,0);stroke-width:1\" >\n",
              "\n",
              "  <!-- Horizontal lines -->\n",
              "  <line x1=\"10\" y1=\"0\" x2=\"24\" y2=\"14\" style=\"stroke-width:2\" />\n",
              "  <line x1=\"10\" y1=\"12\" x2=\"24\" y2=\"27\" />\n",
              "  <line x1=\"10\" y1=\"25\" x2=\"24\" y2=\"40\" style=\"stroke-width:2\" />\n",
              "\n",
              "  <!-- Vertical lines -->\n",
              "  <line x1=\"10\" y1=\"0\" x2=\"10\" y2=\"25\" style=\"stroke-width:2\" />\n",
              "  <line x1=\"12\" y1=\"2\" x2=\"12\" y2=\"28\" />\n",
              "  <line x1=\"15\" y1=\"5\" x2=\"15\" y2=\"31\" />\n",
              "  <line x1=\"18\" y1=\"8\" x2=\"18\" y2=\"34\" />\n",
              "  <line x1=\"21\" y1=\"11\" x2=\"21\" y2=\"37\" />\n",
              "  <line x1=\"24\" y1=\"14\" x2=\"24\" y2=\"40\" style=\"stroke-width:2\" />\n",
              "\n",
              "  <!-- Colored Rectangle -->\n",
              "  <polygon points=\"10.000000,0.000000 24.948598,14.948598 24.948598,40.361214 10.000000,25.412617\" style=\"fill:#ECB172A0;stroke-width:0\"/>\n",
              "\n",
              "  <!-- Horizontal lines -->\n",
              "  <line x1=\"10\" y1=\"0\" x2=\"35\" y2=\"0\" style=\"stroke-width:2\" />\n",
              "  <line x1=\"12\" y1=\"2\" x2=\"38\" y2=\"2\" />\n",
              "  <line x1=\"15\" y1=\"5\" x2=\"41\" y2=\"5\" />\n",
              "  <line x1=\"18\" y1=\"8\" x2=\"44\" y2=\"8\" />\n",
              "  <line x1=\"21\" y1=\"11\" x2=\"47\" y2=\"11\" />\n",
              "  <line x1=\"24\" y1=\"14\" x2=\"50\" y2=\"14\" style=\"stroke-width:2\" />\n",
              "\n",
              "  <!-- Vertical lines -->\n",
              "  <line x1=\"10\" y1=\"0\" x2=\"24\" y2=\"14\" style=\"stroke-width:2\" />\n",
              "  <line x1=\"35\" y1=\"0\" x2=\"50\" y2=\"14\" style=\"stroke-width:2\" />\n",
              "\n",
              "  <!-- Colored Rectangle -->\n",
              "  <polygon points=\"10.000000,0.000000 35.412617,0.000000 50.361214,14.948598 24.948598,14.948598\" style=\"fill:#ECB172A0;stroke-width:0\"/>\n",
              "\n",
              "  <!-- Horizontal lines -->\n",
              "  <line x1=\"24\" y1=\"14\" x2=\"50\" y2=\"14\" style=\"stroke-width:2\" />\n",
              "  <line x1=\"24\" y1=\"27\" x2=\"50\" y2=\"27\" />\n",
              "  <line x1=\"24\" y1=\"40\" x2=\"50\" y2=\"40\" style=\"stroke-width:2\" />\n",
              "\n",
              "  <!-- Vertical lines -->\n",
              "  <line x1=\"24\" y1=\"14\" x2=\"24\" y2=\"40\" style=\"stroke-width:2\" />\n",
              "  <line x1=\"50\" y1=\"14\" x2=\"50\" y2=\"40\" style=\"stroke-width:2\" />\n",
              "\n",
              "  <!-- Colored Rectangle -->\n",
              "  <polygon points=\"24.948598,14.948598 50.361214,14.948598 50.361214,40.361214 24.948598,40.361214\" style=\"fill:#ECB172A0;stroke-width:0\"/>\n",
              "\n",
              "  <!-- Text -->\n",
              "  <text x=\"37.654906\" y=\"60.361214\" font-size=\"1.0rem\" font-weight=\"100\" text-anchor=\"middle\" >1</text>\n",
              "  <text x=\"70.361214\" y=\"27.654906\" font-size=\"1.0rem\" font-weight=\"100\" text-anchor=\"middle\" transform=\"rotate(0,70.361214,27.654906)\">2</text>\n",
              "  <text x=\"7.474299\" y=\"52.886915\" font-size=\"1.0rem\" font-weight=\"100\" text-anchor=\"middle\" transform=\"rotate(45,7.474299,52.886915)\">5</text>\n",
              "\n",
              "\n",
              "  <!-- Horizontal lines -->\n",
              "  <line x1=\"120\" y1=\"0\" x2=\"190\" y2=\"70\" style=\"stroke-width:2\" />\n",
              "  <line x1=\"120\" y1=\"25\" x2=\"190\" y2=\"96\" style=\"stroke-width:2\" />\n",
              "\n",
              "  <!-- Vertical lines -->\n",
              "  <line x1=\"120\" y1=\"0\" x2=\"120\" y2=\"25\" style=\"stroke-width:2\" />\n",
              "  <line x1=\"190\" y1=\"70\" x2=\"190\" y2=\"96\" style=\"stroke-width:2\" />\n",
              "\n",
              "  <!-- Colored Rectangle -->\n",
              "  <polygon points=\"120.000000,0.000000 190.588235,70.588235 190.588235,96.000852 120.000000,25.412617\" style=\"fill:#ECB172A0;stroke-width:0\"/>\n",
              "\n",
              "  <!-- Horizontal lines -->\n",
              "  <line x1=\"120\" y1=\"0\" x2=\"145\" y2=\"0\" style=\"stroke-width:2\" />\n",
              "  <line x1=\"190\" y1=\"70\" x2=\"216\" y2=\"70\" style=\"stroke-width:2\" />\n",
              "\n",
              "  <!-- Vertical lines -->\n",
              "  <line x1=\"120\" y1=\"0\" x2=\"190\" y2=\"70\" style=\"stroke-width:2\" />\n",
              "  <line x1=\"145\" y1=\"0\" x2=\"216\" y2=\"70\" style=\"stroke-width:2\" />\n",
              "\n",
              "  <!-- Colored Rectangle -->\n",
              "  <polygon points=\"120.000000,0.000000 145.412617,0.000000 216.000852,70.588235 190.588235,70.588235\" style=\"fill:#ECB172A0;stroke-width:0\"/>\n",
              "\n",
              "  <!-- Horizontal lines -->\n",
              "  <line x1=\"190\" y1=\"70\" x2=\"216\" y2=\"70\" style=\"stroke-width:2\" />\n",
              "  <line x1=\"190\" y1=\"96\" x2=\"216\" y2=\"96\" style=\"stroke-width:2\" />\n",
              "\n",
              "  <!-- Vertical lines -->\n",
              "  <line x1=\"190\" y1=\"70\" x2=\"190\" y2=\"96\" style=\"stroke-width:2\" />\n",
              "  <line x1=\"216\" y1=\"70\" x2=\"216\" y2=\"96\" style=\"stroke-width:2\" />\n",
              "\n",
              "  <!-- Colored Rectangle -->\n",
              "  <polygon points=\"190.588235,70.588235 216.000852,70.588235 216.000852,96.000852 190.588235,96.000852\" style=\"fill:#ECB172A0;stroke-width:0\"/>\n",
              "\n",
              "  <!-- Text -->\n",
              "  <text x=\"203.294544\" y=\"116.000852\" font-size=\"1.0rem\" font-weight=\"100\" text-anchor=\"middle\" >8</text>\n",
              "  <text x=\"236.000852\" y=\"83.294544\" font-size=\"1.0rem\" font-weight=\"100\" text-anchor=\"middle\" transform=\"rotate(0,236.000852,83.294544)\">8</text>\n",
              "  <text x=\"145.294118\" y=\"80.706734\" font-size=\"1.0rem\" font-weight=\"100\" text-anchor=\"middle\" transform=\"rotate(45,145.294118,80.706734)\">34310</text>\n",
              "</svg>\n",
              "</td>\n",
              "</tr>\n",
              "</table></pre></li><li class='xr-var-item'><div class='xr-var-name'><span>tasmax</span></div><div class='xr-var-dims'>(model, experiment, realization, time, lat, lon)</div><div class='xr-var-dtype'>float64</div><div class='xr-var-preview xr-preview'>dask.array&lt;chunksize=(1, 1, 1, 34310, 8, 8), meta=np.ndarray&gt;</div><input id='attrs-5731f273-35a4-4884-a473-5bf562eac183' class='xr-var-attrs-in' type='checkbox' ><label for='attrs-5731f273-35a4-4884-a473-5bf562eac183' title='Show/Hide attributes'><svg class='icon xr-icon-file-text2'><use xlink:href='#icon-file-text2'></use></svg></label><input id='data-5c5d7207-8c81-451b-85e9-51e99e9d8203' class='xr-var-data-in' type='checkbox'><label for='data-5c5d7207-8c81-451b-85e9-51e99e9d8203' title='Show/Hide data repr'><svg class='icon xr-icon-database'><use xlink:href='#icon-database'></use></svg></label><div class='xr-var-attrs'><dl class='xr-attrs'><dt><span>standard_name :</span></dt><dd>air_temperature</dd><dt><span>long_name :</span></dt><dd>Daily Maximum Near-Surface Air Temperature</dd><dt><span>units :</span></dt><dd>K</dd><dt><span>cell_methods :</span></dt><dd>time: maximum</dd><dt><span>cell_measures :</span></dt><dd>area: areacella</dd><dt><span>type :</span></dt><dd>real</dd><dt><span>ensemble_member :</span></dt><dd>r1i1p1</dd><dt><span>variable :</span></dt><dd>[&#x27;maximum_2m_temperature_in_the_last_24_hours&#x27;]</dd></dl></div><pre class='xr-var-data'><table>\n",
              "<tr>\n",
              "<td>\n",
              "<table>\n",
              "  <thead>\n",
              "    <tr><td> </td><th> Array </th><th> Chunk </th></tr>\n",
              "  </thead>\n",
              "  <tbody>\n",
              "    <tr><th> Bytes </th><td> 175.67 MB </td> <td> 17.57 MB </td></tr>\n",
              "    <tr><th> Shape </th><td> (5, 2, 1, 34310, 8, 8) </td> <td> (1, 1, 1, 34310, 8, 8) </td></tr>\n",
              "    <tr><th> Count </th><td> 120 Tasks </td><td> 10 Chunks </td></tr>\n",
              "    <tr><th> Type </th><td> float64 </td><td> numpy.ndarray </td></tr>\n",
              "  </tbody>\n",
              "</table>\n",
              "</td>\n",
              "<td>\n",
              "<svg width=\"386\" height=\"146\" style=\"stroke:rgb(0,0,0);stroke-width:1\" >\n",
              "\n",
              "  <!-- Horizontal lines -->\n",
              "  <line x1=\"10\" y1=\"0\" x2=\"24\" y2=\"14\" style=\"stroke-width:2\" />\n",
              "  <line x1=\"10\" y1=\"12\" x2=\"24\" y2=\"27\" />\n",
              "  <line x1=\"10\" y1=\"25\" x2=\"24\" y2=\"40\" style=\"stroke-width:2\" />\n",
              "\n",
              "  <!-- Vertical lines -->\n",
              "  <line x1=\"10\" y1=\"0\" x2=\"10\" y2=\"25\" style=\"stroke-width:2\" />\n",
              "  <line x1=\"12\" y1=\"2\" x2=\"12\" y2=\"28\" />\n",
              "  <line x1=\"15\" y1=\"5\" x2=\"15\" y2=\"31\" />\n",
              "  <line x1=\"18\" y1=\"8\" x2=\"18\" y2=\"34\" />\n",
              "  <line x1=\"21\" y1=\"11\" x2=\"21\" y2=\"37\" />\n",
              "  <line x1=\"24\" y1=\"14\" x2=\"24\" y2=\"40\" style=\"stroke-width:2\" />\n",
              "\n",
              "  <!-- Colored Rectangle -->\n",
              "  <polygon points=\"10.000000,0.000000 24.948598,14.948598 24.948598,40.361214 10.000000,25.412617\" style=\"fill:#ECB172A0;stroke-width:0\"/>\n",
              "\n",
              "  <!-- Horizontal lines -->\n",
              "  <line x1=\"10\" y1=\"0\" x2=\"35\" y2=\"0\" style=\"stroke-width:2\" />\n",
              "  <line x1=\"12\" y1=\"2\" x2=\"38\" y2=\"2\" />\n",
              "  <line x1=\"15\" y1=\"5\" x2=\"41\" y2=\"5\" />\n",
              "  <line x1=\"18\" y1=\"8\" x2=\"44\" y2=\"8\" />\n",
              "  <line x1=\"21\" y1=\"11\" x2=\"47\" y2=\"11\" />\n",
              "  <line x1=\"24\" y1=\"14\" x2=\"50\" y2=\"14\" style=\"stroke-width:2\" />\n",
              "\n",
              "  <!-- Vertical lines -->\n",
              "  <line x1=\"10\" y1=\"0\" x2=\"24\" y2=\"14\" style=\"stroke-width:2\" />\n",
              "  <line x1=\"35\" y1=\"0\" x2=\"50\" y2=\"14\" style=\"stroke-width:2\" />\n",
              "\n",
              "  <!-- Colored Rectangle -->\n",
              "  <polygon points=\"10.000000,0.000000 35.412617,0.000000 50.361214,14.948598 24.948598,14.948598\" style=\"fill:#ECB172A0;stroke-width:0\"/>\n",
              "\n",
              "  <!-- Horizontal lines -->\n",
              "  <line x1=\"24\" y1=\"14\" x2=\"50\" y2=\"14\" style=\"stroke-width:2\" />\n",
              "  <line x1=\"24\" y1=\"27\" x2=\"50\" y2=\"27\" />\n",
              "  <line x1=\"24\" y1=\"40\" x2=\"50\" y2=\"40\" style=\"stroke-width:2\" />\n",
              "\n",
              "  <!-- Vertical lines -->\n",
              "  <line x1=\"24\" y1=\"14\" x2=\"24\" y2=\"40\" style=\"stroke-width:2\" />\n",
              "  <line x1=\"50\" y1=\"14\" x2=\"50\" y2=\"40\" style=\"stroke-width:2\" />\n",
              "\n",
              "  <!-- Colored Rectangle -->\n",
              "  <polygon points=\"24.948598,14.948598 50.361214,14.948598 50.361214,40.361214 24.948598,40.361214\" style=\"fill:#ECB172A0;stroke-width:0\"/>\n",
              "\n",
              "  <!-- Text -->\n",
              "  <text x=\"37.654906\" y=\"60.361214\" font-size=\"1.0rem\" font-weight=\"100\" text-anchor=\"middle\" >1</text>\n",
              "  <text x=\"70.361214\" y=\"27.654906\" font-size=\"1.0rem\" font-weight=\"100\" text-anchor=\"middle\" transform=\"rotate(0,70.361214,27.654906)\">2</text>\n",
              "  <text x=\"7.474299\" y=\"52.886915\" font-size=\"1.0rem\" font-weight=\"100\" text-anchor=\"middle\" transform=\"rotate(45,7.474299,52.886915)\">5</text>\n",
              "\n",
              "\n",
              "  <!-- Horizontal lines -->\n",
              "  <line x1=\"120\" y1=\"0\" x2=\"190\" y2=\"70\" style=\"stroke-width:2\" />\n",
              "  <line x1=\"120\" y1=\"25\" x2=\"190\" y2=\"96\" style=\"stroke-width:2\" />\n",
              "\n",
              "  <!-- Vertical lines -->\n",
              "  <line x1=\"120\" y1=\"0\" x2=\"120\" y2=\"25\" style=\"stroke-width:2\" />\n",
              "  <line x1=\"190\" y1=\"70\" x2=\"190\" y2=\"96\" style=\"stroke-width:2\" />\n",
              "\n",
              "  <!-- Colored Rectangle -->\n",
              "  <polygon points=\"120.000000,0.000000 190.588235,70.588235 190.588235,96.000852 120.000000,25.412617\" style=\"fill:#ECB172A0;stroke-width:0\"/>\n",
              "\n",
              "  <!-- Horizontal lines -->\n",
              "  <line x1=\"120\" y1=\"0\" x2=\"145\" y2=\"0\" style=\"stroke-width:2\" />\n",
              "  <line x1=\"190\" y1=\"70\" x2=\"216\" y2=\"70\" style=\"stroke-width:2\" />\n",
              "\n",
              "  <!-- Vertical lines -->\n",
              "  <line x1=\"120\" y1=\"0\" x2=\"190\" y2=\"70\" style=\"stroke-width:2\" />\n",
              "  <line x1=\"145\" y1=\"0\" x2=\"216\" y2=\"70\" style=\"stroke-width:2\" />\n",
              "\n",
              "  <!-- Colored Rectangle -->\n",
              "  <polygon points=\"120.000000,0.000000 145.412617,0.000000 216.000852,70.588235 190.588235,70.588235\" style=\"fill:#ECB172A0;stroke-width:0\"/>\n",
              "\n",
              "  <!-- Horizontal lines -->\n",
              "  <line x1=\"190\" y1=\"70\" x2=\"216\" y2=\"70\" style=\"stroke-width:2\" />\n",
              "  <line x1=\"190\" y1=\"96\" x2=\"216\" y2=\"96\" style=\"stroke-width:2\" />\n",
              "\n",
              "  <!-- Vertical lines -->\n",
              "  <line x1=\"190\" y1=\"70\" x2=\"190\" y2=\"96\" style=\"stroke-width:2\" />\n",
              "  <line x1=\"216\" y1=\"70\" x2=\"216\" y2=\"96\" style=\"stroke-width:2\" />\n",
              "\n",
              "  <!-- Colored Rectangle -->\n",
              "  <polygon points=\"190.588235,70.588235 216.000852,70.588235 216.000852,96.000852 190.588235,96.000852\" style=\"fill:#ECB172A0;stroke-width:0\"/>\n",
              "\n",
              "  <!-- Text -->\n",
              "  <text x=\"203.294544\" y=\"116.000852\" font-size=\"1.0rem\" font-weight=\"100\" text-anchor=\"middle\" >8</text>\n",
              "  <text x=\"236.000852\" y=\"83.294544\" font-size=\"1.0rem\" font-weight=\"100\" text-anchor=\"middle\" transform=\"rotate(0,236.000852,83.294544)\">8</text>\n",
              "  <text x=\"145.294118\" y=\"80.706734\" font-size=\"1.0rem\" font-weight=\"100\" text-anchor=\"middle\" transform=\"rotate(45,145.294118,80.706734)\">34310</text>\n",
              "</svg>\n",
              "</td>\n",
              "</tr>\n",
              "</table></pre></li></ul></div></li><li class='xr-section-item'><input id='section-747f9929-769e-414a-9868-bcbac59cea56' class='xr-section-summary-in' type='checkbox'  checked><label for='section-747f9929-769e-414a-9868-bcbac59cea56' class='xr-section-summary' >Attributes: <span>(3)</span></label><div class='xr-section-inline-details'></div><div class='xr-section-details'><dl class='xr-attrs'><dt><span>source :</span></dt><dd>CMIP5, CDS</dd><dt><span>Conventions :</span></dt><dd>CF-1.6</dd><dt><span>comment :</span></dt><dd>maximum near-surface (usually, 2 meter) air temperature (add cell_method attribute &#x27;time: max&#x27;), minimum near-surface (usually, 2 meter) air temperature (add cell_method attribute &#x27;time: min&#x27;)</dd></dl></div></li></ul></div></div>"
            ],
            "text/plain": [
              "<xarray.Dataset>\n",
              "Dimensions:      (experiment: 2, lat: 8, lon: 8, model: 5, realization: 1, time: 34310)\n",
              "Coordinates:\n",
              "    height       (model) float64 2.0 2.0 2.0 2.0 1.5\n",
              "  * lon          (lon) float64 -9.375 -7.5 -5.625 -3.75 -1.875 0.0 1.875 3.75\n",
              "  * experiment   (experiment) object 'rcp45' 'rcp85'\n",
              "  * lat          (lat) float64 35.0 36.25 37.5 38.75 40.0 41.25 42.5 43.75\n",
              "  * time         (time) object 2006-01-01 00:00:00 ... 2099-12-31 00:00:00\n",
              "  * model        (model) object 'NorESM1-M' 'BNU-ESM' ... 'ACCESS1-0'\n",
              "  * realization  (realization) int64 1\n",
              "Data variables:\n",
              "    tasmin       (model, experiment, realization, time, lat, lon) float64 dask.array<chunksize=(1, 1, 1, 34310, 8, 8), meta=np.ndarray>\n",
              "    tasmax       (model, experiment, realization, time, lat, lon) float64 dask.array<chunksize=(1, 1, 1, 34310, 8, 8), meta=np.ndarray>\n",
              "Attributes:\n",
              "    source:       CMIP5, CDS\n",
              "    Conventions:  CF-1.6\n",
              "    comment:      maximum near-surface (usually, 2 meter) air temperature (ad..."
            ]
          },
          "metadata": {
            "tags": []
          },
          "execution_count": 23
        }
      ]
    },
    {
      "cell_type": "markdown",
      "metadata": {
        "id": "k137PPt6GiEV",
        "colab_type": "text"
      },
      "source": [
        "### Create ZARR"
      ]
    },
    {
      "cell_type": "code",
      "metadata": {
        "id": "TjmwtGBWGlcP",
        "colab_type": "code",
        "outputId": "8d3476b0-88af-4531-c646-cbf226586d1e",
        "colab": {
          "base_uri": "https://localhost:8080/",
          "height": 208
        }
      },
      "source": [
        "import zarr\n",
        "# Create zarr store structure\n",
        "#source = zarr.ZipStore(, mode='w')\n",
        "zarr_dir = \"spain.zarr\"\n",
        "root = zarr.open(zarr_dir, mode='w')\n",
        "#ds4 = ds.chunk(100)\n",
        "ds.to_zarr(f\"{zarr_dir}/projections-cmip5-daily-single-levels\", \"w\")\n",
        "zarr.consolidate_metadata(zarr_dir)\n",
        "print(root.tree())"
      ],
      "execution_count": 0,
      "outputs": [
        {
          "output_type": "stream",
          "text": [
            "/\n",
            " └── projections-cmip5-daily-single-levels\n",
            "     ├── experiment (2,) object\n",
            "     ├── height (5,) float64\n",
            "     ├── lat (8,) float64\n",
            "     ├── lon (8,) float64\n",
            "     ├── model (5,) object\n",
            "     ├── realization (1,) int64\n",
            "     ├── tasmax (5, 2, 1, 34333, 8, 8) float64\n",
            "     ├── tasmin (5, 2, 1, 34333, 8, 8) float64\n",
            "     └── time (34333,) int64\n"
          ],
          "name": "stdout"
        }
      ]
    },
    {
      "cell_type": "code",
      "metadata": {
        "id": "FA1UEFJiIKuR",
        "colab_type": "code",
        "outputId": "caa25e29-a6d3-47c6-ea0b-58b8d6a9d77c",
        "colab": {
          "base_uri": "https://localhost:8080/",
          "height": 1000
        }
      },
      "source": [
        "import xarray as xr\n",
        "ds = xr.open_zarr(zarr_dir, group=\"projections-cmip5-daily-single-levels\", consolidated=True)\n",
        "ds"
      ],
      "execution_count": 0,
      "outputs": [
        {
          "output_type": "execute_result",
          "data": {
            "text/html": [
              "<div><svg style=\"position: absolute; width: 0; height: 0; overflow: hidden\">\n",
              "<defs>\n",
              "<symbol id=\"icon-database\" viewBox=\"0 0 32 32\">\n",
              "<title>Show/Hide data repr</title>\n",
              "<path d=\"M16 0c-8.837 0-16 2.239-16 5v4c0 2.761 7.163 5 16 5s16-2.239 16-5v-4c0-2.761-7.163-5-16-5z\"></path>\n",
              "<path d=\"M16 17c-8.837 0-16-2.239-16-5v6c0 2.761 7.163 5 16 5s16-2.239 16-5v-6c0 2.761-7.163 5-16 5z\"></path>\n",
              "<path d=\"M16 26c-8.837 0-16-2.239-16-5v6c0 2.761 7.163 5 16 5s16-2.239 16-5v-6c0 2.761-7.163 5-16 5z\"></path>\n",
              "</symbol>\n",
              "<symbol id=\"icon-file-text2\" viewBox=\"0 0 32 32\">\n",
              "<title>Show/Hide attributes</title>\n",
              "<path d=\"M28.681 7.159c-0.694-0.947-1.662-2.053-2.724-3.116s-2.169-2.030-3.116-2.724c-1.612-1.182-2.393-1.319-2.841-1.319h-15.5c-1.378 0-2.5 1.121-2.5 2.5v27c0 1.378 1.122 2.5 2.5 2.5h23c1.378 0 2.5-1.122 2.5-2.5v-19.5c0-0.448-0.137-1.23-1.319-2.841zM24.543 5.457c0.959 0.959 1.712 1.825 2.268 2.543h-4.811v-4.811c0.718 0.556 1.584 1.309 2.543 2.268zM28 29.5c0 0.271-0.229 0.5-0.5 0.5h-23c-0.271 0-0.5-0.229-0.5-0.5v-27c0-0.271 0.229-0.5 0.5-0.5 0 0 15.499-0 15.5 0v7c0 0.552 0.448 1 1 1h7v19.5z\"></path>\n",
              "<path d=\"M23 26h-14c-0.552 0-1-0.448-1-1s0.448-1 1-1h14c0.552 0 1 0.448 1 1s-0.448 1-1 1z\"></path>\n",
              "<path d=\"M23 22h-14c-0.552 0-1-0.448-1-1s0.448-1 1-1h14c0.552 0 1 0.448 1 1s-0.448 1-1 1z\"></path>\n",
              "<path d=\"M23 18h-14c-0.552 0-1-0.448-1-1s0.448-1 1-1h14c0.552 0 1 0.448 1 1s-0.448 1-1 1z\"></path>\n",
              "</symbol>\n",
              "</defs>\n",
              "</svg>\n",
              "<style>/* CSS stylesheet for displaying xarray objects in jupyterlab.\n",
              " *\n",
              " */\n",
              "\n",
              ":root {\n",
              "  --xr-font-color0: var(--jp-content-font-color0, rgba(0, 0, 0, 1));\n",
              "  --xr-font-color2: var(--jp-content-font-color2, rgba(0, 0, 0, 0.54));\n",
              "  --xr-font-color3: var(--jp-content-font-color3, rgba(0, 0, 0, 0.38));\n",
              "  --xr-border-color: var(--jp-border-color2, #e0e0e0);\n",
              "  --xr-disabled-color: var(--jp-layout-color3, #bdbdbd);\n",
              "  --xr-background-color: var(--jp-layout-color0, white);\n",
              "  --xr-background-color-row-even: var(--jp-layout-color1, white);\n",
              "  --xr-background-color-row-odd: var(--jp-layout-color2, #eeeeee);\n",
              "}\n",
              "\n",
              ".xr-wrap {\n",
              "  min-width: 300px;\n",
              "  max-width: 700px;\n",
              "}\n",
              "\n",
              ".xr-header {\n",
              "  padding-top: 6px;\n",
              "  padding-bottom: 6px;\n",
              "  margin-bottom: 4px;\n",
              "  border-bottom: solid 1px var(--xr-border-color);\n",
              "}\n",
              "\n",
              ".xr-header > div,\n",
              ".xr-header > ul {\n",
              "  display: inline;\n",
              "  margin-top: 0;\n",
              "  margin-bottom: 0;\n",
              "}\n",
              "\n",
              ".xr-obj-type,\n",
              ".xr-array-name {\n",
              "  margin-left: 2px;\n",
              "  margin-right: 10px;\n",
              "}\n",
              "\n",
              ".xr-obj-type {\n",
              "  color: var(--xr-font-color2);\n",
              "}\n",
              "\n",
              ".xr-sections {\n",
              "  padding-left: 0 !important;\n",
              "  display: grid;\n",
              "  grid-template-columns: 150px auto auto 1fr 20px 20px;\n",
              "}\n",
              "\n",
              ".xr-section-item {\n",
              "  display: contents;\n",
              "}\n",
              "\n",
              ".xr-section-item input {\n",
              "  display: none;\n",
              "}\n",
              "\n",
              ".xr-section-item input + label {\n",
              "  color: var(--xr-disabled-color);\n",
              "}\n",
              "\n",
              ".xr-section-item input:enabled + label {\n",
              "  cursor: pointer;\n",
              "  color: var(--xr-font-color2);\n",
              "}\n",
              "\n",
              ".xr-section-item input:enabled + label:hover {\n",
              "  color: var(--xr-font-color0);\n",
              "}\n",
              "\n",
              ".xr-section-summary {\n",
              "  grid-column: 1;\n",
              "  color: var(--xr-font-color2);\n",
              "  font-weight: 500;\n",
              "}\n",
              "\n",
              ".xr-section-summary > span {\n",
              "  display: inline-block;\n",
              "  padding-left: 0.5em;\n",
              "}\n",
              "\n",
              ".xr-section-summary-in:disabled + label {\n",
              "  color: var(--xr-font-color2);\n",
              "}\n",
              "\n",
              ".xr-section-summary-in + label:before {\n",
              "  display: inline-block;\n",
              "  content: '►';\n",
              "  font-size: 11px;\n",
              "  width: 15px;\n",
              "  text-align: center;\n",
              "}\n",
              "\n",
              ".xr-section-summary-in:disabled + label:before {\n",
              "  color: var(--xr-disabled-color);\n",
              "}\n",
              "\n",
              ".xr-section-summary-in:checked + label:before {\n",
              "  content: '▼';\n",
              "}\n",
              "\n",
              ".xr-section-summary-in:checked + label > span {\n",
              "  display: none;\n",
              "}\n",
              "\n",
              ".xr-section-summary,\n",
              ".xr-section-inline-details {\n",
              "  padding-top: 4px;\n",
              "  padding-bottom: 4px;\n",
              "}\n",
              "\n",
              ".xr-section-inline-details {\n",
              "  grid-column: 2 / -1;\n",
              "}\n",
              "\n",
              ".xr-section-details {\n",
              "  display: none;\n",
              "  grid-column: 1 / -1;\n",
              "  margin-bottom: 5px;\n",
              "}\n",
              "\n",
              ".xr-section-summary-in:checked ~ .xr-section-details {\n",
              "  display: contents;\n",
              "}\n",
              "\n",
              ".xr-array-wrap {\n",
              "  grid-column: 1 / -1;\n",
              "  display: grid;\n",
              "  grid-template-columns: 20px auto;\n",
              "}\n",
              "\n",
              ".xr-array-wrap > label {\n",
              "  grid-column: 1;\n",
              "  vertical-align: top;\n",
              "}\n",
              "\n",
              ".xr-preview {\n",
              "  color: var(--xr-font-color3);\n",
              "}\n",
              "\n",
              ".xr-array-preview,\n",
              ".xr-array-data {\n",
              "  padding: 0 5px !important;\n",
              "  grid-column: 2;\n",
              "}\n",
              "\n",
              ".xr-array-data,\n",
              ".xr-array-in:checked ~ .xr-array-preview {\n",
              "  display: none;\n",
              "}\n",
              "\n",
              ".xr-array-in:checked ~ .xr-array-data,\n",
              ".xr-array-preview {\n",
              "  display: inline-block;\n",
              "}\n",
              "\n",
              ".xr-dim-list {\n",
              "  display: inline-block !important;\n",
              "  list-style: none;\n",
              "  padding: 0 !important;\n",
              "  margin: 0;\n",
              "}\n",
              "\n",
              ".xr-dim-list li {\n",
              "  display: inline-block;\n",
              "  padding: 0;\n",
              "  margin: 0;\n",
              "}\n",
              "\n",
              ".xr-dim-list:before {\n",
              "  content: '(';\n",
              "}\n",
              "\n",
              ".xr-dim-list:after {\n",
              "  content: ')';\n",
              "}\n",
              "\n",
              ".xr-dim-list li:not(:last-child):after {\n",
              "  content: ',';\n",
              "  padding-right: 5px;\n",
              "}\n",
              "\n",
              ".xr-has-index {\n",
              "  font-weight: bold;\n",
              "}\n",
              "\n",
              ".xr-var-list,\n",
              ".xr-var-item {\n",
              "  display: contents;\n",
              "}\n",
              "\n",
              ".xr-var-item > div,\n",
              ".xr-var-item label,\n",
              ".xr-var-item > .xr-var-name span {\n",
              "  background-color: var(--xr-background-color-row-even);\n",
              "  margin-bottom: 0;\n",
              "}\n",
              "\n",
              ".xr-var-item > .xr-var-name:hover span {\n",
              "  padding-right: 5px;\n",
              "}\n",
              "\n",
              ".xr-var-list > li:nth-child(odd) > div,\n",
              ".xr-var-list > li:nth-child(odd) > label,\n",
              ".xr-var-list > li:nth-child(odd) > .xr-var-name span {\n",
              "  background-color: var(--xr-background-color-row-odd);\n",
              "}\n",
              "\n",
              ".xr-var-name {\n",
              "  grid-column: 1;\n",
              "}\n",
              "\n",
              ".xr-var-dims {\n",
              "  grid-column: 2;\n",
              "}\n",
              "\n",
              ".xr-var-dtype {\n",
              "  grid-column: 3;\n",
              "  text-align: right;\n",
              "  color: var(--xr-font-color2);\n",
              "}\n",
              "\n",
              ".xr-var-preview {\n",
              "  grid-column: 4;\n",
              "}\n",
              "\n",
              ".xr-var-name,\n",
              ".xr-var-dims,\n",
              ".xr-var-dtype,\n",
              ".xr-preview,\n",
              ".xr-attrs dt {\n",
              "  white-space: nowrap;\n",
              "  overflow: hidden;\n",
              "  text-overflow: ellipsis;\n",
              "  padding-right: 10px;\n",
              "}\n",
              "\n",
              ".xr-var-name:hover,\n",
              ".xr-var-dims:hover,\n",
              ".xr-var-dtype:hover,\n",
              ".xr-attrs dt:hover {\n",
              "  overflow: visible;\n",
              "  width: auto;\n",
              "  z-index: 1;\n",
              "}\n",
              "\n",
              ".xr-var-attrs,\n",
              ".xr-var-data {\n",
              "  display: none;\n",
              "  background-color: var(--xr-background-color) !important;\n",
              "  padding-bottom: 5px !important;\n",
              "}\n",
              "\n",
              ".xr-var-attrs-in:checked ~ .xr-var-attrs,\n",
              ".xr-var-data-in:checked ~ .xr-var-data {\n",
              "  display: block;\n",
              "}\n",
              "\n",
              ".xr-var-data > table {\n",
              "  float: right;\n",
              "}\n",
              "\n",
              ".xr-var-name span,\n",
              ".xr-var-data,\n",
              ".xr-attrs {\n",
              "  padding-left: 25px !important;\n",
              "}\n",
              "\n",
              ".xr-attrs,\n",
              ".xr-var-attrs,\n",
              ".xr-var-data {\n",
              "  grid-column: 1 / -1;\n",
              "}\n",
              "\n",
              "dl.xr-attrs {\n",
              "  padding: 0;\n",
              "  margin: 0;\n",
              "  display: grid;\n",
              "  grid-template-columns: 125px auto;\n",
              "}\n",
              "\n",
              ".xr-attrs dt, dd {\n",
              "  padding: 0;\n",
              "  margin: 0;\n",
              "  float: left;\n",
              "  padding-right: 10px;\n",
              "  width: auto;\n",
              "}\n",
              "\n",
              ".xr-attrs dt {\n",
              "  font-weight: normal;\n",
              "  grid-column: 1;\n",
              "}\n",
              "\n",
              ".xr-attrs dt:hover span {\n",
              "  display: inline-block;\n",
              "  background: var(--xr-background-color);\n",
              "  padding-right: 10px;\n",
              "}\n",
              "\n",
              ".xr-attrs dd {\n",
              "  grid-column: 2;\n",
              "  white-space: pre-wrap;\n",
              "  word-break: break-all;\n",
              "}\n",
              "\n",
              ".xr-icon-database,\n",
              ".xr-icon-file-text2 {\n",
              "  display: inline-block;\n",
              "  vertical-align: middle;\n",
              "  width: 1em;\n",
              "  height: 1.5em !important;\n",
              "  stroke-width: 0;\n",
              "  stroke: currentColor;\n",
              "  fill: currentColor;\n",
              "}\n",
              "</style><div class='xr-wrap'><div class='xr-header'><div class='xr-obj-type'>xarray.Dataset</div></div><ul class='xr-sections'><li class='xr-section-item'><input id='section-228e2257-5245-4a81-9379-6f29821a65fe' class='xr-section-summary-in' type='checkbox' disabled ><label for='section-228e2257-5245-4a81-9379-6f29821a65fe' class='xr-section-summary'  title='Expand/collapse section'>Dimensions:</label><div class='xr-section-inline-details'><ul class='xr-dim-list'><li><span class='xr-has-index'>experiment</span>: 2</li><li><span class='xr-has-index'>lat</span>: 8</li><li><span class='xr-has-index'>lon</span>: 8</li><li><span class='xr-has-index'>model</span>: 5</li><li><span class='xr-has-index'>realization</span>: 1</li><li><span class='xr-has-index'>time</span>: 34333</li></ul></div><div class='xr-section-details'></div></li><li class='xr-section-item'><input id='section-5280094c-be68-4223-9dc1-ca4b32c2c9b2' class='xr-section-summary-in' type='checkbox'  checked><label for='section-5280094c-be68-4223-9dc1-ca4b32c2c9b2' class='xr-section-summary' >Coordinates: <span>(7)</span></label><div class='xr-section-inline-details'></div><div class='xr-section-details'><ul class='xr-var-list'><li class='xr-var-item'><div class='xr-var-name'><span class='xr-has-index'>experiment</span></div><div class='xr-var-dims'>(experiment)</div><div class='xr-var-dtype'>object</div><div class='xr-var-preview xr-preview'>&#x27;rcp45&#x27; &#x27;rcp85&#x27;</div><input id='attrs-6a023cac-068f-4405-9071-2b4d358ddd5c' class='xr-var-attrs-in' type='checkbox' disabled><label for='attrs-6a023cac-068f-4405-9071-2b4d358ddd5c' title='Show/Hide attributes'><svg class='icon xr-icon-file-text2'><use xlink:href='#icon-file-text2'></use></svg></label><input id='data-9a82e1a9-1662-4622-9670-91ceb6e746c0' class='xr-var-data-in' type='checkbox'><label for='data-9a82e1a9-1662-4622-9670-91ceb6e746c0' title='Show/Hide data repr'><svg class='icon xr-icon-database'><use xlink:href='#icon-database'></use></svg></label><div class='xr-var-attrs'><dl class='xr-attrs'></dl></div><pre class='xr-var-data'>array([&#x27;rcp45&#x27;, &#x27;rcp85&#x27;], dtype=object)</pre></li><li class='xr-var-item'><div class='xr-var-name'><span>height</span></div><div class='xr-var-dims'>(model)</div><div class='xr-var-dtype'>float64</div><div class='xr-var-preview xr-preview'>dask.array&lt;chunksize=(5,), meta=np.ndarray&gt;</div><input id='attrs-4522632c-3dbd-4d66-afb4-2a7021942da7' class='xr-var-attrs-in' type='checkbox' ><label for='attrs-4522632c-3dbd-4d66-afb4-2a7021942da7' title='Show/Hide attributes'><svg class='icon xr-icon-file-text2'><use xlink:href='#icon-file-text2'></use></svg></label><input id='data-b7b9910d-8474-4dd0-b88d-65434b78dae0' class='xr-var-data-in' type='checkbox'><label for='data-b7b9910d-8474-4dd0-b88d-65434b78dae0' title='Show/Hide data repr'><svg class='icon xr-icon-database'><use xlink:href='#icon-database'></use></svg></label><div class='xr-var-attrs'><dl class='xr-attrs'><dt><span>axis :</span></dt><dd>Z</dd><dt><span>long_name :</span></dt><dd>height</dd><dt><span>positive :</span></dt><dd>up</dd><dt><span>standard_name :</span></dt><dd>height</dd><dt><span>stored_direction :</span></dt><dd>increasing</dd><dt><span>type :</span></dt><dd>double</dd><dt><span>units :</span></dt><dd>m</dd></dl></div><pre class='xr-var-data'><table>\n",
              "<tr>\n",
              "<td>\n",
              "<table>\n",
              "  <thead>\n",
              "    <tr><td> </td><th> Array </th><th> Chunk </th></tr>\n",
              "  </thead>\n",
              "  <tbody>\n",
              "    <tr><th> Bytes </th><td> 40 B </td> <td> 40 B </td></tr>\n",
              "    <tr><th> Shape </th><td> (5,) </td> <td> (5,) </td></tr>\n",
              "    <tr><th> Count </th><td> 2 Tasks </td><td> 1 Chunks </td></tr>\n",
              "    <tr><th> Type </th><td> float64 </td><td> numpy.ndarray </td></tr>\n",
              "  </tbody>\n",
              "</table>\n",
              "</td>\n",
              "<td>\n",
              "<svg width=\"170\" height=\"92\" style=\"stroke:rgb(0,0,0);stroke-width:1\" >\n",
              "\n",
              "  <!-- Horizontal lines -->\n",
              "  <line x1=\"0\" y1=\"0\" x2=\"120\" y2=\"0\" style=\"stroke-width:2\" />\n",
              "  <line x1=\"0\" y1=\"42\" x2=\"120\" y2=\"42\" style=\"stroke-width:2\" />\n",
              "\n",
              "  <!-- Vertical lines -->\n",
              "  <line x1=\"0\" y1=\"0\" x2=\"0\" y2=\"42\" style=\"stroke-width:2\" />\n",
              "  <line x1=\"120\" y1=\"0\" x2=\"120\" y2=\"42\" style=\"stroke-width:2\" />\n",
              "\n",
              "  <!-- Colored Rectangle -->\n",
              "  <polygon points=\"0.000000,0.000000 120.000000,0.000000 120.000000,42.009890 0.000000,42.009890\" style=\"fill:#ECB172A0;stroke-width:0\"/>\n",
              "\n",
              "  <!-- Text -->\n",
              "  <text x=\"60.000000\" y=\"62.009890\" font-size=\"1.0rem\" font-weight=\"100\" text-anchor=\"middle\" >5</text>\n",
              "  <text x=\"140.000000\" y=\"21.004945\" font-size=\"1.0rem\" font-weight=\"100\" text-anchor=\"middle\" transform=\"rotate(0,140.000000,21.004945)\">1</text>\n",
              "</svg>\n",
              "</td>\n",
              "</tr>\n",
              "</table></pre></li><li class='xr-var-item'><div class='xr-var-name'><span class='xr-has-index'>lat</span></div><div class='xr-var-dims'>(lat)</div><div class='xr-var-dtype'>float64</div><div class='xr-var-preview xr-preview'>35.0 36.25 37.5 ... 42.5 43.75</div><input id='attrs-c8e314d1-dfc1-430a-9cad-ed963e2daeb2' class='xr-var-attrs-in' type='checkbox' ><label for='attrs-c8e314d1-dfc1-430a-9cad-ed963e2daeb2' title='Show/Hide attributes'><svg class='icon xr-icon-file-text2'><use xlink:href='#icon-file-text2'></use></svg></label><input id='data-38789e1e-0cb5-421b-8d6e-acd5194a9a34' class='xr-var-data-in' type='checkbox'><label for='data-38789e1e-0cb5-421b-8d6e-acd5194a9a34' title='Show/Hide data repr'><svg class='icon xr-icon-database'><use xlink:href='#icon-database'></use></svg></label><div class='xr-var-attrs'><dl class='xr-attrs'><dt><span>axis :</span></dt><dd>Y</dd><dt><span>bounds :</span></dt><dd>lat_bnds</dd><dt><span>long_name :</span></dt><dd>latitude</dd><dt><span>standard_name :</span></dt><dd>latitude</dd><dt><span>stored_direction :</span></dt><dd>increasing</dd><dt><span>type :</span></dt><dd>double</dd><dt><span>units :</span></dt><dd>degrees_north</dd><dt><span>valid_max :</span></dt><dd>90.0</dd><dt><span>valid_min :</span></dt><dd>-90.0</dd></dl></div><pre class='xr-var-data'>array([35.  , 36.25, 37.5 , 38.75, 40.  , 41.25, 42.5 , 43.75])</pre></li><li class='xr-var-item'><div class='xr-var-name'><span class='xr-has-index'>lon</span></div><div class='xr-var-dims'>(lon)</div><div class='xr-var-dtype'>float64</div><div class='xr-var-preview xr-preview'>-9.375 -7.5 -5.625 ... 1.875 3.75</div><input id='attrs-46b83b39-7ad1-4ef5-a7f9-d304f2df95d8' class='xr-var-attrs-in' type='checkbox' ><label for='attrs-46b83b39-7ad1-4ef5-a7f9-d304f2df95d8' title='Show/Hide attributes'><svg class='icon xr-icon-file-text2'><use xlink:href='#icon-file-text2'></use></svg></label><input id='data-8b51db17-fa1b-4604-a4fa-1b8370b37b45' class='xr-var-data-in' type='checkbox'><label for='data-8b51db17-fa1b-4604-a4fa-1b8370b37b45' title='Show/Hide data repr'><svg class='icon xr-icon-database'><use xlink:href='#icon-database'></use></svg></label><div class='xr-var-attrs'><dl class='xr-attrs'><dt><span>axis :</span></dt><dd>X</dd><dt><span>bounds :</span></dt><dd>lon_bnds</dd><dt><span>long_name :</span></dt><dd>longitude</dd><dt><span>standard_name :</span></dt><dd>longitude</dd><dt><span>stored_direction :</span></dt><dd>increasing</dd><dt><span>type :</span></dt><dd>double</dd><dt><span>units :</span></dt><dd>degrees_east</dd><dt><span>valid_max :</span></dt><dd>360.0</dd><dt><span>valid_min :</span></dt><dd>-180.0</dd></dl></div><pre class='xr-var-data'>array([-9.375, -7.5  , -5.625, -3.75 , -1.875,  0.   ,  1.875,  3.75 ])</pre></li><li class='xr-var-item'><div class='xr-var-name'><span class='xr-has-index'>model</span></div><div class='xr-var-dims'>(model)</div><div class='xr-var-dtype'>object</div><div class='xr-var-preview xr-preview'>&#x27;NorESM1-M&#x27; ... &#x27;ACCESS1-0&#x27;</div><input id='attrs-00e99392-9ebd-4c06-94c7-bc3994304638' class='xr-var-attrs-in' type='checkbox' disabled><label for='attrs-00e99392-9ebd-4c06-94c7-bc3994304638' title='Show/Hide attributes'><svg class='icon xr-icon-file-text2'><use xlink:href='#icon-file-text2'></use></svg></label><input id='data-c4eca764-f855-4f1d-9d0b-a9a79aa96122' class='xr-var-data-in' type='checkbox'><label for='data-c4eca764-f855-4f1d-9d0b-a9a79aa96122' title='Show/Hide data repr'><svg class='icon xr-icon-database'><use xlink:href='#icon-database'></use></svg></label><div class='xr-var-attrs'><dl class='xr-attrs'></dl></div><pre class='xr-var-data'>array([&#x27;NorESM1-M&#x27;, &#x27;BNU-ESM&#x27;, &#x27;MPI-ESM-MR&#x27;, &#x27;MPI-ESM-LR&#x27;, &#x27;ACCESS1-0&#x27;],\n",
              "      dtype=object)</pre></li><li class='xr-var-item'><div class='xr-var-name'><span class='xr-has-index'>realization</span></div><div class='xr-var-dims'>(realization)</div><div class='xr-var-dtype'>int64</div><div class='xr-var-preview xr-preview'>1</div><input id='attrs-489cc997-4161-4a43-89ea-d1547eabd974' class='xr-var-attrs-in' type='checkbox' disabled><label for='attrs-489cc997-4161-4a43-89ea-d1547eabd974' title='Show/Hide attributes'><svg class='icon xr-icon-file-text2'><use xlink:href='#icon-file-text2'></use></svg></label><input id='data-ac551bf2-cf8a-4ee8-9b70-59feab5f020c' class='xr-var-data-in' type='checkbox'><label for='data-ac551bf2-cf8a-4ee8-9b70-59feab5f020c' title='Show/Hide data repr'><svg class='icon xr-icon-database'><use xlink:href='#icon-database'></use></svg></label><div class='xr-var-attrs'><dl class='xr-attrs'></dl></div><pre class='xr-var-data'>array([1])</pre></li><li class='xr-var-item'><div class='xr-var-name'><span class='xr-has-index'>time</span></div><div class='xr-var-dims'>(time)</div><div class='xr-var-dtype'>object</div><div class='xr-var-preview xr-preview'>2006-01-01 00:00:00 ... 2100-01-23 00:00:00</div><input id='attrs-6f8d9c2d-ab02-49d7-8de5-6c2c4ade48b8' class='xr-var-attrs-in' type='checkbox' disabled><label for='attrs-6f8d9c2d-ab02-49d7-8de5-6c2c4ade48b8' title='Show/Hide attributes'><svg class='icon xr-icon-file-text2'><use xlink:href='#icon-file-text2'></use></svg></label><input id='data-405413da-91b6-4cdc-a232-ca726a79cdae' class='xr-var-data-in' type='checkbox'><label for='data-405413da-91b6-4cdc-a232-ca726a79cdae' title='Show/Hide data repr'><svg class='icon xr-icon-database'><use xlink:href='#icon-database'></use></svg></label><div class='xr-var-attrs'><dl class='xr-attrs'></dl></div><pre class='xr-var-data'>array([cftime.DatetimeNoLeap(2006-01-01 00:00:00),\n",
              "       cftime.DatetimeNoLeap(2006-01-02 00:00:00),\n",
              "       cftime.DatetimeNoLeap(2006-01-03 00:00:00), ...,\n",
              "       cftime.DatetimeNoLeap(2100-01-21 00:00:00),\n",
              "       cftime.DatetimeNoLeap(2100-01-22 00:00:00),\n",
              "       cftime.DatetimeNoLeap(2100-01-23 00:00:00)], dtype=object)</pre></li></ul></div></li><li class='xr-section-item'><input id='section-1fb03492-f965-4121-8b8d-1af171e7b599' class='xr-section-summary-in' type='checkbox'  checked><label for='section-1fb03492-f965-4121-8b8d-1af171e7b599' class='xr-section-summary' >Data variables: <span>(2)</span></label><div class='xr-section-inline-details'></div><div class='xr-section-details'><ul class='xr-var-list'><li class='xr-var-item'><div class='xr-var-name'><span>tasmax</span></div><div class='xr-var-dims'>(model, experiment, realization, time, lat, lon)</div><div class='xr-var-dtype'>float64</div><div class='xr-var-preview xr-preview'>dask.array&lt;chunksize=(1, 1, 1, 34333, 8, 8), meta=np.ndarray&gt;</div><input id='attrs-7e02463d-7497-4c76-924a-cdb6e9f9408c' class='xr-var-attrs-in' type='checkbox' ><label for='attrs-7e02463d-7497-4c76-924a-cdb6e9f9408c' title='Show/Hide attributes'><svg class='icon xr-icon-file-text2'><use xlink:href='#icon-file-text2'></use></svg></label><input id='data-7dd32861-58fb-441d-ae50-2ed0cc355efc' class='xr-var-data-in' type='checkbox'><label for='data-7dd32861-58fb-441d-ae50-2ed0cc355efc' title='Show/Hide data repr'><svg class='icon xr-icon-database'><use xlink:href='#icon-database'></use></svg></label><div class='xr-var-attrs'><dl class='xr-attrs'><dt><span>cell_measures :</span></dt><dd>area: areacella</dd><dt><span>cell_methods :</span></dt><dd>time: maximum</dd><dt><span>ensemble_member :</span></dt><dd>r1i1p1</dd><dt><span>long_name :</span></dt><dd>Daily Maximum Near-Surface Air Temperature</dd><dt><span>standard_name :</span></dt><dd>air_temperature</dd><dt><span>type :</span></dt><dd>real</dd><dt><span>units :</span></dt><dd>K</dd><dt><span>variable :</span></dt><dd>[&#x27;maximum_2m_temperature_in_the_last_24_hours&#x27;]</dd></dl></div><pre class='xr-var-data'><table>\n",
              "<tr>\n",
              "<td>\n",
              "<table>\n",
              "  <thead>\n",
              "    <tr><td> </td><th> Array </th><th> Chunk </th></tr>\n",
              "  </thead>\n",
              "  <tbody>\n",
              "    <tr><th> Bytes </th><td> 175.78 MB </td> <td> 17.58 MB </td></tr>\n",
              "    <tr><th> Shape </th><td> (5, 2, 1, 34333, 8, 8) </td> <td> (1, 1, 1, 34333, 8, 8) </td></tr>\n",
              "    <tr><th> Count </th><td> 11 Tasks </td><td> 10 Chunks </td></tr>\n",
              "    <tr><th> Type </th><td> float64 </td><td> numpy.ndarray </td></tr>\n",
              "  </tbody>\n",
              "</table>\n",
              "</td>\n",
              "<td>\n",
              "<svg width=\"386\" height=\"146\" style=\"stroke:rgb(0,0,0);stroke-width:1\" >\n",
              "\n",
              "  <!-- Horizontal lines -->\n",
              "  <line x1=\"10\" y1=\"0\" x2=\"24\" y2=\"14\" style=\"stroke-width:2\" />\n",
              "  <line x1=\"10\" y1=\"12\" x2=\"24\" y2=\"27\" />\n",
              "  <line x1=\"10\" y1=\"25\" x2=\"24\" y2=\"40\" style=\"stroke-width:2\" />\n",
              "\n",
              "  <!-- Vertical lines -->\n",
              "  <line x1=\"10\" y1=\"0\" x2=\"10\" y2=\"25\" style=\"stroke-width:2\" />\n",
              "  <line x1=\"12\" y1=\"2\" x2=\"12\" y2=\"28\" />\n",
              "  <line x1=\"15\" y1=\"5\" x2=\"15\" y2=\"31\" />\n",
              "  <line x1=\"18\" y1=\"8\" x2=\"18\" y2=\"34\" />\n",
              "  <line x1=\"21\" y1=\"11\" x2=\"21\" y2=\"37\" />\n",
              "  <line x1=\"24\" y1=\"14\" x2=\"24\" y2=\"40\" style=\"stroke-width:2\" />\n",
              "\n",
              "  <!-- Colored Rectangle -->\n",
              "  <polygon points=\"10.000000,0.000000 24.948598,14.948598 24.948598,40.361214 10.000000,25.412617\" style=\"fill:#ECB172A0;stroke-width:0\"/>\n",
              "\n",
              "  <!-- Horizontal lines -->\n",
              "  <line x1=\"10\" y1=\"0\" x2=\"35\" y2=\"0\" style=\"stroke-width:2\" />\n",
              "  <line x1=\"12\" y1=\"2\" x2=\"38\" y2=\"2\" />\n",
              "  <line x1=\"15\" y1=\"5\" x2=\"41\" y2=\"5\" />\n",
              "  <line x1=\"18\" y1=\"8\" x2=\"44\" y2=\"8\" />\n",
              "  <line x1=\"21\" y1=\"11\" x2=\"47\" y2=\"11\" />\n",
              "  <line x1=\"24\" y1=\"14\" x2=\"50\" y2=\"14\" style=\"stroke-width:2\" />\n",
              "\n",
              "  <!-- Vertical lines -->\n",
              "  <line x1=\"10\" y1=\"0\" x2=\"24\" y2=\"14\" style=\"stroke-width:2\" />\n",
              "  <line x1=\"35\" y1=\"0\" x2=\"50\" y2=\"14\" style=\"stroke-width:2\" />\n",
              "\n",
              "  <!-- Colored Rectangle -->\n",
              "  <polygon points=\"10.000000,0.000000 35.412617,0.000000 50.361214,14.948598 24.948598,14.948598\" style=\"fill:#ECB172A0;stroke-width:0\"/>\n",
              "\n",
              "  <!-- Horizontal lines -->\n",
              "  <line x1=\"24\" y1=\"14\" x2=\"50\" y2=\"14\" style=\"stroke-width:2\" />\n",
              "  <line x1=\"24\" y1=\"27\" x2=\"50\" y2=\"27\" />\n",
              "  <line x1=\"24\" y1=\"40\" x2=\"50\" y2=\"40\" style=\"stroke-width:2\" />\n",
              "\n",
              "  <!-- Vertical lines -->\n",
              "  <line x1=\"24\" y1=\"14\" x2=\"24\" y2=\"40\" style=\"stroke-width:2\" />\n",
              "  <line x1=\"50\" y1=\"14\" x2=\"50\" y2=\"40\" style=\"stroke-width:2\" />\n",
              "\n",
              "  <!-- Colored Rectangle -->\n",
              "  <polygon points=\"24.948598,14.948598 50.361214,14.948598 50.361214,40.361214 24.948598,40.361214\" style=\"fill:#ECB172A0;stroke-width:0\"/>\n",
              "\n",
              "  <!-- Text -->\n",
              "  <text x=\"37.654906\" y=\"60.361214\" font-size=\"1.0rem\" font-weight=\"100\" text-anchor=\"middle\" >1</text>\n",
              "  <text x=\"70.361214\" y=\"27.654906\" font-size=\"1.0rem\" font-weight=\"100\" text-anchor=\"middle\" transform=\"rotate(0,70.361214,27.654906)\">2</text>\n",
              "  <text x=\"7.474299\" y=\"52.886915\" font-size=\"1.0rem\" font-weight=\"100\" text-anchor=\"middle\" transform=\"rotate(45,7.474299,52.886915)\">5</text>\n",
              "\n",
              "\n",
              "  <!-- Horizontal lines -->\n",
              "  <line x1=\"120\" y1=\"0\" x2=\"190\" y2=\"70\" style=\"stroke-width:2\" />\n",
              "  <line x1=\"120\" y1=\"25\" x2=\"190\" y2=\"96\" style=\"stroke-width:2\" />\n",
              "\n",
              "  <!-- Vertical lines -->\n",
              "  <line x1=\"120\" y1=\"0\" x2=\"120\" y2=\"25\" style=\"stroke-width:2\" />\n",
              "  <line x1=\"190\" y1=\"70\" x2=\"190\" y2=\"96\" style=\"stroke-width:2\" />\n",
              "\n",
              "  <!-- Colored Rectangle -->\n",
              "  <polygon points=\"120.000000,0.000000 190.588235,70.588235 190.588235,96.000852 120.000000,25.412617\" style=\"fill:#ECB172A0;stroke-width:0\"/>\n",
              "\n",
              "  <!-- Horizontal lines -->\n",
              "  <line x1=\"120\" y1=\"0\" x2=\"145\" y2=\"0\" style=\"stroke-width:2\" />\n",
              "  <line x1=\"190\" y1=\"70\" x2=\"216\" y2=\"70\" style=\"stroke-width:2\" />\n",
              "\n",
              "  <!-- Vertical lines -->\n",
              "  <line x1=\"120\" y1=\"0\" x2=\"190\" y2=\"70\" style=\"stroke-width:2\" />\n",
              "  <line x1=\"145\" y1=\"0\" x2=\"216\" y2=\"70\" style=\"stroke-width:2\" />\n",
              "\n",
              "  <!-- Colored Rectangle -->\n",
              "  <polygon points=\"120.000000,0.000000 145.412617,0.000000 216.000852,70.588235 190.588235,70.588235\" style=\"fill:#ECB172A0;stroke-width:0\"/>\n",
              "\n",
              "  <!-- Horizontal lines -->\n",
              "  <line x1=\"190\" y1=\"70\" x2=\"216\" y2=\"70\" style=\"stroke-width:2\" />\n",
              "  <line x1=\"190\" y1=\"96\" x2=\"216\" y2=\"96\" style=\"stroke-width:2\" />\n",
              "\n",
              "  <!-- Vertical lines -->\n",
              "  <line x1=\"190\" y1=\"70\" x2=\"190\" y2=\"96\" style=\"stroke-width:2\" />\n",
              "  <line x1=\"216\" y1=\"70\" x2=\"216\" y2=\"96\" style=\"stroke-width:2\" />\n",
              "\n",
              "  <!-- Colored Rectangle -->\n",
              "  <polygon points=\"190.588235,70.588235 216.000852,70.588235 216.000852,96.000852 190.588235,96.000852\" style=\"fill:#ECB172A0;stroke-width:0\"/>\n",
              "\n",
              "  <!-- Text -->\n",
              "  <text x=\"203.294544\" y=\"116.000852\" font-size=\"1.0rem\" font-weight=\"100\" text-anchor=\"middle\" >8</text>\n",
              "  <text x=\"236.000852\" y=\"83.294544\" font-size=\"1.0rem\" font-weight=\"100\" text-anchor=\"middle\" transform=\"rotate(0,236.000852,83.294544)\">8</text>\n",
              "  <text x=\"145.294118\" y=\"80.706734\" font-size=\"1.0rem\" font-weight=\"100\" text-anchor=\"middle\" transform=\"rotate(45,145.294118,80.706734)\">34333</text>\n",
              "</svg>\n",
              "</td>\n",
              "</tr>\n",
              "</table></pre></li><li class='xr-var-item'><div class='xr-var-name'><span>tasmin</span></div><div class='xr-var-dims'>(model, experiment, realization, time, lat, lon)</div><div class='xr-var-dtype'>float64</div><div class='xr-var-preview xr-preview'>dask.array&lt;chunksize=(1, 1, 1, 34333, 8, 8), meta=np.ndarray&gt;</div><input id='attrs-7b6a6f2b-4143-40db-bba3-e6d2ac75e634' class='xr-var-attrs-in' type='checkbox' ><label for='attrs-7b6a6f2b-4143-40db-bba3-e6d2ac75e634' title='Show/Hide attributes'><svg class='icon xr-icon-file-text2'><use xlink:href='#icon-file-text2'></use></svg></label><input id='data-b1c46d2f-91b0-4750-b29b-c7dbc454005b' class='xr-var-data-in' type='checkbox'><label for='data-b1c46d2f-91b0-4750-b29b-c7dbc454005b' title='Show/Hide data repr'><svg class='icon xr-icon-database'><use xlink:href='#icon-database'></use></svg></label><div class='xr-var-attrs'><dl class='xr-attrs'><dt><span>cell_measures :</span></dt><dd>area: areacella</dd><dt><span>cell_methods :</span></dt><dd>time: minimum</dd><dt><span>ensemble_member :</span></dt><dd>r1i1p1</dd><dt><span>long_name :</span></dt><dd>Daily Minimum Near-Surface Air Temperature</dd><dt><span>standard_name :</span></dt><dd>air_temperature</dd><dt><span>type :</span></dt><dd>real</dd><dt><span>units :</span></dt><dd>K</dd><dt><span>variable :</span></dt><dd>[&#x27;minimum_2m_temperature_in_the_last_24_hours&#x27;]</dd></dl></div><pre class='xr-var-data'><table>\n",
              "<tr>\n",
              "<td>\n",
              "<table>\n",
              "  <thead>\n",
              "    <tr><td> </td><th> Array </th><th> Chunk </th></tr>\n",
              "  </thead>\n",
              "  <tbody>\n",
              "    <tr><th> Bytes </th><td> 175.78 MB </td> <td> 17.58 MB </td></tr>\n",
              "    <tr><th> Shape </th><td> (5, 2, 1, 34333, 8, 8) </td> <td> (1, 1, 1, 34333, 8, 8) </td></tr>\n",
              "    <tr><th> Count </th><td> 11 Tasks </td><td> 10 Chunks </td></tr>\n",
              "    <tr><th> Type </th><td> float64 </td><td> numpy.ndarray </td></tr>\n",
              "  </tbody>\n",
              "</table>\n",
              "</td>\n",
              "<td>\n",
              "<svg width=\"386\" height=\"146\" style=\"stroke:rgb(0,0,0);stroke-width:1\" >\n",
              "\n",
              "  <!-- Horizontal lines -->\n",
              "  <line x1=\"10\" y1=\"0\" x2=\"24\" y2=\"14\" style=\"stroke-width:2\" />\n",
              "  <line x1=\"10\" y1=\"12\" x2=\"24\" y2=\"27\" />\n",
              "  <line x1=\"10\" y1=\"25\" x2=\"24\" y2=\"40\" style=\"stroke-width:2\" />\n",
              "\n",
              "  <!-- Vertical lines -->\n",
              "  <line x1=\"10\" y1=\"0\" x2=\"10\" y2=\"25\" style=\"stroke-width:2\" />\n",
              "  <line x1=\"12\" y1=\"2\" x2=\"12\" y2=\"28\" />\n",
              "  <line x1=\"15\" y1=\"5\" x2=\"15\" y2=\"31\" />\n",
              "  <line x1=\"18\" y1=\"8\" x2=\"18\" y2=\"34\" />\n",
              "  <line x1=\"21\" y1=\"11\" x2=\"21\" y2=\"37\" />\n",
              "  <line x1=\"24\" y1=\"14\" x2=\"24\" y2=\"40\" style=\"stroke-width:2\" />\n",
              "\n",
              "  <!-- Colored Rectangle -->\n",
              "  <polygon points=\"10.000000,0.000000 24.948598,14.948598 24.948598,40.361214 10.000000,25.412617\" style=\"fill:#ECB172A0;stroke-width:0\"/>\n",
              "\n",
              "  <!-- Horizontal lines -->\n",
              "  <line x1=\"10\" y1=\"0\" x2=\"35\" y2=\"0\" style=\"stroke-width:2\" />\n",
              "  <line x1=\"12\" y1=\"2\" x2=\"38\" y2=\"2\" />\n",
              "  <line x1=\"15\" y1=\"5\" x2=\"41\" y2=\"5\" />\n",
              "  <line x1=\"18\" y1=\"8\" x2=\"44\" y2=\"8\" />\n",
              "  <line x1=\"21\" y1=\"11\" x2=\"47\" y2=\"11\" />\n",
              "  <line x1=\"24\" y1=\"14\" x2=\"50\" y2=\"14\" style=\"stroke-width:2\" />\n",
              "\n",
              "  <!-- Vertical lines -->\n",
              "  <line x1=\"10\" y1=\"0\" x2=\"24\" y2=\"14\" style=\"stroke-width:2\" />\n",
              "  <line x1=\"35\" y1=\"0\" x2=\"50\" y2=\"14\" style=\"stroke-width:2\" />\n",
              "\n",
              "  <!-- Colored Rectangle -->\n",
              "  <polygon points=\"10.000000,0.000000 35.412617,0.000000 50.361214,14.948598 24.948598,14.948598\" style=\"fill:#ECB172A0;stroke-width:0\"/>\n",
              "\n",
              "  <!-- Horizontal lines -->\n",
              "  <line x1=\"24\" y1=\"14\" x2=\"50\" y2=\"14\" style=\"stroke-width:2\" />\n",
              "  <line x1=\"24\" y1=\"27\" x2=\"50\" y2=\"27\" />\n",
              "  <line x1=\"24\" y1=\"40\" x2=\"50\" y2=\"40\" style=\"stroke-width:2\" />\n",
              "\n",
              "  <!-- Vertical lines -->\n",
              "  <line x1=\"24\" y1=\"14\" x2=\"24\" y2=\"40\" style=\"stroke-width:2\" />\n",
              "  <line x1=\"50\" y1=\"14\" x2=\"50\" y2=\"40\" style=\"stroke-width:2\" />\n",
              "\n",
              "  <!-- Colored Rectangle -->\n",
              "  <polygon points=\"24.948598,14.948598 50.361214,14.948598 50.361214,40.361214 24.948598,40.361214\" style=\"fill:#ECB172A0;stroke-width:0\"/>\n",
              "\n",
              "  <!-- Text -->\n",
              "  <text x=\"37.654906\" y=\"60.361214\" font-size=\"1.0rem\" font-weight=\"100\" text-anchor=\"middle\" >1</text>\n",
              "  <text x=\"70.361214\" y=\"27.654906\" font-size=\"1.0rem\" font-weight=\"100\" text-anchor=\"middle\" transform=\"rotate(0,70.361214,27.654906)\">2</text>\n",
              "  <text x=\"7.474299\" y=\"52.886915\" font-size=\"1.0rem\" font-weight=\"100\" text-anchor=\"middle\" transform=\"rotate(45,7.474299,52.886915)\">5</text>\n",
              "\n",
              "\n",
              "  <!-- Horizontal lines -->\n",
              "  <line x1=\"120\" y1=\"0\" x2=\"190\" y2=\"70\" style=\"stroke-width:2\" />\n",
              "  <line x1=\"120\" y1=\"25\" x2=\"190\" y2=\"96\" style=\"stroke-width:2\" />\n",
              "\n",
              "  <!-- Vertical lines -->\n",
              "  <line x1=\"120\" y1=\"0\" x2=\"120\" y2=\"25\" style=\"stroke-width:2\" />\n",
              "  <line x1=\"190\" y1=\"70\" x2=\"190\" y2=\"96\" style=\"stroke-width:2\" />\n",
              "\n",
              "  <!-- Colored Rectangle -->\n",
              "  <polygon points=\"120.000000,0.000000 190.588235,70.588235 190.588235,96.000852 120.000000,25.412617\" style=\"fill:#ECB172A0;stroke-width:0\"/>\n",
              "\n",
              "  <!-- Horizontal lines -->\n",
              "  <line x1=\"120\" y1=\"0\" x2=\"145\" y2=\"0\" style=\"stroke-width:2\" />\n",
              "  <line x1=\"190\" y1=\"70\" x2=\"216\" y2=\"70\" style=\"stroke-width:2\" />\n",
              "\n",
              "  <!-- Vertical lines -->\n",
              "  <line x1=\"120\" y1=\"0\" x2=\"190\" y2=\"70\" style=\"stroke-width:2\" />\n",
              "  <line x1=\"145\" y1=\"0\" x2=\"216\" y2=\"70\" style=\"stroke-width:2\" />\n",
              "\n",
              "  <!-- Colored Rectangle -->\n",
              "  <polygon points=\"120.000000,0.000000 145.412617,0.000000 216.000852,70.588235 190.588235,70.588235\" style=\"fill:#ECB172A0;stroke-width:0\"/>\n",
              "\n",
              "  <!-- Horizontal lines -->\n",
              "  <line x1=\"190\" y1=\"70\" x2=\"216\" y2=\"70\" style=\"stroke-width:2\" />\n",
              "  <line x1=\"190\" y1=\"96\" x2=\"216\" y2=\"96\" style=\"stroke-width:2\" />\n",
              "\n",
              "  <!-- Vertical lines -->\n",
              "  <line x1=\"190\" y1=\"70\" x2=\"190\" y2=\"96\" style=\"stroke-width:2\" />\n",
              "  <line x1=\"216\" y1=\"70\" x2=\"216\" y2=\"96\" style=\"stroke-width:2\" />\n",
              "\n",
              "  <!-- Colored Rectangle -->\n",
              "  <polygon points=\"190.588235,70.588235 216.000852,70.588235 216.000852,96.000852 190.588235,96.000852\" style=\"fill:#ECB172A0;stroke-width:0\"/>\n",
              "\n",
              "  <!-- Text -->\n",
              "  <text x=\"203.294544\" y=\"116.000852\" font-size=\"1.0rem\" font-weight=\"100\" text-anchor=\"middle\" >8</text>\n",
              "  <text x=\"236.000852\" y=\"83.294544\" font-size=\"1.0rem\" font-weight=\"100\" text-anchor=\"middle\" transform=\"rotate(0,236.000852,83.294544)\">8</text>\n",
              "  <text x=\"145.294118\" y=\"80.706734\" font-size=\"1.0rem\" font-weight=\"100\" text-anchor=\"middle\" transform=\"rotate(45,145.294118,80.706734)\">34333</text>\n",
              "</svg>\n",
              "</td>\n",
              "</tr>\n",
              "</table></pre></li></ul></div></li><li class='xr-section-item'><input id='section-af89c6e3-5e2e-4a17-8f50-6a65fa09882b' class='xr-section-summary-in' type='checkbox'  checked><label for='section-af89c6e3-5e2e-4a17-8f50-6a65fa09882b' class='xr-section-summary' >Attributes: <span>(3)</span></label><div class='xr-section-inline-details'></div><div class='xr-section-details'><dl class='xr-attrs'><dt><span>Conventions :</span></dt><dd>CF-1.6</dd><dt><span>comment :</span></dt><dd>maximum near-surface (usually, 2 meter) air temperature (add cell_method attribute &#x27;time: max&#x27;), minimum near-surface (usually, 2 meter) air temperature (add cell_method attribute &#x27;time: min&#x27;)</dd><dt><span>source :</span></dt><dd>CMIP5, CDS</dd></dl></div></li></ul></div></div>"
            ],
            "text/plain": [
              "<xarray.Dataset>\n",
              "Dimensions:      (experiment: 2, lat: 8, lon: 8, model: 5, realization: 1, time: 34333)\n",
              "Coordinates:\n",
              "  * experiment   (experiment) object 'rcp45' 'rcp85'\n",
              "    height       (model) float64 dask.array<chunksize=(5,), meta=np.ndarray>\n",
              "  * lat          (lat) float64 35.0 36.25 37.5 38.75 40.0 41.25 42.5 43.75\n",
              "  * lon          (lon) float64 -9.375 -7.5 -5.625 -3.75 -1.875 0.0 1.875 3.75\n",
              "  * model        (model) object 'NorESM1-M' 'BNU-ESM' ... 'ACCESS1-0'\n",
              "  * realization  (realization) int64 1\n",
              "  * time         (time) object 2006-01-01 00:00:00 ... 2100-01-23 00:00:00\n",
              "Data variables:\n",
              "    tasmax       (model, experiment, realization, time, lat, lon) float64 dask.array<chunksize=(1, 1, 1, 34333, 8, 8), meta=np.ndarray>\n",
              "    tasmin       (model, experiment, realization, time, lat, lon) float64 dask.array<chunksize=(1, 1, 1, 34333, 8, 8), meta=np.ndarray>\n",
              "Attributes:\n",
              "    Conventions:  CF-1.6\n",
              "    comment:      maximum near-surface (usually, 2 meter) air temperature (ad...\n",
              "    source:       CMIP5, CDS"
            ]
          },
          "metadata": {
            "tags": []
          },
          "execution_count": 26
        }
      ]
    },
    {
      "cell_type": "code",
      "metadata": {
        "id": "X3PV5sz9OTIt",
        "colab_type": "code",
        "colab": {}
      },
      "source": [
        "import xclim as xc\n",
        "out = xc.indices.heat_wave_frequency(tasmax=ds.tasmax, tasmin=ds.tasmin, thresh_tasmax='25 C', thresh_tasmin='20 C', window=2, freq='MS')\n",
        "# Prefer to use atmos as it does checks and uses units, but it complains about daily data \n",
        "#out = xc.atmos.heat_wave_frequency(tasmax=ds.tasmax, tasmin=ds.tasmin, thresh_tasmax='25 C', thresh_tasmin='20 C', window=2, freq='MS')\n",
        "print(out)\n",
        "# Plot\n",
        "out2d = out.isel(time=7)\n",
        "out2d.plot()"
      ],
      "execution_count": 0,
      "outputs": []
    },
    {
      "cell_type": "code",
      "metadata": {
        "id": "T-5jPibItLzx",
        "colab_type": "code",
        "colab": {}
      },
      "source": [
        "# Clean up\n",
        "import os\n",
        "import glob\n",
        "dummy = [os.remove(f) for f in glob.glob('*.nc')]"
      ],
      "execution_count": 0,
      "outputs": []
    },
    {
      "cell_type": "markdown",
      "metadata": {
        "id": "gwITqP4BLF-S",
        "colab_type": "text"
      },
      "source": [
        "## ERA5-Land-hourly-data-from-1981-to-present"
      ]
    },
    {
      "cell_type": "code",
      "metadata": {
        "id": "2b3UKk5mRxZ3",
        "colab_type": "code",
        "outputId": "691914dc-b448-4aa6-884c-b2c5b711a6b6",
        "colab": {
          "base_uri": "https://localhost:8080/",
          "height": 34
        }
      },
      "source": [
        "%%writefile download.py\n",
        "import cdstoolbox as ct\n",
        "\n",
        "# Out directory\n",
        "ds_dir = \"dataset\"\n",
        "\n",
        "# Define region of interest\n",
        "bbox = [35, -10, 44, 5]\n",
        "grid = [0.1, 0.1]\n",
        "\n",
        "# Define datasets to download\n",
        "var_list = [\"2m_temperature\"]\n",
        "times = [f\"0{t}:00\" if t < 10 else f\"{t}:00\"  for t in range(0, 23)]\n",
        "days = [f\"0{t}\" if t < 10 else f\"{t}\"  for t in range(1, 31)]\n",
        "months = [f\"0{t}\" if t < 10 else f\"{t}\"  for t in range(1, 12)]\n",
        "years = [\n",
        "             [str(t) for t in range(1980, 1989)],\n",
        "             [str(t) for t in range(1990, 1999)],\n",
        "             [str(t) for t in range(2000, 2009)],\n",
        "             [str(t) for t in range(2010, 2019)] \n",
        "               ]\n",
        "\n",
        "# Function to create properties dict for download\n",
        "def create_prop_dict(variable, days, months, years, bbox, grid):\n",
        "  return {\n",
        "      \"variable\" : variable,\n",
        "      \"time\" : times,\n",
        "      \"day\" : days,\n",
        "      \"month\" : months,\n",
        "      \"year\" : years,\n",
        "      'area': bbox,\n",
        "      'grid': grid\n",
        "      }\n",
        "\n",
        "# Make list of properties dicts, and out names\n",
        "pdict_list = []\n",
        "nm_list = []\n",
        "for variable in var_list:\n",
        "  for year in years:\n",
        "      pdict_list.append(create_prop_dict(variable, days, months, year, bbox, grid))\n",
        "      # make file names\n",
        "      if len(years) >1:\n",
        "        ti = f\"{year[0]}-{year[-1]}\"\n",
        "      else:\n",
        "        ti = year[0] \n",
        "      v = variable.replace(\"_\", \"-\")\n",
        "      nm_list.append(f\"bbox-{bbox[0]}-{bbox[1]}-{bbox[2]}-{bbox[3]}_{v}_{ti}.nc\")\n",
        "\n",
        "@ct.output.download()\n",
        "def application():\n",
        "    \n",
        "    #ref_grid = ct.catalogue.retrieve(\n",
        "    #    \"reanalysis-era5-land\",\\\n",
        "    #     {\"variable\" : \"2m_temperature\",\"time\" : '12:00',\"day\" : '15',\"month\" : '08', \"year\" : '2000', 'area': bbox, 'grid': grid})\n",
        "\n",
        "    def get_data(pdict, nm):\n",
        "      ds = ct.catalogue.retrieve('reanalysis-era5-land', pdict)\n",
        "      data_daily_max = ct.cdm.rename(ct.climate.daily_max(data),\"tasmax\")\n",
        "      data_daily_min = ct.cdm.rename(ct.climate.daily_min(data),\"tasmin\")\n",
        "      return [data_daily_max, data_daily_min]\n",
        "    \n",
        "    return [get_data(pdict, nm) for pdict, nm in zip(pdict_list, nm_list)]"
      ],
      "execution_count": 0,
      "outputs": [
        {
          "output_type": "stream",
          "text": [
            "Overwriting download.py\n"
          ],
          "name": "stdout"
        }
      ]
    },
    {
      "cell_type": "code",
      "metadata": {
        "id": "OgPZPxyuLDEh",
        "colab_type": "code",
        "outputId": "fbada522-6ced-469f-bb58-d91d2ed6aa6e",
        "colab": {
          "base_uri": "https://localhost:8080/",
          "height": 138
        }
      },
      "source": [
        "%%time\n",
        "!python download.py"
      ],
      "execution_count": 0,
      "outputs": [
        {
          "output_type": "stream",
          "text": [
            "2020-03-03 16:21:44,912 INFO Welcome to the CDS\n",
            "2020-03-03 16:21:44,913 INFO Sending request to https://cds.climate.copernicus.eu/api/v2/tasks/services/tool/toolbox/orchestrator/run_workflow/clientid-2591abea5cac488495e12a53dda19eb4\n",
            "2020-03-03 16:21:45,729 INFO Request is queued\n",
            "2020-03-03 16:21:46,823 INFO Request is running\n"
          ],
          "name": "stdout"
        }
      ]
    },
    {
      "cell_type": "code",
      "metadata": {
        "id": "eokKabbnNYgH",
        "colab_type": "code",
        "colab": {}
      },
      "source": [
        "import xarray as xr\n",
        "ds = xr.open_dataset()"
      ],
      "execution_count": 0,
      "outputs": []
    },
    {
      "cell_type": "markdown",
      "metadata": {
        "colab_type": "text",
        "id": "FMd4TyLuNP3C"
      },
      "source": [
        "### Rename netcdfs"
      ]
    },
    {
      "cell_type": "code",
      "metadata": {
        "colab_type": "code",
        "outputId": "4d0502f1-540b-4eb8-ec76-19658ece6286",
        "id": "BDkAiKI4NP3a",
        "colab": {
          "base_uri": "https://localhost:8080/",
          "height": 402
        }
      },
      "source": [
        "import xarray as xr\n",
        "import glob\n",
        "import os\n",
        "import pprint\n",
        "xr.set_options(display_style='html')\n",
        "\n",
        "fl = glob.glob(\"*.nc\")\n",
        "print(fl)\n",
        "for f in fl:\n",
        "  ds = xr.open_dataset(f)\n",
        "  ds = xr.decode_cf(ds)\n",
        "  attrs = ds.attrs\n",
        "  pprint.pprint(attrs)\n",
        "  if attrs['comment'].split(\" \")[0] == 'maximum':\n",
        "    v = 'tasmax'\n",
        "  if attrs['comment'].split(\" \")[0] == 'minimum':\n",
        "    v = 'tasmin'\n",
        "  dvattr = ds[v].attrs\n",
        "  #pprint.pprint(dvattr)\n",
        "  try:\n",
        "    m = dvattr['model_id']\n",
        "    e = dvattr['experiment_id']\n",
        "    r = dvattr['parent_experiment_rip']\n",
        "    nm = f\"daily_projections-cmip5-daily-single-levels_{v}_{m}_{e}_{r}.nc\"\n",
        "  except:\n",
        "    txt = dvattr['associated_files'].split('areacella:')[1]\n",
        "    m = txt.split(\"_\")[2]\n",
        "    e = txt.split(\"_\")[3]\n",
        "    r = txt.split(\"_\")[4]\n",
        "    nm = f\"daily_projections-cmip5-daily-single-levels_{v}_{m}_{e}_{r}\"\n",
        "\n",
        "  print(nm)\n",
        "  ds.to_netcdf(nm)"
      ],
      "execution_count": 0,
      "outputs": [
        {
          "output_type": "stream",
          "text": [
            "['cdm.update_attributes-1583224022.0802572-17537-34-15ddf416-f6ad-4e4b-8aef-d69016eb0dcdupdated_attrs.nc', 'cdm.update_attributes-1583224309.65743-2661-30-180d1080-49aa-4c5b-b630-0c54353a7b72updated_attrs.nc', 'cdm.update_attributes-1583105491.5020332-14551-28-075dce16-6f10-4659-8f31-31540de29181updated_attrs.nc', 'cdm.update_attributes-1583224117.041823-11899-33-a1d207a6-cc60-4f06-9297-7ced56aee330updated_attrs.nc', 'cdm.update_attributes-1583224258.8644996-13789-38-ad5e2c57-7201-4277-ad46-482dcfe784fcupdated_attrs.nc', 'cdm.update_attributes-1583224316.5325725-26301-35-a450a1fc-0145-47a7-9f9a-b3714ce7b7b3updated_attrs.nc', 'cdm.update_attributes-1583224289.3021362-14066-38-2546732a-8551-448d-8fef-3bc414c497d5updated_attrs.nc', 'cdm.update_attributes-1583224124.7870688-16505-30-81064b06-ce98-4c7f-b8a6-da4b85f10b4dupdated_attrs.nc', 'cdm.update_attributes-1583224018.170093-32545-21-487bb3a9-27b3-4756-996a-8375a2b8b103updated_attrs.nc', 'cdm.update_attributes-1583224255.5815945-15857-38-e2bc0fbe-0bd2-42dc-a181-39a24acd905dupdated_attrs.nc', 'cdm.update_attributes-1583224140.5172293-1462-30-c002c65b-7ff5-41b9-9802-93116f4fdd06updated_attrs.nc', 'cdm.update_attributes-1583224252.131908-13023-31-041faa1e-f0c7-445f-8e51-7d48d952edd1updated_attrs.nc', 'cdm.update_attributes-1583224313.1741607-14121-35-bcb76426-3d11-43cf-b415-d91a48ef2fa9updated_attrs.nc', 'cdm.update_attributes-1583224271.3069918-31502-30-cfb3f27a-93a6-4a55-b5af-4d26431ade9fupdated_attrs.nc', 'cdm.update_attributes-1583224231.8278136-16665-36-c5a9923b-25a1-4250-93f8-b31cb4ca6e8eupdated_attrs.nc', 'cdm.update_attributes-1583224096.0946393-29322-36-8de13197-161a-4b52-b1ba-a105f514695dupdated_attrs.nc', 'cdm.update_attributes-1583224025.7330155-27151-32-8c8ff367-fedb-458c-b91b-a7f2458a1b3aupdated_attrs.nc', 'cdm.update_attributes-1583224078.8425038-27100-22-30509ed8-c4c7-4b92-a7e8-cb731089ec93updated_attrs.nc', 'cdm.update_attributes-1583224329.6948-1695-37-1400d152-b5c3-4762-8b4f-f8a801eadf78updated_attrs.nc', 'cdm.update_attributes-1583224120.8123815-30349-38-48cfb20d-9d85-4179-9120-5479dd361b93updated_attrs.nc']\n",
            "daily_projections-cmip5-daily-single-levels_tasmin_MPI-ESM-LR_rcp45_r0i0p0.nc\n",
            "daily_projections-cmip5-daily-single-levels_tasmax_ACCESS1-0_rcp85_r0i0p0.nc\n",
            "daily_projections-cmip5-daily-single-levels_tasmin_BNU-ESM_rcp45_r1i1p1.nc\n",
            "daily_projections-cmip5-daily-single-levels_tasmax_ACCESS1-0_rcp45_r0i0p0.nc\n",
            "daily_projections-cmip5-daily-single-levels_tasmin_MPI-ESM-MR_rcp85_r0i0p0.nc\n",
            "daily_projections-cmip5-daily-single-levels_tasmax_MPI-ESM-MR_rcp85_r0i0p0.nc\n",
            "daily_projections-cmip5-daily-single-levels_tasmax_BNU-ESM_rcp85_r1i1p1.nc\n",
            "daily_projections-cmip5-daily-single-levels_tasmax_MPI-ESM-MR_rcp45_r0i0p0.nc\n",
            "daily_projections-cmip5-daily-single-levels_tasmin_ACCESS1-0_rcp45_r0i0p0.nc\n",
            "daily_projections-cmip5-daily-single-levels_tasmin_MPI-ESM-LR_rcp85_r0i0p0.nc\n",
            "daily_projections-cmip5-daily-single-levels_tasmax_NorESM1-M_rcp45_r0i0p0.nc\n",
            "daily_projections-cmip5-daily-single-levels_tasmin_ACCESS1-0_rcp85_r0i0p0.nc\n",
            "daily_projections-cmip5-daily-single-levels_tasmax_MPI-ESM-LR_rcp85_r0i0p0.nc\n",
            "daily_projections-cmip5-daily-single-levels_tasmin_NorESM1-M_rcp85_r0i0p0.nc\n",
            "daily_projections-cmip5-daily-single-levels_tasmin_BNU-ESM_rcp85_r1i1p1.nc\n",
            "daily_projections-cmip5-daily-single-levels_tasmax_BNU-ESM_rcp45_r1i1p1.nc\n",
            "daily_projections-cmip5-daily-single-levels_tasmin_MPI-ESM-MR_rcp45_r0i0p0.nc\n",
            "daily_projections-cmip5-daily-single-levels_tasmin_NorESM1-M_rcp45_r0i0p0.nc\n",
            "daily_projections-cmip5-daily-single-levels_tasmax_NorESM1-M_rcp85_r0i0p0.nc\n",
            "daily_projections-cmip5-daily-single-levels_tasmax_MPI-ESM-LR_rcp45_r0i0p0.nc\n"
          ],
          "name": "stdout"
        }
      ]
    },
    {
      "cell_type": "code",
      "metadata": {
        "id": "dWLUto9QAiDl",
        "colab_type": "code",
        "outputId": "ed3d3ddb-8808-4eb0-f722-33f9d45c815b",
        "colab": {
          "base_uri": "https://localhost:8080/",
          "height": 69
        }
      },
      "source": [
        "# Copy new files to GS\n",
        "copy_gcs([ds_dir], [gs_prefix], \"-n\")"
      ],
      "execution_count": 0,
      "outputs": [
        {
          "output_type": "stream",
          "text": [
            "Processing: gsutil -m cp -r -n dataset gs://copernicus-climate\n",
            "Task created\n",
            "Finished copy\n"
          ],
          "name": "stdout"
        }
      ]
    },
    {
      "cell_type": "markdown",
      "metadata": {
        "id": "lYlLo_72Wg3g",
        "colab_type": "text"
      },
      "source": [
        "## Thermal-comfort-indices-derived-from-ERA5-reanalysis"
      ]
    },
    {
      "cell_type": "code",
      "metadata": {
        "id": "m-mRhZaZbG-u",
        "colab_type": "code",
        "outputId": "c5b5160a-258d-4ae9-9edf-d5451e12a3d1",
        "colab": {
          "base_uri": "https://localhost:8080/",
          "height": 1000
        }
      },
      "source": [
        "# Get data from CDS (this could take along time to order, but once ready quick to download)\n",
        "# Get Thermal-comfort-indices-derived-from-ERA5-reanalysis\n",
        "%%time\n",
        "grid= [0.25, 0.25]\n",
        "bbox= [44.0, -10.0, 35.0, 5.0]\n",
        "ds_name = \"Thermal-comfort-indices-derived-from-ERA5-reanalysis\"\n",
        "for y in range(1980, 1981):\n",
        "  for m in range(1, 12):\n",
        "    for d in range(1, 31):\n",
        "      #try:\n",
        "        application(ds = ds_name,\n",
        "        bbox = bbox, # North, West, South, East. Default: global\n",
        "        grid = grid, # Latitude/longitude grid: east-west (longitude) and north-south resolution (latitude). Default: 0.25 x 0.25\n",
        "        start_year = y,\n",
        "        end_year = y+1,\n",
        "        start_month=m,\n",
        "        end_month=m+1,\n",
        "        start_day=d,\n",
        "        end_day=d+1)\n",
        "      #except:\n",
        "        #pass     \n"
      ],
      "execution_count": 0,
      "outputs": [
        {
          "output_type": "stream",
          "text": [
            "Fetching derived-utci-historical_Mean radiant temperature_1980--1981.zip\n",
            "With properties {'format': 'zip', 'variable': 'Mean radiant temperature', 'product_type': 'Consolidated dataset', 'time': ['00:00', '01:00', '02:00', '03:00', '04:00', '05:00', '06:00', '07:00', '08:00', '09:00', '10:00', '11:00', '12:00', '13:00', '14:00', '15:00', '16:00', '17:00', '18:00', '19:00', '20:00', '21:00', '22:00'], 'day': ['01'], 'month': ['01'], 'year': ['1980'], 'area': [44.0, -10.0, 35.0, 5.0], 'grid': [0.25, 0.25]}\n"
          ],
          "name": "stdout"
        },
        {
          "output_type": "stream",
          "text": [
            "2020-02-25 15:27:44,259 INFO Welcome to the CDS\n",
            "2020-02-25 15:27:44,259 INFO Sending request to https://cds.climate.copernicus.eu/api/v2/resources/derived-utci-historical\n",
            "2020-02-25 15:27:45,432 INFO Request is queued\n",
            "2020-02-25 15:27:46,692 INFO Request is completed\n",
            "2020-02-25 15:27:46,693 INFO Downloading http://136.156.132.105/cache-compute-0000/cache/downloads/cemsdata.copernicus-climate.eu/UTCI-HEALTH-HISTORICAL/reanalysis/1.0/1980/ECMWF_mrt_19800101_v1.0_con.nc to dataset/derived-utci-historical_Mean radiant temperature_1980--1981.zip (48.8M)\n",
            "2020-02-25 15:27:56,584 INFO Download rate 4.9M/s\n"
          ],
          "name": "stderr"
        },
        {
          "output_type": "stream",
          "text": [
            "Fetching derived-utci-historical_Mean radiant temperature_1980--1981.zip\n",
            "With properties {'format': 'zip', 'variable': 'Mean radiant temperature', 'product_type': 'Consolidated dataset', 'time': ['00:00', '01:00', '02:00', '03:00', '04:00', '05:00', '06:00', '07:00', '08:00', '09:00', '10:00', '11:00', '12:00', '13:00', '14:00', '15:00', '16:00', '17:00', '18:00', '19:00', '20:00', '21:00', '22:00'], 'day': ['02'], 'month': ['01'], 'year': ['1980'], 'area': [44.0, -10.0, 35.0, 5.0], 'grid': [0.25, 0.25]}\n"
          ],
          "name": "stdout"
        },
        {
          "output_type": "stream",
          "text": [
            "2020-02-25 15:27:58,201 INFO Welcome to the CDS\n",
            "2020-02-25 15:27:58,204 INFO Sending request to https://cds.climate.copernicus.eu/api/v2/resources/derived-utci-historical\n",
            "2020-02-25 15:27:59,285 INFO Request is queued\n",
            "2020-02-25 15:28:00,552 INFO Request is completed\n",
            "2020-02-25 15:28:00,553 INFO Downloading http://136.156.133.46/cache-compute-0015/cache/downloads/cemsdata.copernicus-climate.eu/UTCI-HEALTH-HISTORICAL/reanalysis/1.0/1980/ECMWF_mrt_19800102_v1.0_con.nc to dataset/derived-utci-historical_Mean radiant temperature_1980--1981.zip (48.7M)\n",
            "2020-02-25 15:28:11,088 INFO Download rate 4.6M/s\n"
          ],
          "name": "stderr"
        },
        {
          "output_type": "stream",
          "text": [
            "Fetching derived-utci-historical_Mean radiant temperature_1980--1981.zip\n",
            "With properties {'format': 'zip', 'variable': 'Mean radiant temperature', 'product_type': 'Consolidated dataset', 'time': ['00:00', '01:00', '02:00', '03:00', '04:00', '05:00', '06:00', '07:00', '08:00', '09:00', '10:00', '11:00', '12:00', '13:00', '14:00', '15:00', '16:00', '17:00', '18:00', '19:00', '20:00', '21:00', '22:00'], 'day': ['03'], 'month': ['01'], 'year': ['1980'], 'area': [44.0, -10.0, 35.0, 5.0], 'grid': [0.25, 0.25]}\n"
          ],
          "name": "stdout"
        },
        {
          "output_type": "stream",
          "text": [
            "2020-02-25 15:28:12,405 INFO Welcome to the CDS\n",
            "2020-02-25 15:28:12,406 INFO Sending request to https://cds.climate.copernicus.eu/api/v2/resources/derived-utci-historical\n",
            "2020-02-25 15:28:13,635 INFO Request is queued\n",
            "2020-02-25 15:28:14,891 INFO Request is completed\n",
            "2020-02-25 15:28:14,892 INFO Downloading http://136.156.132.105/cache-compute-0000/cache/downloads/cemsdata.copernicus-climate.eu/UTCI-HEALTH-HISTORICAL/reanalysis/1.0/1980/ECMWF_mrt_19800103_v1.0_con.nc to dataset/derived-utci-historical_Mean radiant temperature_1980--1981.zip (48.7M)\n",
            "2020-02-25 15:28:26,770 INFO Download rate 4.1M/s\n"
          ],
          "name": "stderr"
        },
        {
          "output_type": "stream",
          "text": [
            "Fetching derived-utci-historical_Mean radiant temperature_1980--1981.zip\n",
            "With properties {'format': 'zip', 'variable': 'Mean radiant temperature', 'product_type': 'Consolidated dataset', 'time': ['00:00', '01:00', '02:00', '03:00', '04:00', '05:00', '06:00', '07:00', '08:00', '09:00', '10:00', '11:00', '12:00', '13:00', '14:00', '15:00', '16:00', '17:00', '18:00', '19:00', '20:00', '21:00', '22:00'], 'day': ['04'], 'month': ['01'], 'year': ['1980'], 'area': [44.0, -10.0, 35.0, 5.0], 'grid': [0.25, 0.25]}\n"
          ],
          "name": "stdout"
        },
        {
          "output_type": "stream",
          "text": [
            "2020-02-25 15:28:34,357 INFO Welcome to the CDS\n",
            "2020-02-25 15:28:34,358 INFO Sending request to https://cds.climate.copernicus.eu/api/v2/resources/derived-utci-historical\n",
            "2020-02-25 15:28:35,532 INFO Request is queued\n",
            "2020-02-25 15:28:36,793 INFO Request is running\n",
            "2020-02-25 15:28:38,553 INFO Request is completed\n",
            "2020-02-25 15:28:38,554 INFO Downloading http://136.156.132.210/cache-compute-0005/cache/downloads/cemsdata.copernicus-climate.eu/UTCI-HEALTH-HISTORICAL/reanalysis/1.0/1980/ECMWF_mrt_19800104_v1.0_con.nc to dataset/derived-utci-historical_Mean radiant temperature_1980--1981.zip (48.7M)\n",
            "2020-02-25 15:28:46,454 INFO Download rate 6.2M/s\n"
          ],
          "name": "stderr"
        },
        {
          "output_type": "stream",
          "text": [
            "Fetching derived-utci-historical_Mean radiant temperature_1980--1981.zip\n",
            "With properties {'format': 'zip', 'variable': 'Mean radiant temperature', 'product_type': 'Consolidated dataset', 'time': ['00:00', '01:00', '02:00', '03:00', '04:00', '05:00', '06:00', '07:00', '08:00', '09:00', '10:00', '11:00', '12:00', '13:00', '14:00', '15:00', '16:00', '17:00', '18:00', '19:00', '20:00', '21:00', '22:00'], 'day': ['05'], 'month': ['01'], 'year': ['1980'], 'area': [44.0, -10.0, 35.0, 5.0], 'grid': [0.25, 0.25]}\n"
          ],
          "name": "stdout"
        },
        {
          "output_type": "stream",
          "text": [
            "2020-02-25 15:28:47,750 INFO Welcome to the CDS\n",
            "2020-02-25 15:28:47,754 INFO Sending request to https://cds.climate.copernicus.eu/api/v2/resources/derived-utci-historical\n",
            "2020-02-25 15:28:48,891 INFO Request is queued\n",
            "2020-02-25 15:28:50,151 INFO Request is completed\n",
            "2020-02-25 15:28:50,152 INFO Downloading http://136.156.132.236/cache-compute-0007/cache/downloads/cemsdata.copernicus-climate.eu/UTCI-HEALTH-HISTORICAL/reanalysis/1.0/1980/ECMWF_mrt_19800105_v1.0_con.nc to dataset/derived-utci-historical_Mean radiant temperature_1980--1981.zip (48.8M)\n",
            "2020-02-25 15:28:58,798 INFO Download rate 5.6M/s\n"
          ],
          "name": "stderr"
        },
        {
          "output_type": "stream",
          "text": [
            "Fetching derived-utci-historical_Mean radiant temperature_1980--1981.zip\n",
            "With properties {'format': 'zip', 'variable': 'Mean radiant temperature', 'product_type': 'Consolidated dataset', 'time': ['00:00', '01:00', '02:00', '03:00', '04:00', '05:00', '06:00', '07:00', '08:00', '09:00', '10:00', '11:00', '12:00', '13:00', '14:00', '15:00', '16:00', '17:00', '18:00', '19:00', '20:00', '21:00', '22:00'], 'day': ['06'], 'month': ['01'], 'year': ['1980'], 'area': [44.0, -10.0, 35.0, 5.0], 'grid': [0.25, 0.25]}\n"
          ],
          "name": "stdout"
        },
        {
          "output_type": "stream",
          "text": [
            "2020-02-25 15:29:00,175 INFO Welcome to the CDS\n",
            "2020-02-25 15:29:00,176 INFO Sending request to https://cds.climate.copernicus.eu/api/v2/resources/derived-utci-historical\n",
            "2020-02-25 15:29:01,407 INFO Request is queued\n",
            "2020-02-25 15:29:02,666 INFO Request is completed\n",
            "2020-02-25 15:29:02,668 INFO Downloading http://136.156.133.37/cache-compute-0011/cache/downloads/cemsdata.copernicus-climate.eu/UTCI-HEALTH-HISTORICAL/reanalysis/1.0/1980/ECMWF_mrt_19800106_v1.0_con.nc to dataset/derived-utci-historical_Mean radiant temperature_1980--1981.zip (48.8M)\n",
            "2020-02-25 15:29:10,334 INFO Download rate 6.4M/s\n"
          ],
          "name": "stderr"
        },
        {
          "output_type": "stream",
          "text": [
            "Fetching derived-utci-historical_Mean radiant temperature_1980--1981.zip\n",
            "With properties {'format': 'zip', 'variable': 'Mean radiant temperature', 'product_type': 'Consolidated dataset', 'time': ['00:00', '01:00', '02:00', '03:00', '04:00', '05:00', '06:00', '07:00', '08:00', '09:00', '10:00', '11:00', '12:00', '13:00', '14:00', '15:00', '16:00', '17:00', '18:00', '19:00', '20:00', '21:00', '22:00'], 'day': ['07'], 'month': ['01'], 'year': ['1980'], 'area': [44.0, -10.0, 35.0, 5.0], 'grid': [0.25, 0.25]}\n"
          ],
          "name": "stdout"
        },
        {
          "output_type": "stream",
          "text": [
            "2020-02-25 15:29:11,630 INFO Welcome to the CDS\n",
            "2020-02-25 15:29:11,631 INFO Sending request to https://cds.climate.copernicus.eu/api/v2/resources/derived-utci-historical\n",
            "2020-02-25 15:29:12,683 INFO Request is queued\n",
            "2020-02-25 15:29:13,942 INFO Request is completed\n",
            "2020-02-25 15:29:13,944 INFO Downloading http://136.156.132.236/cache-compute-0007/cache/downloads/cemsdata.copernicus-climate.eu/UTCI-HEALTH-HISTORICAL/reanalysis/1.0/1980/ECMWF_mrt_19800107_v1.0_con.nc to dataset/derived-utci-historical_Mean radiant temperature_1980--1981.zip (48.8M)\n",
            "2020-02-25 15:29:24,316 INFO Download rate 4.7M/s\n"
          ],
          "name": "stderr"
        },
        {
          "output_type": "stream",
          "text": [
            "Fetching derived-utci-historical_Mean radiant temperature_1980--1981.zip\n",
            "With properties {'format': 'zip', 'variable': 'Mean radiant temperature', 'product_type': 'Consolidated dataset', 'time': ['00:00', '01:00', '02:00', '03:00', '04:00', '05:00', '06:00', '07:00', '08:00', '09:00', '10:00', '11:00', '12:00', '13:00', '14:00', '15:00', '16:00', '17:00', '18:00', '19:00', '20:00', '21:00', '22:00'], 'day': ['08'], 'month': ['01'], 'year': ['1980'], 'area': [44.0, -10.0, 35.0, 5.0], 'grid': [0.25, 0.25]}\n"
          ],
          "name": "stdout"
        },
        {
          "output_type": "stream",
          "text": [
            "2020-02-25 15:29:25,781 INFO Welcome to the CDS\n",
            "2020-02-25 15:29:25,785 INFO Sending request to https://cds.climate.copernicus.eu/api/v2/resources/derived-utci-historical\n",
            "2020-02-25 15:29:26,840 INFO Request is queued\n",
            "2020-02-25 15:29:28,096 INFO Request is completed\n",
            "2020-02-25 15:29:28,098 INFO Downloading http://136.156.132.198/cache-compute-0003/cache/downloads/cemsdata.copernicus-climate.eu/UTCI-HEALTH-HISTORICAL/reanalysis/1.0/1980/ECMWF_mrt_19800108_v1.0_con.nc to dataset/derived-utci-historical_Mean radiant temperature_1980--1981.zip (48.8M)\n",
            "2020-02-25 15:29:36,877 INFO Download rate 5.6M/s\n"
          ],
          "name": "stderr"
        },
        {
          "output_type": "stream",
          "text": [
            "Fetching derived-utci-historical_Mean radiant temperature_1980--1981.zip\n",
            "With properties {'format': 'zip', 'variable': 'Mean radiant temperature', 'product_type': 'Consolidated dataset', 'time': ['00:00', '01:00', '02:00', '03:00', '04:00', '05:00', '06:00', '07:00', '08:00', '09:00', '10:00', '11:00', '12:00', '13:00', '14:00', '15:00', '16:00', '17:00', '18:00', '19:00', '20:00', '21:00', '22:00'], 'day': ['09'], 'month': ['01'], 'year': ['1980'], 'area': [44.0, -10.0, 35.0, 5.0], 'grid': [0.25, 0.25]}\n"
          ],
          "name": "stdout"
        },
        {
          "output_type": "stream",
          "text": [
            "2020-02-25 15:29:38,182 INFO Welcome to the CDS\n",
            "2020-02-25 15:29:38,183 INFO Sending request to https://cds.climate.copernicus.eu/api/v2/resources/derived-utci-historical\n",
            "2020-02-25 15:29:39,311 INFO Request is queued\n",
            "2020-02-25 15:29:40,574 INFO Request is completed\n",
            "2020-02-25 15:29:40,575 INFO Downloading http://136.156.133.36/cache-compute-0010/cache/downloads/cemsdata.copernicus-climate.eu/UTCI-HEALTH-HISTORICAL/reanalysis/1.0/1980/ECMWF_mrt_19800109_v1.0_con.nc to dataset/derived-utci-historical_Mean radiant temperature_1980--1981.zip (48.9M)\n",
            "2020-02-25 15:29:49,380 INFO Download rate 5.6M/s\n"
          ],
          "name": "stderr"
        },
        {
          "output_type": "stream",
          "text": [
            "Fetching derived-utci-historical_Mean radiant temperature_1980--1981.zip\n",
            "With properties {'format': 'zip', 'variable': 'Mean radiant temperature', 'product_type': 'Consolidated dataset', 'time': ['00:00', '01:00', '02:00', '03:00', '04:00', '05:00', '06:00', '07:00', '08:00', '09:00', '10:00', '11:00', '12:00', '13:00', '14:00', '15:00', '16:00', '17:00', '18:00', '19:00', '20:00', '21:00', '22:00'], 'day': ['10'], 'month': ['01'], 'year': ['1980'], 'area': [44.0, -10.0, 35.0, 5.0], 'grid': [0.25, 0.25]}\n"
          ],
          "name": "stdout"
        },
        {
          "output_type": "stream",
          "text": [
            "2020-02-25 15:29:50,653 INFO Welcome to the CDS\n",
            "2020-02-25 15:29:50,654 INFO Sending request to https://cds.climate.copernicus.eu/api/v2/resources/derived-utci-historical\n",
            "2020-02-25 15:29:51,767 INFO Request is queued\n",
            "2020-02-25 15:29:53,025 INFO Request is running\n",
            "2020-02-25 15:29:54,784 INFO Request is completed\n",
            "2020-02-25 15:29:54,785 INFO Downloading http://136.156.133.25/cache-compute-0008/cache/downloads/cemsdata.copernicus-climate.eu/UTCI-HEALTH-HISTORICAL/reanalysis/1.0/1980/ECMWF_mrt_19800110_v1.0_con.nc to dataset/derived-utci-historical_Mean radiant temperature_1980--1981.zip (49M)\n",
            "2020-02-25 15:30:03,301 INFO Download rate 5.8M/s\n"
          ],
          "name": "stderr"
        },
        {
          "output_type": "stream",
          "text": [
            "Fetching derived-utci-historical_Mean radiant temperature_1980--1981.zip\n",
            "With properties {'format': 'zip', 'variable': 'Mean radiant temperature', 'product_type': 'Consolidated dataset', 'time': ['00:00', '01:00', '02:00', '03:00', '04:00', '05:00', '06:00', '07:00', '08:00', '09:00', '10:00', '11:00', '12:00', '13:00', '14:00', '15:00', '16:00', '17:00', '18:00', '19:00', '20:00', '21:00', '22:00'], 'day': ['11'], 'month': ['01'], 'year': ['1980'], 'area': [44.0, -10.0, 35.0, 5.0], 'grid': [0.25, 0.25]}\n"
          ],
          "name": "stdout"
        },
        {
          "output_type": "stream",
          "text": [
            "2020-02-25 15:30:04,607 INFO Welcome to the CDS\n",
            "2020-02-25 15:30:04,608 INFO Sending request to https://cds.climate.copernicus.eu/api/v2/resources/derived-utci-historical\n",
            "2020-02-25 15:30:05,722 INFO Request is queued\n",
            "2020-02-25 15:30:06,988 INFO Request is completed\n",
            "2020-02-25 15:30:06,989 INFO Downloading http://136.156.133.41/cache-compute-0013/cache/downloads/cemsdata.copernicus-climate.eu/UTCI-HEALTH-HISTORICAL/reanalysis/1.0/1980/ECMWF_mrt_19800111_v1.0_con.nc to dataset/derived-utci-historical_Mean radiant temperature_1980--1981.zip (48.9M)\n",
            "2020-02-25 15:30:16,629 INFO Download rate 5.1M/s\n"
          ],
          "name": "stderr"
        },
        {
          "output_type": "stream",
          "text": [
            "Fetching derived-utci-historical_Mean radiant temperature_1980--1981.zip\n",
            "With properties {'format': 'zip', 'variable': 'Mean radiant temperature', 'product_type': 'Consolidated dataset', 'time': ['00:00', '01:00', '02:00', '03:00', '04:00', '05:00', '06:00', '07:00', '08:00', '09:00', '10:00', '11:00', '12:00', '13:00', '14:00', '15:00', '16:00', '17:00', '18:00', '19:00', '20:00', '21:00', '22:00'], 'day': ['12'], 'month': ['01'], 'year': ['1980'], 'area': [44.0, -10.0, 35.0, 5.0], 'grid': [0.25, 0.25]}\n"
          ],
          "name": "stdout"
        },
        {
          "output_type": "stream",
          "text": [
            "2020-02-25 15:30:17,968 INFO Welcome to the CDS\n",
            "2020-02-25 15:30:17,972 INFO Sending request to https://cds.climate.copernicus.eu/api/v2/resources/derived-utci-historical\n",
            "2020-02-25 15:30:19,010 INFO Request is queued\n",
            "2020-02-25 15:30:20,264 INFO Request is completed\n",
            "2020-02-25 15:30:20,265 INFO Downloading http://136.156.132.236/cache-compute-0007/cache/downloads/cemsdata.copernicus-climate.eu/UTCI-HEALTH-HISTORICAL/reanalysis/1.0/1980/ECMWF_mrt_19800112_v1.0_con.nc to dataset/derived-utci-historical_Mean radiant temperature_1980--1981.zip (49M)\n",
            "2020-02-25 15:30:33,127 INFO Download rate 3.8M/s\n"
          ],
          "name": "stderr"
        },
        {
          "output_type": "stream",
          "text": [
            "Fetching derived-utci-historical_Mean radiant temperature_1980--1981.zip\n",
            "With properties {'format': 'zip', 'variable': 'Mean radiant temperature', 'product_type': 'Consolidated dataset', 'time': ['00:00', '01:00', '02:00', '03:00', '04:00', '05:00', '06:00', '07:00', '08:00', '09:00', '10:00', '11:00', '12:00', '13:00', '14:00', '15:00', '16:00', '17:00', '18:00', '19:00', '20:00', '21:00', '22:00'], 'day': ['13'], 'month': ['01'], 'year': ['1980'], 'area': [44.0, -10.0, 35.0, 5.0], 'grid': [0.25, 0.25]}\n"
          ],
          "name": "stdout"
        },
        {
          "output_type": "stream",
          "text": [
            "2020-02-25 15:30:34,398 INFO Welcome to the CDS\n",
            "2020-02-25 15:30:34,399 INFO Sending request to https://cds.climate.copernicus.eu/api/v2/resources/derived-utci-historical\n",
            "2020-02-25 15:30:35,450 INFO Request is queued\n",
            "2020-02-25 15:30:36,704 INFO Request is completed\n",
            "2020-02-25 15:30:36,705 INFO Downloading http://136.156.132.210/cache-compute-0005/cache/downloads/cemsdata.copernicus-climate.eu/UTCI-HEALTH-HISTORICAL/reanalysis/1.0/1980/ECMWF_mrt_19800113_v1.0_con.nc to dataset/derived-utci-historical_Mean radiant temperature_1980--1981.zip (49M)\n",
            "2020-02-25 15:30:48,164 INFO Download rate 4.3M/s\n"
          ],
          "name": "stderr"
        },
        {
          "output_type": "stream",
          "text": [
            "Fetching derived-utci-historical_Mean radiant temperature_1980--1981.zip\n",
            "With properties {'format': 'zip', 'variable': 'Mean radiant temperature', 'product_type': 'Consolidated dataset', 'time': ['00:00', '01:00', '02:00', '03:00', '04:00', '05:00', '06:00', '07:00', '08:00', '09:00', '10:00', '11:00', '12:00', '13:00', '14:00', '15:00', '16:00', '17:00', '18:00', '19:00', '20:00', '21:00', '22:00'], 'day': ['14'], 'month': ['01'], 'year': ['1980'], 'area': [44.0, -10.0, 35.0, 5.0], 'grid': [0.25, 0.25]}\n"
          ],
          "name": "stdout"
        },
        {
          "output_type": "stream",
          "text": [
            "2020-02-25 15:30:49,481 INFO Welcome to the CDS\n",
            "2020-02-25 15:30:49,482 INFO Sending request to https://cds.climate.copernicus.eu/api/v2/resources/derived-utci-historical\n",
            "2020-02-25 15:30:50,516 INFO Request is queued\n",
            "2020-02-25 15:30:51,773 INFO Request is running\n",
            "2020-02-25 15:30:53,534 INFO Request is completed\n",
            "2020-02-25 15:30:53,538 INFO Downloading http://136.156.132.198/cache-compute-0003/cache/downloads/cemsdata.copernicus-climate.eu/UTCI-HEALTH-HISTORICAL/reanalysis/1.0/1980/ECMWF_mrt_19800114_v1.0_con.nc to dataset/derived-utci-historical_Mean radiant temperature_1980--1981.zip (48.9M)\n",
            "2020-02-25 15:31:03,516 INFO Download rate 4.9M/s\n"
          ],
          "name": "stderr"
        },
        {
          "output_type": "stream",
          "text": [
            "Fetching derived-utci-historical_Mean radiant temperature_1980--1981.zip\n",
            "With properties {'format': 'zip', 'variable': 'Mean radiant temperature', 'product_type': 'Consolidated dataset', 'time': ['00:00', '01:00', '02:00', '03:00', '04:00', '05:00', '06:00', '07:00', '08:00', '09:00', '10:00', '11:00', '12:00', '13:00', '14:00', '15:00', '16:00', '17:00', '18:00', '19:00', '20:00', '21:00', '22:00'], 'day': ['15'], 'month': ['01'], 'year': ['1980'], 'area': [44.0, -10.0, 35.0, 5.0], 'grid': [0.25, 0.25]}\n"
          ],
          "name": "stdout"
        },
        {
          "output_type": "stream",
          "text": [
            "2020-02-25 15:31:04,803 INFO Welcome to the CDS\n",
            "2020-02-25 15:31:04,804 INFO Sending request to https://cds.climate.copernicus.eu/api/v2/resources/derived-utci-historical\n",
            "2020-02-25 15:31:05,879 INFO Request is queued\n",
            "2020-02-25 15:31:07,142 INFO Request is completed\n",
            "2020-02-25 15:31:07,145 INFO Downloading http://136.156.132.198/cache-compute-0003/cache/downloads/cemsdata.copernicus-climate.eu/UTCI-HEALTH-HISTORICAL/reanalysis/1.0/1980/ECMWF_mrt_19800115_v1.0_con.nc to dataset/derived-utci-historical_Mean radiant temperature_1980--1981.zip (48.9M)\n",
            "2020-02-25 15:31:22,665 INFO Download rate 3.1M/s\n"
          ],
          "name": "stderr"
        },
        {
          "output_type": "stream",
          "text": [
            "Fetching derived-utci-historical_Mean radiant temperature_1980--1981.zip\n",
            "With properties {'format': 'zip', 'variable': 'Mean radiant temperature', 'product_type': 'Consolidated dataset', 'time': ['00:00', '01:00', '02:00', '03:00', '04:00', '05:00', '06:00', '07:00', '08:00', '09:00', '10:00', '11:00', '12:00', '13:00', '14:00', '15:00', '16:00', '17:00', '18:00', '19:00', '20:00', '21:00', '22:00'], 'day': ['16'], 'month': ['01'], 'year': ['1980'], 'area': [44.0, -10.0, 35.0, 5.0], 'grid': [0.25, 0.25]}\n"
          ],
          "name": "stdout"
        },
        {
          "output_type": "stream",
          "text": [
            "2020-02-25 15:31:23,953 INFO Welcome to the CDS\n",
            "2020-02-25 15:31:23,954 INFO Sending request to https://cds.climate.copernicus.eu/api/v2/resources/derived-utci-historical\n",
            "2020-02-25 15:31:25,052 INFO Request is queued\n",
            "2020-02-25 15:31:26,310 INFO Request is completed\n",
            "2020-02-25 15:31:26,313 INFO Downloading http://136.156.132.110/cache-compute-0001/cache/downloads/cemsdata.copernicus-climate.eu/UTCI-HEALTH-HISTORICAL/reanalysis/1.0/1980/ECMWF_mrt_19800116_v1.0_con.nc to dataset/derived-utci-historical_Mean radiant temperature_1980--1981.zip (48.9M)\n",
            "2020-02-25 15:31:34,466 INFO Download rate 6M/s\n"
          ],
          "name": "stderr"
        },
        {
          "output_type": "stream",
          "text": [
            "Fetching derived-utci-historical_Mean radiant temperature_1980--1981.zip\n",
            "With properties {'format': 'zip', 'variable': 'Mean radiant temperature', 'product_type': 'Consolidated dataset', 'time': ['00:00', '01:00', '02:00', '03:00', '04:00', '05:00', '06:00', '07:00', '08:00', '09:00', '10:00', '11:00', '12:00', '13:00', '14:00', '15:00', '16:00', '17:00', '18:00', '19:00', '20:00', '21:00', '22:00'], 'day': ['17'], 'month': ['01'], 'year': ['1980'], 'area': [44.0, -10.0, 35.0, 5.0], 'grid': [0.25, 0.25]}\n"
          ],
          "name": "stdout"
        },
        {
          "output_type": "stream",
          "text": [
            "2020-02-25 15:31:35,758 INFO Welcome to the CDS\n",
            "2020-02-25 15:31:35,759 INFO Sending request to https://cds.climate.copernicus.eu/api/v2/resources/derived-utci-historical\n",
            "2020-02-25 15:31:36,989 INFO Request is queued\n",
            "2020-02-25 15:31:38,246 INFO Request is completed\n",
            "2020-02-25 15:31:38,247 INFO Downloading http://136.156.133.39/cache-compute-0012/cache/downloads/cemsdata.copernicus-climate.eu/UTCI-HEALTH-HISTORICAL/reanalysis/1.0/1980/ECMWF_mrt_19800117_v1.0_con.nc to dataset/derived-utci-historical_Mean radiant temperature_1980--1981.zip (48.9M)\n",
            "2020-02-25 15:31:46,405 INFO Download rate 6M/s\n"
          ],
          "name": "stderr"
        },
        {
          "output_type": "stream",
          "text": [
            "Fetching derived-utci-historical_Mean radiant temperature_1980--1981.zip\n",
            "With properties {'format': 'zip', 'variable': 'Mean radiant temperature', 'product_type': 'Consolidated dataset', 'time': ['00:00', '01:00', '02:00', '03:00', '04:00', '05:00', '06:00', '07:00', '08:00', '09:00', '10:00', '11:00', '12:00', '13:00', '14:00', '15:00', '16:00', '17:00', '18:00', '19:00', '20:00', '21:00', '22:00'], 'day': ['18'], 'month': ['01'], 'year': ['1980'], 'area': [44.0, -10.0, 35.0, 5.0], 'grid': [0.25, 0.25]}\n"
          ],
          "name": "stdout"
        },
        {
          "output_type": "stream",
          "text": [
            "2020-02-25 15:31:47,692 INFO Welcome to the CDS\n",
            "2020-02-25 15:31:47,696 INFO Sending request to https://cds.climate.copernicus.eu/api/v2/resources/derived-utci-historical\n",
            "2020-02-25 15:31:48,800 INFO Request is queued\n",
            "2020-02-25 15:31:50,054 INFO Request is completed\n",
            "2020-02-25 15:31:50,056 INFO Downloading http://136.156.133.37/cache-compute-0011/cache/downloads/cemsdata.copernicus-climate.eu/UTCI-HEALTH-HISTORICAL/reanalysis/1.0/1980/ECMWF_mrt_19800118_v1.0_con.nc to dataset/derived-utci-historical_Mean radiant temperature_1980--1981.zip (48.9M)\n",
            "2020-02-25 15:31:58,825 INFO Download rate 5.6M/s\n"
          ],
          "name": "stderr"
        },
        {
          "output_type": "stream",
          "text": [
            "Fetching derived-utci-historical_Mean radiant temperature_1980--1981.zip\n",
            "With properties {'format': 'zip', 'variable': 'Mean radiant temperature', 'product_type': 'Consolidated dataset', 'time': ['00:00', '01:00', '02:00', '03:00', '04:00', '05:00', '06:00', '07:00', '08:00', '09:00', '10:00', '11:00', '12:00', '13:00', '14:00', '15:00', '16:00', '17:00', '18:00', '19:00', '20:00', '21:00', '22:00'], 'day': ['19'], 'month': ['01'], 'year': ['1980'], 'area': [44.0, -10.0, 35.0, 5.0], 'grid': [0.25, 0.25]}\n"
          ],
          "name": "stdout"
        },
        {
          "output_type": "stream",
          "text": [
            "2020-02-25 15:32:00,320 INFO Welcome to the CDS\n",
            "2020-02-25 15:32:00,321 INFO Sending request to https://cds.climate.copernicus.eu/api/v2/resources/derived-utci-historical\n",
            "2020-02-25 15:32:01,852 INFO Request is queued\n",
            "2020-02-25 15:32:03,112 INFO Request is running\n",
            "2020-02-25 15:32:04,874 INFO Request is completed\n",
            "2020-02-25 15:32:04,875 INFO Downloading http://136.156.132.198/cache-compute-0003/cache/downloads/cemsdata.copernicus-climate.eu/UTCI-HEALTH-HISTORICAL/reanalysis/1.0/1980/ECMWF_mrt_19800119_v1.0_con.nc to dataset/derived-utci-historical_Mean radiant temperature_1980--1981.zip (48.9M)\n",
            "2020-02-25 15:32:20,836 INFO Download rate 3.1M/s\n"
          ],
          "name": "stderr"
        },
        {
          "output_type": "stream",
          "text": [
            "Fetching derived-utci-historical_Mean radiant temperature_1980--1981.zip\n",
            "With properties {'format': 'zip', 'variable': 'Mean radiant temperature', 'product_type': 'Consolidated dataset', 'time': ['00:00', '01:00', '02:00', '03:00', '04:00', '05:00', '06:00', '07:00', '08:00', '09:00', '10:00', '11:00', '12:00', '13:00', '14:00', '15:00', '16:00', '17:00', '18:00', '19:00', '20:00', '21:00', '22:00'], 'day': ['20'], 'month': ['01'], 'year': ['1980'], 'area': [44.0, -10.0, 35.0, 5.0], 'grid': [0.25, 0.25]}\n"
          ],
          "name": "stdout"
        },
        {
          "output_type": "stream",
          "text": [
            "2020-02-25 15:32:26,936 INFO Welcome to the CDS\n",
            "2020-02-25 15:32:26,937 INFO Sending request to https://cds.climate.copernicus.eu/api/v2/resources/derived-utci-historical\n",
            "2020-02-25 15:32:28,138 INFO Request is queued\n",
            "2020-02-25 15:32:29,398 INFO Request is running\n",
            "2020-02-25 15:32:31,158 INFO Request is completed\n",
            "2020-02-25 15:32:31,159 INFO Downloading http://136.156.132.198/cache-compute-0003/cache/downloads/cemsdata.copernicus-climate.eu/UTCI-HEALTH-HISTORICAL/reanalysis/1.0/1980/ECMWF_mrt_19800120_v1.0_con.nc to dataset/derived-utci-historical_Mean radiant temperature_1980--1981.zip (48.8M)\n",
            "2020-02-25 15:32:43,617 INFO Download rate 3.9M/s\n"
          ],
          "name": "stderr"
        },
        {
          "output_type": "stream",
          "text": [
            "Fetching derived-utci-historical_Mean radiant temperature_1980--1981.zip\n",
            "With properties {'format': 'zip', 'variable': 'Mean radiant temperature', 'product_type': 'Consolidated dataset', 'time': ['00:00', '01:00', '02:00', '03:00', '04:00', '05:00', '06:00', '07:00', '08:00', '09:00', '10:00', '11:00', '12:00', '13:00', '14:00', '15:00', '16:00', '17:00', '18:00', '19:00', '20:00', '21:00', '22:00'], 'day': ['21'], 'month': ['01'], 'year': ['1980'], 'area': [44.0, -10.0, 35.0, 5.0], 'grid': [0.25, 0.25]}\n"
          ],
          "name": "stdout"
        },
        {
          "output_type": "stream",
          "text": [
            "2020-02-25 15:32:45,511 INFO Welcome to the CDS\n",
            "2020-02-25 15:32:45,512 INFO Sending request to https://cds.climate.copernicus.eu/api/v2/resources/derived-utci-historical\n",
            "2020-02-25 15:32:46,857 INFO Request is queued\n",
            "2020-02-25 15:32:48,116 INFO Request is completed\n",
            "2020-02-25 15:32:48,120 INFO Downloading http://136.156.133.32/cache-compute-0009/cache/downloads/cemsdata.copernicus-climate.eu/UTCI-HEALTH-HISTORICAL/reanalysis/1.0/1980/ECMWF_mrt_19800121_v1.0_con.nc to dataset/derived-utci-historical_Mean radiant temperature_1980--1981.zip (48.8M)\n",
            "2020-02-25 15:32:56,833 INFO Download rate 5.6M/s\n"
          ],
          "name": "stderr"
        },
        {
          "output_type": "stream",
          "text": [
            "Fetching derived-utci-historical_Mean radiant temperature_1980--1981.zip\n",
            "With properties {'format': 'zip', 'variable': 'Mean radiant temperature', 'product_type': 'Consolidated dataset', 'time': ['00:00', '01:00', '02:00', '03:00', '04:00', '05:00', '06:00', '07:00', '08:00', '09:00', '10:00', '11:00', '12:00', '13:00', '14:00', '15:00', '16:00', '17:00', '18:00', '19:00', '20:00', '21:00', '22:00'], 'day': ['22'], 'month': ['01'], 'year': ['1980'], 'area': [44.0, -10.0, 35.0, 5.0], 'grid': [0.25, 0.25]}\n"
          ],
          "name": "stdout"
        },
        {
          "output_type": "stream",
          "text": [
            "2020-02-25 15:32:58,344 INFO Welcome to the CDS\n",
            "2020-02-25 15:32:58,345 INFO Sending request to https://cds.climate.copernicus.eu/api/v2/resources/derived-utci-historical\n",
            "2020-02-25 15:33:00,038 INFO Request is queued\n",
            "2020-02-25 15:33:01,303 INFO Request is completed\n",
            "2020-02-25 15:33:01,305 INFO Downloading http://136.156.132.210/cache-compute-0005/cache/downloads/cemsdata.copernicus-climate.eu/UTCI-HEALTH-HISTORICAL/reanalysis/1.0/1980/ECMWF_mrt_19800122_v1.0_con.nc to dataset/derived-utci-historical_Mean radiant temperature_1980--1981.zip (48.9M)\n",
            "2020-02-25 15:33:26,588 INFO Download rate 1.9M/s\n"
          ],
          "name": "stderr"
        },
        {
          "output_type": "stream",
          "text": [
            "Fetching derived-utci-historical_Mean radiant temperature_1980--1981.zip\n",
            "With properties {'format': 'zip', 'variable': 'Mean radiant temperature', 'product_type': 'Consolidated dataset', 'time': ['00:00', '01:00', '02:00', '03:00', '04:00', '05:00', '06:00', '07:00', '08:00', '09:00', '10:00', '11:00', '12:00', '13:00', '14:00', '15:00', '16:00', '17:00', '18:00', '19:00', '20:00', '21:00', '22:00'], 'day': ['23'], 'month': ['01'], 'year': ['1980'], 'area': [44.0, -10.0, 35.0, 5.0], 'grid': [0.25, 0.25]}\n"
          ],
          "name": "stdout"
        },
        {
          "output_type": "stream",
          "text": [
            "2020-02-25 15:33:28,198 INFO Welcome to the CDS\n",
            "2020-02-25 15:33:28,200 INFO Sending request to https://cds.climate.copernicus.eu/api/v2/resources/derived-utci-historical\n",
            "2020-02-25 15:33:29,814 INFO Request is queued\n",
            "2020-02-25 15:33:31,072 INFO Request is completed\n",
            "2020-02-25 15:33:31,073 INFO Downloading http://136.156.133.37/cache-compute-0011/cache/downloads/cemsdata.copernicus-climate.eu/UTCI-HEALTH-HISTORICAL/reanalysis/1.0/1980/ECMWF_mrt_19800123_v1.0_con.nc to dataset/derived-utci-historical_Mean radiant temperature_1980--1981.zip (48.9M)\n",
            "2020-02-25 15:33:40,956 INFO Download rate 4.9M/s\n"
          ],
          "name": "stderr"
        },
        {
          "output_type": "stream",
          "text": [
            "Fetching derived-utci-historical_Mean radiant temperature_1980--1981.zip\n",
            "With properties {'format': 'zip', 'variable': 'Mean radiant temperature', 'product_type': 'Consolidated dataset', 'time': ['00:00', '01:00', '02:00', '03:00', '04:00', '05:00', '06:00', '07:00', '08:00', '09:00', '10:00', '11:00', '12:00', '13:00', '14:00', '15:00', '16:00', '17:00', '18:00', '19:00', '20:00', '21:00', '22:00'], 'day': ['24'], 'month': ['01'], 'year': ['1980'], 'area': [44.0, -10.0, 35.0, 5.0], 'grid': [0.25, 0.25]}\n"
          ],
          "name": "stdout"
        },
        {
          "output_type": "stream",
          "text": [
            "2020-02-25 15:33:42,308 INFO Welcome to the CDS\n",
            "2020-02-25 15:33:42,309 INFO Sending request to https://cds.climate.copernicus.eu/api/v2/resources/derived-utci-historical\n",
            "2020-02-25 15:33:43,432 INFO Request is queued\n",
            "2020-02-25 15:33:44,690 INFO Request is completed\n",
            "2020-02-25 15:33:44,691 INFO Downloading http://136.156.132.105/cache-compute-0000/cache/downloads/cemsdata.copernicus-climate.eu/UTCI-HEALTH-HISTORICAL/reanalysis/1.0/1980/ECMWF_mrt_19800124_v1.0_con.nc to dataset/derived-utci-historical_Mean radiant temperature_1980--1981.zip (48.8M)\n",
            "2020-02-25 15:33:57,009 INFO Download rate 4M/s\n"
          ],
          "name": "stderr"
        },
        {
          "output_type": "stream",
          "text": [
            "Fetching derived-utci-historical_Mean radiant temperature_1980--1981.zip\n",
            "With properties {'format': 'zip', 'variable': 'Mean radiant temperature', 'product_type': 'Consolidated dataset', 'time': ['00:00', '01:00', '02:00', '03:00', '04:00', '05:00', '06:00', '07:00', '08:00', '09:00', '10:00', '11:00', '12:00', '13:00', '14:00', '15:00', '16:00', '17:00', '18:00', '19:00', '20:00', '21:00', '22:00'], 'day': ['25'], 'month': ['01'], 'year': ['1980'], 'area': [44.0, -10.0, 35.0, 5.0], 'grid': [0.25, 0.25]}\n"
          ],
          "name": "stdout"
        },
        {
          "output_type": "stream",
          "text": [
            "2020-02-25 15:33:58,305 INFO Welcome to the CDS\n",
            "2020-02-25 15:33:58,306 INFO Sending request to https://cds.climate.copernicus.eu/api/v2/resources/derived-utci-historical\n",
            "2020-02-25 15:33:59,589 INFO Request is queued\n",
            "2020-02-25 15:34:00,852 INFO Request is completed\n",
            "2020-02-25 15:34:00,853 INFO Downloading http://136.156.133.41/cache-compute-0013/cache/downloads/cemsdata.copernicus-climate.eu/UTCI-HEALTH-HISTORICAL/reanalysis/1.0/1980/ECMWF_mrt_19800125_v1.0_con.nc to dataset/derived-utci-historical_Mean radiant temperature_1980--1981.zip (48.8M)\n",
            "2020-02-25 15:34:10,617 INFO Download rate 5M/s\n"
          ],
          "name": "stderr"
        },
        {
          "output_type": "stream",
          "text": [
            "Fetching derived-utci-historical_Mean radiant temperature_1980--1981.zip\n",
            "With properties {'format': 'zip', 'variable': 'Mean radiant temperature', 'product_type': 'Consolidated dataset', 'time': ['00:00', '01:00', '02:00', '03:00', '04:00', '05:00', '06:00', '07:00', '08:00', '09:00', '10:00', '11:00', '12:00', '13:00', '14:00', '15:00', '16:00', '17:00', '18:00', '19:00', '20:00', '21:00', '22:00'], 'day': ['26'], 'month': ['01'], 'year': ['1980'], 'area': [44.0, -10.0, 35.0, 5.0], 'grid': [0.25, 0.25]}\n"
          ],
          "name": "stdout"
        },
        {
          "output_type": "stream",
          "text": [
            "2020-02-25 15:34:12,142 INFO Welcome to the CDS\n",
            "2020-02-25 15:34:12,143 INFO Sending request to https://cds.climate.copernicus.eu/api/v2/resources/derived-utci-historical\n",
            "2020-02-25 15:34:13,245 INFO Request is queued\n",
            "2020-02-25 15:34:14,506 INFO Request is completed\n",
            "2020-02-25 15:34:14,507 INFO Downloading http://136.156.133.42/cache-compute-0014/cache/downloads/cemsdata.copernicus-climate.eu/UTCI-HEALTH-HISTORICAL/reanalysis/1.0/1980/ECMWF_mrt_19800126_v1.0_con.nc to dataset/derived-utci-historical_Mean radiant temperature_1980--1981.zip (48.8M)\n",
            "2020-02-25 15:34:23,308 INFO Download rate 5.5M/s\n"
          ],
          "name": "stderr"
        },
        {
          "output_type": "stream",
          "text": [
            "Fetching derived-utci-historical_Mean radiant temperature_1980--1981.zip\n",
            "With properties {'format': 'zip', 'variable': 'Mean radiant temperature', 'product_type': 'Consolidated dataset', 'time': ['00:00', '01:00', '02:00', '03:00', '04:00', '05:00', '06:00', '07:00', '08:00', '09:00', '10:00', '11:00', '12:00', '13:00', '14:00', '15:00', '16:00', '17:00', '18:00', '19:00', '20:00', '21:00', '22:00'], 'day': ['27'], 'month': ['01'], 'year': ['1980'], 'area': [44.0, -10.0, 35.0, 5.0], 'grid': [0.25, 0.25]}\n"
          ],
          "name": "stdout"
        },
        {
          "output_type": "stream",
          "text": [
            "2020-02-25 15:34:24,608 INFO Welcome to the CDS\n",
            "2020-02-25 15:34:24,612 INFO Sending request to https://cds.climate.copernicus.eu/api/v2/resources/derived-utci-historical\n",
            "2020-02-25 15:34:25,756 INFO Request is queued\n",
            "2020-02-25 15:34:27,015 INFO Request is completed\n",
            "2020-02-25 15:34:27,016 INFO Downloading http://136.156.132.153/cache-compute-0002/cache/downloads/cemsdata.copernicus-climate.eu/UTCI-HEALTH-HISTORICAL/reanalysis/1.0/1980/ECMWF_mrt_19800127_v1.0_con.nc to dataset/derived-utci-historical_Mean radiant temperature_1980--1981.zip (48.8M)\n",
            "2020-02-25 15:34:35,795 INFO Download rate 5.6M/s\n"
          ],
          "name": "stderr"
        },
        {
          "output_type": "stream",
          "text": [
            "Fetching derived-utci-historical_Mean radiant temperature_1980--1981.zip\n",
            "With properties {'format': 'zip', 'variable': 'Mean radiant temperature', 'product_type': 'Consolidated dataset', 'time': ['00:00', '01:00', '02:00', '03:00', '04:00', '05:00', '06:00', '07:00', '08:00', '09:00', '10:00', '11:00', '12:00', '13:00', '14:00', '15:00', '16:00', '17:00', '18:00', '19:00', '20:00', '21:00', '22:00'], 'day': ['28'], 'month': ['01'], 'year': ['1980'], 'area': [44.0, -10.0, 35.0, 5.0], 'grid': [0.25, 0.25]}\n"
          ],
          "name": "stdout"
        },
        {
          "output_type": "stream",
          "text": [
            "2020-02-25 15:34:37,144 INFO Welcome to the CDS\n",
            "2020-02-25 15:34:37,145 INFO Sending request to https://cds.climate.copernicus.eu/api/v2/resources/derived-utci-historical\n",
            "2020-02-25 15:34:38,212 INFO Request is queued\n",
            "2020-02-25 15:34:39,470 INFO Request is completed\n",
            "2020-02-25 15:34:39,471 INFO Downloading http://136.156.132.201/cache-compute-0004/cache/downloads/cemsdata.copernicus-climate.eu/UTCI-HEALTH-HISTORICAL/reanalysis/1.0/1980/ECMWF_mrt_19800128_v1.0_con.nc to dataset/derived-utci-historical_Mean radiant temperature_1980--1981.zip (48.8M)\n",
            "2020-02-25 15:34:47,346 INFO Download rate 6.2M/s\n"
          ],
          "name": "stderr"
        },
        {
          "output_type": "stream",
          "text": [
            "Fetching derived-utci-historical_Mean radiant temperature_1980--1981.zip\n",
            "With properties {'format': 'zip', 'variable': 'Mean radiant temperature', 'product_type': 'Consolidated dataset', 'time': ['00:00', '01:00', '02:00', '03:00', '04:00', '05:00', '06:00', '07:00', '08:00', '09:00', '10:00', '11:00', '12:00', '13:00', '14:00', '15:00', '16:00', '17:00', '18:00', '19:00', '20:00', '21:00', '22:00'], 'day': ['29'], 'month': ['01'], 'year': ['1980'], 'area': [44.0, -10.0, 35.0, 5.0], 'grid': [0.25, 0.25]}\n"
          ],
          "name": "stdout"
        },
        {
          "output_type": "stream",
          "text": [
            "2020-02-25 15:34:48,626 INFO Welcome to the CDS\n",
            "2020-02-25 15:34:48,629 INFO Sending request to https://cds.climate.copernicus.eu/api/v2/resources/derived-utci-historical\n",
            "2020-02-25 15:34:49,711 INFO Request is queued\n",
            "2020-02-25 15:34:50,972 INFO Request is running\n",
            "2020-02-25 15:34:52,736 INFO Request is completed\n",
            "2020-02-25 15:34:52,741 INFO Downloading http://136.156.132.198/cache-compute-0003/cache/downloads/cemsdata.copernicus-climate.eu/UTCI-HEALTH-HISTORICAL/reanalysis/1.0/1980/ECMWF_mrt_19800129_v1.0_con.nc to dataset/derived-utci-historical_Mean radiant temperature_1980--1981.zip (48.7M)\n",
            "2020-02-25 15:35:05,013 INFO Download rate 4M/s\n"
          ],
          "name": "stderr"
        },
        {
          "output_type": "stream",
          "text": [
            "Fetching derived-utci-historical_Mean radiant temperature_1980--1981.zip\n",
            "With properties {'format': 'zip', 'variable': 'Mean radiant temperature', 'product_type': 'Consolidated dataset', 'time': ['00:00', '01:00', '02:00', '03:00', '04:00', '05:00', '06:00', '07:00', '08:00', '09:00', '10:00', '11:00', '12:00', '13:00', '14:00', '15:00', '16:00', '17:00', '18:00', '19:00', '20:00', '21:00', '22:00'], 'day': ['30'], 'month': ['01'], 'year': ['1980'], 'area': [44.0, -10.0, 35.0, 5.0], 'grid': [0.25, 0.25]}\n"
          ],
          "name": "stdout"
        },
        {
          "output_type": "stream",
          "text": [
            "2020-02-25 15:35:06,306 INFO Welcome to the CDS\n",
            "2020-02-25 15:35:06,307 INFO Sending request to https://cds.climate.copernicus.eu/api/v2/resources/derived-utci-historical\n",
            "2020-02-25 15:35:07,417 INFO Request is queued\n",
            "2020-02-25 15:35:08,670 INFO Request is completed\n",
            "2020-02-25 15:35:08,672 INFO Downloading http://136.156.133.39/cache-compute-0012/cache/downloads/cemsdata.copernicus-climate.eu/UTCI-HEALTH-HISTORICAL/reanalysis/1.0/1980/ECMWF_mrt_19800130_v1.0_con.nc to dataset/derived-utci-historical_Mean radiant temperature_1980--1981.zip (48.8M)\n",
            "2020-02-25 15:35:17,505 INFO Download rate 5.5M/s\n"
          ],
          "name": "stderr"
        },
        {
          "output_type": "stream",
          "text": [
            "Fetching derived-utci-historical_Mean radiant temperature_1980--1981.zip\n",
            "With properties {'format': 'zip', 'variable': 'Mean radiant temperature', 'product_type': 'Consolidated dataset', 'time': ['00:00', '01:00', '02:00', '03:00', '04:00', '05:00', '06:00', '07:00', '08:00', '09:00', '10:00', '11:00', '12:00', '13:00', '14:00', '15:00', '16:00', '17:00', '18:00', '19:00', '20:00', '21:00', '22:00'], 'day': ['01'], 'month': ['02'], 'year': ['1980'], 'area': [44.0, -10.0, 35.0, 5.0], 'grid': [0.25, 0.25]}\n"
          ],
          "name": "stdout"
        },
        {
          "output_type": "stream",
          "text": [
            "2020-02-25 15:35:18,953 INFO Welcome to the CDS\n",
            "2020-02-25 15:35:18,956 INFO Sending request to https://cds.climate.copernicus.eu/api/v2/resources/derived-utci-historical\n",
            "2020-02-25 15:35:20,140 INFO Request is queued\n",
            "2020-02-25 15:35:21,400 INFO Request is completed\n",
            "2020-02-25 15:35:21,401 INFO Downloading http://136.156.132.153/cache-compute-0002/cache/downloads/cemsdata.copernicus-climate.eu/UTCI-HEALTH-HISTORICAL/reanalysis/1.0/1980/ECMWF_mrt_19800201_v1.0_con.nc to dataset/derived-utci-historical_Mean radiant temperature_1980--1981.zip (48.8M)\n",
            "2020-02-25 15:35:30,869 INFO Download rate 5.2M/s\n"
          ],
          "name": "stderr"
        },
        {
          "output_type": "stream",
          "text": [
            "Fetching derived-utci-historical_Mean radiant temperature_1980--1981.zip\n",
            "With properties {'format': 'zip', 'variable': 'Mean radiant temperature', 'product_type': 'Consolidated dataset', 'time': ['00:00', '01:00', '02:00', '03:00', '04:00', '05:00', '06:00', '07:00', '08:00', '09:00', '10:00', '11:00', '12:00', '13:00', '14:00', '15:00', '16:00', '17:00', '18:00', '19:00', '20:00', '21:00', '22:00'], 'day': ['02'], 'month': ['02'], 'year': ['1980'], 'area': [44.0, -10.0, 35.0, 5.0], 'grid': [0.25, 0.25]}\n"
          ],
          "name": "stdout"
        },
        {
          "output_type": "stream",
          "text": [
            "2020-02-25 15:35:32,165 INFO Welcome to the CDS\n",
            "2020-02-25 15:35:32,169 INFO Sending request to https://cds.climate.copernicus.eu/api/v2/resources/derived-utci-historical\n",
            "2020-02-25 15:35:33,229 INFO Request is queued\n",
            "2020-02-25 15:35:34,484 INFO Request is completed\n",
            "2020-02-25 15:35:34,486 INFO Downloading http://136.156.133.32/cache-compute-0009/cache/downloads/cemsdata.copernicus-climate.eu/UTCI-HEALTH-HISTORICAL/reanalysis/1.0/1980/ECMWF_mrt_19800202_v1.0_con.nc to dataset/derived-utci-historical_Mean radiant temperature_1980--1981.zip (49M)\n",
            "2020-02-25 15:35:46,698 INFO Download rate 4M/s\n"
          ],
          "name": "stderr"
        },
        {
          "output_type": "stream",
          "text": [
            "Fetching derived-utci-historical_Mean radiant temperature_1980--1981.zip\n",
            "With properties {'format': 'zip', 'variable': 'Mean radiant temperature', 'product_type': 'Consolidated dataset', 'time': ['00:00', '01:00', '02:00', '03:00', '04:00', '05:00', '06:00', '07:00', '08:00', '09:00', '10:00', '11:00', '12:00', '13:00', '14:00', '15:00', '16:00', '17:00', '18:00', '19:00', '20:00', '21:00', '22:00'], 'day': ['03'], 'month': ['02'], 'year': ['1980'], 'area': [44.0, -10.0, 35.0, 5.0], 'grid': [0.25, 0.25]}\n"
          ],
          "name": "stdout"
        },
        {
          "output_type": "stream",
          "text": [
            "2020-02-25 15:35:48,069 INFO Welcome to the CDS\n",
            "2020-02-25 15:35:48,071 INFO Sending request to https://cds.climate.copernicus.eu/api/v2/resources/derived-utci-historical\n",
            "2020-02-25 15:35:49,567 INFO Request is queued\n",
            "2020-02-25 15:35:50,826 INFO Request is completed\n",
            "2020-02-25 15:35:50,827 INFO Downloading http://136.156.132.198/cache-compute-0003/cache/downloads/cemsdata.copernicus-climate.eu/UTCI-HEALTH-HISTORICAL/reanalysis/1.0/1980/ECMWF_mrt_19800203_v1.0_con.nc to dataset/derived-utci-historical_Mean radiant temperature_1980--1981.zip (49.2M)\n",
            "2020-02-25 15:36:03,877 INFO Download rate 3.8M/s\n"
          ],
          "name": "stderr"
        },
        {
          "output_type": "stream",
          "text": [
            "Fetching derived-utci-historical_Mean radiant temperature_1980--1981.zip\n",
            "With properties {'format': 'zip', 'variable': 'Mean radiant temperature', 'product_type': 'Consolidated dataset', 'time': ['00:00', '01:00', '02:00', '03:00', '04:00', '05:00', '06:00', '07:00', '08:00', '09:00', '10:00', '11:00', '12:00', '13:00', '14:00', '15:00', '16:00', '17:00', '18:00', '19:00', '20:00', '21:00', '22:00'], 'day': ['04'], 'month': ['02'], 'year': ['1980'], 'area': [44.0, -10.0, 35.0, 5.0], 'grid': [0.25, 0.25]}\n"
          ],
          "name": "stdout"
        },
        {
          "output_type": "stream",
          "text": [
            "2020-02-25 15:36:05,147 INFO Welcome to the CDS\n",
            "2020-02-25 15:36:05,148 INFO Sending request to https://cds.climate.copernicus.eu/api/v2/resources/derived-utci-historical\n",
            "2020-02-25 15:36:06,313 INFO Request is queued\n",
            "2020-02-25 15:36:07,574 INFO Request is completed\n",
            "2020-02-25 15:36:07,575 INFO Downloading http://136.156.132.153/cache-compute-0002/cache/downloads/cemsdata.copernicus-climate.eu/UTCI-HEALTH-HISTORICAL/reanalysis/1.0/1980/ECMWF_mrt_19800204_v1.0_con.nc to dataset/derived-utci-historical_Mean radiant temperature_1980--1981.zip (49.2M)\n",
            "2020-02-25 15:36:20,016 INFO Download rate 4M/s\n"
          ],
          "name": "stderr"
        },
        {
          "output_type": "stream",
          "text": [
            "Fetching derived-utci-historical_Mean radiant temperature_1980--1981.zip\n",
            "With properties {'format': 'zip', 'variable': 'Mean radiant temperature', 'product_type': 'Consolidated dataset', 'time': ['00:00', '01:00', '02:00', '03:00', '04:00', '05:00', '06:00', '07:00', '08:00', '09:00', '10:00', '11:00', '12:00', '13:00', '14:00', '15:00', '16:00', '17:00', '18:00', '19:00', '20:00', '21:00', '22:00'], 'day': ['05'], 'month': ['02'], 'year': ['1980'], 'area': [44.0, -10.0, 35.0, 5.0], 'grid': [0.25, 0.25]}\n"
          ],
          "name": "stdout"
        },
        {
          "output_type": "stream",
          "text": [
            "2020-02-25 15:36:21,310 INFO Welcome to the CDS\n",
            "2020-02-25 15:36:21,311 INFO Sending request to https://cds.climate.copernicus.eu/api/v2/resources/derived-utci-historical\n",
            "2020-02-25 15:36:22,381 INFO Request is queued\n",
            "2020-02-25 15:36:23,641 INFO Request is completed\n",
            "2020-02-25 15:36:23,643 INFO Downloading http://136.156.132.235/cache-compute-0006/cache/downloads/cemsdata.copernicus-climate.eu/UTCI-HEALTH-HISTORICAL/reanalysis/1.0/1980/ECMWF_mrt_19800205_v1.0_con.nc to dataset/derived-utci-historical_Mean radiant temperature_1980--1981.zip (49M)\n",
            "2020-02-25 15:36:32,771 INFO Download rate 5.4M/s\n"
          ],
          "name": "stderr"
        },
        {
          "output_type": "stream",
          "text": [
            "Fetching derived-utci-historical_Mean radiant temperature_1980--1981.zip\n",
            "With properties {'format': 'zip', 'variable': 'Mean radiant temperature', 'product_type': 'Consolidated dataset', 'time': ['00:00', '01:00', '02:00', '03:00', '04:00', '05:00', '06:00', '07:00', '08:00', '09:00', '10:00', '11:00', '12:00', '13:00', '14:00', '15:00', '16:00', '17:00', '18:00', '19:00', '20:00', '21:00', '22:00'], 'day': ['06'], 'month': ['02'], 'year': ['1980'], 'area': [44.0, -10.0, 35.0, 5.0], 'grid': [0.25, 0.25]}\n"
          ],
          "name": "stdout"
        },
        {
          "output_type": "stream",
          "text": [
            "2020-02-25 15:36:34,066 INFO Welcome to the CDS\n",
            "2020-02-25 15:36:34,068 INFO Sending request to https://cds.climate.copernicus.eu/api/v2/resources/derived-utci-historical\n",
            "2020-02-25 15:36:35,148 INFO Request is queued\n",
            "2020-02-25 15:36:36,409 INFO Request is completed\n",
            "2020-02-25 15:36:36,410 INFO Downloading http://136.156.132.210/cache-compute-0005/cache/downloads/cemsdata.copernicus-climate.eu/UTCI-HEALTH-HISTORICAL/reanalysis/1.0/1980/ECMWF_mrt_19800206_v1.0_con.nc to dataset/derived-utci-historical_Mean radiant temperature_1980--1981.zip (48.9M)\n",
            "2020-02-25 15:36:57,868 INFO Download rate 2.3M/s\n"
          ],
          "name": "stderr"
        },
        {
          "output_type": "stream",
          "text": [
            "Fetching derived-utci-historical_Mean radiant temperature_1980--1981.zip\n",
            "With properties {'format': 'zip', 'variable': 'Mean radiant temperature', 'product_type': 'Consolidated dataset', 'time': ['00:00', '01:00', '02:00', '03:00', '04:00', '05:00', '06:00', '07:00', '08:00', '09:00', '10:00', '11:00', '12:00', '13:00', '14:00', '15:00', '16:00', '17:00', '18:00', '19:00', '20:00', '21:00', '22:00'], 'day': ['07'], 'month': ['02'], 'year': ['1980'], 'area': [44.0, -10.0, 35.0, 5.0], 'grid': [0.25, 0.25]}\n"
          ],
          "name": "stdout"
        },
        {
          "output_type": "stream",
          "text": [
            "2020-02-25 15:36:59,266 INFO Welcome to the CDS\n",
            "2020-02-25 15:36:59,268 INFO Sending request to https://cds.climate.copernicus.eu/api/v2/resources/derived-utci-historical\n",
            "2020-02-25 15:37:00,553 INFO Request is queued\n",
            "2020-02-25 15:37:01,811 INFO Request is completed\n",
            "2020-02-25 15:37:01,812 INFO Downloading http://136.156.133.25/cache-compute-0008/cache/downloads/cemsdata.copernicus-climate.eu/UTCI-HEALTH-HISTORICAL/reanalysis/1.0/1980/ECMWF_mrt_19800207_v1.0_con.nc to dataset/derived-utci-historical_Mean radiant temperature_1980--1981.zip (49M)\n",
            "2020-02-25 15:37:10,828 INFO Download rate 5.4M/s\n"
          ],
          "name": "stderr"
        },
        {
          "output_type": "stream",
          "text": [
            "Fetching derived-utci-historical_Mean radiant temperature_1980--1981.zip\n",
            "With properties {'format': 'zip', 'variable': 'Mean radiant temperature', 'product_type': 'Consolidated dataset', 'time': ['00:00', '01:00', '02:00', '03:00', '04:00', '05:00', '06:00', '07:00', '08:00', '09:00', '10:00', '11:00', '12:00', '13:00', '14:00', '15:00', '16:00', '17:00', '18:00', '19:00', '20:00', '21:00', '22:00'], 'day': ['08'], 'month': ['02'], 'year': ['1980'], 'area': [44.0, -10.0, 35.0, 5.0], 'grid': [0.25, 0.25]}\n"
          ],
          "name": "stdout"
        },
        {
          "output_type": "stream",
          "text": [
            "2020-02-25 15:37:12,171 INFO Welcome to the CDS\n",
            "2020-02-25 15:37:12,174 INFO Sending request to https://cds.climate.copernicus.eu/api/v2/resources/derived-utci-historical\n",
            "2020-02-25 15:37:13,302 INFO Request is queued\n",
            "2020-02-25 15:37:14,559 INFO Request is completed\n",
            "2020-02-25 15:37:14,560 INFO Downloading http://136.156.132.236/cache-compute-0007/cache/downloads/cemsdata.copernicus-climate.eu/UTCI-HEALTH-HISTORICAL/reanalysis/1.0/1980/ECMWF_mrt_19800208_v1.0_con.nc to dataset/derived-utci-historical_Mean radiant temperature_1980--1981.zip (49.1M)\n",
            "2020-02-25 15:37:27,559 INFO Download rate 3.8M/s\n"
          ],
          "name": "stderr"
        },
        {
          "output_type": "stream",
          "text": [
            "Fetching derived-utci-historical_Mean radiant temperature_1980--1981.zip\n",
            "With properties {'format': 'zip', 'variable': 'Mean radiant temperature', 'product_type': 'Consolidated dataset', 'time': ['00:00', '01:00', '02:00', '03:00', '04:00', '05:00', '06:00', '07:00', '08:00', '09:00', '10:00', '11:00', '12:00', '13:00', '14:00', '15:00', '16:00', '17:00', '18:00', '19:00', '20:00', '21:00', '22:00'], 'day': ['09'], 'month': ['02'], 'year': ['1980'], 'area': [44.0, -10.0, 35.0, 5.0], 'grid': [0.25, 0.25]}\n"
          ],
          "name": "stdout"
        },
        {
          "output_type": "stream",
          "text": [
            "2020-02-25 15:37:29,231 INFO Welcome to the CDS\n",
            "2020-02-25 15:37:29,232 INFO Sending request to https://cds.climate.copernicus.eu/api/v2/resources/derived-utci-historical\n",
            "2020-02-25 15:37:30,400 INFO Request is queued\n",
            "2020-02-25 15:37:31,658 INFO Request is completed\n",
            "2020-02-25 15:37:31,659 INFO Downloading http://136.156.132.153/cache-compute-0002/cache/downloads/cemsdata.copernicus-climate.eu/UTCI-HEALTH-HISTORICAL/reanalysis/1.0/1980/ECMWF_mrt_19800209_v1.0_con.nc to dataset/derived-utci-historical_Mean radiant temperature_1980--1981.zip (49.1M)\n",
            "2020-02-25 15:37:43,718 INFO Download rate 4.1M/s\n"
          ],
          "name": "stderr"
        },
        {
          "output_type": "stream",
          "text": [
            "Fetching derived-utci-historical_Mean radiant temperature_1980--1981.zip\n",
            "With properties {'format': 'zip', 'variable': 'Mean radiant temperature', 'product_type': 'Consolidated dataset', 'time': ['00:00', '01:00', '02:00', '03:00', '04:00', '05:00', '06:00', '07:00', '08:00', '09:00', '10:00', '11:00', '12:00', '13:00', '14:00', '15:00', '16:00', '17:00', '18:00', '19:00', '20:00', '21:00', '22:00'], 'day': ['10'], 'month': ['02'], 'year': ['1980'], 'area': [44.0, -10.0, 35.0, 5.0], 'grid': [0.25, 0.25]}\n"
          ],
          "name": "stdout"
        },
        {
          "output_type": "stream",
          "text": [
            "2020-02-25 15:37:45,030 INFO Welcome to the CDS\n",
            "2020-02-25 15:37:45,031 INFO Sending request to https://cds.climate.copernicus.eu/api/v2/resources/derived-utci-historical\n",
            "2020-02-25 15:37:46,088 INFO Request is queued\n",
            "2020-02-25 15:37:47,347 INFO Request is completed\n",
            "2020-02-25 15:37:47,348 INFO Downloading http://136.156.133.36/cache-compute-0010/cache/downloads/cemsdata.copernicus-climate.eu/UTCI-HEALTH-HISTORICAL/reanalysis/1.0/1980/ECMWF_mrt_19800210_v1.0_con.nc to dataset/derived-utci-historical_Mean radiant temperature_1980--1981.zip (49M)\n",
            "2020-02-25 15:37:59,697 INFO Download rate 4M/s\n"
          ],
          "name": "stderr"
        },
        {
          "output_type": "stream",
          "text": [
            "Fetching derived-utci-historical_Mean radiant temperature_1980--1981.zip\n",
            "With properties {'format': 'zip', 'variable': 'Mean radiant temperature', 'product_type': 'Consolidated dataset', 'time': ['00:00', '01:00', '02:00', '03:00', '04:00', '05:00', '06:00', '07:00', '08:00', '09:00', '10:00', '11:00', '12:00', '13:00', '14:00', '15:00', '16:00', '17:00', '18:00', '19:00', '20:00', '21:00', '22:00'], 'day': ['11'], 'month': ['02'], 'year': ['1980'], 'area': [44.0, -10.0, 35.0, 5.0], 'grid': [0.25, 0.25]}\n"
          ],
          "name": "stdout"
        },
        {
          "output_type": "stream",
          "text": [
            "2020-02-25 15:38:01,028 INFO Welcome to the CDS\n",
            "2020-02-25 15:38:01,029 INFO Sending request to https://cds.climate.copernicus.eu/api/v2/resources/derived-utci-historical\n",
            "2020-02-25 15:38:02,628 INFO Request is queued\n",
            "2020-02-25 15:38:03,888 INFO Request is completed\n",
            "2020-02-25 15:38:03,891 INFO Downloading http://136.156.132.198/cache-compute-0003/cache/downloads/cemsdata.copernicus-climate.eu/UTCI-HEALTH-HISTORICAL/reanalysis/1.0/1980/ECMWF_mrt_19800211_v1.0_con.nc to dataset/derived-utci-historical_Mean radiant temperature_1980--1981.zip (49M)\n",
            "2020-02-25 15:38:21,031 INFO Download rate 2.9M/s\n"
          ],
          "name": "stderr"
        },
        {
          "output_type": "stream",
          "text": [
            "Fetching derived-utci-historical_Mean radiant temperature_1980--1981.zip\n",
            "With properties {'format': 'zip', 'variable': 'Mean radiant temperature', 'product_type': 'Consolidated dataset', 'time': ['00:00', '01:00', '02:00', '03:00', '04:00', '05:00', '06:00', '07:00', '08:00', '09:00', '10:00', '11:00', '12:00', '13:00', '14:00', '15:00', '16:00', '17:00', '18:00', '19:00', '20:00', '21:00', '22:00'], 'day': ['12'], 'month': ['02'], 'year': ['1980'], 'area': [44.0, -10.0, 35.0, 5.0], 'grid': [0.25, 0.25]}\n"
          ],
          "name": "stdout"
        },
        {
          "output_type": "stream",
          "text": [
            "2020-02-25 15:38:22,374 INFO Welcome to the CDS\n",
            "2020-02-25 15:38:22,375 INFO Sending request to https://cds.climate.copernicus.eu/api/v2/resources/derived-utci-historical\n",
            "2020-02-25 15:38:23,641 INFO Request is queued\n",
            "2020-02-25 15:38:24,899 INFO Request is running\n",
            "2020-02-25 15:38:26,658 INFO Request is completed\n",
            "2020-02-25 15:38:26,659 INFO Downloading http://136.156.133.46/cache-compute-0015/cache/downloads/cemsdata.copernicus-climate.eu/UTCI-HEALTH-HISTORICAL/reanalysis/1.0/1980/ECMWF_mrt_19800212_v1.0_con.nc to dataset/derived-utci-historical_Mean radiant temperature_1980--1981.zip (49.1M)\n",
            "2020-02-25 15:38:37,314 INFO Download rate 4.6M/s\n"
          ],
          "name": "stderr"
        },
        {
          "output_type": "stream",
          "text": [
            "Fetching derived-utci-historical_Mean radiant temperature_1980--1981.zip\n",
            "With properties {'format': 'zip', 'variable': 'Mean radiant temperature', 'product_type': 'Consolidated dataset', 'time': ['00:00', '01:00', '02:00', '03:00', '04:00', '05:00', '06:00', '07:00', '08:00', '09:00', '10:00', '11:00', '12:00', '13:00', '14:00', '15:00', '16:00', '17:00', '18:00', '19:00', '20:00', '21:00', '22:00'], 'day': ['13'], 'month': ['02'], 'year': ['1980'], 'area': [44.0, -10.0, 35.0, 5.0], 'grid': [0.25, 0.25]}\n"
          ],
          "name": "stdout"
        },
        {
          "output_type": "stream",
          "text": [
            "2020-02-25 15:38:38,609 INFO Welcome to the CDS\n",
            "2020-02-25 15:38:38,610 INFO Sending request to https://cds.climate.copernicus.eu/api/v2/resources/derived-utci-historical\n",
            "2020-02-25 15:38:39,874 INFO Request is queued\n",
            "2020-02-25 15:38:41,129 INFO Request is running\n",
            "2020-02-25 15:38:42,884 INFO Request is completed\n",
            "2020-02-25 15:38:42,885 INFO Downloading http://136.156.133.39/cache-compute-0012/cache/downloads/cemsdata.copernicus-climate.eu/UTCI-HEALTH-HISTORICAL/reanalysis/1.0/1980/ECMWF_mrt_19800213_v1.0_con.nc to dataset/derived-utci-historical_Mean radiant temperature_1980--1981.zip (49.1M)\n",
            "2020-02-25 15:38:51,218 INFO Download rate 5.9M/s\n"
          ],
          "name": "stderr"
        },
        {
          "output_type": "stream",
          "text": [
            "Fetching derived-utci-historical_Mean radiant temperature_1980--1981.zip\n",
            "With properties {'format': 'zip', 'variable': 'Mean radiant temperature', 'product_type': 'Consolidated dataset', 'time': ['00:00', '01:00', '02:00', '03:00', '04:00', '05:00', '06:00', '07:00', '08:00', '09:00', '10:00', '11:00', '12:00', '13:00', '14:00', '15:00', '16:00', '17:00', '18:00', '19:00', '20:00', '21:00', '22:00'], 'day': ['14'], 'month': ['02'], 'year': ['1980'], 'area': [44.0, -10.0, 35.0, 5.0], 'grid': [0.25, 0.25]}\n"
          ],
          "name": "stdout"
        },
        {
          "output_type": "stream",
          "text": [
            "2020-02-25 15:38:52,775 INFO Welcome to the CDS\n",
            "2020-02-25 15:38:52,779 INFO Sending request to https://cds.climate.copernicus.eu/api/v2/resources/derived-utci-historical\n",
            "2020-02-25 15:38:53,926 INFO Request is queued\n",
            "2020-02-25 15:38:55,180 INFO Request is completed\n",
            "2020-02-25 15:38:55,181 INFO Downloading http://136.156.132.153/cache-compute-0002/cache/downloads/cemsdata.copernicus-climate.eu/UTCI-HEALTH-HISTORICAL/reanalysis/1.0/1980/ECMWF_mrt_19800214_v1.0_con.nc to dataset/derived-utci-historical_Mean radiant temperature_1980--1981.zip (48.9M)\n",
            "2020-02-25 15:39:12,679 INFO Download rate 2.8M/s\n"
          ],
          "name": "stderr"
        },
        {
          "output_type": "stream",
          "text": [
            "Fetching derived-utci-historical_Mean radiant temperature_1980--1981.zip\n",
            "With properties {'format': 'zip', 'variable': 'Mean radiant temperature', 'product_type': 'Consolidated dataset', 'time': ['00:00', '01:00', '02:00', '03:00', '04:00', '05:00', '06:00', '07:00', '08:00', '09:00', '10:00', '11:00', '12:00', '13:00', '14:00', '15:00', '16:00', '17:00', '18:00', '19:00', '20:00', '21:00', '22:00'], 'day': ['15'], 'month': ['02'], 'year': ['1980'], 'area': [44.0, -10.0, 35.0, 5.0], 'grid': [0.25, 0.25]}\n"
          ],
          "name": "stdout"
        },
        {
          "output_type": "stream",
          "text": [
            "2020-02-25 15:39:14,461 INFO Welcome to the CDS\n",
            "2020-02-25 15:39:14,462 INFO Sending request to https://cds.climate.copernicus.eu/api/v2/resources/derived-utci-historical\n",
            "2020-02-25 15:39:15,634 INFO Request is queued\n",
            "2020-02-25 15:39:16,895 INFO Request is completed\n",
            "2020-02-25 15:39:16,896 INFO Downloading http://136.156.132.105/cache-compute-0000/cache/downloads/cemsdata.copernicus-climate.eu/UTCI-HEALTH-HISTORICAL/reanalysis/1.0/1980/ECMWF_mrt_19800215_v1.0_con.nc to dataset/derived-utci-historical_Mean radiant temperature_1980--1981.zip (49M)\n",
            "2020-02-25 15:39:28,800 INFO Download rate 4.1M/s\n"
          ],
          "name": "stderr"
        },
        {
          "output_type": "stream",
          "text": [
            "Fetching derived-utci-historical_Mean radiant temperature_1980--1981.zip\n",
            "With properties {'format': 'zip', 'variable': 'Mean radiant temperature', 'product_type': 'Consolidated dataset', 'time': ['00:00', '01:00', '02:00', '03:00', '04:00', '05:00', '06:00', '07:00', '08:00', '09:00', '10:00', '11:00', '12:00', '13:00', '14:00', '15:00', '16:00', '17:00', '18:00', '19:00', '20:00', '21:00', '22:00'], 'day': ['16'], 'month': ['02'], 'year': ['1980'], 'area': [44.0, -10.0, 35.0, 5.0], 'grid': [0.25, 0.25]}\n"
          ],
          "name": "stdout"
        },
        {
          "output_type": "stream",
          "text": [
            "2020-02-25 15:39:30,100 INFO Welcome to the CDS\n",
            "2020-02-25 15:39:30,102 INFO Sending request to https://cds.climate.copernicus.eu/api/v2/resources/derived-utci-historical\n",
            "2020-02-25 15:39:31,276 INFO Request is queued\n",
            "2020-02-25 15:39:32,538 INFO Request is running\n",
            "2020-02-25 15:39:34,300 INFO Request is completed\n",
            "2020-02-25 15:39:34,304 INFO Downloading http://136.156.133.36/cache-compute-0010/cache/downloads/cemsdata.copernicus-climate.eu/UTCI-HEALTH-HISTORICAL/reanalysis/1.0/1980/ECMWF_mrt_19800216_v1.0_con.nc to dataset/derived-utci-historical_Mean radiant temperature_1980--1981.zip (49.1M)\n",
            "2020-02-25 15:39:47,690 INFO Download rate 3.7M/s\n"
          ],
          "name": "stderr"
        },
        {
          "output_type": "stream",
          "text": [
            "Fetching derived-utci-historical_Mean radiant temperature_1980--1981.zip\n",
            "With properties {'format': 'zip', 'variable': 'Mean radiant temperature', 'product_type': 'Consolidated dataset', 'time': ['00:00', '01:00', '02:00', '03:00', '04:00', '05:00', '06:00', '07:00', '08:00', '09:00', '10:00', '11:00', '12:00', '13:00', '14:00', '15:00', '16:00', '17:00', '18:00', '19:00', '20:00', '21:00', '22:00'], 'day': ['17'], 'month': ['02'], 'year': ['1980'], 'area': [44.0, -10.0, 35.0, 5.0], 'grid': [0.25, 0.25]}\n"
          ],
          "name": "stdout"
        },
        {
          "output_type": "stream",
          "text": [
            "2020-02-25 15:39:48,967 INFO Welcome to the CDS\n",
            "2020-02-25 15:39:48,968 INFO Sending request to https://cds.climate.copernicus.eu/api/v2/resources/derived-utci-historical\n",
            "2020-02-25 15:39:50,234 INFO Request is queued\n",
            "2020-02-25 15:39:51,491 INFO Request is completed\n",
            "2020-02-25 15:39:51,492 INFO Downloading http://136.156.133.36/cache-compute-0010/cache/downloads/cemsdata.copernicus-climate.eu/UTCI-HEALTH-HISTORICAL/reanalysis/1.0/1980/ECMWF_mrt_19800217_v1.0_con.nc to dataset/derived-utci-historical_Mean radiant temperature_1980--1981.zip (49.4M)\n",
            "2020-02-25 15:40:06,861 INFO Download rate 3.2M/s\n"
          ],
          "name": "stderr"
        },
        {
          "output_type": "stream",
          "text": [
            "Fetching derived-utci-historical_Mean radiant temperature_1980--1981.zip\n",
            "With properties {'format': 'zip', 'variable': 'Mean radiant temperature', 'product_type': 'Consolidated dataset', 'time': ['00:00', '01:00', '02:00', '03:00', '04:00', '05:00', '06:00', '07:00', '08:00', '09:00', '10:00', '11:00', '12:00', '13:00', '14:00', '15:00', '16:00', '17:00', '18:00', '19:00', '20:00', '21:00', '22:00'], 'day': ['18'], 'month': ['02'], 'year': ['1980'], 'area': [44.0, -10.0, 35.0, 5.0], 'grid': [0.25, 0.25]}\n"
          ],
          "name": "stdout"
        },
        {
          "output_type": "stream",
          "text": [
            "2020-02-25 15:40:08,139 INFO Welcome to the CDS\n",
            "2020-02-25 15:40:08,140 INFO Sending request to https://cds.climate.copernicus.eu/api/v2/resources/derived-utci-historical\n",
            "2020-02-25 15:40:09,318 INFO Request is queued\n",
            "2020-02-25 15:40:10,575 INFO Request is completed\n",
            "2020-02-25 15:40:10,577 INFO Downloading http://136.156.132.236/cache-compute-0007/cache/downloads/cemsdata.copernicus-climate.eu/UTCI-HEALTH-HISTORICAL/reanalysis/1.0/1980/ECMWF_mrt_19800218_v1.0_con.nc to dataset/derived-utci-historical_Mean radiant temperature_1980--1981.zip (49.2M)\n",
            "2020-02-25 15:40:26,205 INFO Download rate 3.1M/s\n"
          ],
          "name": "stderr"
        },
        {
          "output_type": "stream",
          "text": [
            "Fetching derived-utci-historical_Mean radiant temperature_1980--1981.zip\n",
            "With properties {'format': 'zip', 'variable': 'Mean radiant temperature', 'product_type': 'Consolidated dataset', 'time': ['00:00', '01:00', '02:00', '03:00', '04:00', '05:00', '06:00', '07:00', '08:00', '09:00', '10:00', '11:00', '12:00', '13:00', '14:00', '15:00', '16:00', '17:00', '18:00', '19:00', '20:00', '21:00', '22:00'], 'day': ['19'], 'month': ['02'], 'year': ['1980'], 'area': [44.0, -10.0, 35.0, 5.0], 'grid': [0.25, 0.25]}\n"
          ],
          "name": "stdout"
        },
        {
          "output_type": "stream",
          "text": [
            "2020-02-25 15:40:27,503 INFO Welcome to the CDS\n",
            "2020-02-25 15:40:27,504 INFO Sending request to https://cds.climate.copernicus.eu/api/v2/resources/derived-utci-historical\n",
            "2020-02-25 15:40:28,586 INFO Request is queued\n",
            "2020-02-25 15:40:29,845 INFO Request is completed\n",
            "2020-02-25 15:40:29,846 INFO Downloading http://136.156.132.105/cache-compute-0000/cache/downloads/cemsdata.copernicus-climate.eu/UTCI-HEALTH-HISTORICAL/reanalysis/1.0/1980/ECMWF_mrt_19800219_v1.0_con.nc to dataset/derived-utci-historical_Mean radiant temperature_1980--1981.zip (49.1M)\n",
            "2020-02-25 15:40:42,081 INFO Download rate 4M/s\n"
          ],
          "name": "stderr"
        },
        {
          "output_type": "stream",
          "text": [
            "Fetching derived-utci-historical_Mean radiant temperature_1980--1981.zip\n",
            "With properties {'format': 'zip', 'variable': 'Mean radiant temperature', 'product_type': 'Consolidated dataset', 'time': ['00:00', '01:00', '02:00', '03:00', '04:00', '05:00', '06:00', '07:00', '08:00', '09:00', '10:00', '11:00', '12:00', '13:00', '14:00', '15:00', '16:00', '17:00', '18:00', '19:00', '20:00', '21:00', '22:00'], 'day': ['20'], 'month': ['02'], 'year': ['1980'], 'area': [44.0, -10.0, 35.0, 5.0], 'grid': [0.25, 0.25]}\n"
          ],
          "name": "stdout"
        },
        {
          "output_type": "stream",
          "text": [
            "2020-02-25 15:40:43,351 INFO Welcome to the CDS\n",
            "2020-02-25 15:40:43,352 INFO Sending request to https://cds.climate.copernicus.eu/api/v2/resources/derived-utci-historical\n",
            "2020-02-25 15:40:44,699 INFO Request is queued\n",
            "2020-02-25 15:40:45,960 INFO Request is completed\n",
            "2020-02-25 15:40:45,961 INFO Downloading http://136.156.132.236/cache-compute-0007/cache/downloads/cemsdata.copernicus-climate.eu/UTCI-HEALTH-HISTORICAL/reanalysis/1.0/1980/ECMWF_mrt_19800220_v1.0_con.nc to dataset/derived-utci-historical_Mean radiant temperature_1980--1981.zip (49.3M)\n",
            "2020-02-25 15:41:01,471 INFO Download rate 3.2M/s\n"
          ],
          "name": "stderr"
        },
        {
          "output_type": "stream",
          "text": [
            "Fetching derived-utci-historical_Mean radiant temperature_1980--1981.zip\n",
            "With properties {'format': 'zip', 'variable': 'Mean radiant temperature', 'product_type': 'Consolidated dataset', 'time': ['00:00', '01:00', '02:00', '03:00', '04:00', '05:00', '06:00', '07:00', '08:00', '09:00', '10:00', '11:00', '12:00', '13:00', '14:00', '15:00', '16:00', '17:00', '18:00', '19:00', '20:00', '21:00', '22:00'], 'day': ['21'], 'month': ['02'], 'year': ['1980'], 'area': [44.0, -10.0, 35.0, 5.0], 'grid': [0.25, 0.25]}\n"
          ],
          "name": "stdout"
        },
        {
          "output_type": "stream",
          "text": [
            "2020-02-25 15:41:02,779 INFO Welcome to the CDS\n",
            "2020-02-25 15:41:02,779 INFO Sending request to https://cds.climate.copernicus.eu/api/v2/resources/derived-utci-historical\n",
            "2020-02-25 15:41:03,899 INFO Request is queued\n",
            "2020-02-25 15:41:05,160 INFO Request is completed\n",
            "2020-02-25 15:41:05,162 INFO Downloading http://136.156.133.46/cache-compute-0015/cache/downloads/cemsdata.copernicus-climate.eu/UTCI-HEALTH-HISTORICAL/reanalysis/1.0/1980/ECMWF_mrt_19800221_v1.0_con.nc to dataset/derived-utci-historical_Mean radiant temperature_1980--1981.zip (49.1M)\n",
            "2020-02-25 15:41:16,067 INFO Download rate 4.5M/s\n"
          ],
          "name": "stderr"
        },
        {
          "output_type": "stream",
          "text": [
            "Fetching derived-utci-historical_Mean radiant temperature_1980--1981.zip\n",
            "With properties {'format': 'zip', 'variable': 'Mean radiant temperature', 'product_type': 'Consolidated dataset', 'time': ['00:00', '01:00', '02:00', '03:00', '04:00', '05:00', '06:00', '07:00', '08:00', '09:00', '10:00', '11:00', '12:00', '13:00', '14:00', '15:00', '16:00', '17:00', '18:00', '19:00', '20:00', '21:00', '22:00'], 'day': ['22'], 'month': ['02'], 'year': ['1980'], 'area': [44.0, -10.0, 35.0, 5.0], 'grid': [0.25, 0.25]}\n"
          ],
          "name": "stdout"
        },
        {
          "output_type": "stream",
          "text": [
            "2020-02-25 15:41:17,364 INFO Welcome to the CDS\n",
            "2020-02-25 15:41:17,366 INFO Sending request to https://cds.climate.copernicus.eu/api/v2/resources/derived-utci-historical\n",
            "2020-02-25 15:41:18,413 INFO Request is queued\n",
            "2020-02-25 15:41:19,675 INFO Request is completed\n",
            "2020-02-25 15:41:19,676 INFO Downloading http://136.156.133.41/cache-compute-0013/cache/downloads/cemsdata.copernicus-climate.eu/UTCI-HEALTH-HISTORICAL/reanalysis/1.0/1980/ECMWF_mrt_19800222_v1.0_con.nc to dataset/derived-utci-historical_Mean radiant temperature_1980--1981.zip (49.2M)\n",
            "2020-02-25 15:41:32,924 INFO Download rate 3.7M/s\n"
          ],
          "name": "stderr"
        },
        {
          "output_type": "stream",
          "text": [
            "Fetching derived-utci-historical_Mean radiant temperature_1980--1981.zip\n",
            "With properties {'format': 'zip', 'variable': 'Mean radiant temperature', 'product_type': 'Consolidated dataset', 'time': ['00:00', '01:00', '02:00', '03:00', '04:00', '05:00', '06:00', '07:00', '08:00', '09:00', '10:00', '11:00', '12:00', '13:00', '14:00', '15:00', '16:00', '17:00', '18:00', '19:00', '20:00', '21:00', '22:00'], 'day': ['23'], 'month': ['02'], 'year': ['1980'], 'area': [44.0, -10.0, 35.0, 5.0], 'grid': [0.25, 0.25]}\n"
          ],
          "name": "stdout"
        },
        {
          "output_type": "stream",
          "text": [
            "2020-02-25 15:41:34,221 INFO Welcome to the CDS\n",
            "2020-02-25 15:41:34,222 INFO Sending request to https://cds.climate.copernicus.eu/api/v2/resources/derived-utci-historical\n",
            "2020-02-25 15:41:35,267 INFO Request is queued\n",
            "2020-02-25 15:41:36,521 INFO Request is completed\n",
            "2020-02-25 15:41:36,522 INFO Downloading http://136.156.132.210/cache-compute-0005/cache/downloads/cemsdata.copernicus-climate.eu/UTCI-HEALTH-HISTORICAL/reanalysis/1.0/1980/ECMWF_mrt_19800223_v1.0_con.nc to dataset/derived-utci-historical_Mean radiant temperature_1980--1981.zip (49.3M)\n",
            "2020-02-25 15:41:55,767 INFO Download rate 2.6M/s\n"
          ],
          "name": "stderr"
        },
        {
          "output_type": "stream",
          "text": [
            "Fetching derived-utci-historical_Mean radiant temperature_1980--1981.zip\n",
            "With properties {'format': 'zip', 'variable': 'Mean radiant temperature', 'product_type': 'Consolidated dataset', 'time': ['00:00', '01:00', '02:00', '03:00', '04:00', '05:00', '06:00', '07:00', '08:00', '09:00', '10:00', '11:00', '12:00', '13:00', '14:00', '15:00', '16:00', '17:00', '18:00', '19:00', '20:00', '21:00', '22:00'], 'day': ['24'], 'month': ['02'], 'year': ['1980'], 'area': [44.0, -10.0, 35.0, 5.0], 'grid': [0.25, 0.25]}\n"
          ],
          "name": "stdout"
        },
        {
          "output_type": "stream",
          "text": [
            "2020-02-25 15:41:57,041 INFO Welcome to the CDS\n",
            "2020-02-25 15:41:57,042 INFO Sending request to https://cds.climate.copernicus.eu/api/v2/resources/derived-utci-historical\n",
            "2020-02-25 15:41:58,076 INFO Request is queued\n",
            "2020-02-25 15:41:59,332 INFO Request is completed\n",
            "2020-02-25 15:41:59,334 INFO Downloading http://136.156.133.25/cache-compute-0008/cache/downloads/cemsdata.copernicus-climate.eu/UTCI-HEALTH-HISTORICAL/reanalysis/1.0/1980/ECMWF_mrt_19800224_v1.0_con.nc to dataset/derived-utci-historical_Mean radiant temperature_1980--1981.zip (49.2M)\n",
            "2020-02-25 15:42:08,080 INFO Download rate 5.6M/s\n"
          ],
          "name": "stderr"
        },
        {
          "output_type": "stream",
          "text": [
            "Fetching derived-utci-historical_Mean radiant temperature_1980--1981.zip\n",
            "With properties {'format': 'zip', 'variable': 'Mean radiant temperature', 'product_type': 'Consolidated dataset', 'time': ['00:00', '01:00', '02:00', '03:00', '04:00', '05:00', '06:00', '07:00', '08:00', '09:00', '10:00', '11:00', '12:00', '13:00', '14:00', '15:00', '16:00', '17:00', '18:00', '19:00', '20:00', '21:00', '22:00'], 'day': ['25'], 'month': ['02'], 'year': ['1980'], 'area': [44.0, -10.0, 35.0, 5.0], 'grid': [0.25, 0.25]}\n"
          ],
          "name": "stdout"
        },
        {
          "output_type": "stream",
          "text": [
            "2020-02-25 15:42:09,355 INFO Welcome to the CDS\n",
            "2020-02-25 15:42:09,356 INFO Sending request to https://cds.climate.copernicus.eu/api/v2/resources/derived-utci-historical\n",
            "2020-02-25 15:42:10,693 INFO Request is queued\n",
            "2020-02-25 15:42:11,958 INFO Request is completed\n",
            "2020-02-25 15:42:11,960 INFO Downloading http://136.156.133.25/cache-compute-0008/cache/downloads/cemsdata.copernicus-climate.eu/UTCI-HEALTH-HISTORICAL/reanalysis/1.0/1980/ECMWF_mrt_19800225_v1.0_con.nc to dataset/derived-utci-historical_Mean radiant temperature_1980--1981.zip (49.2M)\n",
            "2020-02-25 15:42:21,937 INFO Download rate 4.9M/s\n"
          ],
          "name": "stderr"
        },
        {
          "output_type": "stream",
          "text": [
            "Fetching derived-utci-historical_Mean radiant temperature_1980--1981.zip\n",
            "With properties {'format': 'zip', 'variable': 'Mean radiant temperature', 'product_type': 'Consolidated dataset', 'time': ['00:00', '01:00', '02:00', '03:00', '04:00', '05:00', '06:00', '07:00', '08:00', '09:00', '10:00', '11:00', '12:00', '13:00', '14:00', '15:00', '16:00', '17:00', '18:00', '19:00', '20:00', '21:00', '22:00'], 'day': ['26'], 'month': ['02'], 'year': ['1980'], 'area': [44.0, -10.0, 35.0, 5.0], 'grid': [0.25, 0.25]}\n"
          ],
          "name": "stdout"
        },
        {
          "output_type": "stream",
          "text": [
            "2020-02-25 15:42:23,287 INFO Welcome to the CDS\n",
            "2020-02-25 15:42:23,288 INFO Sending request to https://cds.climate.copernicus.eu/api/v2/resources/derived-utci-historical\n",
            "2020-02-25 15:42:24,600 INFO Request is queued\n",
            "2020-02-25 15:42:25,855 INFO Request is completed\n",
            "2020-02-25 15:42:25,856 INFO Downloading http://136.156.133.42/cache-compute-0014/cache/downloads/cemsdata.copernicus-climate.eu/UTCI-HEALTH-HISTORICAL/reanalysis/1.0/1980/ECMWF_mrt_19800226_v1.0_con.nc to dataset/derived-utci-historical_Mean radiant temperature_1980--1981.zip (49.1M)\n",
            "2020-02-25 15:42:36,138 INFO Download rate 4.8M/s\n"
          ],
          "name": "stderr"
        },
        {
          "output_type": "stream",
          "text": [
            "Fetching derived-utci-historical_Mean radiant temperature_1980--1981.zip\n",
            "With properties {'format': 'zip', 'variable': 'Mean radiant temperature', 'product_type': 'Consolidated dataset', 'time': ['00:00', '01:00', '02:00', '03:00', '04:00', '05:00', '06:00', '07:00', '08:00', '09:00', '10:00', '11:00', '12:00', '13:00', '14:00', '15:00', '16:00', '17:00', '18:00', '19:00', '20:00', '21:00', '22:00'], 'day': ['27'], 'month': ['02'], 'year': ['1980'], 'area': [44.0, -10.0, 35.0, 5.0], 'grid': [0.25, 0.25]}\n"
          ],
          "name": "stdout"
        },
        {
          "output_type": "stream",
          "text": [
            "2020-02-25 15:42:37,417 INFO Welcome to the CDS\n",
            "2020-02-25 15:42:37,418 INFO Sending request to https://cds.climate.copernicus.eu/api/v2/resources/derived-utci-historical\n",
            "2020-02-25 15:42:38,703 INFO Request is queued\n",
            "2020-02-25 15:42:39,960 INFO Request is completed\n",
            "2020-02-25 15:42:39,961 INFO Downloading http://136.156.133.42/cache-compute-0014/cache/downloads/cemsdata.copernicus-climate.eu/UTCI-HEALTH-HISTORICAL/reanalysis/1.0/1980/ECMWF_mrt_19800227_v1.0_con.nc to dataset/derived-utci-historical_Mean radiant temperature_1980--1981.zip (49M)\n"
          ],
          "name": "stderr"
        },
        {
          "output_type": "error",
          "ename": "KeyboardInterrupt",
          "evalue": "ignored",
          "traceback": [
            "\u001b[0;31m---------------------------------------------------------------------------\u001b[0m",
            "\u001b[0;31mKeyboardInterrupt\u001b[0m                         Traceback (most recent call last)",
            "\u001b[0;32m<ipython-input-21-2d1de29a5854>\u001b[0m in \u001b[0;36m<module>\u001b[0;34m()\u001b[0m\n\u001b[0;32m----> 1\u001b[0;31m \u001b[0mget_ipython\u001b[0m\u001b[0;34m(\u001b[0m\u001b[0;34m)\u001b[0m\u001b[0;34m.\u001b[0m\u001b[0mrun_cell_magic\u001b[0m\u001b[0;34m(\u001b[0m\u001b[0;34m'time'\u001b[0m\u001b[0;34m,\u001b[0m \u001b[0;34m''\u001b[0m\u001b[0;34m,\u001b[0m \u001b[0;34m'grid= [0.25, 0.25]\\nbbox= [44.0, -10.0, 35.0, 5.0]\\nds_name = \"Thermal-comfort-indices-derived-from-ERA5-reanalysis\"\\nfor y in range(1980, 1981):\\n  for m in range(1, 12):\\n    for d in range(1, 31):\\n      #try:\\n        application(ds = ds_name,\\n        bbox = bbox, # North, West, South, East. Default: global\\n        grid = grid, # Latitude/longitude grid: east-west (longitude) and north-south resolution (latitude). Default: 0.25 x 0.25\\n        start_year = y,\\n        end_year = y+1,\\n        start_month=m,\\n        end_month=m+1,\\n        start_day=d,\\n        end_day=d+1)\\n      #except:\\n        #pass     '\u001b[0m\u001b[0;34m)\u001b[0m\u001b[0;34m\u001b[0m\u001b[0;34m\u001b[0m\u001b[0m\n\u001b[0m",
            "\u001b[0;32m/usr/local/lib/python3.6/dist-packages/IPython/core/interactiveshell.py\u001b[0m in \u001b[0;36mrun_cell_magic\u001b[0;34m(self, magic_name, line, cell)\u001b[0m\n\u001b[1;32m   2115\u001b[0m             \u001b[0mmagic_arg_s\u001b[0m \u001b[0;34m=\u001b[0m \u001b[0mself\u001b[0m\u001b[0;34m.\u001b[0m\u001b[0mvar_expand\u001b[0m\u001b[0;34m(\u001b[0m\u001b[0mline\u001b[0m\u001b[0;34m,\u001b[0m \u001b[0mstack_depth\u001b[0m\u001b[0;34m)\u001b[0m\u001b[0;34m\u001b[0m\u001b[0;34m\u001b[0m\u001b[0m\n\u001b[1;32m   2116\u001b[0m             \u001b[0;32mwith\u001b[0m \u001b[0mself\u001b[0m\u001b[0;34m.\u001b[0m\u001b[0mbuiltin_trap\u001b[0m\u001b[0;34m:\u001b[0m\u001b[0;34m\u001b[0m\u001b[0;34m\u001b[0m\u001b[0m\n\u001b[0;32m-> 2117\u001b[0;31m                 \u001b[0mresult\u001b[0m \u001b[0;34m=\u001b[0m \u001b[0mfn\u001b[0m\u001b[0;34m(\u001b[0m\u001b[0mmagic_arg_s\u001b[0m\u001b[0;34m,\u001b[0m \u001b[0mcell\u001b[0m\u001b[0;34m)\u001b[0m\u001b[0;34m\u001b[0m\u001b[0;34m\u001b[0m\u001b[0m\n\u001b[0m\u001b[1;32m   2118\u001b[0m             \u001b[0;32mreturn\u001b[0m \u001b[0mresult\u001b[0m\u001b[0;34m\u001b[0m\u001b[0;34m\u001b[0m\u001b[0m\n\u001b[1;32m   2119\u001b[0m \u001b[0;34m\u001b[0m\u001b[0m\n",
            "\u001b[0;32m</usr/local/lib/python3.6/dist-packages/decorator.py:decorator-gen-60>\u001b[0m in \u001b[0;36mtime\u001b[0;34m(self, line, cell, local_ns)\u001b[0m\n",
            "\u001b[0;32m/usr/local/lib/python3.6/dist-packages/IPython/core/magic.py\u001b[0m in \u001b[0;36m<lambda>\u001b[0;34m(f, *a, **k)\u001b[0m\n\u001b[1;32m    186\u001b[0m     \u001b[0;31m# but it's overkill for just that one bit of state.\u001b[0m\u001b[0;34m\u001b[0m\u001b[0;34m\u001b[0m\u001b[0;34m\u001b[0m\u001b[0m\n\u001b[1;32m    187\u001b[0m     \u001b[0;32mdef\u001b[0m \u001b[0mmagic_deco\u001b[0m\u001b[0;34m(\u001b[0m\u001b[0marg\u001b[0m\u001b[0;34m)\u001b[0m\u001b[0;34m:\u001b[0m\u001b[0;34m\u001b[0m\u001b[0;34m\u001b[0m\u001b[0m\n\u001b[0;32m--> 188\u001b[0;31m         \u001b[0mcall\u001b[0m \u001b[0;34m=\u001b[0m \u001b[0;32mlambda\u001b[0m \u001b[0mf\u001b[0m\u001b[0;34m,\u001b[0m \u001b[0;34m*\u001b[0m\u001b[0ma\u001b[0m\u001b[0;34m,\u001b[0m \u001b[0;34m**\u001b[0m\u001b[0mk\u001b[0m\u001b[0;34m:\u001b[0m \u001b[0mf\u001b[0m\u001b[0;34m(\u001b[0m\u001b[0;34m*\u001b[0m\u001b[0ma\u001b[0m\u001b[0;34m,\u001b[0m \u001b[0;34m**\u001b[0m\u001b[0mk\u001b[0m\u001b[0;34m)\u001b[0m\u001b[0;34m\u001b[0m\u001b[0;34m\u001b[0m\u001b[0m\n\u001b[0m\u001b[1;32m    189\u001b[0m \u001b[0;34m\u001b[0m\u001b[0m\n\u001b[1;32m    190\u001b[0m         \u001b[0;32mif\u001b[0m \u001b[0mcallable\u001b[0m\u001b[0;34m(\u001b[0m\u001b[0marg\u001b[0m\u001b[0;34m)\u001b[0m\u001b[0;34m:\u001b[0m\u001b[0;34m\u001b[0m\u001b[0;34m\u001b[0m\u001b[0m\n",
            "\u001b[0;32m/usr/local/lib/python3.6/dist-packages/IPython/core/magics/execution.py\u001b[0m in \u001b[0;36mtime\u001b[0;34m(self, line, cell, local_ns)\u001b[0m\n\u001b[1;32m   1191\u001b[0m         \u001b[0;32melse\u001b[0m\u001b[0;34m:\u001b[0m\u001b[0;34m\u001b[0m\u001b[0;34m\u001b[0m\u001b[0m\n\u001b[1;32m   1192\u001b[0m             \u001b[0mst\u001b[0m \u001b[0;34m=\u001b[0m \u001b[0mclock2\u001b[0m\u001b[0;34m(\u001b[0m\u001b[0;34m)\u001b[0m\u001b[0;34m\u001b[0m\u001b[0;34m\u001b[0m\u001b[0m\n\u001b[0;32m-> 1193\u001b[0;31m             \u001b[0mexec\u001b[0m\u001b[0;34m(\u001b[0m\u001b[0mcode\u001b[0m\u001b[0;34m,\u001b[0m \u001b[0mglob\u001b[0m\u001b[0;34m,\u001b[0m \u001b[0mlocal_ns\u001b[0m\u001b[0;34m)\u001b[0m\u001b[0;34m\u001b[0m\u001b[0;34m\u001b[0m\u001b[0m\n\u001b[0m\u001b[1;32m   1194\u001b[0m             \u001b[0mend\u001b[0m \u001b[0;34m=\u001b[0m \u001b[0mclock2\u001b[0m\u001b[0;34m(\u001b[0m\u001b[0;34m)\u001b[0m\u001b[0;34m\u001b[0m\u001b[0;34m\u001b[0m\u001b[0m\n\u001b[1;32m   1195\u001b[0m             \u001b[0mout\u001b[0m \u001b[0;34m=\u001b[0m \u001b[0;32mNone\u001b[0m\u001b[0;34m\u001b[0m\u001b[0;34m\u001b[0m\u001b[0m\n",
            "\u001b[0;32m<timed exec>\u001b[0m in \u001b[0;36m<module>\u001b[0;34m()\u001b[0m\n",
            "\u001b[0;32m<ipython-input-20-12141eaf1dd5>\u001b[0m in \u001b[0;36mapplication\u001b[0;34m(ds, bbox, grid, start_year, end_year, dest_path, start_month, end_month, start_day, end_day)\u001b[0m\n\u001b[1;32m     97\u001b[0m \u001b[0;34m\u001b[0m\u001b[0m\n\u001b[1;32m     98\u001b[0m   \u001b[0;31m# Get dataset from CDS catalog\u001b[0m\u001b[0;34m\u001b[0m\u001b[0;34m\u001b[0m\u001b[0;34m\u001b[0m\u001b[0m\n\u001b[0;32m---> 99\u001b[0;31m   \u001b[0mds_retrieve\u001b[0m\u001b[0;34m(\u001b[0m\u001b[0mds\u001b[0m\u001b[0;34m,\u001b[0m \u001b[0mdest_path\u001b[0m\u001b[0;34m)\u001b[0m\u001b[0;34m\u001b[0m\u001b[0;34m\u001b[0m\u001b[0m\n\u001b[0m",
            "\u001b[0;32m<ipython-input-20-12141eaf1dd5>\u001b[0m in \u001b[0;36mds_retrieve\u001b[0;34m(ds_name, dest_path, ds_dict)\u001b[0m\n\u001b[1;32m     94\u001b[0m     \u001b[0mprint\u001b[0m\u001b[0;34m(\u001b[0m\u001b[0;34m\"Fetching\"\u001b[0m\u001b[0;34m,\u001b[0m \u001b[0mfn\u001b[0m\u001b[0;34m)\u001b[0m\u001b[0;34m\u001b[0m\u001b[0;34m\u001b[0m\u001b[0m\n\u001b[1;32m     95\u001b[0m     \u001b[0mprint\u001b[0m\u001b[0;34m(\u001b[0m\u001b[0;34m\"With properties\"\u001b[0m\u001b[0;34m,\u001b[0m \u001b[0md\u001b[0m\u001b[0;34m[\u001b[0m\u001b[0;34m\"properties\"\u001b[0m\u001b[0;34m]\u001b[0m\u001b[0;34m)\u001b[0m\u001b[0;34m\u001b[0m\u001b[0;34m\u001b[0m\u001b[0m\n\u001b[0;32m---> 96\u001b[0;31m     \u001b[0mcdsapi\u001b[0m\u001b[0;34m.\u001b[0m\u001b[0mClient\u001b[0m\u001b[0;34m(\u001b[0m\u001b[0;34m)\u001b[0m\u001b[0;34m.\u001b[0m\u001b[0mretrieve\u001b[0m\u001b[0;34m(\u001b[0m\u001b[0md\u001b[0m\u001b[0;34m[\u001b[0m\u001b[0;34m\"id\"\u001b[0m\u001b[0;34m]\u001b[0m\u001b[0;34m,\u001b[0m \u001b[0md\u001b[0m\u001b[0;34m[\u001b[0m\u001b[0;34m\"properties\"\u001b[0m\u001b[0;34m]\u001b[0m\u001b[0;34m,\u001b[0m \u001b[0mp\u001b[0m\u001b[0;34m)\u001b[0m\u001b[0;34m\u001b[0m\u001b[0;34m\u001b[0m\u001b[0m\n\u001b[0m\u001b[1;32m     97\u001b[0m \u001b[0;34m\u001b[0m\u001b[0m\n\u001b[1;32m     98\u001b[0m   \u001b[0;31m# Get dataset from CDS catalog\u001b[0m\u001b[0;34m\u001b[0m\u001b[0;34m\u001b[0m\u001b[0;34m\u001b[0m\u001b[0m\n",
            "\u001b[0;32m/usr/local/lib/python3.6/dist-packages/cdsapi/api.py\u001b[0m in \u001b[0;36mretrieve\u001b[0;34m(self, name, request, target)\u001b[0m\n\u001b[1;32m    310\u001b[0m         \u001b[0mresult\u001b[0m \u001b[0;34m=\u001b[0m \u001b[0mself\u001b[0m\u001b[0;34m.\u001b[0m\u001b[0m_api\u001b[0m\u001b[0;34m(\u001b[0m\u001b[0;34m'%s/resources/%s'\u001b[0m \u001b[0;34m%\u001b[0m \u001b[0;34m(\u001b[0m\u001b[0mself\u001b[0m\u001b[0;34m.\u001b[0m\u001b[0murl\u001b[0m\u001b[0;34m,\u001b[0m \u001b[0mname\u001b[0m\u001b[0;34m)\u001b[0m\u001b[0;34m,\u001b[0m \u001b[0mrequest\u001b[0m\u001b[0;34m,\u001b[0m \u001b[0;34m'POST'\u001b[0m\u001b[0;34m)\u001b[0m\u001b[0;34m\u001b[0m\u001b[0;34m\u001b[0m\u001b[0m\n\u001b[1;32m    311\u001b[0m         \u001b[0;32mif\u001b[0m \u001b[0mtarget\u001b[0m \u001b[0;32mis\u001b[0m \u001b[0;32mnot\u001b[0m \u001b[0;32mNone\u001b[0m\u001b[0;34m:\u001b[0m\u001b[0;34m\u001b[0m\u001b[0;34m\u001b[0m\u001b[0m\n\u001b[0;32m--> 312\u001b[0;31m             \u001b[0mresult\u001b[0m\u001b[0;34m.\u001b[0m\u001b[0mdownload\u001b[0m\u001b[0;34m(\u001b[0m\u001b[0mtarget\u001b[0m\u001b[0;34m)\u001b[0m\u001b[0;34m\u001b[0m\u001b[0;34m\u001b[0m\u001b[0m\n\u001b[0m\u001b[1;32m    313\u001b[0m         \u001b[0;32mreturn\u001b[0m \u001b[0mresult\u001b[0m\u001b[0;34m\u001b[0m\u001b[0;34m\u001b[0m\u001b[0m\n\u001b[1;32m    314\u001b[0m \u001b[0;34m\u001b[0m\u001b[0m\n",
            "\u001b[0;32m/usr/local/lib/python3.6/dist-packages/cdsapi/api.py\u001b[0m in \u001b[0;36mdownload\u001b[0;34m(self, target)\u001b[0m\n\u001b[1;32m    165\u001b[0m         return self._download(self.location,\n\u001b[1;32m    166\u001b[0m                               \u001b[0mself\u001b[0m\u001b[0;34m.\u001b[0m\u001b[0mcontent_length\u001b[0m\u001b[0;34m,\u001b[0m\u001b[0;34m\u001b[0m\u001b[0;34m\u001b[0m\u001b[0m\n\u001b[0;32m--> 167\u001b[0;31m                               target)\n\u001b[0m\u001b[1;32m    168\u001b[0m \u001b[0;34m\u001b[0m\u001b[0m\n\u001b[1;32m    169\u001b[0m     \u001b[0;34m@\u001b[0m\u001b[0mproperty\u001b[0m\u001b[0;34m\u001b[0m\u001b[0;34m\u001b[0m\u001b[0m\n",
            "\u001b[0;32m/usr/local/lib/python3.6/dist-packages/cdsapi/api.py\u001b[0m in \u001b[0;36m_download\u001b[0;34m(self, url, size, target)\u001b[0m\n\u001b[1;32m    127\u001b[0m                     \u001b[0mpbar\u001b[0m\u001b[0;34m.\u001b[0m\u001b[0mupdate\u001b[0m\u001b[0;34m(\u001b[0m\u001b[0mtotal\u001b[0m\u001b[0;34m)\u001b[0m\u001b[0;34m\u001b[0m\u001b[0;34m\u001b[0m\u001b[0m\n\u001b[1;32m    128\u001b[0m                     \u001b[0;32mwith\u001b[0m \u001b[0mopen\u001b[0m\u001b[0;34m(\u001b[0m\u001b[0mtarget\u001b[0m\u001b[0;34m,\u001b[0m \u001b[0mmode\u001b[0m\u001b[0;34m)\u001b[0m \u001b[0;32mas\u001b[0m \u001b[0mf\u001b[0m\u001b[0;34m:\u001b[0m\u001b[0;34m\u001b[0m\u001b[0;34m\u001b[0m\u001b[0m\n\u001b[0;32m--> 129\u001b[0;31m                         \u001b[0;32mfor\u001b[0m \u001b[0mchunk\u001b[0m \u001b[0;32min\u001b[0m \u001b[0mr\u001b[0m\u001b[0;34m.\u001b[0m\u001b[0miter_content\u001b[0m\u001b[0;34m(\u001b[0m\u001b[0mchunk_size\u001b[0m\u001b[0;34m=\u001b[0m\u001b[0;36m1024\u001b[0m\u001b[0;34m)\u001b[0m\u001b[0;34m:\u001b[0m\u001b[0;34m\u001b[0m\u001b[0;34m\u001b[0m\u001b[0m\n\u001b[0m\u001b[1;32m    130\u001b[0m                             \u001b[0;32mif\u001b[0m \u001b[0mchunk\u001b[0m\u001b[0;34m:\u001b[0m\u001b[0;34m\u001b[0m\u001b[0;34m\u001b[0m\u001b[0m\n\u001b[1;32m    131\u001b[0m                                 \u001b[0mf\u001b[0m\u001b[0;34m.\u001b[0m\u001b[0mwrite\u001b[0m\u001b[0;34m(\u001b[0m\u001b[0mchunk\u001b[0m\u001b[0;34m)\u001b[0m\u001b[0;34m\u001b[0m\u001b[0;34m\u001b[0m\u001b[0m\n",
            "\u001b[0;32m/usr/local/lib/python3.6/dist-packages/requests/models.py\u001b[0m in \u001b[0;36mgenerate\u001b[0;34m()\u001b[0m\n\u001b[1;32m    748\u001b[0m             \u001b[0;32mif\u001b[0m \u001b[0mhasattr\u001b[0m\u001b[0;34m(\u001b[0m\u001b[0mself\u001b[0m\u001b[0;34m.\u001b[0m\u001b[0mraw\u001b[0m\u001b[0;34m,\u001b[0m \u001b[0;34m'stream'\u001b[0m\u001b[0;34m)\u001b[0m\u001b[0;34m:\u001b[0m\u001b[0;34m\u001b[0m\u001b[0;34m\u001b[0m\u001b[0m\n\u001b[1;32m    749\u001b[0m                 \u001b[0;32mtry\u001b[0m\u001b[0;34m:\u001b[0m\u001b[0;34m\u001b[0m\u001b[0;34m\u001b[0m\u001b[0m\n\u001b[0;32m--> 750\u001b[0;31m                     \u001b[0;32mfor\u001b[0m \u001b[0mchunk\u001b[0m \u001b[0;32min\u001b[0m \u001b[0mself\u001b[0m\u001b[0;34m.\u001b[0m\u001b[0mraw\u001b[0m\u001b[0;34m.\u001b[0m\u001b[0mstream\u001b[0m\u001b[0;34m(\u001b[0m\u001b[0mchunk_size\u001b[0m\u001b[0;34m,\u001b[0m \u001b[0mdecode_content\u001b[0m\u001b[0;34m=\u001b[0m\u001b[0;32mTrue\u001b[0m\u001b[0;34m)\u001b[0m\u001b[0;34m:\u001b[0m\u001b[0;34m\u001b[0m\u001b[0;34m\u001b[0m\u001b[0m\n\u001b[0m\u001b[1;32m    751\u001b[0m                         \u001b[0;32myield\u001b[0m \u001b[0mchunk\u001b[0m\u001b[0;34m\u001b[0m\u001b[0;34m\u001b[0m\u001b[0m\n\u001b[1;32m    752\u001b[0m                 \u001b[0;32mexcept\u001b[0m \u001b[0mProtocolError\u001b[0m \u001b[0;32mas\u001b[0m \u001b[0me\u001b[0m\u001b[0;34m:\u001b[0m\u001b[0;34m\u001b[0m\u001b[0;34m\u001b[0m\u001b[0m\n",
            "\u001b[0;32m/usr/local/lib/python3.6/dist-packages/urllib3/response.py\u001b[0m in \u001b[0;36mstream\u001b[0;34m(self, amt, decode_content)\u001b[0m\n\u001b[1;32m    494\u001b[0m         \u001b[0;32melse\u001b[0m\u001b[0;34m:\u001b[0m\u001b[0;34m\u001b[0m\u001b[0;34m\u001b[0m\u001b[0m\n\u001b[1;32m    495\u001b[0m             \u001b[0;32mwhile\u001b[0m \u001b[0;32mnot\u001b[0m \u001b[0mis_fp_closed\u001b[0m\u001b[0;34m(\u001b[0m\u001b[0mself\u001b[0m\u001b[0;34m.\u001b[0m\u001b[0m_fp\u001b[0m\u001b[0;34m)\u001b[0m\u001b[0;34m:\u001b[0m\u001b[0;34m\u001b[0m\u001b[0;34m\u001b[0m\u001b[0m\n\u001b[0;32m--> 496\u001b[0;31m                 \u001b[0mdata\u001b[0m \u001b[0;34m=\u001b[0m \u001b[0mself\u001b[0m\u001b[0;34m.\u001b[0m\u001b[0mread\u001b[0m\u001b[0;34m(\u001b[0m\u001b[0mamt\u001b[0m\u001b[0;34m=\u001b[0m\u001b[0mamt\u001b[0m\u001b[0;34m,\u001b[0m \u001b[0mdecode_content\u001b[0m\u001b[0;34m=\u001b[0m\u001b[0mdecode_content\u001b[0m\u001b[0;34m)\u001b[0m\u001b[0;34m\u001b[0m\u001b[0;34m\u001b[0m\u001b[0m\n\u001b[0m\u001b[1;32m    497\u001b[0m \u001b[0;34m\u001b[0m\u001b[0m\n\u001b[1;32m    498\u001b[0m                 \u001b[0;32mif\u001b[0m \u001b[0mdata\u001b[0m\u001b[0;34m:\u001b[0m\u001b[0;34m\u001b[0m\u001b[0;34m\u001b[0m\u001b[0m\n",
            "\u001b[0;32m/usr/local/lib/python3.6/dist-packages/urllib3/response.py\u001b[0m in \u001b[0;36mread\u001b[0;34m(self, amt, decode_content, cache_content)\u001b[0m\n\u001b[1;32m    442\u001b[0m             \u001b[0;32melse\u001b[0m\u001b[0;34m:\u001b[0m\u001b[0;34m\u001b[0m\u001b[0;34m\u001b[0m\u001b[0m\n\u001b[1;32m    443\u001b[0m                 \u001b[0mcache_content\u001b[0m \u001b[0;34m=\u001b[0m \u001b[0;32mFalse\u001b[0m\u001b[0;34m\u001b[0m\u001b[0;34m\u001b[0m\u001b[0m\n\u001b[0;32m--> 444\u001b[0;31m                 \u001b[0mdata\u001b[0m \u001b[0;34m=\u001b[0m \u001b[0mself\u001b[0m\u001b[0;34m.\u001b[0m\u001b[0m_fp\u001b[0m\u001b[0;34m.\u001b[0m\u001b[0mread\u001b[0m\u001b[0;34m(\u001b[0m\u001b[0mamt\u001b[0m\u001b[0;34m)\u001b[0m\u001b[0;34m\u001b[0m\u001b[0;34m\u001b[0m\u001b[0m\n\u001b[0m\u001b[1;32m    445\u001b[0m                 \u001b[0;32mif\u001b[0m \u001b[0mamt\u001b[0m \u001b[0;34m!=\u001b[0m \u001b[0;36m0\u001b[0m \u001b[0;32mand\u001b[0m \u001b[0;32mnot\u001b[0m \u001b[0mdata\u001b[0m\u001b[0;34m:\u001b[0m  \u001b[0;31m# Platform-specific: Buggy versions of Python.\u001b[0m\u001b[0;34m\u001b[0m\u001b[0;34m\u001b[0m\u001b[0m\n\u001b[1;32m    446\u001b[0m                     \u001b[0;31m# Close the connection when no data is returned\u001b[0m\u001b[0;34m\u001b[0m\u001b[0;34m\u001b[0m\u001b[0;34m\u001b[0m\u001b[0m\n",
            "\u001b[0;32m/usr/lib/python3.6/http/client.py\u001b[0m in \u001b[0;36mread\u001b[0;34m(self, amt)\u001b[0m\n\u001b[1;32m    457\u001b[0m             \u001b[0;31m# Amount is given, implement using readinto\u001b[0m\u001b[0;34m\u001b[0m\u001b[0;34m\u001b[0m\u001b[0;34m\u001b[0m\u001b[0m\n\u001b[1;32m    458\u001b[0m             \u001b[0mb\u001b[0m \u001b[0;34m=\u001b[0m \u001b[0mbytearray\u001b[0m\u001b[0;34m(\u001b[0m\u001b[0mamt\u001b[0m\u001b[0;34m)\u001b[0m\u001b[0;34m\u001b[0m\u001b[0;34m\u001b[0m\u001b[0m\n\u001b[0;32m--> 459\u001b[0;31m             \u001b[0mn\u001b[0m \u001b[0;34m=\u001b[0m \u001b[0mself\u001b[0m\u001b[0;34m.\u001b[0m\u001b[0mreadinto\u001b[0m\u001b[0;34m(\u001b[0m\u001b[0mb\u001b[0m\u001b[0;34m)\u001b[0m\u001b[0;34m\u001b[0m\u001b[0;34m\u001b[0m\u001b[0m\n\u001b[0m\u001b[1;32m    460\u001b[0m             \u001b[0;32mreturn\u001b[0m \u001b[0mmemoryview\u001b[0m\u001b[0;34m(\u001b[0m\u001b[0mb\u001b[0m\u001b[0;34m)\u001b[0m\u001b[0;34m[\u001b[0m\u001b[0;34m:\u001b[0m\u001b[0mn\u001b[0m\u001b[0;34m]\u001b[0m\u001b[0;34m.\u001b[0m\u001b[0mtobytes\u001b[0m\u001b[0;34m(\u001b[0m\u001b[0;34m)\u001b[0m\u001b[0;34m\u001b[0m\u001b[0;34m\u001b[0m\u001b[0m\n\u001b[1;32m    461\u001b[0m         \u001b[0;32melse\u001b[0m\u001b[0;34m:\u001b[0m\u001b[0;34m\u001b[0m\u001b[0;34m\u001b[0m\u001b[0m\n",
            "\u001b[0;32m/usr/lib/python3.6/http/client.py\u001b[0m in \u001b[0;36mreadinto\u001b[0;34m(self, b)\u001b[0m\n\u001b[1;32m    501\u001b[0m         \u001b[0;31m# connection, and the user is reading more bytes than will be provided\u001b[0m\u001b[0;34m\u001b[0m\u001b[0;34m\u001b[0m\u001b[0;34m\u001b[0m\u001b[0m\n\u001b[1;32m    502\u001b[0m         \u001b[0;31m# (for example, reading in 1k chunks)\u001b[0m\u001b[0;34m\u001b[0m\u001b[0;34m\u001b[0m\u001b[0;34m\u001b[0m\u001b[0m\n\u001b[0;32m--> 503\u001b[0;31m         \u001b[0mn\u001b[0m \u001b[0;34m=\u001b[0m \u001b[0mself\u001b[0m\u001b[0;34m.\u001b[0m\u001b[0mfp\u001b[0m\u001b[0;34m.\u001b[0m\u001b[0mreadinto\u001b[0m\u001b[0;34m(\u001b[0m\u001b[0mb\u001b[0m\u001b[0;34m)\u001b[0m\u001b[0;34m\u001b[0m\u001b[0;34m\u001b[0m\u001b[0m\n\u001b[0m\u001b[1;32m    504\u001b[0m         \u001b[0;32mif\u001b[0m \u001b[0;32mnot\u001b[0m \u001b[0mn\u001b[0m \u001b[0;32mand\u001b[0m \u001b[0mb\u001b[0m\u001b[0;34m:\u001b[0m\u001b[0;34m\u001b[0m\u001b[0;34m\u001b[0m\u001b[0m\n\u001b[1;32m    505\u001b[0m             \u001b[0;31m# Ideally, we would raise IncompleteRead if the content-length\u001b[0m\u001b[0;34m\u001b[0m\u001b[0;34m\u001b[0m\u001b[0;34m\u001b[0m\u001b[0m\n",
            "\u001b[0;32m/usr/lib/python3.6/socket.py\u001b[0m in \u001b[0;36mreadinto\u001b[0;34m(self, b)\u001b[0m\n\u001b[1;32m    584\u001b[0m         \u001b[0;32mwhile\u001b[0m \u001b[0;32mTrue\u001b[0m\u001b[0;34m:\u001b[0m\u001b[0;34m\u001b[0m\u001b[0;34m\u001b[0m\u001b[0m\n\u001b[1;32m    585\u001b[0m             \u001b[0;32mtry\u001b[0m\u001b[0;34m:\u001b[0m\u001b[0;34m\u001b[0m\u001b[0;34m\u001b[0m\u001b[0m\n\u001b[0;32m--> 586\u001b[0;31m                 \u001b[0;32mreturn\u001b[0m \u001b[0mself\u001b[0m\u001b[0;34m.\u001b[0m\u001b[0m_sock\u001b[0m\u001b[0;34m.\u001b[0m\u001b[0mrecv_into\u001b[0m\u001b[0;34m(\u001b[0m\u001b[0mb\u001b[0m\u001b[0;34m)\u001b[0m\u001b[0;34m\u001b[0m\u001b[0;34m\u001b[0m\u001b[0m\n\u001b[0m\u001b[1;32m    587\u001b[0m             \u001b[0;32mexcept\u001b[0m \u001b[0mtimeout\u001b[0m\u001b[0;34m:\u001b[0m\u001b[0;34m\u001b[0m\u001b[0;34m\u001b[0m\u001b[0m\n\u001b[1;32m    588\u001b[0m                 \u001b[0mself\u001b[0m\u001b[0;34m.\u001b[0m\u001b[0m_timeout_occurred\u001b[0m \u001b[0;34m=\u001b[0m \u001b[0;32mTrue\u001b[0m\u001b[0;34m\u001b[0m\u001b[0;34m\u001b[0m\u001b[0m\n",
            "\u001b[0;31mKeyboardInterrupt\u001b[0m: "
          ]
        }
      ]
    },
    {
      "cell_type": "code",
      "metadata": {
        "id": "DF-kIN8lU8nj",
        "colab_type": "code",
        "colab": {}
      },
      "source": [
        "# Copy new files to GS\n",
        "copy_gcs([ds_dir], [gs_prefix], \"-n\")"
      ],
      "execution_count": 0,
      "outputs": []
    },
    {
      "cell_type": "code",
      "metadata": {
        "id": "BkQVGgviZLN2",
        "colab_type": "code",
        "colab": {}
      },
      "source": [
        "import cdsapi\n",
        "#comment by Jorge\n",
        "c = cdsapi.Client()\n",
        "\n",
        "\"\"\"c.retrieve(\n",
        "    'seasonal-postprocessed-single-levels',\n",
        "    {\n",
        "        'originating_centre':'ecmwf',\n",
        "        'system':'5',\n",
        "        'variable':'maximum_2m_temperature_in_the_last_24_hours_anomaly',\n",
        "        'product_type':'ensemble_mean',\n",
        "        'year':'2019',\n",
        "        'month':'06',\n",
        "        'leadtime_month':[\n",
        "            '1','2','3',\n",
        "            '4','5','6'\n",
        "        ],\n",
        "        'format':'grib'\n",
        "    },\n",
        "    'sea_an_ecmwf_5_t2max_1906_6.grib')\"\"\"\n",
        "\n",
        "\"\"\"c.retrieve(\n",
        "    'seasonal-postprocessed-single-levels',\n",
        "    {\n",
        "        'originating_centre':'ukmo',\n",
        "        'system':'14',\n",
        "        'variable':'maximum_2m_temperature_in_the_last_24_hours_anomaly',\n",
        "        'product_type':'ensemble_mean',\n",
        "        'year':'2019',\n",
        "        'month':'06',\n",
        "        'leadtime_month':[\n",
        "            '1','2','3',\n",
        "            '4','5','6'\n",
        "        ],\n",
        "        'format':'grib'\n",
        "    },\n",
        "    'sea_an_ukmo_14_t2max_1906_6.grib')\"\"\"\n",
        "\n",
        "\"\"\"c.retrieve(\n",
        "    'seasonal-postprocessed-single-levels',\n",
        "    {\n",
        "        'originating_centre':'meteo_france',\n",
        "        'system':'6',\n",
        "        'variable':'maximum_2m_temperature_in_the_last_24_hours_anomaly',\n",
        "        'product_type':'ensemble_mean',\n",
        "        'year':'2019',\n",
        "        'month':'06',\n",
        "        'leadtime_month':[\n",
        "            '1','2','3',\n",
        "            '4','5','6'\n",
        "        ],\n",
        "        'format':'grib'\n",
        "    },\n",
        "    'sea_an_meteofrance_6_t2max_1906_6.grib')\"\"\"\n",
        "\n",
        "\n",
        "c.retrieve(\n",
        "    'seasonal-postprocessed-single-levels',\n",
        "    {\n",
        "        'originating_centre':'dwd',\n",
        "        'system':'2',\n",
        "        'variable':'maximum_2m_temperature_in_the_last_24_hours_anomaly',\n",
        "        'product_type':'ensemble_mean',\n",
        "        'year':'2019',\n",
        "        'month':'06',\n",
        "        'leadtime_month':[\n",
        "            '1','2','3',\n",
        "            '4','5','6'\n",
        "        ],\n",
        "        'format':'grib'\n",
        "    },\n",
        "    'sea_an_dwd_2_t2max_1906_6.grib')\n",
        "\n",
        "c.retrieve(\n",
        "    'seasonal-postprocessed-single-levels',\n",
        "    {\n",
        "        'originating_centre':'cmcc',\n",
        "        'system':'3',\n",
        "        'variable':'maximum_2m_temperature_in_the_last_24_hours_anomaly',\n",
        "        'product_type':'ensemble_mean',\n",
        "        'year':'2019',\n",
        "        'month':'06',\n",
        "        'leadtime_month':[\n",
        "            '1','2','3',\n",
        "            '4','5','6'\n",
        "        ],\n",
        "        'format':'grib'\n",
        "    },\n",
        "    'sea_an_cmcc_3_t2max_1906_6.grib')\n",
        "####################################################\n",
        "c.retrieve(\n",
        "    'seasonal-postprocessed-single-levels',\n",
        "    {\n",
        "        'originating_centre':'ecmwf',\n",
        "        'system':'5',\n",
        "        'variable':'minimum_2m_temperature_in_the_last_24_hours_anomaly',\n",
        "        'product_type':'ensemble_mean',\n",
        "        'year':'2019',\n",
        "        'month':'06',\n",
        "        'leadtime_month':[\n",
        "            '1','2','3',\n",
        "            '4','5','6'\n",
        "        ],\n",
        "        'format':'grib'\n",
        "    },\n",
        "    'sea_an_ecmwf_5_t2min_1906_6.grib')\n",
        "\n",
        "c.retrieve(\n",
        "    'seasonal-postprocessed-single-levels',\n",
        "    {\n",
        "        'originating_centre':'ukmo',\n",
        "        'system':'14',\n",
        "        'variable':'minimum_2m_temperature_in_the_last_24_hours_anomaly',\n",
        "        'product_type':'ensemble_mean',\n",
        "        'year':'2019',\n",
        "        'month':'06',\n",
        "        'leadtime_month':[\n",
        "            '1','2','3',\n",
        "            '4','5','6'\n",
        "        ],\n",
        "        'format':'grib'\n",
        "    },\n",
        "    'sea_an_ukmo_14_t2min_1906_6.grib')\n",
        "\n",
        "c.retrieve(\n",
        "    'seasonal-postprocessed-single-levels',\n",
        "    {\n",
        "        'originating_centre':'meteo_france',\n",
        "        'system':'6',\n",
        "        'variable':'minimum_2m_temperature_in_the_last_24_hours_anomaly',\n",
        "        'product_type':'ensemble_mean',\n",
        "        'year':'2019',\n",
        "        'month':'06',\n",
        "        'leadtime_month':[\n",
        "            '1','2','3',\n",
        "            '4','5','6'\n",
        "        ],\n",
        "        'format':'grib'\n",
        "    },\n",
        "    'sea_an_meteofrance_6_t2min_1906_6.grib')\n",
        "\n",
        "\n",
        "c.retrieve(\n",
        "    'seasonal-postprocessed-single-levels',\n",
        "    {\n",
        "        'originating_centre':'dwd',\n",
        "        'system':'2',\n",
        "        'variable':'minimum_2m_temperature_in_the_last_24_hours_anomaly',\n",
        "        'product_type':'ensemble_mean',\n",
        "        'year':'2019',\n",
        "        'month':'06',\n",
        "        'leadtime_month':[\n",
        "            '1','2','3',\n",
        "            '4','5','6'\n",
        "        ],\n",
        "        'format':'grib'\n",
        "    },\n",
        "    'sea_an_dwd_2_t2min_1906_6.grib')\n",
        "\n",
        "c.retrieve(\n",
        "    'seasonal-postprocessed-single-levels',\n",
        "    {\n",
        "        'originating_centre':'cmcc',\n",
        "        'system':'3',\n",
        "        'variable':'minimum_2m_temperature_in_the_last_24_hours_anomaly',\n",
        "        'product_type':'ensemble_mean',\n",
        "        'year':'2019',\n",
        "        'month':'06',\n",
        "        'leadtime_month':[\n",
        "            '1','2','3',\n",
        "            '4','5','6'\n",
        "        ],\n",
        "        'format':'grib'\n",
        "    },\n",
        "    'sea_an_cmcc_3_t2min_1906_6.grib')"
      ],
      "execution_count": 0,
      "outputs": []
    },
    {
      "cell_type": "code",
      "metadata": {
        "id": "5vTkJAYRd79H",
        "colab_type": "code",
        "outputId": "b4e24d16-6235-4f63-d1f3-a7fce516c2a8",
        "colab": {
          "base_uri": "https://localhost:8080/",
          "height": 69
        }
      },
      "source": [
        "!unzip /content/dataset/derived-utci-historical_mrt-uti_1980--1981.zip"
      ],
      "execution_count": 0,
      "outputs": [
        {
          "output_type": "stream",
          "text": [
            "Archive:  /content/dataset/derived-utci-historical_mrt-uti_1980--1981.zip\n",
            " bunzipping: ECMWF_utci_19800101_v1.0_con.nc  \n",
            " bunzipping: ECMWF_mrt_19800101_v1.0_con.nc  \n"
          ],
          "name": "stdout"
        }
      ]
    },
    {
      "cell_type": "code",
      "metadata": {
        "id": "qcWtcJ9UeIUn",
        "colab_type": "code",
        "colab": {}
      },
      "source": [
        "import xarray as xr\n"
      ],
      "execution_count": 0,
      "outputs": []
    },
    {
      "cell_type": "code",
      "metadata": {
        "id": "D1viAQ2KebN7",
        "colab_type": "code",
        "outputId": "f892b339-e48a-4e75-af31-283f4cd0da6c",
        "colab": {
          "base_uri": "https://localhost:8080/",
          "height": 193
        }
      },
      "source": [
        "!pip install netcdf4"
      ],
      "execution_count": 0,
      "outputs": [
        {
          "output_type": "stream",
          "text": [
            "Collecting netcdf4\n",
            "\u001b[?25l  Downloading https://files.pythonhosted.org/packages/35/4f/d49fe0c65dea4d2ebfdc602d3e3d2a45a172255c151f4497c43f6d94a5f6/netCDF4-1.5.3-cp36-cp36m-manylinux1_x86_64.whl (4.1MB)\n",
            "\u001b[K     |████████████████████████████████| 4.1MB 2.7MB/s \n",
            "\u001b[?25hCollecting cftime\n",
            "\u001b[?25l  Downloading https://files.pythonhosted.org/packages/53/35/e2fc52247871c51590d6660e684fdc619a93a29f40e3b64894bd4f8c9041/cftime-1.1.0-cp36-cp36m-manylinux1_x86_64.whl (316kB)\n",
            "\u001b[K     |████████████████████████████████| 317kB 37.7MB/s \n",
            "\u001b[?25hRequirement already satisfied: numpy>=1.7 in /usr/local/lib/python3.6/dist-packages (from netcdf4) (1.17.5)\n",
            "Installing collected packages: cftime, netcdf4\n",
            "Successfully installed cftime-1.1.0 netcdf4-1.5.3\n"
          ],
          "name": "stdout"
        }
      ]
    },
    {
      "cell_type": "code",
      "metadata": {
        "id": "j7csuaY8eOgz",
        "colab_type": "code",
        "outputId": "0614176c-ef4b-4530-df17-200961684ca2",
        "colab": {
          "base_uri": "https://localhost:8080/",
          "height": 278
        }
      },
      "source": [
        "ds = xr.open_dataset(\"/content/ECMWF_mrt_19800101_v1.0_con.nc\")\n",
        "ds"
      ],
      "execution_count": 0,
      "outputs": [
        {
          "output_type": "execute_result",
          "data": {
            "text/html": [
              "<pre>&lt;xarray.Dataset&gt;\n",
              "Dimensions:  (lat: 601, lon: 1440, time: 24)\n",
              "Coordinates:\n",
              "  * time     (time) datetime64[ns] 1980-01-01 ... 1980-01-01T23:00:00\n",
              "  * lon      (lon) float64 -180.0 -179.8 -179.5 -179.2 ... 179.2 179.5 179.8\n",
              "  * lat      (lat) float64 90.0 89.75 89.5 89.25 ... -59.25 -59.5 -59.75 -60.0\n",
              "Data variables:\n",
              "    mrt      (time, lat, lon) float32 ...\n",
              "Attributes:\n",
              "    CDI:                       Climate Data Interface version 1.9.5 (http://m...\n",
              "    Conventions:               CF-1.6\n",
              "    history:                   Tue Dec 17 13:48:27 2019: cdo -P 8 -z zip_1 -R...\n",
              "    institution:               European Centre for Medium-Range Weather Forec...\n",
              "    CDO:                       Climate Data Operators version 1.9.5 (http://m...\n",
              "    cdo_openmp_thread_number:  8</pre>"
            ],
            "text/plain": [
              "<xarray.Dataset>\n",
              "Dimensions:  (lat: 601, lon: 1440, time: 24)\n",
              "Coordinates:\n",
              "  * time     (time) datetime64[ns] 1980-01-01 ... 1980-01-01T23:00:00\n",
              "  * lon      (lon) float64 -180.0 -179.8 -179.5 -179.2 ... 179.2 179.5 179.8\n",
              "  * lat      (lat) float64 90.0 89.75 89.5 89.25 ... -59.25 -59.5 -59.75 -60.0\n",
              "Data variables:\n",
              "    mrt      (time, lat, lon) float32 ...\n",
              "Attributes:\n",
              "    CDI:                       Climate Data Interface version 1.9.5 (http://m...\n",
              "    Conventions:               CF-1.6\n",
              "    history:                   Tue Dec 17 13:48:27 2019: cdo -P 8 -z zip_1 -R...\n",
              "    institution:               European Centre for Medium-Range Weather Forec...\n",
              "    CDO:                       Climate Data Operators version 1.9.5 (http://m...\n",
              "    cdo_openmp_thread_number:  8"
            ]
          },
          "metadata": {
            "tags": []
          },
          "execution_count": 35
        }
      ]
    },
    {
      "cell_type": "code",
      "metadata": {
        "id": "T6uS7YNvDrpS",
        "colab_type": "code",
        "outputId": "c3947436-990d-4231-d34c-44cfd973253c",
        "colab": {
          "base_uri": "https://localhost:8080/",
          "height": 293
        }
      },
      "source": [
        "import pandas as pd\n",
        "cat_df = pd.read_csv('https://storage.googleapis.com/pangeo-cmip6/pangeo-cmip6-zarr-consolidated-stores.csv')\n",
        "cat_df.head()"
      ],
      "execution_count": 0,
      "outputs": [
        {
          "output_type": "execute_result",
          "data": {
            "text/html": [
              "<div>\n",
              "<style scoped>\n",
              "    .dataframe tbody tr th:only-of-type {\n",
              "        vertical-align: middle;\n",
              "    }\n",
              "\n",
              "    .dataframe tbody tr th {\n",
              "        vertical-align: top;\n",
              "    }\n",
              "\n",
              "    .dataframe thead th {\n",
              "        text-align: right;\n",
              "    }\n",
              "</style>\n",
              "<table border=\"1\" class=\"dataframe\">\n",
              "  <thead>\n",
              "    <tr style=\"text-align: right;\">\n",
              "      <th></th>\n",
              "      <th>activity_id</th>\n",
              "      <th>institution_id</th>\n",
              "      <th>source_id</th>\n",
              "      <th>experiment_id</th>\n",
              "      <th>member_id</th>\n",
              "      <th>table_id</th>\n",
              "      <th>variable_id</th>\n",
              "      <th>grid_label</th>\n",
              "      <th>zstore</th>\n",
              "      <th>dcpp_init_year</th>\n",
              "    </tr>\n",
              "  </thead>\n",
              "  <tbody>\n",
              "    <tr>\n",
              "      <th>0</th>\n",
              "      <td>AerChemMIP</td>\n",
              "      <td>BCC</td>\n",
              "      <td>BCC-ESM1</td>\n",
              "      <td>histSST</td>\n",
              "      <td>r1i1p1f1</td>\n",
              "      <td>AERmon</td>\n",
              "      <td>mmrbc</td>\n",
              "      <td>gn</td>\n",
              "      <td>gs://cmip6/AerChemMIP/BCC/BCC-ESM1/histSST/r1i...</td>\n",
              "      <td>NaN</td>\n",
              "    </tr>\n",
              "    <tr>\n",
              "      <th>1</th>\n",
              "      <td>AerChemMIP</td>\n",
              "      <td>BCC</td>\n",
              "      <td>BCC-ESM1</td>\n",
              "      <td>histSST</td>\n",
              "      <td>r1i1p1f1</td>\n",
              "      <td>AERmon</td>\n",
              "      <td>mmrdust</td>\n",
              "      <td>gn</td>\n",
              "      <td>gs://cmip6/AerChemMIP/BCC/BCC-ESM1/histSST/r1i...</td>\n",
              "      <td>NaN</td>\n",
              "    </tr>\n",
              "    <tr>\n",
              "      <th>2</th>\n",
              "      <td>AerChemMIP</td>\n",
              "      <td>BCC</td>\n",
              "      <td>BCC-ESM1</td>\n",
              "      <td>histSST</td>\n",
              "      <td>r1i1p1f1</td>\n",
              "      <td>AERmon</td>\n",
              "      <td>mmroa</td>\n",
              "      <td>gn</td>\n",
              "      <td>gs://cmip6/AerChemMIP/BCC/BCC-ESM1/histSST/r1i...</td>\n",
              "      <td>NaN</td>\n",
              "    </tr>\n",
              "    <tr>\n",
              "      <th>3</th>\n",
              "      <td>AerChemMIP</td>\n",
              "      <td>BCC</td>\n",
              "      <td>BCC-ESM1</td>\n",
              "      <td>histSST</td>\n",
              "      <td>r1i1p1f1</td>\n",
              "      <td>AERmon</td>\n",
              "      <td>mmrso4</td>\n",
              "      <td>gn</td>\n",
              "      <td>gs://cmip6/AerChemMIP/BCC/BCC-ESM1/histSST/r1i...</td>\n",
              "      <td>NaN</td>\n",
              "    </tr>\n",
              "    <tr>\n",
              "      <th>4</th>\n",
              "      <td>AerChemMIP</td>\n",
              "      <td>BCC</td>\n",
              "      <td>BCC-ESM1</td>\n",
              "      <td>histSST</td>\n",
              "      <td>r1i1p1f1</td>\n",
              "      <td>Amon</td>\n",
              "      <td>rsut</td>\n",
              "      <td>gn</td>\n",
              "      <td>gs://cmip6/AerChemMIP/BCC/BCC-ESM1/histSST/r1i...</td>\n",
              "      <td>NaN</td>\n",
              "    </tr>\n",
              "  </tbody>\n",
              "</table>\n",
              "</div>"
            ],
            "text/plain": [
              "  activity_id  ... dcpp_init_year\n",
              "0  AerChemMIP  ...            NaN\n",
              "1  AerChemMIP  ...            NaN\n",
              "2  AerChemMIP  ...            NaN\n",
              "3  AerChemMIP  ...            NaN\n",
              "4  AerChemMIP  ...            NaN\n",
              "\n",
              "[5 rows x 10 columns]"
            ]
          },
          "metadata": {
            "tags": []
          },
          "execution_count": 22
        }
      ]
    },
    {
      "cell_type": "code",
      "metadata": {
        "id": "TGQyEqDNL03Q",
        "colab_type": "code",
        "outputId": "e7940737-8df2-4f77-a544-06ec9bd930d6",
        "colab": {
          "base_uri": "https://localhost:8080/",
          "height": 627
        }
      },
      "source": [
        "!pip install intake"
      ],
      "execution_count": 0,
      "outputs": [
        {
          "output_type": "stream",
          "text": [
            "Collecting intake\n",
            "\u001b[?25l  Downloading https://files.pythonhosted.org/packages/de/a3/51552974693e0d518cae37cd0ec0216426a39ef2b2c3015e413c5d7204f0/intake-0.5.4.tar.gz (3.1MB)\n",
            "\r\u001b[K     |                                | 10kB 12.7MB/s eta 0:00:01\r\u001b[K     |▏                               | 20kB 1.5MB/s eta 0:00:03\r\u001b[K     |▎                               | 30kB 2.0MB/s eta 0:00:02\r\u001b[K     |▍                               | 40kB 1.6MB/s eta 0:00:02\r\u001b[K     |▌                               | 51kB 1.7MB/s eta 0:00:02\r\u001b[K     |▋                               | 61kB 2.1MB/s eta 0:00:02\r\u001b[K     |▊                               | 71kB 2.2MB/s eta 0:00:02\r\u001b[K     |▉                               | 81kB 2.5MB/s eta 0:00:02\r\u001b[K     |█                               | 92kB 2.7MB/s eta 0:00:02\r\u001b[K     |█                               | 102kB 2.6MB/s eta 0:00:02\r\u001b[K     |█▏                              | 112kB 2.6MB/s eta 0:00:02\r\u001b[K     |█▎                              | 122kB 2.6MB/s eta 0:00:02\r\u001b[K     |█▍                              | 133kB 2.6MB/s eta 0:00:02\r\u001b[K     |█▌                              | 143kB 2.6MB/s eta 0:00:02\r\u001b[K     |█▋                              | 153kB 2.6MB/s eta 0:00:02\r\u001b[K     |█▊                              | 163kB 2.6MB/s eta 0:00:02\r\u001b[K     |█▉                              | 174kB 2.6MB/s eta 0:00:02\r\u001b[K     |██                              | 184kB 2.6MB/s eta 0:00:02\r\u001b[K     |██                              | 194kB 2.6MB/s eta 0:00:02\r\u001b[K     |██▏                             | 204kB 2.6MB/s eta 0:00:02\r\u001b[K     |██▎                             | 215kB 2.6MB/s eta 0:00:02\r\u001b[K     |██▎                             | 225kB 2.6MB/s eta 0:00:02\r\u001b[K     |██▍                             | 235kB 2.6MB/s eta 0:00:02\r\u001b[K     |██▌                             | 245kB 2.6MB/s eta 0:00:02\r\u001b[K     |██▋                             | 256kB 2.6MB/s eta 0:00:02\r\u001b[K     |██▊                             | 266kB 2.6MB/s eta 0:00:02\r\u001b[K     |██▉                             | 276kB 2.6MB/s eta 0:00:02\r\u001b[K     |███                             | 286kB 2.6MB/s eta 0:00:02\r\u001b[K     |███                             | 296kB 2.6MB/s eta 0:00:02\r\u001b[K     |███▏                            | 307kB 2.6MB/s eta 0:00:02\r\u001b[K     |███▎                            | 317kB 2.6MB/s eta 0:00:02\r\u001b[K     |███▍                            | 327kB 2.6MB/s eta 0:00:02\r\u001b[K     |███▌                            | 337kB 2.6MB/s eta 0:00:02\r\u001b[K     |███▋                            | 348kB 2.6MB/s eta 0:00:02\r\u001b[K     |███▊                            | 358kB 2.6MB/s eta 0:00:02\r\u001b[K     |███▉                            | 368kB 2.6MB/s eta 0:00:02\r\u001b[K     |████                            | 378kB 2.6MB/s eta 0:00:02\r\u001b[K     |████                            | 389kB 2.6MB/s eta 0:00:02\r\u001b[K     |████▏                           | 399kB 2.6MB/s eta 0:00:02\r\u001b[K     |████▎                           | 409kB 2.6MB/s eta 0:00:02\r\u001b[K     |████▍                           | 419kB 2.6MB/s eta 0:00:02\r\u001b[K     |████▌                           | 430kB 2.6MB/s eta 0:00:02\r\u001b[K     |████▌                           | 440kB 2.6MB/s eta 0:00:02\r\u001b[K     |████▋                           | 450kB 2.6MB/s eta 0:00:02\r\u001b[K     |████▊                           | 460kB 2.6MB/s eta 0:00:02\r\u001b[K     |████▉                           | 471kB 2.6MB/s eta 0:00:02\r\u001b[K     |█████                           | 481kB 2.6MB/s eta 0:00:02\r\u001b[K     |█████                           | 491kB 2.6MB/s eta 0:00:02\r\u001b[K     |█████▏                          | 501kB 2.6MB/s eta 0:00:02\r\u001b[K     |█████▎                          | 512kB 2.6MB/s eta 0:00:02\r\u001b[K     |█████▍                          | 522kB 2.6MB/s eta 0:00:02\r\u001b[K     |█████▌                          | 532kB 2.6MB/s eta 0:00:01\r\u001b[K     |█████▋                          | 542kB 2.6MB/s eta 0:00:01\r\u001b[K     |█████▊                          | 552kB 2.6MB/s eta 0:00:01\r\u001b[K     |█████▉                          | 563kB 2.6MB/s eta 0:00:01\r\u001b[K     |██████                          | 573kB 2.6MB/s eta 0:00:01\r\u001b[K     |██████                          | 583kB 2.6MB/s eta 0:00:01\r\u001b[K     |██████▏                         | 593kB 2.6MB/s eta 0:00:01\r\u001b[K     |██████▎                         | 604kB 2.6MB/s eta 0:00:01\r\u001b[K     |██████▍                         | 614kB 2.6MB/s eta 0:00:01\r\u001b[K     |██████▌                         | 624kB 2.6MB/s eta 0:00:01\r\u001b[K     |██████▋                         | 634kB 2.6MB/s eta 0:00:01\r\u001b[K     |██████▊                         | 645kB 2.6MB/s eta 0:00:01\r\u001b[K     |██████▊                         | 655kB 2.6MB/s eta 0:00:01\r\u001b[K     |██████▉                         | 665kB 2.6MB/s eta 0:00:01\r\u001b[K     |███████                         | 675kB 2.6MB/s eta 0:00:01\r\u001b[K     |███████                         | 686kB 2.6MB/s eta 0:00:01\r\u001b[K     |███████▏                        | 696kB 2.6MB/s eta 0:00:01\r\u001b[K     |███████▎                        | 706kB 2.6MB/s eta 0:00:01\r\u001b[K     |███████▍                        | 716kB 2.6MB/s eta 0:00:01\r\u001b[K     |███████▌                        | 727kB 2.6MB/s eta 0:00:01\r\u001b[K     |███████▋                        | 737kB 2.6MB/s eta 0:00:01\r\u001b[K     |███████▊                        | 747kB 2.6MB/s eta 0:00:01\r\u001b[K     |███████▉                        | 757kB 2.6MB/s eta 0:00:01\r\u001b[K     |████████                        | 768kB 2.6MB/s eta 0:00:01\r\u001b[K     |████████                        | 778kB 2.6MB/s eta 0:00:01\r\u001b[K     |████████▏                       | 788kB 2.6MB/s eta 0:00:01\r\u001b[K     |████████▎                       | 798kB 2.6MB/s eta 0:00:01\r\u001b[K     |████████▍                       | 808kB 2.6MB/s eta 0:00:01\r\u001b[K     |████████▌                       | 819kB 2.6MB/s eta 0:00:01\r\u001b[K     |████████▋                       | 829kB 2.6MB/s eta 0:00:01\r\u001b[K     |████████▊                       | 839kB 2.6MB/s eta 0:00:01\r\u001b[K     |████████▉                       | 849kB 2.6MB/s eta 0:00:01\r\u001b[K     |█████████                       | 860kB 2.6MB/s eta 0:00:01\r\u001b[K     |█████████                       | 870kB 2.6MB/s eta 0:00:01\r\u001b[K     |█████████                       | 880kB 2.6MB/s eta 0:00:01\r\u001b[K     |█████████▏                      | 890kB 2.6MB/s eta 0:00:01\r\u001b[K     |█████████▎                      | 901kB 2.6MB/s eta 0:00:01\r\u001b[K     |█████████▍                      | 911kB 2.6MB/s eta 0:00:01\r\u001b[K     |█████████▌                      | 921kB 2.6MB/s eta 0:00:01\r\u001b[K     |█████████▋                      | 931kB 2.6MB/s eta 0:00:01\r\u001b[K     |█████████▊                      | 942kB 2.6MB/s eta 0:00:01\r\u001b[K     |█████████▉                      | 952kB 2.6MB/s eta 0:00:01\r\u001b[K     |██████████                      | 962kB 2.6MB/s eta 0:00:01\r\u001b[K     |██████████                      | 972kB 2.6MB/s eta 0:00:01\r\u001b[K     |██████████▏                     | 983kB 2.6MB/s eta 0:00:01\r\u001b[K     |██████████▎                     | 993kB 2.6MB/s eta 0:00:01\r\u001b[K     |██████████▍                     | 1.0MB 2.6MB/s eta 0:00:01\r\u001b[K     |██████████▌                     | 1.0MB 2.6MB/s eta 0:00:01\r\u001b[K     |██████████▋                     | 1.0MB 2.6MB/s eta 0:00:01\r\u001b[K     |██████████▊                     | 1.0MB 2.6MB/s eta 0:00:01\r\u001b[K     |██████████▉                     | 1.0MB 2.6MB/s eta 0:00:01\r\u001b[K     |███████████                     | 1.1MB 2.6MB/s eta 0:00:01\r\u001b[K     |███████████                     | 1.1MB 2.6MB/s eta 0:00:01\r\u001b[K     |███████████▏                    | 1.1MB 2.6MB/s eta 0:00:01\r\u001b[K     |███████████▎                    | 1.1MB 2.6MB/s eta 0:00:01\r\u001b[K     |███████████▎                    | 1.1MB 2.6MB/s eta 0:00:01\r\u001b[K     |███████████▍                    | 1.1MB 2.6MB/s eta 0:00:01\r\u001b[K     |███████████▌                    | 1.1MB 2.6MB/s eta 0:00:01\r\u001b[K     |███████████▋                    | 1.1MB 2.6MB/s eta 0:00:01\r\u001b[K     |███████████▊                    | 1.1MB 2.6MB/s eta 0:00:01\r\u001b[K     |███████████▉                    | 1.1MB 2.6MB/s eta 0:00:01\r\u001b[K     |████████████                    | 1.2MB 2.6MB/s eta 0:00:01\r\u001b[K     |████████████                    | 1.2MB 2.6MB/s eta 0:00:01\r\u001b[K     |████████████▏                   | 1.2MB 2.6MB/s eta 0:00:01\r\u001b[K     |████████████▎                   | 1.2MB 2.6MB/s eta 0:00:01\r\u001b[K     |████████████▍                   | 1.2MB 2.6MB/s eta 0:00:01\r\u001b[K     |████████████▌                   | 1.2MB 2.6MB/s eta 0:00:01\r\u001b[K     |████████████▋                   | 1.2MB 2.6MB/s eta 0:00:01\r\u001b[K     |████████████▊                   | 1.2MB 2.6MB/s eta 0:00:01\r\u001b[K     |████████████▉                   | 1.2MB 2.6MB/s eta 0:00:01\r\u001b[K     |█████████████                   | 1.2MB 2.6MB/s eta 0:00:01\r\u001b[K     |█████████████                   | 1.3MB 2.6MB/s eta 0:00:01\r\u001b[K     |█████████████▏                  | 1.3MB 2.6MB/s eta 0:00:01\r\u001b[K     |█████████████▎                  | 1.3MB 2.6MB/s eta 0:00:01\r\u001b[K     |█████████████▍                  | 1.3MB 2.6MB/s eta 0:00:01\r\u001b[K     |█████████████▌                  | 1.3MB 2.6MB/s eta 0:00:01\r\u001b[K     |█████████████▌                  | 1.3MB 2.6MB/s eta 0:00:01\r\u001b[K     |█████████████▋                  | 1.3MB 2.6MB/s eta 0:00:01\r\u001b[K     |█████████████▊                  | 1.3MB 2.6MB/s eta 0:00:01\r\u001b[K     |█████████████▉                  | 1.3MB 2.6MB/s eta 0:00:01\r\u001b[K     |██████████████                  | 1.4MB 2.6MB/s eta 0:00:01\r\u001b[K     |██████████████                  | 1.4MB 2.6MB/s eta 0:00:01\r\u001b[K     |██████████████▏                 | 1.4MB 2.6MB/s eta 0:00:01\r\u001b[K     |██████████████▎                 | 1.4MB 2.6MB/s eta 0:00:01\r\u001b[K     |██████████████▍                 | 1.4MB 2.6MB/s eta 0:00:01\r\u001b[K     |██████████████▌                 | 1.4MB 2.6MB/s eta 0:00:01\r\u001b[K     |██████████████▋                 | 1.4MB 2.6MB/s eta 0:00:01\r\u001b[K     |██████████████▊                 | 1.4MB 2.6MB/s eta 0:00:01\r\u001b[K     |██████████████▉                 | 1.4MB 2.6MB/s eta 0:00:01\r\u001b[K     |███████████████                 | 1.4MB 2.6MB/s eta 0:00:01\r\u001b[K     |███████████████                 | 1.5MB 2.6MB/s eta 0:00:01\r\u001b[K     |███████████████▏                | 1.5MB 2.6MB/s eta 0:00:01\r\u001b[K     |███████████████▎                | 1.5MB 2.6MB/s eta 0:00:01\r\u001b[K     |███████████████▍                | 1.5MB 2.6MB/s eta 0:00:01\r\u001b[K     |███████████████▌                | 1.5MB 2.6MB/s eta 0:00:01\r\u001b[K     |███████████████▋                | 1.5MB 2.6MB/s eta 0:00:01\r\u001b[K     |███████████████▊                | 1.5MB 2.6MB/s eta 0:00:01\r\u001b[K     |███████████████▊                | 1.5MB 2.6MB/s eta 0:00:01\r\u001b[K     |███████████████▉                | 1.5MB 2.6MB/s eta 0:00:01\r\u001b[K     |████████████████                | 1.5MB 2.6MB/s eta 0:00:01\r\u001b[K     |████████████████                | 1.6MB 2.6MB/s eta 0:00:01\r\u001b[K     |████████████████▏               | 1.6MB 2.6MB/s eta 0:00:01\r\u001b[K     |████████████████▎               | 1.6MB 2.6MB/s eta 0:00:01\r\u001b[K     |████████████████▍               | 1.6MB 2.6MB/s eta 0:00:01\r\u001b[K     |████████████████▌               | 1.6MB 2.6MB/s eta 0:00:01\r\u001b[K     |████████████████▋               | 1.6MB 2.6MB/s eta 0:00:01\r\u001b[K     |████████████████▊               | 1.6MB 2.6MB/s eta 0:00:01\r\u001b[K     |████████████████▉               | 1.6MB 2.6MB/s eta 0:00:01\r\u001b[K     |█████████████████               | 1.6MB 2.6MB/s eta 0:00:01\r\u001b[K     |█████████████████               | 1.6MB 2.6MB/s eta 0:00:01\r\u001b[K     |█████████████████▏              | 1.7MB 2.6MB/s eta 0:00:01\r\u001b[K     |█████████████████▎              | 1.7MB 2.6MB/s eta 0:00:01\r\u001b[K     |█████████████████▍              | 1.7MB 2.6MB/s eta 0:00:01\r\u001b[K     |█████████████████▌              | 1.7MB 2.6MB/s eta 0:00:01\r\u001b[K     |█████████████████▋              | 1.7MB 2.6MB/s eta 0:00:01\r\u001b[K     |█████████████████▊              | 1.7MB 2.6MB/s eta 0:00:01\r\u001b[K     |█████████████████▉              | 1.7MB 2.6MB/s eta 0:00:01\r\u001b[K     |██████████████████              | 1.7MB 2.6MB/s eta 0:00:01\r\u001b[K     |██████████████████              | 1.7MB 2.6MB/s eta 0:00:01\r\u001b[K     |██████████████████              | 1.8MB 2.6MB/s eta 0:00:01\r\u001b[K     |██████████████████▏             | 1.8MB 2.6MB/s eta 0:00:01\r\u001b[K     |██████████████████▎             | 1.8MB 2.6MB/s eta 0:00:01\r\u001b[K     |██████████████████▍             | 1.8MB 2.6MB/s eta 0:00:01\r\u001b[K     |██████████████████▌             | 1.8MB 2.6MB/s eta 0:00:01\r\u001b[K     |██████████████████▋             | 1.8MB 2.6MB/s eta 0:00:01\r\u001b[K     |██████████████████▊             | 1.8MB 2.6MB/s eta 0:00:01\r\u001b[K     |██████████████████▉             | 1.8MB 2.6MB/s eta 0:00:01\r\u001b[K     |███████████████████             | 1.8MB 2.6MB/s eta 0:00:01\r\u001b[K     |███████████████████             | 1.8MB 2.6MB/s eta 0:00:01\r\u001b[K     |███████████████████▏            | 1.9MB 2.6MB/s eta 0:00:01\r\u001b[K     |███████████████████▎            | 1.9MB 2.6MB/s eta 0:00:01\r\u001b[K     |███████████████████▍            | 1.9MB 2.6MB/s eta 0:00:01\r\u001b[K     |███████████████████▌            | 1.9MB 2.6MB/s eta 0:00:01\r\u001b[K     |███████████████████▋            | 1.9MB 2.6MB/s eta 0:00:01\r\u001b[K     |███████████████████▊            | 1.9MB 2.6MB/s eta 0:00:01\r\u001b[K     |███████████████████▉            | 1.9MB 2.6MB/s eta 0:00:01\r\u001b[K     |████████████████████            | 1.9MB 2.6MB/s eta 0:00:01\r\u001b[K     |████████████████████            | 1.9MB 2.6MB/s eta 0:00:01\r\u001b[K     |████████████████████▏           | 1.9MB 2.6MB/s eta 0:00:01\r\u001b[K     |████████████████████▎           | 2.0MB 2.6MB/s eta 0:00:01\r\u001b[K     |████████████████████▎           | 2.0MB 2.6MB/s eta 0:00:01\r\u001b[K     |████████████████████▍           | 2.0MB 2.6MB/s eta 0:00:01\r\u001b[K     |████████████████████▌           | 2.0MB 2.6MB/s eta 0:00:01\r\u001b[K     |████████████████████▋           | 2.0MB 2.6MB/s eta 0:00:01\r\u001b[K     |████████████████████▊           | 2.0MB 2.6MB/s eta 0:00:01\r\u001b[K     |████████████████████▉           | 2.0MB 2.6MB/s eta 0:00:01\r\u001b[K     |█████████████████████           | 2.0MB 2.6MB/s eta 0:00:01\r\u001b[K     |█████████████████████           | 2.0MB 2.6MB/s eta 0:00:01\r\u001b[K     |█████████████████████▏          | 2.0MB 2.6MB/s eta 0:00:01\r\u001b[K     |█████████████████████▎          | 2.1MB 2.6MB/s eta 0:00:01\r\u001b[K     |█████████████████████▍          | 2.1MB 2.6MB/s eta 0:00:01\r\u001b[K     |█████████████████████▌          | 2.1MB 2.6MB/s eta 0:00:01\r\u001b[K     |█████████████████████▋          | 2.1MB 2.6MB/s eta 0:00:01\r\u001b[K     |█████████████████████▊          | 2.1MB 2.6MB/s eta 0:00:01\r\u001b[K     |█████████████████████▉          | 2.1MB 2.6MB/s eta 0:00:01\r\u001b[K     |██████████████████████          | 2.1MB 2.6MB/s eta 0:00:01\r\u001b[K     |██████████████████████          | 2.1MB 2.6MB/s eta 0:00:01\r\u001b[K     |██████████████████████▏         | 2.1MB 2.6MB/s eta 0:00:01\r\u001b[K     |██████████████████████▎         | 2.2MB 2.6MB/s eta 0:00:01\r\u001b[K     |██████████████████████▍         | 2.2MB 2.6MB/s eta 0:00:01\r\u001b[K     |██████████████████████▌         | 2.2MB 2.6MB/s eta 0:00:01\r\u001b[K     |██████████████████████▌         | 2.2MB 2.6MB/s eta 0:00:01\r\u001b[K     |██████████████████████▋         | 2.2MB 2.6MB/s eta 0:00:01\r\u001b[K     |██████████████████████▊         | 2.2MB 2.6MB/s eta 0:00:01\r\u001b[K     |██████████████████████▉         | 2.2MB 2.6MB/s eta 0:00:01\r\u001b[K     |███████████████████████         | 2.2MB 2.6MB/s eta 0:00:01\r\u001b[K     |███████████████████████         | 2.2MB 2.6MB/s eta 0:00:01\r\u001b[K     |███████████████████████▏        | 2.2MB 2.6MB/s eta 0:00:01\r\u001b[K     |███████████████████████▎        | 2.3MB 2.6MB/s eta 0:00:01\r\u001b[K     |███████████████████████▍        | 2.3MB 2.6MB/s eta 0:00:01\r\u001b[K     |███████████████████████▌        | 2.3MB 2.6MB/s eta 0:00:01\r\u001b[K     |███████████████████████▋        | 2.3MB 2.6MB/s eta 0:00:01\r\u001b[K     |███████████████████████▊        | 2.3MB 2.6MB/s eta 0:00:01\r\u001b[K     |███████████████████████▉        | 2.3MB 2.6MB/s eta 0:00:01\r\u001b[K     |████████████████████████        | 2.3MB 2.6MB/s eta 0:00:01\r\u001b[K     |████████████████████████        | 2.3MB 2.6MB/s eta 0:00:01\r\u001b[K     |████████████████████████▏       | 2.3MB 2.6MB/s eta 0:00:01\r\u001b[K     |████████████████████████▎       | 2.3MB 2.6MB/s eta 0:00:01\r\u001b[K     |████████████████████████▍       | 2.4MB 2.6MB/s eta 0:00:01\r\u001b[K     |████████████████████████▌       | 2.4MB 2.6MB/s eta 0:00:01\r\u001b[K     |████████████████████████▋       | 2.4MB 2.6MB/s eta 0:00:01\r\u001b[K     |████████████████████████▊       | 2.4MB 2.6MB/s eta 0:00:01\r\u001b[K     |████████████████████████▊       | 2.4MB 2.6MB/s eta 0:00:01\r\u001b[K     |████████████████████████▉       | 2.4MB 2.6MB/s eta 0:00:01\r\u001b[K     |█████████████████████████       | 2.4MB 2.6MB/s eta 0:00:01\r\u001b[K     |█████████████████████████       | 2.4MB 2.6MB/s eta 0:00:01\r\u001b[K     |█████████████████████████▏      | 2.4MB 2.6MB/s eta 0:00:01\r\u001b[K     |█████████████████████████▎      | 2.4MB 2.6MB/s eta 0:00:01\r\u001b[K     |█████████████████████████▍      | 2.5MB 2.6MB/s eta 0:00:01\r\u001b[K     |█████████████████████████▌      | 2.5MB 2.6MB/s eta 0:00:01\r\u001b[K     |█████████████████████████▋      | 2.5MB 2.6MB/s eta 0:00:01\r\u001b[K     |█████████████████████████▊      | 2.5MB 2.6MB/s eta 0:00:01\r\u001b[K     |█████████████████████████▉      | 2.5MB 2.6MB/s eta 0:00:01\r\u001b[K     |██████████████████████████      | 2.5MB 2.6MB/s eta 0:00:01\r\u001b[K     |██████████████████████████      | 2.5MB 2.6MB/s eta 0:00:01\r\u001b[K     |██████████████████████████▏     | 2.5MB 2.6MB/s eta 0:00:01\r\u001b[K     |██████████████████████████▎     | 2.5MB 2.6MB/s eta 0:00:01\r\u001b[K     |██████████████████████████▍     | 2.5MB 2.6MB/s eta 0:00:01\r\u001b[K     |██████████████████████████▌     | 2.6MB 2.6MB/s eta 0:00:01\r\u001b[K     |██████████████████████████▋     | 2.6MB 2.6MB/s eta 0:00:01\r\u001b[K     |██████████████████████████▊     | 2.6MB 2.6MB/s eta 0:00:01\r\u001b[K     |██████████████████████████▉     | 2.6MB 2.6MB/s eta 0:00:01\r\u001b[K     |███████████████████████████     | 2.6MB 2.6MB/s eta 0:00:01\r\u001b[K     |███████████████████████████     | 2.6MB 2.6MB/s eta 0:00:01\r\u001b[K     |███████████████████████████     | 2.6MB 2.6MB/s eta 0:00:01\r\u001b[K     |███████████████████████████▏    | 2.6MB 2.6MB/s eta 0:00:01\r\u001b[K     |███████████████████████████▎    | 2.6MB 2.6MB/s eta 0:00:01\r\u001b[K     |███████████████████████████▍    | 2.7MB 2.6MB/s eta 0:00:01\r\u001b[K     |███████████████████████████▌    | 2.7MB 2.6MB/s eta 0:00:01\r\u001b[K     |███████████████████████████▋    | 2.7MB 2.6MB/s eta 0:00:01\r\u001b[K     |███████████████████████████▊    | 2.7MB 2.6MB/s eta 0:00:01\r\u001b[K     |███████████████████████████▉    | 2.7MB 2.6MB/s eta 0:00:01\r\u001b[K     |████████████████████████████    | 2.7MB 2.6MB/s eta 0:00:01\r\u001b[K     |████████████████████████████    | 2.7MB 2.6MB/s eta 0:00:01\r\u001b[K     |████████████████████████████▏   | 2.7MB 2.6MB/s eta 0:00:01\r\u001b[K     |████████████████████████████▎   | 2.7MB 2.6MB/s eta 0:00:01\r\u001b[K     |████████████████████████████▍   | 2.7MB 2.6MB/s eta 0:00:01\r\u001b[K     |████████████████████████████▌   | 2.8MB 2.6MB/s eta 0:00:01\r\u001b[K     |████████████████████████████▋   | 2.8MB 2.6MB/s eta 0:00:01\r\u001b[K     |████████████████████████████▊   | 2.8MB 2.6MB/s eta 0:00:01\r\u001b[K     |████████████████████████████▉   | 2.8MB 2.6MB/s eta 0:00:01\r\u001b[K     |█████████████████████████████   | 2.8MB 2.6MB/s eta 0:00:01\r\u001b[K     |█████████████████████████████   | 2.8MB 2.6MB/s eta 0:00:01\r\u001b[K     |█████████████████████████████▏  | 2.8MB 2.6MB/s eta 0:00:01\r\u001b[K     |█████████████████████████████▎  | 2.8MB 2.6MB/s eta 0:00:01\r\u001b[K     |█████████████████████████████▎  | 2.8MB 2.6MB/s eta 0:00:01\r\u001b[K     |█████████████████████████████▍  | 2.8MB 2.6MB/s eta 0:00:01\r\u001b[K     |█████████████████████████████▌  | 2.9MB 2.6MB/s eta 0:00:01\r\u001b[K     |█████████████████████████████▋  | 2.9MB 2.6MB/s eta 0:00:01\r\u001b[K     |█████████████████████████████▊  | 2.9MB 2.6MB/s eta 0:00:01\r\u001b[K     |█████████████████████████████▉  | 2.9MB 2.6MB/s eta 0:00:01\r\u001b[K     |██████████████████████████████  | 2.9MB 2.6MB/s eta 0:00:01\r\u001b[K     |██████████████████████████████  | 2.9MB 2.6MB/s eta 0:00:01\r\u001b[K     |██████████████████████████████▏ | 2.9MB 2.6MB/s eta 0:00:01\r\u001b[K     |██████████████████████████████▎ | 2.9MB 2.6MB/s eta 0:00:01\r\u001b[K     |██████████████████████████████▍ | 2.9MB 2.6MB/s eta 0:00:01\r\u001b[K     |██████████████████████████████▌ | 2.9MB 2.6MB/s eta 0:00:01\r\u001b[K     |██████████████████████████████▋ | 3.0MB 2.6MB/s eta 0:00:01\r\u001b[K     |██████████████████████████████▊ | 3.0MB 2.6MB/s eta 0:00:01\r\u001b[K     |██████████████████████████████▉ | 3.0MB 2.6MB/s eta 0:00:01\r\u001b[K     |███████████████████████████████ | 3.0MB 2.6MB/s eta 0:00:01\r\u001b[K     |███████████████████████████████ | 3.0MB 2.6MB/s eta 0:00:01\r\u001b[K     |███████████████████████████████▏| 3.0MB 2.6MB/s eta 0:00:01\r\u001b[K     |███████████████████████████████▎| 3.0MB 2.6MB/s eta 0:00:01\r\u001b[K     |███████████████████████████████▍| 3.0MB 2.6MB/s eta 0:00:01\r\u001b[K     |███████████████████████████████▌| 3.0MB 2.6MB/s eta 0:00:01\r\u001b[K     |███████████████████████████████▌| 3.1MB 2.6MB/s eta 0:00:01\r\u001b[K     |███████████████████████████████▋| 3.1MB 2.6MB/s eta 0:00:01\r\u001b[K     |███████████████████████████████▊| 3.1MB 2.6MB/s eta 0:00:01\r\u001b[K     |███████████████████████████████▉| 3.1MB 2.6MB/s eta 0:00:01\r\u001b[K     |████████████████████████████████| 3.1MB 2.6MB/s eta 0:00:01\r\u001b[K     |████████████████████████████████| 3.1MB 2.6MB/s \n",
            "\u001b[?25hCollecting appdirs\n",
            "  Downloading https://files.pythonhosted.org/packages/56/eb/810e700ed1349edde4cbdc1b2a21e28cdf115f9faf263f6bbf8447c1abf3/appdirs-1.4.3-py2.py3-none-any.whl\n",
            "Requirement already satisfied: entrypoints in /usr/local/lib/python3.6/dist-packages (from intake) (0.3)\n",
            "Requirement already satisfied: dask[bag]>=1.0 in /usr/local/lib/python3.6/dist-packages (from intake) (2.9.2)\n",
            "Requirement already satisfied: jinja2 in /usr/local/lib/python3.6/dist-packages (from intake) (2.11.1)\n",
            "Requirement already satisfied: numpy in /usr/local/lib/python3.6/dist-packages (from intake) (1.17.5)\n",
            "Requirement already satisfied: pyyaml in /usr/local/lib/python3.6/dist-packages (from intake) (3.13)\n",
            "Requirement already satisfied: requests in /usr/local/lib/python3.6/dist-packages (from intake) (2.21.0)\n",
            "Requirement already satisfied: msgpack in /usr/local/lib/python3.6/dist-packages (from intake) (0.5.6)\n",
            "Requirement already satisfied: fsspec>=0.3.6 in /usr/local/lib/python3.6/dist-packages (from intake) (0.6.2)\n",
            "Requirement already satisfied: cloudpickle>=0.2.1; extra == \"bag\" in /usr/local/lib/python3.6/dist-packages (from dask[bag]>=1.0->intake) (1.2.2)\n",
            "Collecting partd>=0.3.10; extra == \"bag\"\n",
            "  Downloading https://files.pythonhosted.org/packages/44/e1/68dbe731c9c067655bff1eca5b7d40c20ca4b23fd5ec9f3d17e201a6f36b/partd-1.1.0-py3-none-any.whl\n",
            "Requirement already satisfied: toolz>=0.7.3; extra == \"bag\" in /usr/local/lib/python3.6/dist-packages (from dask[bag]>=1.0->intake) (0.10.0)\n",
            "Requirement already satisfied: MarkupSafe>=0.23 in /usr/local/lib/python3.6/dist-packages (from jinja2->intake) (1.1.1)\n",
            "Requirement already satisfied: chardet<3.1.0,>=3.0.2 in /usr/local/lib/python3.6/dist-packages (from requests->intake) (3.0.4)\n",
            "Requirement already satisfied: idna<2.9,>=2.5 in /usr/local/lib/python3.6/dist-packages (from requests->intake) (2.8)\n",
            "Requirement already satisfied: urllib3<1.25,>=1.21.1 in /usr/local/lib/python3.6/dist-packages (from requests->intake) (1.24.3)\n",
            "Requirement already satisfied: certifi>=2017.4.17 in /usr/local/lib/python3.6/dist-packages (from requests->intake) (2019.11.28)\n",
            "Collecting locket\n",
            "  Downloading https://files.pythonhosted.org/packages/d0/22/3c0f97614e0be8386542facb3a7dcfc2584f7b83608c02333bced641281c/locket-0.2.0.tar.gz\n",
            "Building wheels for collected packages: intake, locket\n",
            "  Building wheel for intake (setup.py) ... \u001b[?25l\u001b[?25hdone\n",
            "  Created wheel for intake: filename=intake-0.5.4-cp36-none-any.whl size=1457185 sha256=4a2987be50a4f50740a89040c965332087daad1e6e642fe6fbd3243cb181dcee\n",
            "  Stored in directory: /root/.cache/pip/wheels/ac/90/37/b2aac45ddc4463e6809a10e4c8f3d579a9729ee3d4cb924203\n",
            "  Building wheel for locket (setup.py) ... \u001b[?25l\u001b[?25hdone\n",
            "  Created wheel for locket: filename=locket-0.2.0-cp36-none-any.whl size=4040 sha256=f4626813e4201c4526201b16df857e49afd6f2dd6592191033d3264b736c666e\n",
            "  Stored in directory: /root/.cache/pip/wheels/26/1e/e8/4fa236ec931b1a0cdd61578e20d4934d7bf188858723b84698\n",
            "Successfully built intake locket\n",
            "Installing collected packages: appdirs, intake, locket, partd\n",
            "Successfully installed appdirs-1.4.3 intake-0.5.4 locket-0.2.0 partd-1.1.0\n"
          ],
          "name": "stdout"
        }
      ]
    },
    {
      "cell_type": "code",
      "metadata": {
        "id": "vq8O0r0HLy5A",
        "colab_type": "code",
        "colab": {}
      },
      "source": [
        ""
      ],
      "execution_count": 0,
      "outputs": []
    }
  ]
}