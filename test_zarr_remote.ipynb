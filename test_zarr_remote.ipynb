{
  "nbformat": 4,
  "nbformat_minor": 0,
  "metadata": {
    "colab": {
      "name": "test-zarr-remote.ipynb",
      "provenance": [],
      "collapsed_sections": [],
      "toc_visible": true,
      "mount_file_id": "https://github.com/Vizzuality/copernicus-climate-data/blob/master/test_zarr_remote.ipynb",
      "authorship_tag": "ABX9TyNeUqGZOLGmaBxm+vMutLES",
      "include_colab_link": true
    },
    "kernelspec": {
      "name": "python3",
      "display_name": "Python 3"
    }
  },
  "cells": [
    {
      "cell_type": "markdown",
      "metadata": {
        "id": "view-in-github",
        "colab_type": "text"
      },
      "source": [
        "<a href=\"https://colab.research.google.com/github/Vizzuality/copernicus-climate-data/blob/master/test_zarr_remote.ipynb\" target=\"_parent\"><img src=\"https://colab.research.google.com/assets/colab-badge.svg\" alt=\"Open In Colab\"/></a>"
      ]
    },
    {
      "cell_type": "markdown",
      "metadata": {
        "id": "0qZCe3fRyY9q",
        "colab_type": "text"
      },
      "source": [
        "# Prepare data for the copernicus climate project\n",
        "\n",
        "https://github.com/Vizzuality/copernicus-climate-data\n",
        "\n",
        "`Edward P. Morris (vizzuality.)`\n",
        "\n",
        "## Description\n",
        "This notebook demonstrates functions to calculate heat wave frequency using cloud optimised ZARR datasets.\n",
        "\n",
        "```\n",
        "MIT License\n",
        "\n",
        "Copyright (c) 2020 Vizzuality\n",
        "\n",
        "Permission is hereby granted, free of charge, to any person obtaining a copy\n",
        "of this software and associated documentation files (the \"Software\"), to deal\n",
        "in the Software without restriction, including without limitation the rights\n",
        "to use, copy, modify, merge, publish, distribute, sublicense, and/or sell\n",
        "copies of the Software, and to permit persons to whom the Software is\n",
        "furnished to do so, subject to the following conditions:\n",
        "\n",
        "The above copyright notice and this permission notice shall be included in all\n",
        "copies or substantial portions of the Software.\n",
        "\n",
        "THE SOFTWARE IS PROVIDED \"AS IS\", WITHOUT WARRANTY OF ANY KIND, EXPRESS OR\n",
        "IMPLIED, INCLUDING BUT NOT LIMITED TO THE WARRANTIES OF MERCHANTABILITY,\n",
        "FITNESS FOR A PARTICULAR PURPOSE AND NONINFRINGEMENT. IN NO EVENT SHALL THE\n",
        "AUTHORS OR COPYRIGHT HOLDERS BE LIABLE FOR ANY CLAIM, DAMAGES OR OTHER\n",
        "LIABILITY, WHETHER IN AN ACTION OF CONTRACT, TORT OR OTHERWISE, ARISING FROM,\n",
        "OUT OF OR IN CONNECTION WITH THE SOFTWARE OR THE USE OR OTHER DEALINGS IN THE\n",
        "SOFTWARE.\n",
        "```"
      ]
    },
    {
      "cell_type": "markdown",
      "metadata": {
        "id": "uKARM1_f3Ccg",
        "colab_type": "text"
      },
      "source": [
        "# Setup"
      ]
    },
    {
      "cell_type": "markdown",
      "metadata": {
        "id": "FjdjX-Vc3LVK",
        "colab_type": "text"
      },
      "source": [
        "## Linux dependencies"
      ]
    },
    {
      "cell_type": "code",
      "metadata": {
        "id": "-5S4mxFswFUs",
        "colab_type": "code",
        "colab": {}
      },
      "source": [
        "!apt install libspatialindex-dev"
      ],
      "execution_count": 0,
      "outputs": []
    },
    {
      "cell_type": "markdown",
      "metadata": {
        "id": "LGWeJje13Tcw",
        "colab_type": "text"
      },
      "source": [
        "## Python packages"
      ]
    },
    {
      "cell_type": "code",
      "metadata": {
        "id": "U53feFohKqnU",
        "colab_type": "code",
        "colab": {}
      },
      "source": [
        "!pip install cftime netcdf4 zarr xarray xclim gcsfs nc-time-axis rioxarray"
      ],
      "execution_count": 0,
      "outputs": []
    },
    {
      "cell_type": "markdown",
      "metadata": {
        "id": "IK4kYzml3bDD",
        "colab_type": "text"
      },
      "source": [
        "## Authorisation"
      ]
    },
    {
      "cell_type": "code",
      "metadata": {
        "colab_type": "code",
        "id": "oY_ymKY_oIY8",
        "colab": {}
      },
      "source": [
        "# For auth WITHOUT service account\n",
        "#from google.colab import auth\n",
        "#auth.authenticate_user()\n",
        "\n",
        "# https://cloud.google.com/resource-manager/docs/creating-managing-projects\n",
        "#project_id = \"skydipper-196010\"\n",
        "#!gcloud config set project {project_id}"
      ],
      "execution_count": 0,
      "outputs": []
    },
    {
      "cell_type": "code",
      "metadata": {
        "colab_type": "code",
        "id": "dCFS8FOnzScr",
        "colab": {}
      },
      "source": [
        "# Copy GC credentials to home (place in your GDrive, and connect Drive)\n",
        "!cp \"/content/drive/My Drive/skydipper-196010-f842645fd0f3.json\" \"/root/.skydipper-196010-f842645fd0f3.json\""
      ],
      "execution_count": 0,
      "outputs": []
    },
    {
      "cell_type": "code",
      "metadata": {
        "colab_type": "code",
        "outputId": "e17015b6-8ee9-4373-b0ed-cc63e866ac1a",
        "id": "03Tbqeq9zSc0",
        "colab": {
          "base_uri": "https://localhost:8080/",
          "height": 34
        }
      },
      "source": [
        "# Auth WITH service account\n",
        "!gcloud auth activate-service-account \\\n",
        "  edward-morris@skydipper-196010.iam.gserviceaccount.com \\\n",
        "          --key-file=/root/.skydipper-196010-f842645fd0f3.json --project=\"skydipper-196010\"\n"
      ],
      "execution_count": 14,
      "outputs": [
        {
          "output_type": "stream",
          "text": [
            "Activated service account credentials for: [edward-morris@skydipper-196010.iam.gserviceaccount.com]\n"
          ],
          "name": "stdout"
        }
      ]
    },
    {
      "cell_type": "code",
      "metadata": {
        "colab_type": "code",
        "outputId": "48d9fb82-9f5b-4cac-c2c1-342190a683e1",
        "id": "PA4tPZ4-zSc9",
        "colab": {
          "base_uri": "https://localhost:8080/",
          "height": 278
        }
      },
      "source": [
        "# Test GC auth\n",
        "!gsutil ls \"gs://copernicus-climate\""
      ],
      "execution_count": 15,
      "outputs": [
        {
          "output_type": "stream",
          "text": [
            "gs://copernicus-climate/RH_ERA5.zip\n",
            "gs://copernicus-climate/mrt_ERA5-HEAT.zip\n",
            "gs://copernicus-climate/sp_ERA5.zip\n",
            "gs://copernicus-climate/t2m_ERA5.zip\n",
            "gs://copernicus-climate/variables_futuro_CMIP5_AEMET.zip\n",
            "gs://copernicus-climate/variables_futuro_CMIP5_ERA5land_1.zip\n",
            "gs://copernicus-climate/variables_futuro_CMIP5_ERA5land_2.zip\n",
            "gs://copernicus-climate/variables_futuro_CMIP5_ERA5land_3.zip\n",
            "gs://copernicus-climate/variables_futuro_CMIP5_ERA5land_4.zip\n",
            "gs://copernicus-climate/variables_futuro_seasonal_ERA5land_1.zip\n",
            "gs://copernicus-climate/variables_futuro_seasonal_ERA5land_2.zip\n",
            "gs://copernicus-climate/variables_futuro_seasonal_ERA5land_3.zip\n",
            "gs://copernicus-climate/ws_ERA5.zip\n",
            "gs://copernicus-climate/dataset/\n",
            "gs://copernicus-climate/spain.zarr/\n"
          ],
          "name": "stdout"
        }
      ]
    },
    {
      "cell_type": "code",
      "metadata": {
        "id": "5f327xg8JujU",
        "colab_type": "code",
        "colab": {
          "base_uri": "https://localhost:8080/",
          "height": 34
        },
        "outputId": "80a7ff4e-2882-48d0-a772-5aee4fd4b7ca"
      },
      "source": [
        "# Clean up\n",
        "!rm -r sample_data"
      ],
      "execution_count": 16,
      "outputs": [
        {
          "output_type": "stream",
          "text": [
            "rm: cannot remove 'sample_data': No such file or directory\n"
          ],
          "name": "stdout"
        }
      ]
    },
    {
      "cell_type": "markdown",
      "metadata": {
        "id": "Vb3bFXTp0JFz",
        "colab_type": "text"
      },
      "source": [
        "# Utils"
      ]
    },
    {
      "cell_type": "code",
      "metadata": {
        "id": "rwZhd30U2hso",
        "colab_type": "code",
        "colab": {}
      },
      "source": [
        "import gcsfs\n",
        "import zarr\n",
        "import xarray as xr\n",
        "# Set display to HTML sytle (optional)\n",
        "xr.set_options(display_style='html', display_width=50)\n",
        "\n",
        "def get_cached_zarr(\n",
        "    group,\n",
        "    project_id = \"skydipper-196010\",\n",
        "    root = \"copernicus-climate/spain.zarr\",\n",
        "    token=\"/root/.skydipper-196010-f842645fd0f3.json\"\n",
        "    ):\n",
        "  \n",
        "  # Connect to GS\n",
        "  gc = gcsfs.GCSFileSystem(project=project_id, token=token)\n",
        "  path_or_store = gcsfs.mapping.GCSMap(root, gcs=gc, check=True, create=False)\n",
        "  # Check zarr is consolidated\n",
        "  consolidated = gc.exists(f'{root}/.zmetadata')\n",
        "  # Cache the zarr store\n",
        "  #path_or_store = zarr.ZipStore(root, mode='r')\n",
        "  cache = zarr.LRUStoreCache(path_or_store, max_size=None)\n",
        "  # Return cached zarr group\n",
        "  return xr.open_zarr(cache, group=group, consolidated=consolidated)"
      ],
      "execution_count": 0,
      "outputs": []
    },
    {
      "cell_type": "markdown",
      "metadata": {
        "id": "AVWenNYGNKQF",
        "colab_type": "text"
      },
      "source": [
        "# Access ZARRs"
      ]
    },
    {
      "cell_type": "code",
      "metadata": {
        "id": "12aTHwvX3Swu",
        "colab_type": "code",
        "outputId": "8c2acfe3-6b52-4a21-c8a0-463f650a8663",
        "colab": {
          "base_uri": "https://localhost:8080/",
          "height": 52
        }
      },
      "source": [
        "%%time\n",
        "# Here we are only reading the metadata!\n",
        "seas = get_cached_zarr(\"seasonal-original-single-levels\")\n",
        "seas"
      ],
      "execution_count": 73,
      "outputs": [
        {
          "output_type": "stream",
          "text": [
            "CPU times: user 102 ms, sys: 1.96 ms, total: 104 ms\n",
            "Wall time: 2.68 s\n"
          ],
          "name": "stdout"
        }
      ]
    },
    {
      "cell_type": "code",
      "metadata": {
        "id": "Kc5a3ZpZ46aQ",
        "colab_type": "code",
        "outputId": "acc31b13-fef7-4447-8b8f-5dfbb6d83e7f",
        "colab": {
          "base_uri": "https://localhost:8080/",
          "height": 52
        }
      },
      "source": [
        "%%time\n",
        "# Here we are only reading the metadata!\n",
        "fut = get_cached_zarr(\"projections-cmip5-daily-single-levels\")\n",
        "fut"
      ],
      "execution_count": 74,
      "outputs": [
        {
          "output_type": "stream",
          "text": [
            "CPU times: user 192 ms, sys: 1.19 ms, total: 193 ms\n",
            "Wall time: 2.68 s\n"
          ],
          "name": "stdout"
        }
      ]
    },
    {
      "cell_type": "code",
      "metadata": {
        "id": "xIDW7VrW0Tyv",
        "colab_type": "code",
        "colab": {
          "base_uri": "https://localhost:8080/",
          "height": 52
        },
        "outputId": "9b9d487c-a943-4e34-b087-7870107fff29"
      },
      "source": [
        "%%time\n",
        "# Here we are only reading the metadata!\n",
        "his = get_cached_zarr(\"reanalysis-era5-land\")\n",
        "his"
      ],
      "execution_count": 75,
      "outputs": [
        {
          "output_type": "stream",
          "text": [
            "CPU times: user 39.5 ms, sys: 823 µs, total: 40.3 ms\n",
            "Wall time: 2.09 s\n"
          ],
          "name": "stdout"
        }
      ]
    },
    {
      "cell_type": "markdown",
      "metadata": {
        "id": "Z1-OU-T92BAR",
        "colab_type": "text"
      },
      "source": [
        "# Calculate monthly heatwaves\n",
        "\n",
        "FIXME: Why do there appear to be no heatwaves (using reasonable limits) in the historical data?"
      ]
    },
    {
      "cell_type": "markdown",
      "metadata": {
        "id": "GPmTCCVTDGGD",
        "colab_type": "text"
      },
      "source": [
        "## Future and seasonal\n",
        "\n",
        "Here the dimensions are (experiment), model, realisation, lat, lon, time "
      ]
    },
    {
      "cell_type": "code",
      "metadata": {
        "id": "wQn27dS_DIqu",
        "colab_type": "code",
        "colab": {}
      },
      "source": [
        "#%%time\n",
        "import xclim as xc\n",
        "\n",
        "def calc_monthly_heat_wave_frequency(ds, thresh_tasmax, thresh_tasmin, window):\n",
        "  return xc.atmos.heat_wave_frequency(tasmax=ds.tasmax, tasmin=ds.tasmin, thresh_tasmax=thresh_tasmax, thresh_tasmin=thresh_tasmin, window=window, freq='MS')\n",
        "\n",
        "def future_heat_wave_frequency(ds, thresh_tasmax='30 C', thresh_tasmin='26 C', window=2):\n",
        "  return ds.groupby('model', 'realization')\\\n",
        "  .map(calc_monthly_heat_wave_frequency, args=(thresh_tasmax, thresh_tasmin, window))\\\n",
        "  .mean(['model', 'realization']).squeeze()\n",
        "\n",
        "#ds = future_heat_wave_frequency(fut, thresh_tasmax='15 C', thresh_tasmin='5 C', window=2)\n",
        "#ds.sel(experiment='rcp85').isel(time=3).plot()"
      ],
      "execution_count": 0,
      "outputs": []
    },
    {
      "cell_type": "markdown",
      "metadata": {
        "id": "YBMor-qBG2ss",
        "colab_type": "text"
      },
      "source": [
        "## Historical\n",
        "\n",
        "Here the dimensions are lat, lon, time"
      ]
    },
    {
      "cell_type": "code",
      "metadata": {
        "id": "NL52GovEG7Vv",
        "colab_type": "code",
        "colab": {
          "base_uri": "https://localhost:8080/",
          "height": 52
        },
        "outputId": "fe5b7344-32c1-4e10-f68d-33f363df7220"
      },
      "source": [
        "%%time\n",
        "import xclim as xc\n",
        "\n",
        "def calc_monthly_heat_wave_frequency(ds, thresh_tasmax, thresh_tasmin, window):\n",
        "  return xc.atmos.heat_wave_frequency(tasmax=ds.tasmax, tasmin=ds.tasmin, thresh_tasmax=thresh_tasmax, thresh_tasmin=thresh_tasmin, window=window, freq='MS')\n",
        "\n",
        "def historical_heat_wave_frequency(ds, thresh_tasmax='30 C', thresh_tasmin='26 C', window=2):\n",
        "  return calc_monthly_heat_wave_frequency(ds, thresh_tasmax=thresh_tasmax, thresh_tasmin=thresh_tasmin, window=window).squeeze()\n",
        "\n",
        "#ds = historical_heat_wave_frequency(his, thresh_tasmax='15 C', thresh_tasmin='5 C', window=2)\n",
        "#ds.isel(time=3).plot()"
      ],
      "execution_count": 156,
      "outputs": [
        {
          "output_type": "stream",
          "text": [
            "CPU times: user 24 µs, sys: 0 ns, total: 24 µs\n",
            "Wall time: 29.6 µs\n"
          ],
          "name": "stdout"
        }
      ]
    },
    {
      "cell_type": "markdown",
      "metadata": {
        "id": "yOsjxx_WI0MH",
        "colab_type": "text"
      },
      "source": [
        "## Optimised functions\n",
        "\n",
        "+ get a time-series for a single lat, long\n",
        "+ get an array for a single time (month)  "
      ]
    },
    {
      "cell_type": "code",
      "metadata": {
        "id": "e_08VcbTJLB2",
        "colab_type": "code",
        "colab": {}
      },
      "source": [
        "def get_timeseries(ds, lat, lon, type, experiment=None, time_interval=None, thresh_tasmax='30 C', thresh_tasmin='26 C', window=1):\n",
        "  # select point\n",
        "  dss = ds.sel(lat=lat, lon=lon, method='nearest').chunk({\"time\":-1})\n",
        "  if time_interval:\n",
        "    dss = dss.sel(time=slice(time_interval[0], time_interval[1]))\n",
        "  if type == 'future':\n",
        "    if experiment:\n",
        "      dss = dss.sel(experiment=experiment)\n",
        "      out = future_heat_wave_frequency(dss, thresh_tasmax=thresh_tasmax, thresh_tasmin=thresh_tasmin, window=window)\n",
        "    else:\n",
        "      out = future_heat_wave_frequency(dss, thresh_tasmax=thresh_tasmax, thresh_tasmin=thresh_tasmin, window=window)  \n",
        "  if type== 'historical':  \n",
        "    out = historical_heat_wave_frequency(dss, thresh_tasmax=thresh_tasmax, thresh_tasmin=thresh_tasmin, window=window)\n",
        "  return out\n"
      ],
      "execution_count": 0,
      "outputs": []
    },
    {
      "cell_type": "code",
      "metadata": {
        "id": "sal-FfEIyVMW",
        "colab_type": "code",
        "colab": {}
      },
      "source": [
        "import json\n",
        "from dateutil.tz import tzutc\n",
        "\n",
        "def serialize_date(dt):\n",
        "    \"\"\"\n",
        "    Serialize a date/time value into an ISO8601 text representation\n",
        "    adjusted (if needed) to UTC timezone.\n",
        "\n",
        "    For instance:\n",
        "    >>> serialize_date(datetime(2012, 4, 10, 22, 38, 20, 604391))\n",
        "    '2012-04-10T22:38:20.604391Z'\n",
        "    \"\"\"\n",
        "    UTC = tzutc()\n",
        "    try:\n",
        "      if dt.tzinfo:\n",
        "        dt = dt.astimezone(UTC).replace(tzinfo=None)\n",
        "    except:\n",
        "      pass    \n",
        "\n",
        "    return dt.isoformat() + 'Z'\n",
        "\n",
        "def as_json(ds):\n",
        "  ds['time'] = ds.indexes['time'].to_datetimeindex() \n",
        "  d = ds.to_dict()\n",
        "  d['coords']['time']['data'] = [serialize_date(dt) for dt in d['coords']['time']['data']]\n",
        "  return json.dumps(d) \n"
      ],
      "execution_count": 0,
      "outputs": []
    },
    {
      "cell_type": "code",
      "metadata": {
        "id": "yf1WKQjWSdVD",
        "colab_type": "code",
        "colab": {}
      },
      "source": [
        "def get_raster(ds, time, type, experiment=None, bbox=None, thresh_tasmax='30 C', thresh_tasmin='26 C', window=1):\n",
        "  # select bbox\n",
        "  if bbox:\n",
        "    ds = ds.sel(lat=slice(bbox[0], bbox[2]), lon=slice(bbox[1], bbox[3]))\n",
        "  # select time\n",
        "  dss = ds.sel(time=time, method='nearest').chunk({\"lat\":-1, \"lon\":-1})\n",
        "  if type == 'future':\n",
        "    if experiment:\n",
        "      dss = dss.sel(experiment=experiment)\n",
        "    out = future_heat_wave_frequency(dss, thresh_tasmax=thresh_tasmax, thresh_tasmin=thresh_tasmin, window=window)  \n",
        "  if type== 'historical':  \n",
        "    out = historical_heat_wave_frequency(dss, thresh_tasmax=thresh_tasmax, thresh_tasmin=thresh_tasmin, window=window)\n",
        "  return out"
      ],
      "execution_count": 0,
      "outputs": []
    },
    {
      "cell_type": "code",
      "metadata": {
        "id": "PlPZ7WCbf0_V",
        "colab_type": "code",
        "colab": {}
      },
      "source": [
        "def interpolate_mask_raster(ds_dest, ds_src):\n",
        "  out = ds_dest.interp(lat=ds_src['lat'], lon=ds_src['lon'])\n",
        "  return out.where(ds_src > -1.0)"
      ],
      "execution_count": 0,
      "outputs": []
    },
    {
      "cell_type": "code",
      "metadata": {
        "id": "O5qMcPvzuLNw",
        "colab_type": "code",
        "colab": {}
      },
      "source": [
        "import rioxarray\n",
        "def create_cog(ds, p):\n",
        "  ds.rio.set_spatial_dims('lon', 'lat')\n",
        "  ds.rio.to_raster(p, **{\n",
        "        \"driver\": \"GTiff\",\n",
        "        \"interleave\": \"pixel\",\n",
        "        \"tiled\": True,\n",
        "        \"blockxsize\": 512,\n",
        "        \"blockysize\": 512,\n",
        "        \"compress\": \"WEBP\"\n",
        "        })\n",
        "  print(f\"COG written to {p}\")"
      ],
      "execution_count": 0,
      "outputs": []
    },
    {
      "cell_type": "markdown",
      "metadata": {
        "id": "q6bjjK4ESzlm",
        "colab_type": "text"
      },
      "source": [
        "### Get time series"
      ]
    },
    {
      "cell_type": "code",
      "metadata": {
        "id": "MGfUbe7jLwQL",
        "colab_type": "code",
        "colab": {
          "base_uri": "https://localhost:8080/",
          "height": 342
        },
        "outputId": "15b8f0ea-af93-4f65-9660-2ad1cef36248"
      },
      "source": [
        "%%time\n",
        "# Historical\n",
        "ds = get_timeseries(his, 40.411335, -3.674908, 'historical')\n",
        "ds.plot()"
      ],
      "execution_count": 201,
      "outputs": [
        {
          "output_type": "stream",
          "text": [
            "CPU times: user 6.36 s, sys: 276 ms, total: 6.63 s\n",
            "Wall time: 5.32 s\n"
          ],
          "name": "stdout"
        },
        {
          "output_type": "display_data",
          "data": {
            "image/png": "[encoded data removed]",
            "text/plain": [
              "<Figure size 432x288 with 1 Axes>"
            ]
          },
          "metadata": {
            "tags": []
          }
        }
      ]
    },
    {
      "cell_type": "code",
      "metadata": {
        "id": "2XmjQnxuL1PY",
        "colab_type": "code",
        "colab": {
          "base_uri": "https://localhost:8080/",
          "height": 330
        },
        "outputId": "409c5e1d-c624-447d-ad8a-3931300175df"
      },
      "source": [
        "%%time\n",
        "# Seasonal\n",
        "ds = get_timeseries(seas, 40.411335, -3.674908, 'future')\n",
        "ds.plot()"
      ],
      "execution_count": 202,
      "outputs": [
        {
          "output_type": "stream",
          "text": [
            "CPU times: user 1.54 s, sys: 121 ms, total: 1.66 s\n",
            "Wall time: 1.46 s\n"
          ],
          "name": "stdout"
        },
        {
          "output_type": "display_data",
          "data": {
            "image/png": "[encoded data removed]",
            "text/plain": [
              "<Figure size 432x288 with 1 Axes>"
            ]
          },
          "metadata": {
            "tags": []
          }
        }
      ]
    },
    {
      "cell_type": "code",
      "metadata": {
        "id": "YDoCDdyYL8ug",
        "colab_type": "code",
        "colab": {
          "base_uri": "https://localhost:8080/",
          "height": 330
        },
        "outputId": "3baa3ab2-35e9-4ebb-cea0-794fb0da9943"
      },
      "source": [
        "%%time\n",
        "# this takes longer as it creates mean of n models and n realizations!\n",
        "# Future\n",
        "ds = get_timeseries(fut, 40.411335, -3.674908, 'future', experiment='rcp85')\n",
        "ds.plot()"
      ],
      "execution_count": 203,
      "outputs": [
        {
          "output_type": "stream",
          "text": [
            "CPU times: user 1min 16s, sys: 2.87 s, total: 1min 19s\n",
            "Wall time: 1min 17s\n"
          ],
          "name": "stdout"
        },
        {
          "output_type": "display_data",
          "data": {
            "image/png": "[encoded data removed]",
            "text/plain": [
              "<Figure size 432x288 with 1 Axes>"
            ]
          },
          "metadata": {
            "tags": []
          }
        }
      ]
    },
    {
      "cell_type": "code",
      "metadata": {
        "id": "GPb3__7ky6G3",
        "colab_type": "code",
        "colab": {
          "base_uri": "https://localhost:8080/",
          "height": 399
        },
        "outputId": "a97e6b6a-b934-4124-f689-26a4a5aa8b79"
      },
      "source": [
        "# As JSON selecting time interval\n",
        "%%time\n",
        "#\n",
        "import pprint\n",
        "# Historical\n",
        "ds = get_timeseries(fut, 40.411335, -3.674908, 'future', experiment='rcp85', time_interval=['2090', '2091'])\n",
        "pprint.pprint(as_json(ds))"
      ],
      "execution_count": 249,
      "outputs": [
        {
          "output_type": "stream",
          "text": [
            "('{\"dims\": [\"time\"], \"attrs\": {}, \"data\": [0.0, 0.0, 0.0, 0.0, 0.0, 0.0, 0.2, '\n",
            " '0.6, 0.6, 0.0, 0.0, 0.0, 0.0, 0.0, 0.0, 0.0, 0.0, 0.2, 0.2, 1.2, 0.8, 0.0, '\n",
            " '0.0, 0.0], \"coords\": {\"experiment\": {\"dims\": [], \"attrs\": {}, \"data\": '\n",
            " '\"rcp85\"}, \"lat\": {\"dims\": [], \"attrs\": {\"axis\": \"Y\", \"bounds\": \"lat_bnds\", '\n",
            " '\"long_name\": \"latitude\", \"standard_name\": \"latitude\", \"stored_direction\": '\n",
            " '\"increasing\", \"type\": \"double\", \"units\": \"degrees_north\", \"valid_max\": 90.0, '\n",
            " '\"valid_min\": -90.0}, \"data\": 40.0}, \"lon\": {\"dims\": [], \"attrs\": {\"axis\": '\n",
            " '\"X\", \"bounds\": \"lon_bnds\", \"long_name\": \"longitude\", \"standard_name\": '\n",
            " '\"longitude\", \"stored_direction\": \"increasing\", \"type\": \"double\", \"units\": '\n",
            " '\"degrees_east\", \"valid_max\": 360.0, \"valid_min\": -180.0}, \"data\": -3.75}, '\n",
            " '\"time\": {\"dims\": [\"time\"], \"attrs\": {}, \"data\": [\"2090-01-01T00:00:00Z\", '\n",
            " '\"2090-02-01T00:00:00Z\", \"2090-03-01T00:00:00Z\", \"2090-04-01T00:00:00Z\", '\n",
            " '\"2090-05-01T00:00:00Z\", \"2090-06-01T00:00:00Z\", \"2090-07-01T00:00:00Z\", '\n",
            " '\"2090-08-01T00:00:00Z\", \"2090-09-01T00:00:00Z\", \"2090-10-01T00:00:00Z\", '\n",
            " '\"2090-11-01T00:00:00Z\", \"2090-12-01T00:00:00Z\", \"2091-01-01T00:00:00Z\", '\n",
            " '\"2091-02-01T00:00:00Z\", \"2091-03-01T00:00:00Z\", \"2091-04-01T00:00:00Z\", '\n",
            " '\"2091-05-01T00:00:00Z\", \"2091-06-01T00:00:00Z\", \"2091-07-01T00:00:00Z\", '\n",
            " '\"2091-08-01T00:00:00Z\", \"2091-09-01T00:00:00Z\", \"2091-10-01T00:00:00Z\", '\n",
            " '\"2091-11-01T00:00:00Z\", \"2091-12-01T00:00:00Z\"]}}, \"name\": '\n",
            " '\"heat_wave_frequency\"}')\n",
            "CPU times: user 2.07 s, sys: 57.8 ms, total: 2.12 s\n",
            "Wall time: 1.99 s\n"
          ],
          "name": "stdout"
        }
      ]
    },
    {
      "cell_type": "markdown",
      "metadata": {
        "id": "NQFdFObuS5Aj",
        "colab_type": "text"
      },
      "source": [
        "### Get raster"
      ]
    },
    {
      "cell_type": "code",
      "metadata": {
        "id": "HwYRsYOm5LAX",
        "colab_type": "code",
        "colab": {
          "base_uri": "https://localhost:8080/",
          "height": 331
        },
        "outputId": "853d0313-3f7e-421d-d9f8-3b66b6ecfdaf"
      },
      "source": [
        "%%time\n",
        "# Historical\n",
        "ds = get_raster(his, '2015-08', 'historical')\n",
        "ds.plot()"
      ],
      "execution_count": 238,
      "outputs": [
        {
          "output_type": "stream",
          "text": [
            "CPU times: user 294 ms, sys: 9.87 ms, total: 304 ms\n",
            "Wall time: 274 ms\n"
          ],
          "name": "stdout"
        },
        {
          "output_type": "display_data",
          "data": {
            "image/png": "[encoded data removed]",
            "text/plain": [
              "<Figure size 432x288 with 2 Axes>"
            ]
          },
          "metadata": {
            "tags": []
          }
        }
      ]
    },
    {
      "cell_type": "code",
      "metadata": {
        "colab_type": "code",
        "outputId": "fc8cd491-96f4-41aa-a509-61193ce2992f",
        "id": "9UKn1sGQTEvw",
        "colab": {
          "base_uri": "https://localhost:8080/",
          "height": 331
        }
      },
      "source": [
        "%%time\n",
        "# Historical\n",
        "bbox = [42.4714,-3.4503,43.7598,-1.7293]\n",
        "ds = get_raster(his, '2015-08', 'historical', bbox=bbox)\n",
        "ds.plot()"
      ],
      "execution_count": 206,
      "outputs": [
        {
          "output_type": "stream",
          "text": [
            "CPU times: user 237 ms, sys: 7.32 ms, total: 244 ms\n",
            "Wall time: 208 ms\n"
          ],
          "name": "stdout"
        },
        {
          "output_type": "display_data",
          "data": {
            "image/png": "[encoded data removed]",
            "text/plain": [
              "<Figure size 432x288 with 2 Axes>"
            ]
          },
          "metadata": {
            "tags": []
          }
        }
      ]
    },
    {
      "cell_type": "code",
      "metadata": {
        "id": "9q2xvePAwzVc",
        "colab_type": "code",
        "colab": {
          "base_uri": "https://localhost:8080/",
          "height": 330
        },
        "outputId": "c9cd46c8-de96-4856-a31e-29ade1ad16bd"
      },
      "source": [
        "# Export a COG\n",
        "# FIXME: find how to ensure NA values are handled correctly\n",
        "import rioxarray\n",
        "ds = get_raster(his, '2015-08', 'historical')\n",
        "cog_url = 'test-cog.tif'\n",
        "create_cog(ds, 'test-cog.tif')\n",
        "rds = rioxarray.open_rasterio(cog_url, mask_and_scale=True)\n",
        "rds\n",
        "rds.plot()"
      ],
      "execution_count": 239,
      "outputs": [
        {
          "output_type": "stream",
          "text": [
            "COG written to test-cog.tif\n"
          ],
          "name": "stdout"
        },
        {
          "output_type": "execute_result",
          "data": {
            "text/plain": [
              "<matplotlib.collections.QuadMesh at 0x7f105961df28>"
            ]
          },
          "metadata": {
            "tags": []
          },
          "execution_count": 239
        },
        {
          "output_type": "display_data",
          "data": {
            "image/png": "[encoded data removed]",
            "text/plain": [
              "<Figure size 432x288 with 2 Axes>"
            ]
          },
          "metadata": {
            "tags": []
          }
        }
      ]
    },
    {
      "cell_type": "code",
      "metadata": {
        "colab_type": "code",
        "outputId": "f8a25ff3-c970-46f9-a1d6-c2271d8c6c48",
        "id": "0wiVNWdDTEwK",
        "colab": {
          "base_uri": "https://localhost:8080/",
          "height": 331
        }
      },
      "source": [
        "%%time\n",
        "# Seasonal\n",
        "ds = get_raster(seas, '2020-02', 'future')\n",
        "ds_src = get_raster(his, '2015-08', 'historical')\n",
        "ds = interpolate_mask_raster(ds, ds_src)\n",
        "ds.plot()"
      ],
      "execution_count": 191,
      "outputs": [
        {
          "output_type": "stream",
          "text": [
            "CPU times: user 6.5 s, sys: 1.7 s, total: 8.19 s\n",
            "Wall time: 5.95 s\n"
          ],
          "name": "stdout"
        },
        {
          "output_type": "display_data",
          "data": {
            "image/png": "[encoded data removed]",
            "text/plain": [
              "<Figure size 432x288 with 2 Axes>"
            ]
          },
          "metadata": {
            "tags": []
          }
        }
      ]
    },
    {
      "cell_type": "code",
      "metadata": {
        "colab_type": "code",
        "outputId": "c30cd378-8daa-4914-8f2c-cff519106878",
        "id": "Q6hD_jT_TEwZ",
        "colab": {
          "base_uri": "https://localhost:8080/",
          "height": 331
        }
      },
      "source": [
        "%%time\n",
        "# Future\n",
        "ds = get_raster(fut, '2090-08', 'future', experiment='rcp85')\n",
        "ds_src = get_raster(his, '2015-08', 'historical')\n",
        "ds = interpolate_mask_raster(ds, ds_src)\n",
        "ds.plot()"
      ],
      "execution_count": 192,
      "outputs": [
        {
          "output_type": "stream",
          "text": [
            "CPU times: user 1 s, sys: 25.7 ms, total: 1.03 s\n",
            "Wall time: 900 ms\n"
          ],
          "name": "stdout"
        },
        {
          "output_type": "display_data",
          "data": {
            "image/png": "[encoded data removed]",
            "text/plain": [
              "<Figure size 432x288 with 2 Axes>"
            ]
          },
          "metadata": {
            "tags": []
          }
        }
      ]
    },
    {
      "cell_type": "code",
      "metadata": {
        "id": "umC1JDl8RV9-",
        "colab_type": "code",
        "colab": {}
      },
      "source": [
        ""
      ],
      "execution_count": 0,
      "outputs": []
    }
  ]
}