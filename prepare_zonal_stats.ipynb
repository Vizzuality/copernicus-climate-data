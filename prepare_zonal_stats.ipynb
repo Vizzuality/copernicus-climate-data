{
  "nbformat": 4,
  "nbformat_minor": 0,
  "metadata": {
    "colab": {
      "name": "prepare_zonal_stats.ipynb",
      "provenance": [],
      "collapsed_sections": [],
      "toc_visible": true,
      "machine_shape": "hm",
      "mount_file_id": "https://github.com/Vizzuality/copernicus-climate-data/blob/master/prepare_zonal_stats.ipynb",
      "authorship_tag": "ABX9TyNBFb4N8sq1CdDUj5+3rGxk",
      "include_colab_link": true
    },
    "kernelspec": {
      "name": "python3",
      "display_name": "Python 3"
    }
  },
  "cells": [
    {
      "cell_type": "markdown",
      "metadata": {
        "id": "view-in-github",
        "colab_type": "text"
      },
      "source": [
        "<a href=\"https://colab.research.google.com/github/Vizzuality/copernicus-climate-data/blob/master/prepare_zonal_stats.ipynb\" target=\"_parent\"><img src=\"https://colab.research.google.com/assets/colab-badge.svg\" alt=\"Open In Colab\"/></a>"
      ]
    },
    {
      "cell_type": "markdown",
      "metadata": {
        "id": "RTLRdjsHkjtl",
        "colab_type": "text"
      },
      "source": [
        "# Prepare data for the copernicus-climate project\n",
        "\n",
        "https://github.com/Vizzuality/copernicus-climate-data\n",
        "\n",
        "`Edward P. Morris (vizzuality.)`\n",
        "\n",
        "## Description\n",
        "This notebook transforms time series arrays of climate data into zonal statistical summaries. \n",
        "\n",
        "```\n",
        "MIT License\n",
        "\n",
        "Copyright (c) 2020 Vizzuality\n",
        "\n",
        "Permission is hereby granted, free of charge, to any person obtaining a copy\n",
        "of this software and associated documentation files (the \"Software\"), to deal\n",
        "in the Software without restriction, including without limitation the rights\n",
        "to use, copy, modify, merge, publish, distribute, sublicense, and/or sell\n",
        "copies of the Software, and to permit persons to whom the Software is\n",
        "furnished to do so, subject to the following conditions:\n",
        "\n",
        "The above copyright notice and this permission notice shall be included in all\n",
        "copies or substantial portions of the Software.\n",
        "\n",
        "THE SOFTWARE IS PROVIDED \"AS IS\", WITHOUT WARRANTY OF ANY KIND, EXPRESS OR\n",
        "IMPLIED, INCLUDING BUT NOT LIMITED TO THE WARRANTIES OF MERCHANTABILITY,\n",
        "FITNESS FOR A PARTICULAR PURPOSE AND NONINFRINGEMENT. IN NO EVENT SHALL THE\n",
        "AUTHORS OR COPYRIGHT HOLDERS BE LIABLE FOR ANY CLAIM, DAMAGES OR OTHER\n",
        "LIABILITY, WHETHER IN AN ACTION OF CONTRACT, TORT OR OTHERWISE, ARISING FROM,\n",
        "OUT OF OR IN CONNECTION WITH THE SOFTWARE OR THE USE OR OTHER DEALINGS IN THE\n",
        "SOFTWARE.\n",
        "```"
      ]
    },
    {
      "cell_type": "markdown",
      "metadata": {
        "id": "uKARM1_f3Ccg",
        "colab_type": "text"
      },
      "source": [
        "# Setup\n",
        "\n",
        "Instructions for setting up the computing environment."
      ]
    },
    {
      "cell_type": "code",
      "metadata": {
        "id": "zbYjJdBpuCaZ",
        "colab_type": "code",
        "colab": {}
      },
      "source": [
        "# Time all processing\n",
        "from datetime import datetime\n",
        "start_time_setup = datetime.now()"
      ],
      "execution_count": 0,
      "outputs": []
    },
    {
      "cell_type": "code",
      "metadata": {
        "id": "5f327xg8JujU",
        "colab_type": "code",
        "colab": {}
      },
      "source": [
        "%%bash\n",
        "# Remove sample_data\n",
        "rm -r sample_data"
      ],
      "execution_count": 0,
      "outputs": []
    },
    {
      "cell_type": "markdown",
      "metadata": {
        "id": "FjdjX-Vc3LVK",
        "colab_type": "text"
      },
      "source": [
        "## Linux dependencies\n",
        "\n",
        "Instructions for adding linux (including node, ect.) system packages. "
      ]
    },
    {
      "cell_type": "code",
      "metadata": {
        "id": "-5S4mxFswFUs",
        "colab_type": "code",
        "colab": {}
      },
      "source": [
        "#!apt install -q -y [package-name]\n",
        "#!npm install -g [package-name]"
      ],
      "execution_count": 0,
      "outputs": []
    },
    {
      "cell_type": "code",
      "metadata": {
        "id": "-GY11D2L47oQ",
        "colab_type": "code",
        "outputId": "b779ed1b-f651-4a51-c3a9-73c368bd01cf",
        "colab": {
          "base_uri": "https://localhost:8080/",
          "height": 903
        }
      },
      "source": [
        "# Packages for projections and geospatial processing\n",
        "!apt install -q -y libspatialindex-dev libproj-dev proj-data proj-bin libgeos-dev"
      ],
      "execution_count": 4,
      "outputs": [
        {
          "output_type": "stream",
          "text": [
            "Reading package lists...\n",
            "Building dependency tree...\n",
            "Reading state information...\n",
            "proj-data is already the newest version (4.9.3-2).\n",
            "proj-data set to manually installed.\n",
            "The following additional packages will be installed:\n",
            "  libspatialindex-c4v5 libspatialindex4v5\n",
            "Suggested packages:\n",
            "  libgdal-doc\n",
            "The following NEW packages will be installed:\n",
            "  libgeos-dev libproj-dev libspatialindex-c4v5 libspatialindex-dev\n",
            "  libspatialindex4v5 proj-bin\n",
            "0 upgraded, 6 newly installed, 0 to remove and 31 not upgraded.\n",
            "Need to get 860 kB of archives.\n",
            "After this operation, 5,014 kB of additional disk space will be used.\n",
            "Get:1 http://archive.ubuntu.com/ubuntu bionic/universe amd64 libgeos-dev amd64 3.6.2-1build2 [73.1 kB]\n",
            "Get:2 http://archive.ubuntu.com/ubuntu bionic/universe amd64 libspatialindex4v5 amd64 1.8.5-5 [219 kB]\n",
            "Get:3 http://archive.ubuntu.com/ubuntu bionic/universe amd64 libspatialindex-c4v5 amd64 1.8.5-5 [51.7 kB]\n",
            "Get:4 http://archive.ubuntu.com/ubuntu bionic/universe amd64 libproj-dev amd64 4.9.3-2 [199 kB]\n",
            "Get:5 http://archive.ubuntu.com/ubuntu bionic/universe amd64 libspatialindex-dev amd64 1.8.5-5 [285 kB]\n",
            "Get:6 http://archive.ubuntu.com/ubuntu bionic/universe amd64 proj-bin amd64 4.9.3-2 [32.3 kB]\n",
            "Fetched 860 kB in 3s (333 kB/s)\n",
            "Selecting previously unselected package libgeos-dev.\n",
            "(Reading database ... 144433 files and directories currently installed.)\n",
            "Preparing to unpack .../0-libgeos-dev_3.6.2-1build2_amd64.deb ...\n",
            "Unpacking libgeos-dev (3.6.2-1build2) ...\n",
            "Selecting previously unselected package libspatialindex4v5:amd64.\n",
            "Preparing to unpack .../1-libspatialindex4v5_1.8.5-5_amd64.deb ...\n",
            "Unpacking libspatialindex4v5:amd64 (1.8.5-5) ...\n",
            "Selecting previously unselected package libspatialindex-c4v5:amd64.\n",
            "Preparing to unpack .../2-libspatialindex-c4v5_1.8.5-5_amd64.deb ...\n",
            "Unpacking libspatialindex-c4v5:amd64 (1.8.5-5) ...\n",
            "Selecting previously unselected package libproj-dev:amd64.\n",
            "Preparing to unpack .../3-libproj-dev_4.9.3-2_amd64.deb ...\n",
            "Unpacking libproj-dev:amd64 (4.9.3-2) ...\n",
            "Selecting previously unselected package libspatialindex-dev:amd64.\n",
            "Preparing to unpack .../4-libspatialindex-dev_1.8.5-5_amd64.deb ...\n",
            "Unpacking libspatialindex-dev:amd64 (1.8.5-5) ...\n",
            "Selecting previously unselected package proj-bin.\n",
            "Preparing to unpack .../5-proj-bin_4.9.3-2_amd64.deb ...\n",
            "Unpacking proj-bin (4.9.3-2) ...\n",
            "Setting up libspatialindex4v5:amd64 (1.8.5-5) ...\n",
            "Setting up libproj-dev:amd64 (4.9.3-2) ...\n",
            "Setting up libgeos-dev (3.6.2-1build2) ...\n",
            "Setting up libspatialindex-c4v5:amd64 (1.8.5-5) ...\n",
            "Setting up proj-bin (4.9.3-2) ...\n",
            "Setting up libspatialindex-dev:amd64 (1.8.5-5) ...\n",
            "Processing triggers for man-db (2.8.3-2ubuntu0.1) ...\n",
            "Processing triggers for libc-bin (2.27-3ubuntu1) ...\n",
            "/sbin/ldconfig.real: /usr/local/lib/python3.6/dist-packages/ideep4py/lib/libmkldnn.so.0 is not a symbolic link\n",
            "\n"
          ],
          "name": "stdout"
        }
      ]
    },
    {
      "cell_type": "markdown",
      "metadata": {
        "id": "LGWeJje13Tcw",
        "colab_type": "text"
      },
      "source": [
        "## Python packages\n",
        "\n",
        "Consider using package versions to ensure nothing changes.\n",
        "\n",
        "`!pip install -q <package-name>`"
      ]
    },
    {
      "cell_type": "code",
      "metadata": {
        "id": "2BNK1kif6VXu",
        "colab_type": "code",
        "colab": {}
      },
      "source": [
        "# connect to Google cloud storage\n",
        "!pip install -q gcsfs "
      ],
      "execution_count": 0,
      "outputs": []
    },
    {
      "cell_type": "code",
      "metadata": {
        "id": "2MelOBk55M8T",
        "colab_type": "code",
        "outputId": "ccf9710b-51b5-4be4-fd1e-eb91c89be2dd",
        "colab": {
          "base_uri": "https://localhost:8080/",
          "height": 104
        }
      },
      "source": [
        "# geospatial tools\n",
        "!pip install -q country-converter geopandas"
      ],
      "execution_count": 6,
      "outputs": [
        {
          "output_type": "stream",
          "text": [
            "\u001b[?25l\r\u001b[K     |███████▏                        | 10kB 19.7MB/s eta 0:00:01\r\u001b[K     |██████████████▍                 | 20kB 1.8MB/s eta 0:00:01\r\u001b[K     |█████████████████████▋          | 30kB 2.4MB/s eta 0:00:01\r\u001b[K     |████████████████████████████▉   | 40kB 2.6MB/s eta 0:00:01\r\u001b[K     |████████████████████████████████| 51kB 1.7MB/s \n",
            "\u001b[K     |████████████████████████████████| 931kB 6.8MB/s \n",
            "\u001b[K     |████████████████████████████████| 10.9MB 27.7MB/s \n",
            "\u001b[K     |████████████████████████████████| 14.7MB 59.5MB/s \n",
            "\u001b[?25h  Building wheel for country-converter (setup.py) ... \u001b[?25l\u001b[?25hdone\n"
          ],
          "name": "stdout"
        }
      ]
    },
    {
      "cell_type": "code",
      "metadata": {
        "id": "i-PyPT2y57gc",
        "colab_type": "code",
        "outputId": "7f621c25-c096-4d61-a3e9-b64e7172ebe2",
        "colab": {
          "base_uri": "https://localhost:8080/",
          "height": 503
        }
      },
      "source": [
        "# xarray and Zarr tools\n",
        "!pip install -q cftime netcdf4 nc-time-axis zarr xarray xclim rioxarray regionmask sparse xarray-extras"
      ],
      "execution_count": 7,
      "outputs": [
        {
          "output_type": "stream",
          "text": [
            "\u001b[K     |████████████████████████████████| 327kB 2.7MB/s \n",
            "\u001b[K     |████████████████████████████████| 4.1MB 5.9MB/s \n",
            "\u001b[K     |████████████████████████████████| 3.3MB 20.7MB/s \n",
            "\u001b[K     |████████████████████████████████| 143kB 56.4MB/s \n",
            "\u001b[K     |████████████████████████████████| 3.7MB 54.5MB/s \n",
            "\u001b[K     |████████████████████████████████| 122kB 33.5MB/s \n",
            "\u001b[K     |████████████████████████████████| 71kB 9.4MB/s \n",
            "\u001b[K     |████████████████████████████████| 3.8MB 52.8MB/s \n",
            "\u001b[K     |████████████████████████████████| 71kB 8.5MB/s \n",
            "\u001b[K     |████████████████████████████████| 194kB 55.5MB/s \n",
            "\u001b[K     |████████████████████████████████| 174kB 55.9MB/s \n",
            "\u001b[K     |████████████████████████████████| 18.2MB 240kB/s \n",
            "\u001b[K     |████████████████████████████████| 14.4MB 323kB/s \n",
            "\u001b[K     |████████████████████████████████| 634kB 61.6MB/s \n",
            "\u001b[K     |████████████████████████████████| 225kB 55.2MB/s \n",
            "\u001b[K     |████████████████████████████████| 102kB 11.5MB/s \n",
            "\u001b[?25h  Building wheel for zarr (setup.py) ... \u001b[?25l\u001b[?25hdone\n",
            "  Building wheel for rioxarray (setup.py) ... \u001b[?25l\u001b[?25hdone\n",
            "  Building wheel for xarray-extras (setup.py) ... \u001b[?25l\u001b[?25hdone\n",
            "  Building wheel for asciitree (setup.py) ... \u001b[?25l\u001b[?25hdone\n",
            "  Building wheel for numcodecs (setup.py) ... \u001b[?25l\u001b[?25hdone\n",
            "  Building wheel for rtree (setup.py) ... \u001b[?25l\u001b[?25hdone\n",
            "  Building wheel for cartopy (setup.py) ... \u001b[?25l\u001b[?25hdone\n",
            "  Building wheel for pyshp (setup.py) ... \u001b[?25l\u001b[?25hdone\n",
            "  Building wheel for locket (setup.py) ... \u001b[?25l\u001b[?25hdone\n",
            "  Building wheel for contextvars (setup.py) ... \u001b[?25l\u001b[?25hdone\n",
            "\u001b[31mERROR: distributed 2.16.0 has requirement tornado>=5; python_version < \"3.8\", but you'll have tornado 4.5.3 which is incompatible.\u001b[0m\n",
            "\u001b[31mERROR: sparse 0.10.0 has requirement numba>=0.49, but you'll have numba 0.48.0 which is incompatible.\u001b[0m\n"
          ],
          "name": "stdout"
        }
      ]
    },
    {
      "cell_type": "code",
      "metadata": {
        "id": "GRwht8JQqek1",
        "colab_type": "code",
        "outputId": "4b393c30-11bc-493f-9197-a62f78b584d7",
        "colab": {
          "base_uri": "https://localhost:8080/",
          "height": 124
        }
      },
      "source": [
        "!pip install salem"
      ],
      "execution_count": 8,
      "outputs": [
        {
          "output_type": "stream",
          "text": [
            "Collecting salem\n",
            "\u001b[?25l  Downloading https://files.pythonhosted.org/packages/20/3d/5ef813420797f5be674b6ce22b467cf0d94ae92550fb632309e342a98f60/salem-0.2.4-py2.py3-none-any.whl (81kB)\n",
            "\r\u001b[K     |████                            | 10kB 16.5MB/s eta 0:00:01\r\u001b[K     |████████                        | 20kB 1.8MB/s eta 0:00:01\r\u001b[K     |████████████                    | 30kB 2.3MB/s eta 0:00:01\r\u001b[K     |████████████████                | 40kB 2.5MB/s eta 0:00:01\r\u001b[K     |████████████████████            | 51kB 2.0MB/s eta 0:00:01\r\u001b[K     |████████████████████████        | 61kB 2.3MB/s eta 0:00:01\r\u001b[K     |████████████████████████████    | 71kB 2.5MB/s eta 0:00:01\r\u001b[K     |████████████████████████████████| 81kB 2.2MB/s \n",
            "\u001b[?25hInstalling collected packages: salem\n",
            "Successfully installed salem-0.2.4\n"
          ],
          "name": "stdout"
        }
      ]
    },
    {
      "cell_type": "code",
      "metadata": {
        "id": "8s7-DYbxjesM",
        "colab_type": "code",
        "outputId": "5fd3d851-1c5b-4a7c-a454-eba00ff6ba0c",
        "colab": {
          "base_uri": "https://localhost:8080/",
          "height": 1000
        }
      },
      "source": [
        "# Show python package versions\n",
        "!pip list"
      ],
      "execution_count": 9,
      "outputs": [
        {
          "output_type": "stream",
          "text": [
            "Package                  Version        \n",
            "------------------------ ---------------\n",
            "absl-py                  0.9.0          \n",
            "affine                   2.3.0          \n",
            "alabaster                0.7.12         \n",
            "albumentations           0.1.12         \n",
            "altair                   4.1.0          \n",
            "asciitree                0.3.3          \n",
            "asgiref                  3.2.7          \n",
            "astor                    0.8.1          \n",
            "astropy                  4.0.1.post1    \n",
            "astunparse               1.6.3          \n",
            "atari-py                 0.2.6          \n",
            "atomicwrites             1.4.0          \n",
            "attrs                    19.3.0         \n",
            "audioread                2.1.8          \n",
            "autograd                 1.3            \n",
            "Babel                    2.8.0          \n",
            "backcall                 0.1.0          \n",
            "beautifulsoup4           4.6.3          \n",
            "bleach                   3.1.5          \n",
            "blis                     0.4.1          \n",
            "bokeh                    1.4.0          \n",
            "boltons                  20.1.0         \n",
            "boto                     2.49.0         \n",
            "boto3                    1.13.4         \n",
            "botocore                 1.16.4         \n",
            "Bottleneck               1.3.2          \n",
            "branca                   0.4.1          \n",
            "bs4                      0.0.1          \n",
            "CacheControl             0.12.6         \n",
            "cachetools               3.1.1          \n",
            "Cartopy                  0.18.0         \n",
            "catalogue                1.0.0          \n",
            "certifi                  2020.4.5.1     \n",
            "cffi                     1.14.0         \n",
            "cftime                   1.1.3          \n",
            "chainer                  6.5.0          \n",
            "chardet                  3.0.4          \n",
            "click                    7.1.2          \n",
            "click-plugins            1.1.1          \n",
            "cligj                    0.5.0          \n",
            "cloudpickle              1.3.0          \n",
            "cmake                    3.12.0         \n",
            "cmdstanpy                0.4.0          \n",
            "colorlover               0.3.0          \n",
            "community                1.0.0b1        \n",
            "contextlib2              0.5.5          \n",
            "contextvars              2.4            \n",
            "convertdate              2.2.0          \n",
            "country-converter        0.6.7          \n",
            "coverage                 3.7.1          \n",
            "coveralls                0.5            \n",
            "crcmod                   1.7            \n",
            "cufflinks                0.17.3         \n",
            "cvxopt                   1.2.5          \n",
            "cvxpy                    1.0.31         \n",
            "cycler                   0.10.0         \n",
            "cymem                    2.0.3          \n",
            "Cython                   0.29.17        \n",
            "daft                     0.0.4          \n",
            "dask                     2.12.0         \n",
            "dataclasses              0.7            \n",
            "datascience              0.10.6         \n",
            "decorator                4.4.2          \n",
            "defusedxml               0.6.0          \n",
            "descartes                1.1.0          \n",
            "dill                     0.3.1.1        \n",
            "distributed              2.16.0         \n",
            "Django                   3.0.6          \n",
            "dlib                     19.18.0        \n",
            "docopt                   0.6.2          \n",
            "docutils                 0.15.2         \n",
            "dopamine-rl              1.0.5          \n",
            "earthengine-api          0.1.221        \n",
            "easydict                 1.9            \n",
            "ecos                     2.0.7.post1    \n",
            "editdistance             0.5.3          \n",
            "en-core-web-sm           2.2.5          \n",
            "entrypoints              0.3            \n",
            "ephem                    3.7.7.1        \n",
            "et-xmlfile               1.0.1          \n",
            "fa2                      0.3.5          \n",
            "fancyimpute              0.4.3          \n",
            "fastai                   1.0.61         \n",
            "fastdtw                  0.3.4          \n",
            "fasteners                0.15           \n",
            "fastprogress             0.2.3          \n",
            "fastrlock                0.4            \n",
            "fbprophet                0.6            \n",
            "feather-format           0.4.1          \n",
            "featuretools             0.4.1          \n",
            "filelock                 3.0.12         \n",
            "Fiona                    1.8.13.post1   \n",
            "firebase-admin           4.1.0          \n",
            "fix-yahoo-finance        0.0.22         \n",
            "Flask                    1.1.2          \n",
            "folium                   0.8.3          \n",
            "fsspec                   0.7.3          \n",
            "future                   0.16.0         \n",
            "gast                     0.3.3          \n",
            "gcsfs                    0.6.2          \n",
            "GDAL                     2.2.2          \n",
            "gdown                    3.6.4          \n",
            "gensim                   3.6.0          \n",
            "geographiclib            1.50           \n",
            "geojson                  2.5.0          \n",
            "geopandas                0.7.0          \n",
            "geopy                    1.17.0         \n",
            "gin-config               0.3.0          \n",
            "glob2                    0.7            \n",
            "google                   2.0.3          \n",
            "google-api-core          1.16.0         \n",
            "google-api-python-client 1.7.12         \n",
            "google-auth              1.7.2          \n",
            "google-auth-httplib2     0.0.3          \n",
            "google-auth-oauthlib     0.4.1          \n",
            "google-cloud-bigquery    1.21.0         \n",
            "google-cloud-core        1.0.3          \n",
            "google-cloud-datastore   1.8.0          \n",
            "google-cloud-firestore   1.6.2          \n",
            "google-cloud-language    1.2.0          \n",
            "google-cloud-storage     1.18.1         \n",
            "google-cloud-translate   1.5.0          \n",
            "google-colab             1.0.0          \n",
            "google-pasta             0.2.0          \n",
            "google-resumable-media   0.4.1          \n",
            "googleapis-common-protos 1.51.0         \n",
            "googledrivedownloader    0.4            \n",
            "graphviz                 0.10.1         \n",
            "grpcio                   1.28.1         \n",
            "gspread                  3.0.1          \n",
            "gspread-dataframe        3.0.6          \n",
            "gym                      0.17.1         \n",
            "h5py                     2.10.0         \n",
            "HeapDict                 1.0.1          \n",
            "holidays                 0.9.12         \n",
            "html5lib                 1.0.1          \n",
            "httpimport               0.5.18         \n",
            "httplib2                 0.17.3         \n",
            "httplib2shim             0.0.3          \n",
            "humanize                 0.5.1          \n",
            "hyperopt                 0.1.2          \n",
            "ideep4py                 2.0.0.post3    \n",
            "idna                     2.9            \n",
            "image                    1.5.31         \n",
            "imagecodecs              2020.2.18      \n",
            "imageio                  2.4.1          \n",
            "imagesize                1.2.0          \n",
            "imbalanced-learn         0.4.3          \n",
            "imblearn                 0.0            \n",
            "imgaug                   0.2.9          \n",
            "immutables               0.13           \n",
            "importlib-metadata       1.6.0          \n",
            "imutils                  0.5.3          \n",
            "inflect                  2.1.0          \n",
            "intel-openmp             2020.0.133     \n",
            "intervaltree             2.1.0          \n",
            "ipykernel                4.10.1         \n",
            "ipython                  5.5.0          \n",
            "ipython-genutils         0.2.0          \n",
            "ipython-sql              0.3.9          \n",
            "ipywidgets               7.5.1          \n",
            "itsdangerous             1.1.0          \n",
            "jax                      0.1.64         \n",
            "jaxlib                   0.1.45         \n",
            "jdcal                    1.4.1          \n",
            "jedi                     0.17.0         \n",
            "jieba                    0.42.1         \n",
            "Jinja2                   2.11.2         \n",
            "jmespath                 0.9.5          \n",
            "joblib                   0.14.1         \n",
            "jpeg4py                  0.1.4          \n",
            "jsonschema               2.6.0          \n",
            "jupyter                  1.0.0          \n",
            "jupyter-client           5.3.4          \n",
            "jupyter-console          5.2.0          \n",
            "jupyter-core             4.6.3          \n",
            "kaggle                   1.5.6          \n",
            "kapre                    0.1.3.1        \n",
            "Keras                    2.3.1          \n",
            "Keras-Applications       1.0.8          \n",
            "Keras-Preprocessing      1.1.0          \n",
            "keras-vis                0.4.1          \n",
            "kiwisolver               1.2.0          \n",
            "knnimpute                0.1.0          \n",
            "librosa                  0.6.3          \n",
            "lightgbm                 2.2.3          \n",
            "llvmlite                 0.31.0         \n",
            "lmdb                     0.98           \n",
            "locket                   0.2.0          \n",
            "lucid                    0.3.8          \n",
            "LunarCalendar            0.0.9          \n",
            "lxml                     4.2.6          \n",
            "Markdown                 3.2.1          \n",
            "MarkupSafe               1.1.1          \n",
            "matplotlib               3.2.1          \n",
            "matplotlib-venn          0.11.5         \n",
            "missingno                0.4.2          \n",
            "mistune                  0.8.4          \n",
            "mizani                   0.6.0          \n",
            "mkl                      2019.0         \n",
            "mlxtend                  0.14.0         \n",
            "monotonic                1.5            \n",
            "more-itertools           8.2.0          \n",
            "moviepy                  0.2.3.5        \n",
            "mpmath                   1.1.0          \n",
            "msgpack                  1.0.0          \n",
            "multiprocess             0.70.9         \n",
            "multitasking             0.0.9          \n",
            "munch                    2.5.0          \n",
            "murmurhash               1.0.2          \n",
            "music21                  5.5.0          \n",
            "natsort                  5.5.0          \n",
            "nbconvert                5.6.1          \n",
            "nbformat                 5.0.6          \n",
            "nc-time-axis             1.2.0          \n",
            "netCDF4                  1.5.3          \n",
            "networkx                 2.4            \n",
            "nibabel                  3.0.2          \n",
            "nltk                     3.2.5          \n",
            "notebook                 5.2.2          \n",
            "np-utils                 0.5.12.1       \n",
            "numba                    0.48.0         \n",
            "numcodecs                0.6.4          \n",
            "numexpr                  2.7.1          \n",
            "numpy                    1.18.4         \n",
            "nvidia-ml-py3            7.352.0        \n",
            "oauth2client             4.1.3          \n",
            "oauthlib                 3.1.0          \n",
            "okgrade                  0.4.3          \n",
            "opencv-contrib-python    4.1.2.30       \n",
            "opencv-python            4.1.2.30       \n",
            "openpyxl                 2.5.9          \n",
            "opt-einsum               3.2.1          \n",
            "osqp                     0.6.1          \n",
            "packaging                20.3           \n",
            "palettable               3.3.0          \n",
            "pandas                   1.0.3          \n",
            "pandas-datareader        0.8.1          \n",
            "pandas-gbq               0.11.0         \n",
            "pandas-profiling         1.4.1          \n",
            "pandocfilters            1.4.2          \n",
            "parso                    0.7.0          \n",
            "partd                    1.1.0          \n",
            "pathlib                  1.0.1          \n",
            "patsy                    0.5.1          \n",
            "pexpect                  4.8.0          \n",
            "pickleshare              0.7.5          \n",
            "Pillow                   7.0.0          \n",
            "Pint                     0.11           \n",
            "pip                      19.3.1         \n",
            "pip-tools                4.5.1          \n",
            "plac                     1.1.3          \n",
            "plotly                   4.4.1          \n",
            "plotnine                 0.6.0          \n",
            "pluggy                   0.7.1          \n",
            "portpicker               1.3.1          \n",
            "prefetch-generator       1.0.1          \n",
            "preshed                  3.0.2          \n",
            "prettytable              0.7.2          \n",
            "progressbar2             3.38.0         \n",
            "prometheus-client        0.7.1          \n",
            "promise                  2.3            \n",
            "prompt-toolkit           1.0.18         \n",
            "protobuf                 3.10.0         \n",
            "psutil                   5.4.8          \n",
            "psycopg2                 2.7.6.1        \n",
            "ptvsd                    5.0.0a12       \n",
            "ptyprocess               0.6.0          \n",
            "py                       1.8.1          \n",
            "pyarrow                  0.14.1         \n",
            "pyasn1                   0.4.8          \n",
            "pyasn1-modules           0.2.8          \n",
            "pycocotools              2.0.0          \n",
            "pycparser                2.20           \n",
            "pydata-google-auth       1.1.0          \n",
            "pydot                    1.3.0          \n",
            "pydot-ng                 2.0.0          \n",
            "pydotplus                2.0.2          \n",
            "PyDrive                  1.3.1          \n",
            "pyemd                    0.5.1          \n",
            "pyglet                   1.5.0          \n",
            "Pygments                 2.1.3          \n",
            "pygobject                3.26.1         \n",
            "pymc3                    3.7            \n",
            "PyMeeus                  0.3.7          \n",
            "pymongo                  3.10.1         \n",
            "pymystem3                0.2.0          \n",
            "PyOpenGL                 3.1.5          \n",
            "pyparsing                2.4.7          \n",
            "pyproj                   2.6.1.post1    \n",
            "pyrsistent               0.16.0         \n",
            "pyshp                    2.1.0          \n",
            "pysndfile                1.3.8          \n",
            "PySocks                  1.7.1          \n",
            "pystan                   2.19.1.1       \n",
            "pytest                   3.6.4          \n",
            "python-apt               1.6.5+ubuntu0.2\n",
            "python-chess             0.23.11        \n",
            "python-dateutil          2.8.1          \n",
            "python-louvain           0.14           \n",
            "python-slugify           4.0.0          \n",
            "python-utils             2.4.0          \n",
            "pytz                     2018.9         \n",
            "PyWavelets               1.1.1          \n",
            "PyYAML                   3.13           \n",
            "pyzmq                    19.0.1         \n",
            "qtconsole                4.7.4          \n",
            "QtPy                     1.9.0          \n",
            "rasterio                 1.1.4          \n",
            "regex                    2019.12.20     \n",
            "regionmask               0.5.0          \n",
            "requests                 2.23.0         \n",
            "requests-oauthlib        1.3.0          \n",
            "resampy                  0.2.2          \n",
            "retrying                 1.3.3          \n",
            "rioxarray                0.0.26         \n",
            "rpy2                     3.2.7          \n",
            "rsa                      4.0            \n",
            "Rtree                    0.9.4          \n",
            "s3fs                     0.4.2          \n",
            "s3transfer               0.3.3          \n",
            "salem                    0.2.4          \n",
            "scikit-image             0.16.2         \n",
            "scikit-learn             0.22.2.post1   \n",
            "scipy                    1.4.1          \n",
            "screen-resolution-extra  0.0.0          \n",
            "scs                      2.1.2          \n",
            "seaborn                  0.10.1         \n",
            "Send2Trash               1.5.0          \n",
            "setuptools               46.3.0         \n",
            "setuptools-git           1.2            \n",
            "Shapely                  1.7.0          \n",
            "simplegeneric            0.8.1          \n",
            "six                      1.12.0         \n",
            "sklearn                  0.0            \n",
            "sklearn-pandas           1.8.0          \n",
            "smart-open               2.0.0          \n",
            "snowballstemmer          2.0.0          \n",
            "snuggs                   1.4.7          \n",
            "sortedcontainers         2.1.0          \n",
            "spacy                    2.2.4          \n",
            "sparse                   0.10.0         \n",
            "Sphinx                   1.8.5          \n",
            "sphinxcontrib-websupport 1.2.2          \n",
            "SQLAlchemy               1.3.16         \n",
            "sqlparse                 0.3.1          \n",
            "srsly                    1.0.2          \n",
            "statsmodels              0.10.2         \n",
            "sympy                    1.1.1          \n",
            "tables                   3.4.4          \n",
            "tabulate                 0.8.7          \n",
            "tbb                      2020.0.133     \n",
            "tblib                    1.6.0          \n",
            "tensorboard              2.2.1          \n",
            "tensorboard-plugin-wit   1.6.0.post3    \n",
            "tensorboardcolab         0.0.22         \n",
            "tensorflow               2.2.0          \n",
            "tensorflow-addons        0.8.3          \n",
            "tensorflow-datasets      2.1.0          \n",
            "tensorflow-estimator     2.2.0          \n",
            "tensorflow-gcs-config    2.1.8          \n",
            "tensorflow-hub           0.8.0          \n",
            "tensorflow-metadata      0.21.2         \n",
            "tensorflow-privacy       0.2.2          \n",
            "tensorflow-probability   0.10.0rc0      \n",
            "termcolor                1.1.0          \n",
            "terminado                0.8.3          \n",
            "testpath                 0.4.4          \n",
            "text-unidecode           1.3            \n",
            "textblob                 0.15.3         \n",
            "textgenrnn               1.4.1          \n",
            "Theano                   1.0.4          \n",
            "thinc                    7.4.0          \n",
            "tifffile                 2020.5.11      \n",
            "toolz                    0.10.0         \n",
            "torch                    1.5.0+cu101    \n",
            "torchsummary             1.5.1          \n",
            "torchtext                0.3.1          \n",
            "torchvision              0.6.0+cu101    \n",
            "tornado                  4.5.3          \n",
            "tqdm                     4.41.1         \n",
            "traitlets                4.3.3          \n",
            "tweepy                   3.6.0          \n",
            "typeguard                2.7.1          \n",
            "typing                   3.6.6          \n",
            "typing-extensions        3.6.6          \n",
            "tzlocal                  1.5.1          \n",
            "umap-learn               0.4.2          \n",
            "uritemplate              3.0.1          \n",
            "urllib3                  1.24.3         \n",
            "vega-datasets            0.8.0          \n",
            "wasabi                   0.6.0          \n",
            "wcwidth                  0.1.9          \n",
            "webencodings             0.5.1          \n",
            "Werkzeug                 1.0.1          \n",
            "wheel                    0.34.2         \n",
            "widgetsnbextension       3.5.1          \n",
            "wordcloud                1.5.0          \n",
            "wrapt                    1.12.1         \n",
            "xarray                   0.15.1         \n",
            "xarray-extras            0.4.2          \n",
            "xclim                    0.17.0         \n",
            "xgboost                  0.90           \n",
            "xkit                     0.0.0          \n",
            "xlrd                     1.1.0          \n",
            "xlwt                     1.3.0          \n",
            "yellowbrick              0.9.1          \n",
            "zarr                     2.4.0          \n",
            "zict                     2.0.0          \n",
            "zipp                     3.1.0          \n"
          ],
          "name": "stdout"
        }
      ]
    },
    {
      "cell_type": "markdown",
      "metadata": {
        "id": "IK4kYzml3bDD",
        "colab_type": "text"
      },
      "source": [
        "## Authorisation\n",
        "\n",
        "Setting up connections and authorisation to cloud services."
      ]
    },
    {
      "cell_type": "markdown",
      "metadata": {
        "id": "T7jp5JdFrxGm",
        "colab_type": "text"
      },
      "source": [
        "### Google Cloud\n",
        "\n",
        "This can be done in the URL or via adding service account credentials.\n",
        "\n",
        "If you do not share the notebook, you can mount your Drive and and transfer credentials to disk. Note if the notebook is shared you always need to authenticate via URL.  "
      ]
    },
    {
      "cell_type": "code",
      "metadata": {
        "id": "pIeVojTV21Nr",
        "colab_type": "code",
        "colab": {}
      },
      "source": [
        "# Set Google Cloud information\n",
        "gc_project = \"skydipper-196010\"\n",
        "gc_creds = \"skydipper-196010-f842645fd0f3.json\"\n",
        "gc_user = \"edward-morris@skydipper-196010.iam.gserviceaccount.com\"\n",
        "gcs_prefix = \"gs://copernicus-climate\""
      ],
      "execution_count": 0,
      "outputs": []
    },
    {
      "cell_type": "code",
      "metadata": {
        "colab_type": "code",
        "id": "oY_ymKY_oIY8",
        "colab": {}
      },
      "source": [
        "# For auth WITHOUT service account\n",
        "# https://cloud.google.com/resource-manager/docs/creating-managing-projects\n",
        "#from google.colab import auth\n",
        "#auth.authenticate_user()\n",
        "#!gcloud config set project {project_id}"
      ],
      "execution_count": 0,
      "outputs": []
    },
    {
      "cell_type": "code",
      "metadata": {
        "id": "7akT-7lZ9x3R",
        "colab_type": "code",
        "colab": {}
      },
      "source": [
        "# If the notebook is shared\n",
        "#from google.colab import drive\n",
        "#drive.mount('/content/drive')"
      ],
      "execution_count": 0,
      "outputs": []
    },
    {
      "cell_type": "code",
      "metadata": {
        "colab_type": "code",
        "id": "dCFS8FOnzScr",
        "colab": {}
      },
      "source": [
        "# If Drive is mounted, copy GC credentials to home (place in your GDrive, and connect Drive)\n",
        "!cp \"/content/drive/My Drive/{gc_creds}\" \"/root/.{gc_creds}\""
      ],
      "execution_count": 0,
      "outputs": []
    },
    {
      "cell_type": "code",
      "metadata": {
        "colab_type": "code",
        "id": "03Tbqeq9zSc0",
        "outputId": "1fe349bd-066e-4081-c822-13a6177d7e4c",
        "colab": {
          "base_uri": "https://localhost:8080/",
          "height": 34
        }
      },
      "source": [
        "# Auth WITH service account\n",
        "!gcloud auth activate-service-account {gc_user} --key-file=/root/.{gc_creds} --project={gc_project}"
      ],
      "execution_count": 14,
      "outputs": [
        {
          "output_type": "stream",
          "text": [
            "Activated service account credentials for: [edward-morris@skydipper-196010.iam.gserviceaccount.com]\n"
          ],
          "name": "stdout"
        }
      ]
    },
    {
      "cell_type": "code",
      "metadata": {
        "colab_type": "code",
        "id": "PA4tPZ4-zSc9",
        "outputId": "afc938ce-e9be-4fd0-b0c5-bdc5d2fd4290",
        "colab": {
          "base_uri": "https://localhost:8080/",
          "height": 295
        }
      },
      "source": [
        "# Test GC auth\n",
        "!gsutil ls {gcs_prefix}"
      ],
      "execution_count": 15,
      "outputs": [
        {
          "output_type": "stream",
          "text": [
            "gs://copernicus-climate/heatwaves_historical_Basque.zip\n",
            "gs://copernicus-climate/heatwaves_longterm_Basque.zip\n",
            "gs://copernicus-climate/spain.zarr.zip\n",
            "gs://copernicus-climate/coldsnaps/\n",
            "gs://copernicus-climate/data_for_PET/\n",
            "gs://copernicus-climate/dataset/\n",
            "gs://copernicus-climate/european-nuts-lau-geometries.zarr/\n",
            "gs://copernicus-climate/heatwaves/\n",
            "gs://copernicus-climate/pet/\n",
            "gs://copernicus-climate/spain-zonal-stats.zarr/\n",
            "gs://copernicus-climate/spain.zarr/\n",
            "gs://copernicus-climate/spain.zonal-stats.zarr/\n",
            "gs://copernicus-climate/tasmax/\n",
            "gs://copernicus-climate/tasmin/\n",
            "gs://copernicus-climate/to_delete/\n",
            "gs://copernicus-climate/zonal_stats/\n"
          ],
          "name": "stdout"
        }
      ]
    },
    {
      "cell_type": "markdown",
      "metadata": {
        "id": "Vb3bFXTp0JFz",
        "colab_type": "text"
      },
      "source": [
        "# Utils\n",
        "\n",
        "Generic helper functions used in the subsequent processing. For easy navigation each function seperated into a section with the function name."
      ]
    },
    {
      "cell_type": "markdown",
      "metadata": {
        "id": "-l-NVtcE8KdV",
        "colab_type": "text"
      },
      "source": [
        "## copy_gcs"
      ]
    },
    {
      "cell_type": "code",
      "metadata": {
        "id": "h1KygWllicHk",
        "colab_type": "code",
        "colab": {}
      },
      "source": [
        "import os\n",
        "import subprocess\n",
        "\n",
        "def copy_gcs(source_list, dest_list, opts=\"\"):\n",
        "  \"\"\"\n",
        "  Use gsutil to copy each corresponding item in source_list\n",
        "  to dest_list.\n",
        "\n",
        "  Example:\n",
        "  copy_gcs([\"gs://my-bucket/data-file.csv\"], [\".\"])\n",
        "\n",
        "  \"\"\"\n",
        "  for s, d  in zip(source_list, dest_list):\n",
        "    cmd = f\"gsutil -m cp -r {opts} {s} {d}\"\n",
        "    print(f\"Processing: {cmd}\")\n",
        "    r = subprocess.call(cmd, shell=True)\n",
        "    if r == 0:\n",
        "        print(\"Task created\")\n",
        "    else:\n",
        "        print(\"Task failed\")\n",
        "  print(\"Finished copy\")"
      ],
      "execution_count": 0,
      "outputs": []
    },
    {
      "cell_type": "markdown",
      "metadata": {
        "id": "z1y_R6gT8btq",
        "colab_type": "text"
      },
      "source": [
        "## set_acl_to_public"
      ]
    },
    {
      "cell_type": "code",
      "metadata": {
        "id": "aWaLaClDVSaK",
        "colab_type": "code",
        "colab": {}
      },
      "source": [
        "import subprocess\n",
        "\n",
        "# Set to asset permissions to public for https read\n",
        "def set_acl_to_public(gs_path):\n",
        "  \"\"\" \n",
        "  Set all Google Storage assets to puplic read access.\n",
        "\n",
        "  Requires GS authentication\n",
        "\n",
        "  Parameters\n",
        "  ----------\n",
        "  gs_path str\n",
        "    The google storage path, note the \"-r\" option is used, setting the acl of all assets below this path\n",
        "  \"\"\"\n",
        "  cmd = f\"gsutil -m acl -r ch -u AllUsers:R {gs_path}\"\n",
        "  print(cmd)\n",
        "  r = subprocess.call(cmd, shell=True)\n",
        "  if r is 0:\n",
        "    print(\"Set acl(s) sucsessful\")\n",
        "  else:\n",
        "    print(\"Set acl(s) failed\")  \n",
        "\n",
        "#set_acl_to_public(\"gs://skydipper-water-quality/cloud-masks\")"
      ],
      "execution_count": 0,
      "outputs": []
    },
    {
      "cell_type": "markdown",
      "metadata": {
        "id": "gTOD9R2KyFJ_",
        "colab_type": "text"
      },
      "source": [
        "## get_cached_remote_zarr"
      ]
    },
    {
      "cell_type": "code",
      "metadata": {
        "id": "rwZhd30U2hso",
        "colab_type": "code",
        "colab": {}
      },
      "source": [
        "import gcsfs\n",
        "import zarr\n",
        "import xarray as xr\n",
        "\n",
        "\n",
        "\n",
        "def get_cached_remote_zarr(\n",
        "    group,\n",
        "    root,\n",
        "    project_id = gc_project,\n",
        "    token=f\"/root/.{gc_creds}\"\n",
        "    ):\n",
        "  \n",
        "  # Connect to GS\n",
        "  gc = gcsfs.GCSFileSystem(project=project_id, token=token)\n",
        "  store = gc.get_mapper(root, check=False, create=True)\n",
        "  # Check zarr is consolidated\n",
        "  consolidated = gc.exists(f'{root}/.zmetadata')\n",
        "  # Cache the zarr store\n",
        "  #store = zarr.ZipStore(store, mode='r')\n",
        "  cache = zarr.LRUStoreCache(store, max_size=None)\n",
        "  # Return cached zarr group\n",
        "  return xr.open_zarr(cache, group=group, consolidated=consolidated)"
      ],
      "execution_count": 0,
      "outputs": []
    },
    {
      "cell_type": "markdown",
      "metadata": {
        "id": "ikHLJlY76f1F",
        "colab_type": "text"
      },
      "source": [
        "## print_ds_size"
      ]
    },
    {
      "cell_type": "code",
      "metadata": {
        "id": "s8SH12rl6me9",
        "colab_type": "code",
        "colab": {}
      },
      "source": [
        "def print_ds_size(ds):\n",
        "  print('ds size in GB {:0.2f}\\n'.format(ds.nbytes / 1e9))"
      ],
      "execution_count": 0,
      "outputs": []
    },
    {
      "cell_type": "markdown",
      "metadata": {
        "id": "_AYyOov32YZM",
        "colab_type": "text"
      },
      "source": [
        "## get_gda_geoms"
      ]
    },
    {
      "cell_type": "code",
      "metadata": {
        "id": "_mxf4VZW2ybK",
        "colab_type": "code",
        "colab": {}
      },
      "source": [
        "import geopandas as gpd\n",
        "import shapely\n",
        "\n",
        "def get_gda_geoms(group, root, select_by=None):\n",
        "  gda = get_cached_remote_zarr(group, root = root)\n",
        "  # Select\n",
        "  if select_by:\n",
        "    gda = gda.sel(select_by, drop=True)\n",
        "  df = gda.reset_coords().to_dataframe().dropna().reset_index()\n",
        "  geoms = df.geometry\n",
        "  # Return as geopandas object, converting geometry to shapley objects\n",
        "  return gpd.GeoDataFrame(df, geometry=[shapely.wkb.loads(g, True) for g in geoms])\n"
      ],
      "execution_count": 0,
      "outputs": []
    },
    {
      "cell_type": "markdown",
      "metadata": {
        "id": "lMypz0rFD5pQ",
        "colab_type": "text"
      },
      "source": [
        "## interpolate_dataset"
      ]
    },
    {
      "cell_type": "code",
      "metadata": {
        "id": "PlPZ7WCbf0_V",
        "colab_type": "code",
        "colab": {}
      },
      "source": [
        "import numpy as np\n",
        "\n",
        "def interpolate_dataset(ds, dx, dy):\n",
        "  # get bounds\n",
        "  lon = ds.lon.values\n",
        "  lat = ds.lat.values\n",
        "  lonmin = lon.min()\n",
        "  latmin = lat.min()\n",
        "  lonmax = lon.max()\n",
        "  latmax = lat.max()\n",
        "  # create new lat and lon\n",
        "  new_lon = np.arange(lonmin, lonmax, step=dx)\n",
        "  #new_lon = np.linspace(lonmin, lonmax, num=ds.dims['lon'] * factor)\n",
        "  #print(new_lon)\n",
        "  new_lat = np.arange(latmin, latmax, step=dy)\n",
        "  #new_lat = np.linspace(latmin, latmax, num=ds.dims['lat'] * factor)\n",
        "  #print(new_lat)\n",
        "  # convert na values\n",
        "  #filled = ds.fillna(-9999)\n",
        "  # interpolate\n",
        "  out = ds.interp(lat=new_lat, lon=new_lon, method='linear')\n",
        "  # fill na gaps\n",
        "  #out = out.interpolate_na('lon').interpolate_na('lat')\n",
        "  # return masked array\n",
        "  return out#.where(ds.notnull)"
      ],
      "execution_count": 0,
      "outputs": []
    },
    {
      "cell_type": "markdown",
      "metadata": {
        "id": "ZATX_BNidoba",
        "colab_type": "text"
      },
      "source": [
        "## add_area"
      ]
    },
    {
      "cell_type": "code",
      "metadata": {
        "id": "qqPcWzEDk8z8",
        "colab_type": "code",
        "colab": {}
      },
      "source": [
        "import numpy as np\n",
        "import numpy.matlib\n",
        "import xarray as xr\n",
        "import rioxarray\n",
        "\n",
        "def add_area(ds):\n",
        "  \"\"\"\n",
        "  Add DataArrays of the area in km2 and area weight of each array cell\n",
        "\n",
        "  \"\"\"\n",
        "  # get info\n",
        "  lon = ds.lon.values\n",
        "  lat = ds.lat.values\n",
        "  xdim = len(lon)\n",
        "  ydim = len(lat)\n",
        "  lonmin = lon.min()\n",
        "  latmin = lat.min()\n",
        "  lonmax = lon.max()\n",
        "  latmax = lat.max()\n",
        "  xres = (lonmax - lonmin) / xdim\n",
        "  yres = (latmax - latmin) / ydim \n",
        "  \n",
        "  # create lats + yres\n",
        "  lats = np.linspace(int(latmin), int(latmax) + yres, ydim + 1)\n",
        "  \n",
        "  # constants\n",
        "  a = 6378137\n",
        "  b = 6356752.3142\n",
        "\n",
        "  # Degrees to radians\n",
        "  lats = lats * np.pi/180\n",
        "\n",
        "  # Intermediate vars\n",
        "  e = np.sqrt(1-(b/a)**2)\n",
        "  sinlats = np.sin(lats)\n",
        "  zm = 1 - e * sinlats\n",
        "  zp = 1 + e * sinlats\n",
        "\n",
        "  # Distance between meridians\n",
        "  q = yres/360\n",
        "  # q = pix_width/360\n",
        "\n",
        "  # Compute areas for each latitude in square km\n",
        "  areas_to_equator = np.pi * b**2 * ((2*np.arctanh(e*sinlats) / (2*e) + sinlats / (zp*zm))) / 10**6\n",
        "  areas_between_lats = np.diff(areas_to_equator)\n",
        "  areas_cells = np.abs(areas_between_lats) * q\n",
        "  areagrid = np.transpose(np.matlib.repmat(areas_cells, xdim, 1))\n",
        "  \n",
        "  # Sum total area\n",
        "  #tot_area = np.sum(areagrid)\n",
        "\n",
        "  # Add area in km2\n",
        "  da = xr.DataArray(\n",
        "      data=areagrid,\n",
        "      name='area_km2',\n",
        "      coords=[lat, lon],\n",
        "      dims=['lat', 'lon'], \n",
        "      attrs=None, indexes=None, fastpath=False)\n",
        "  # Add area_weight\n",
        "  #ds['area_weight'] = ds['area_km2'] / tot_area\n",
        "  \n",
        "  return ds.assign({'area_km2': da.chunk({'lat':-1, 'lon':-1})})\n",
        "\n"
      ],
      "execution_count": 0,
      "outputs": []
    },
    {
      "cell_type": "markdown",
      "metadata": {
        "id": "vA3jkHDg8GYA",
        "colab_type": "text"
      },
      "source": [
        "## set_lat_lon_attrs"
      ]
    },
    {
      "cell_type": "code",
      "metadata": {
        "id": "lO22nqj-8NpE",
        "colab_type": "code",
        "colab": {}
      },
      "source": [
        "def set_lat_lon_attrs(ds):\n",
        "  \"\"\" Set CF latitude and longitude attributes\"\"\"\n",
        "  ds[\"lon\"] = ds.lon.assign_attrs({\n",
        "    'axis' : 'X',\n",
        "     'long_name' : 'longitude',\n",
        "      'standard_name' : 'longitude',\n",
        "       'stored_direction' : 'increasing',\n",
        "        'type' : 'double',\n",
        "         'units' : 'degrees_east',\n",
        "          'valid_max' : 360.0,\n",
        "           'valid_min' : -180.0\n",
        "           })\n",
        "  ds[\"lat\"] = ds.lat.assign_attrs({\n",
        "    'axis' : 'Y',\n",
        "     'long_name' : 'latitude',\n",
        "      'standard_name' : 'latitude',\n",
        "       'stored_direction' : 'increasing',\n",
        "        'type' : 'double',\n",
        "         'units' : 'degrees_north',\n",
        "          'valid_max' : 90.0,\n",
        "           'valid_min' : -90.0\n",
        "           })\n",
        "  return ds\n",
        "  "
      ],
      "execution_count": 0,
      "outputs": []
    },
    {
      "cell_type": "markdown",
      "metadata": {
        "colab_type": "text",
        "id": "tcP6fw7th5rm"
      },
      "source": [
        "## create_ds_mask"
      ]
    },
    {
      "cell_type": "code",
      "metadata": {
        "colab_type": "code",
        "id": "Uj1POF7ah5rp",
        "colab": {}
      },
      "source": [
        "import regionmask\n",
        "import xarray as xr\n",
        "import rioxarray\n",
        "import geopandas\n",
        "import numpy as np\n",
        "\n",
        "def create_ds_mask(df, ds, id_prop, name_prop, name):\n",
        "  \n",
        "  # Get mean ds cell area (in degrees) \n",
        "  mean_y_size = np.diff(ds.lat.values).mean()\n",
        "  #print(mean_y_size)\n",
        "  mean_x_size = np.diff(ds.lat.values).mean()\n",
        "  #print(mean_x_size)\n",
        "  mean_area = mean_y_size * mean_x_size\n",
        "  print(f\"The mean ds cell area is {np.round(mean_area, 6)} deg.\\n\")\n",
        "  \n",
        "  # Clip gdf to bounding box of ds\n",
        "  xmin = ds.lon.min().values.tolist()\n",
        "  xmax = ds.lon.max().values.tolist()\n",
        "  ymin = ds.lat.min().values.tolist()\n",
        "  ymax = ds.lat.max().values.tolist()\n",
        "  df = df.cx[xmin:xmax, ymin:ymax]\n",
        "  \n",
        "  \n",
        "  # Add area of geoms to gdf\n",
        "  df = df.assign(area = df.area)\n",
        "  df = df.assign(area_is_gt_cell = df['area'] > mean_area)\n",
        "  print(f\"Clipped gdf to dataset bounds, giving {len(df[id_prop])} potential geometries, of which {df['area_is_gt_cell'].sum()} are large enough.\\n\")\n",
        "  \n",
        "  print(\"Geometries smaller than mean cell size:\")\n",
        "  print(df.loc[df['area_is_gt_cell'] == False, [id_prop, name_prop]])\n",
        "  print(\"\\n\")\n",
        "\n",
        "  # Extract geoms, codes, names, and create code_ints that are large enough!\n",
        "  id_names = df.loc[df['area_is_gt_cell'] == True, name_prop].values\n",
        "  #print(id_names)\n",
        "  id_codes = df.loc[df['area_is_gt_cell'] == True, id_prop].values\n",
        "  #print(id_codes)\n",
        "  geoms = df.loc[df['area_is_gt_cell'] == True, 'geometry'].values\n",
        "  id_ints = list(range(0, len(id_codes)))\n",
        "  #print(id_ints)\n",
        "\n",
        "  # create mask object\n",
        "  da_mask = regionmask.Regions(\n",
        "    name = name,\n",
        "    numbers = id_ints,\n",
        "    names = id_names,\n",
        "    abbrevs = id_codes,\n",
        "    outlines = geoms)\\\n",
        "    .mask(ds)\\\n",
        "    .rename(name)\n",
        "  #print(da_mask)\n",
        "\n",
        "  # get the ints actually written to mask\n",
        "  id_ints_mask = da_mask.to_dataframe().dropna()[name].unique()\n",
        "  id_ints_mask = np.sort(id_ints_mask).astype('int')\n",
        "  #print(id_ints_mask)\n",
        "  \n",
        "  # resample the ints, names and codes\n",
        "  id_names_mask = id_names[id_ints_mask]\n",
        "  #print(id_names_mask)\n",
        "  id_codes_mask = id_codes[id_ints_mask]\n",
        "  #print(id_codes_mask)\n",
        "  print(f\"Finished writing {len(id_codes_mask)} geometries to {name} mask.\\n\")\n",
        "  \n",
        "  # update da attributes\n",
        "  da_mask.attrs['id_ints'] = id_ints_mask\n",
        "  da_mask.attrs['id_codes'] = id_codes_mask  \n",
        "  da_mask.attrs['id_names'] = id_names_mask\n",
        "  da_mask = set_lat_lon_attrs(da_mask)\n",
        "  return da_mask\n",
        "  "
      ],
      "execution_count": 0,
      "outputs": []
    },
    {
      "cell_type": "markdown",
      "metadata": {
        "id": "RC9tKfnezZMU",
        "colab_type": "text"
      },
      "source": [
        "## area_wt_mean"
      ]
    },
    {
      "cell_type": "code",
      "metadata": {
        "id": "RnFmrVIfzft3",
        "colab_type": "code",
        "colab": {}
      },
      "source": [
        "import shapely\n",
        "import pandas as pd\n",
        "\n",
        "\n",
        "\n",
        "def area_wt_mean(ds, dvars, id_prop, mask):\n",
        "  # Rechunk to avoid very large calculations\n",
        "  ds = ds.chunk({'lat':10, 'lon':10, 'time':-1})\n",
        "  # Weighted mean per id_prop\n",
        "  #da = ds.groupby(ds[mask]).map(lambda x: x.weighted(x.area_km2).mean())\\\n",
        "  #.rename( dict(zip(vars, [f\"{var}_mean\" for var in vars])))\n",
        "  da = ds[dvars]\n",
        "  weights = ds.area_km2.where(da.mean('time').notnull())  \n",
        "  #print('weights')\n",
        "  #print(weights)\n",
        "  w_sum = (da * weights).groupby(ds[mask], restore_coord_dims=True).sum(skipna=True)\n",
        "  sum_w = weights\\\n",
        "  .groupby(ds[mask])\\\n",
        "  .sum(skipna=True)\n",
        "  #.rename(\"total_area\")\n",
        "  \n",
        "  # weighted mean\n",
        "  out = ( w_sum / sum_w )\n",
        "  out = out.rename( dict(zip(dvars, [f\"{v}_mean\" for v in dvars])))\n",
        "  \n",
        "  # add id index\n",
        "  out = out.rename({mask:id_prop})\n",
        "  out = out.astype('float32')\n",
        "  \n",
        "  # create key-pair dict\n",
        "  ids = ds[mask].attrs['id_ints'].astype('int').tolist()\n",
        "  codes = ds[mask].attrs['id_codes'].tolist()\n",
        "  names = ds[mask].attrs['id_names'].tolist()\n",
        "  code_dict = dict(zip(ids, codes))\n",
        "  name_dict = dict(zip(ids, names))\n",
        "  #print(code_dict)\n",
        "  #print(name_dict)\n",
        "\n",
        "  # get the ints actually written to mask\n",
        "  wm_ids = out[id_prop].astype('int').values.tolist()\n",
        "\n",
        "  # convert to codes\n",
        "  wm_codes = [code_dict[i] for i in wm_ids] \n",
        "  #print(len(wm_codes))\n",
        "  wm_names = [name_dict[i] for i in wm_ids]\n",
        "  out[id_prop] = wm_codes\n",
        "  #out.coords['geonames'] = wm_names\n",
        "  return out.chunk({id_prop:100})"
      ],
      "execution_count": 0,
      "outputs": []
    },
    {
      "cell_type": "markdown",
      "metadata": {
        "colab_type": "text",
        "id": "WmQ4Weg1wrEe"
      },
      "source": [
        "## area_mean"
      ]
    },
    {
      "cell_type": "code",
      "metadata": {
        "colab_type": "code",
        "id": "dSSZr8MdwrEu",
        "colab": {}
      },
      "source": [
        "import shapely\n",
        "\n",
        "def area_mean(ds, vars, id_prop, mask):\n",
        "  da = (ds[vars]).groupby(ds[mask]).mean(skipna=True)\\\n",
        "  .rename( dict(zip(vars, [f\"{var}_mean\" for var in vars])))\n",
        "  id_ints = da[mask].values.astype(numpy.int64) \n",
        "  id_codes = ds[mask].attrs['id_codes']\n",
        "  id_codes = [id_codes[i] for i in id_ints]\n",
        "  da = da.rename({mask:id_prop})\n",
        "  da = da.assign_coords({id_prop:id_codes})\n",
        "  return da.chunk({id_prop:100})"
      ],
      "execution_count": 0,
      "outputs": []
    },
    {
      "cell_type": "markdown",
      "metadata": {
        "colab_type": "text",
        "id": "lNDlU-IcyiZf"
      },
      "source": [
        "## write_to_remote_zarr"
      ]
    },
    {
      "cell_type": "code",
      "metadata": {
        "colab_type": "code",
        "id": "mCSbC4x_yiZr",
        "colab": {}
      },
      "source": [
        "import gcsfs\n",
        "import zarr\n",
        "import xarray as xr\n",
        "\n",
        "def write_to_remote_zarr(\n",
        "    ds,\n",
        "    group,\n",
        "    root,\n",
        "    mode = 'w',\n",
        "    append_dim = None,    \n",
        "    encoding = None,\n",
        "    unchunk_coords = True,\n",
        "    project_id = gc_project,\n",
        "    token=f\"/root/.{gc_creds}\",\n",
        "    show_tree = True\n",
        "    ):\n",
        "  print(\"Starting to write to Zarr...\\n\")\n",
        "  # Connect to GS\n",
        "  gc = gcsfs.GCSFileSystem(project=project_id, token=token)\n",
        "  store = gc.get_mapper(root, check=False, create=True)\n",
        "  print(\"GCS store is setup\\n\")\n",
        "  # consolidate metadata at root\n",
        "  #zarr.consolidate_metadata(store)\n",
        "  #print(\"Consolidated metadata\\n\")\n",
        "  # Write to zarr group\n",
        "  print(\"Writing to store...\\n\")\n",
        "  if append_dim is not None:\n",
        "    mode = 'a'\n",
        "  ds.to_zarr(store=store, group=group, mode=mode, consolidated=True, encoding=encoding, append_dim = append_dim)\n",
        "  print(\"Finished writing\\n\")\n",
        "  # consolidate metadata at root\n",
        "  #zarr.consolidate_metadata(store)\n",
        "  #print(\"Consolidated metadata\\n\")\n",
        "  c = gc.exists(f\"{root}/.zmetadata\")\n",
        "  print(f\"{root} is consoldiated? {c}\\n\")\n",
        "  # unchunk coordinates\n",
        "  # TODO: optimise this for remote ZARR\n",
        "  #if unchunk_coords:\n",
        "  #  unchunk_dataset(store, coords_only = True)\n",
        "  if show_tree:\n",
        "    with zarr.open_consolidated(store, mode='r') as z:\n",
        "      print(z.tree())\n",
        "\n",
        "\n"
      ],
      "execution_count": 0,
      "outputs": []
    },
    {
      "cell_type": "markdown",
      "metadata": {
        "id": "hpA8zrpla9R_",
        "colab_type": "text"
      },
      "source": [
        "## rmv_remote_zarr"
      ]
    },
    {
      "cell_type": "code",
      "metadata": {
        "id": "VUOpAwuybCFg",
        "colab_type": "code",
        "colab": {}
      },
      "source": [
        "import gcsfs\n",
        "import zarr\n",
        "\n",
        "def rmv_remote_zarr(\n",
        "    group,\n",
        "    root,\n",
        "    project_id = gc_project,\n",
        "    token=f\"/root/.{gc_creds}\",\n",
        "     show_tree=False):\n",
        "  \n",
        "  # Connect to GS\n",
        "  gc = gcsfs.GCSFileSystem(project=project_id, token=token)\n",
        "  store = gc.get_mapper(root, check=False, create=True)\n",
        "  # Remove zarr group\n",
        "  print(f\"Removing {root}/{group}\")\n",
        "  zarr.storage.rmdir(store, path=group)\n",
        "  # consolidate metadata at root\n",
        "  zarr.consolidate_metadata(store)\n",
        "  if show_tree:\n",
        "    with zarr.open_consolidated(store, mode='r') as z:\n",
        "      print(z.tree())"
      ],
      "execution_count": 0,
      "outputs": []
    },
    {
      "cell_type": "markdown",
      "metadata": {
        "colab_type": "text",
        "id": "bL_sEbwDrJro"
      },
      "source": [
        "## set_acl_to_public"
      ]
    },
    {
      "cell_type": "code",
      "metadata": {
        "colab_type": "code",
        "id": "IRHBnlAMrJr2",
        "colab": {}
      },
      "source": [
        "import subprocess\n",
        "\n",
        "# Set to asset permissions to public for https read\n",
        "def set_acl_to_public(gs_path):\n",
        "  \"\"\" \n",
        "  Set all Google Storage assets to puplic read access.\n",
        "\n",
        "  Requires GS authentication\n",
        "\n",
        "  Parameters\n",
        "  ----------\n",
        "  gs_path str\n",
        "    The google storage path, note the \"-r\" option is used, setting the acl of all assets below this path\n",
        "  \"\"\"\n",
        "  cmd = f\"gsutil -m acl -r ch -u AllUsers:R {gs_path}\"\n",
        "  print(cmd)\n",
        "  r = subprocess.call(cmd, shell=True)\n",
        "  if r is 0:\n",
        "    print(\"Set acl(s) sucsessful\")\n",
        "  else:\n",
        "    print(\"Set acl(s) failed\")  \n",
        "\n",
        "#set_acl_to_public(\"gs://skydipper-water-quality/cloud-masks\")"
      ],
      "execution_count": 0,
      "outputs": []
    },
    {
      "cell_type": "markdown",
      "metadata": {
        "id": "GBPS3DALtie0",
        "colab_type": "text"
      },
      "source": [
        "# Processing\n",
        "\n",
        "Data processing organised into sections."
      ]
    },
    {
      "cell_type": "code",
      "metadata": {
        "id": "G_Qw0iwvuFpx",
        "colab_type": "code",
        "colab": {}
      },
      "source": [
        "# Time all processing\n",
        "from datetime import datetime\n",
        "start_time_processing = datetime.now()"
      ],
      "execution_count": 0,
      "outputs": []
    },
    {
      "cell_type": "markdown",
      "metadata": {
        "id": "jMBZ7SwItthj",
        "colab_type": "text"
      },
      "source": [
        "## Get datasets"
      ]
    },
    {
      "cell_type": "code",
      "metadata": {
        "id": "Q2o14vhqZd9F",
        "colab_type": "code",
        "outputId": "9b6067cb-8e81-4299-b0bf-d740675c5ee3",
        "colab": {
          "base_uri": "https://localhost:8080/",
          "height": 555
        }
      },
      "source": [
        "%%time\n",
        "# Get remote ZARR\n",
        "his = get_cached_remote_zarr(group = 'historical-monthly', root = \"copernicus-climate/spain.zarr\")\n",
        "print_ds_size(his)\n",
        "print(his)"
      ],
      "execution_count": 31,
      "outputs": [
        {
          "output_type": "stream",
          "text": [
            "ds size in GB 0.30\n",
            "\n",
            "<xarray.Dataset>\n",
            "Dimensions:              (lat: 77, lon: 132, time: 468)\n",
            "Coordinates:\n",
            "  * lat                  (lat) float64 36.1 36.2 36.3 36.4 ... 43.5 43.6 43.7\n",
            "  * lon                  (lon) float64 -9.2 -9.1 -9.0 -8.9 ... 3.9 4.0 4.1 4.2\n",
            "  * time                 (time) datetime64[ns] 1981-01-01 ... 2019-12-01\n",
            "Data variables:\n",
            "    coldsnap_alarms      (time, lat, lon) float32 dask.array<chunksize=(468, 77, 132), meta=np.ndarray>\n",
            "    coldsnap_alerts      (time, lat, lon) float32 dask.array<chunksize=(468, 77, 132), meta=np.ndarray>\n",
            "    coldsnap_warnings    (time, lat, lon) float32 dask.array<chunksize=(468, 77, 132), meta=np.ndarray>\n",
            "    coldstress_extreme   (time, lat, lon) float32 dask.array<chunksize=(468, 77, 132), meta=np.ndarray>\n",
            "    coldstress_moderate  (time, lat, lon) float32 dask.array<chunksize=(468, 77, 132), meta=np.ndarray>\n",
            "    coldstress_strong    (time, lat, lon) float32 dask.array<chunksize=(468, 77, 132), meta=np.ndarray>\n",
            "    heatstress_extreme   (time, lat, lon) float32 dask.array<chunksize=(468, 77, 132), meta=np.ndarray>\n",
            "    heatstress_moderate  (time, lat, lon) float32 dask.array<chunksize=(468, 77, 132), meta=np.ndarray>\n",
            "    heatstress_strong    (time, lat, lon) float32 dask.array<chunksize=(468, 77, 132), meta=np.ndarray>\n",
            "    heatwave_alarms      (time, lat, lon) float32 dask.array<chunksize=(468, 77, 132), meta=np.ndarray>\n",
            "    heatwave_alerts      (time, lat, lon) float32 dask.array<chunksize=(468, 77, 132), meta=np.ndarray>\n",
            "    heatwave_warnings    (time, lat, lon) float32 dask.array<chunksize=(468, 77, 132), meta=np.ndarray>\n",
            "    petmax               (time, lat, lon) float32 dask.array<chunksize=(468, 77, 132), meta=np.ndarray>\n",
            "    petmin               (time, lat, lon) float32 dask.array<chunksize=(468, 77, 132), meta=np.ndarray>\n",
            "    tasmax               (time, lat, lon) float32 dask.array<chunksize=(468, 77, 132), meta=np.ndarray>\n",
            "    tasmin               (time, lat, lon) float32 dask.array<chunksize=(468, 77, 132), meta=np.ndarray>\n",
            "Attributes:\n",
            "    description:  Daily maximum near-surface (usually 2m) air temperature, da...\n",
            "    history:      \n",
            "    source:       Derived from ERA5, `Thermal-comfort-indices-derived-from-ER...\n",
            "CPU times: user 97.8 ms, sys: 6.6 ms, total: 104 ms\n",
            "Wall time: 3.48 s\n"
          ],
          "name": "stdout"
        }
      ]
    },
    {
      "cell_type": "code",
      "metadata": {
        "id": "Cxyk3UxsAELV",
        "colab_type": "code",
        "outputId": "ca7b4ada-bf7b-4eee-dea1-51b9e094c6b8",
        "colab": {
          "base_uri": "https://localhost:8080/",
          "height": 315
        }
      },
      "source": [
        "%%time\n",
        "def plot_mean_per_month(da):\n",
        "  weights = da.time.dt.daysinmonth\n",
        "  da = da.weighted(weights).mean('time')\n",
        "  da.plot(robust=False)\n",
        "\n",
        "# Mean number of events per month during time-interval\n",
        "plot_mean_per_month(his.heatwave_alerts)"
      ],
      "execution_count": 32,
      "outputs": [
        {
          "output_type": "stream",
          "text": [
            "CPU times: user 121 ms, sys: 27.1 ms, total: 148 ms\n",
            "Wall time: 982 ms\n"
          ],
          "name": "stdout"
        },
        {
          "output_type": "display_data",
          "data": {
            "image/png": "[encoded data removed]",
            "text/plain": [
              "<Figure size 432x288 with 2 Axes>"
            ]
          },
          "metadata": {
            "tags": [],
            "needs_background": "light"
          }
        }
      ]
    },
    {
      "cell_type": "code",
      "metadata": {
        "id": "i2HYfbKr8ADw",
        "colab_type": "code",
        "outputId": "9b7ada2c-e27b-42b9-b275-fecb506bb16e",
        "colab": {
          "base_uri": "https://localhost:8080/",
          "height": 280
        }
      },
      "source": [
        "# Mean number of events per month during time-interval\n",
        "plot_mean_per_month(his.heatstress_extreme)"
      ],
      "execution_count": 33,
      "outputs": [
        {
          "output_type": "display_data",
          "data": {
            "image/png": "[encoded data removed]",
            "text/plain": [
              "<Figure size 432x288 with 2 Axes>"
            ]
          },
          "metadata": {
            "tags": [],
            "needs_background": "light"
          }
        }
      ]
    },
    {
      "cell_type": "code",
      "metadata": {
        "id": "eVlPvDZjRt3v",
        "colab_type": "code",
        "outputId": "c197d524-dc97-465c-a958-94baef8d4b5f",
        "colab": {
          "base_uri": "https://localhost:8080/",
          "height": 434
        }
      },
      "source": [
        "%%time\n",
        "seas = get_cached_remote_zarr(group = 'future-seasonal-monthly', root = \"copernicus-climate/spain.zarr\")\n",
        "print_ds_size(seas)\n",
        "print(seas)"
      ],
      "execution_count": 34,
      "outputs": [
        {
          "output_type": "stream",
          "text": [
            "ds size in GB 0.01\n",
            "\n",
            "<xarray.Dataset>\n",
            "Dimensions:            (lat: 77, lon: 132, model: 6, time: 6)\n",
            "Coordinates:\n",
            "  * lat                (lat) float64 36.1 36.2 36.3 36.4 ... 43.4 43.5 43.6 43.7\n",
            "  * lon                (lon) float64 -9.2 -9.1 -9.0 -8.9 ... 3.9 4.0 4.1 4.2\n",
            "  * model              (model) object 'cmcc_3' 'dwd_2' ... 'ncep_2' 'ukmo_14'\n",
            "  * time               (time) datetime64[ns] 2020-02-01 ... 2020-07-01\n",
            "Data variables:\n",
            "    coldsnap_alarms    (time, model, lat, lon) float32 dask.array<chunksize=(6, 6, 77, 132), meta=np.ndarray>\n",
            "    coldsnap_alerts    (time, model, lat, lon) float32 dask.array<chunksize=(6, 6, 77, 132), meta=np.ndarray>\n",
            "    coldsnap_warnings  (time, model, lat, lon) float32 dask.array<chunksize=(6, 6, 77, 132), meta=np.ndarray>\n",
            "    heatwave_alarms    (time, model, lat, lon) float32 dask.array<chunksize=(6, 6, 77, 132), meta=np.ndarray>\n",
            "    heatwave_alerts    (time, model, lat, lon) float32 dask.array<chunksize=(6, 6, 77, 132), meta=np.ndarray>\n",
            "    heatwave_warnings  (time, model, lat, lon) float32 dask.array<chunksize=(6, 6, 77, 132), meta=np.ndarray>\n",
            "    tasmax             (time, model, lat, lon) float32 dask.array<chunksize=(6, 6, 77, 132), meta=np.ndarray>\n",
            "    tasmin             (time, model, lat, lon) float32 dask.array<chunksize=(6, 6, 77, 132), meta=np.ndarray>\n",
            "Attributes:\n",
            "    description:  Daily maximum near-surface (usually 2m) air temperature, da...\n",
            "    history:      \n",
            "    source:       Derived from `Seasonal forecast daily data on single levels...\n",
            "CPU times: user 38.5 ms, sys: 0 ns, total: 38.5 ms\n",
            "Wall time: 4.12 s\n"
          ],
          "name": "stdout"
        }
      ]
    },
    {
      "cell_type": "code",
      "metadata": {
        "id": "HW6cd6WRA-Fv",
        "colab_type": "code",
        "outputId": "e7acb9d5-a5a5-4a5e-fcb1-74b652bbf5c1",
        "colab": {
          "base_uri": "https://localhost:8080/",
          "height": 347
        }
      },
      "source": [
        "(seas.tasmax.sel(time='2020-07-01').mean('model') -273.15).plot()"
      ],
      "execution_count": 35,
      "outputs": [
        {
          "output_type": "stream",
          "text": [
            "/usr/local/lib/python3.6/dist-packages/dask/array/numpy_compat.py:40: RuntimeWarning: invalid value encountered in true_divide\n",
            "  x = np.divide(x1, x2, out)\n"
          ],
          "name": "stderr"
        },
        {
          "output_type": "execute_result",
          "data": {
            "text/plain": [
              "<matplotlib.collections.QuadMesh at 0x7ff47da97860>"
            ]
          },
          "metadata": {
            "tags": []
          },
          "execution_count": 35
        },
        {
          "output_type": "display_data",
          "data": {
            "image/png": "[encoded data removed]",
            "text/plain": [
              "<Figure size 432x288 with 2 Axes>"
            ]
          },
          "metadata": {
            "tags": [],
            "needs_background": "light"
          }
        }
      ]
    },
    {
      "cell_type": "code",
      "metadata": {
        "id": "-_Ra8mz09Wvc",
        "colab_type": "code",
        "outputId": "30d2c49d-29ec-44f3-8340-e07d38fd8d03",
        "colab": {
          "base_uri": "https://localhost:8080/",
          "height": 347
        }
      },
      "source": [
        "(seas.heatwave_alerts.sel(time='2020-07-01').mean('model')).plot()"
      ],
      "execution_count": 36,
      "outputs": [
        {
          "output_type": "stream",
          "text": [
            "/usr/local/lib/python3.6/dist-packages/dask/array/numpy_compat.py:40: RuntimeWarning: invalid value encountered in true_divide\n",
            "  x = np.divide(x1, x2, out)\n"
          ],
          "name": "stderr"
        },
        {
          "output_type": "execute_result",
          "data": {
            "text/plain": [
              "<matplotlib.collections.QuadMesh at 0x7ff47d9d4d68>"
            ]
          },
          "metadata": {
            "tags": []
          },
          "execution_count": 36
        },
        {
          "output_type": "display_data",
          "data": {
            "image/png": "[encoded data removed]",
            "text/plain": [
              "<Figure size 432x288 with 2 Axes>"
            ]
          },
          "metadata": {
            "tags": [],
            "needs_background": "light"
          }
        }
      ]
    },
    {
      "cell_type": "code",
      "metadata": {
        "id": "mHdiUobTB9OR",
        "colab_type": "code",
        "outputId": "7d4d8c04-43ae-452e-eb33-2638c2a990f6",
        "colab": {
          "base_uri": "https://localhost:8080/",
          "height": 451
        }
      },
      "source": [
        "%%time\n",
        "fut = get_cached_remote_zarr(group = 'future-longterm-yr10', root = \"copernicus-climate/spain.zarr\")\n",
        "print_ds_size(fut)\n",
        "print(fut)"
      ],
      "execution_count": 37,
      "outputs": [
        {
          "output_type": "stream",
          "text": [
            "ds size in GB 0.03\n",
            "\n",
            "<xarray.Dataset>\n",
            "Dimensions:            (experiment: 2, lat: 77, lon: 132, model: 5, time: 8)\n",
            "Coordinates:\n",
            "  * experiment         (experiment) object 'rcp45' 'rcp85'\n",
            "  * lat                (lat) float64 36.1 36.2 36.3 36.4 ... 43.4 43.5 43.6 43.7\n",
            "  * lon                (lon) float64 -9.2 -9.1 -9.0 -8.9 ... 3.9 4.0 4.1 4.2\n",
            "  * model              (model) object 'ACCESS1-0' 'BNU-ESM' ... 'NorESM1-M'\n",
            "  * time               (time) datetime64[ns] 2020-01-01 ... 2090-01-01\n",
            "Data variables:\n",
            "    coldsnap_alarms    (time, model, experiment, lat, lon) float32 dask.array<chunksize=(8, 5, 1, 77, 132), meta=np.ndarray>\n",
            "    coldsnap_alerts    (time, model, experiment, lat, lon) float32 dask.array<chunksize=(8, 5, 1, 77, 132), meta=np.ndarray>\n",
            "    coldsnap_warnings  (time, model, experiment, lat, lon) float32 dask.array<chunksize=(8, 5, 1, 77, 132), meta=np.ndarray>\n",
            "    heatwave_alarms    (time, model, experiment, lat, lon) float32 dask.array<chunksize=(8, 5, 1, 77, 132), meta=np.ndarray>\n",
            "    heatwave_alerts    (time, model, experiment, lat, lon) float32 dask.array<chunksize=(8, 5, 1, 77, 132), meta=np.ndarray>\n",
            "    heatwave_warnings  (time, model, experiment, lat, lon) float32 dask.array<chunksize=(8, 5, 1, 77, 132), meta=np.ndarray>\n",
            "    tasmax             (time, model, experiment, lat, lon) float32 dask.array<chunksize=(8, 5, 1, 77, 132), meta=np.ndarray>\n",
            "    tasmin             (time, model, experiment, lat, lon) float32 dask.array<chunksize=(8, 5, 1, 77, 132), meta=np.ndarray>\n",
            "Attributes:\n",
            "    description:  Daily maximum near-surface (usually 2m) air temperature, da...\n",
            "    history:      \n",
            "    source:       Derived from ERA5-Land, and CIMP5 available in the Copernic...\n",
            "CPU times: user 37.5 ms, sys: 3.95 ms, total: 41.5 ms\n",
            "Wall time: 4.33 s\n"
          ],
          "name": "stdout"
        }
      ]
    },
    {
      "cell_type": "code",
      "metadata": {
        "id": "9lmG4ua5BQFI",
        "colab_type": "code",
        "outputId": "7fde6f6d-dec0-40a8-bd08-804a5c3d42f3",
        "colab": {
          "base_uri": "https://localhost:8080/",
          "height": 277
        }
      },
      "source": [
        "(fut.tasmax.sel(time='2090-01-01').mean('model') -273.15).plot(col='experiment')"
      ],
      "execution_count": 38,
      "outputs": [
        {
          "output_type": "stream",
          "text": [
            "/usr/local/lib/python3.6/dist-packages/dask/array/numpy_compat.py:40: RuntimeWarning: invalid value encountered in true_divide\n",
            "  x = np.divide(x1, x2, out)\n"
          ],
          "name": "stderr"
        },
        {
          "output_type": "execute_result",
          "data": {
            "text/plain": [
              "<xarray.plot.facetgrid.FacetGrid at 0x7ff47dad49b0>"
            ]
          },
          "metadata": {
            "tags": []
          },
          "execution_count": 38
        },
        {
          "output_type": "display_data",
          "data": {
            "image/png": "[encoded data removed]",
            "text/plain": [
              "<Figure size 504x216 with 3 Axes>"
            ]
          },
          "metadata": {
            "tags": [],
            "needs_background": "light"
          }
        }
      ]
    },
    {
      "cell_type": "code",
      "metadata": {
        "id": "SKw29E-j_l1G",
        "colab_type": "code",
        "outputId": "d7431ef1-c231-49d2-98c5-e6ff411df4fc",
        "colab": {
          "base_uri": "https://localhost:8080/",
          "height": 277
        }
      },
      "source": [
        "fut.heatwave_alarms.sel(time='2090-01-01').mean('model').plot(col='experiment')"
      ],
      "execution_count": 39,
      "outputs": [
        {
          "output_type": "stream",
          "text": [
            "/usr/local/lib/python3.6/dist-packages/dask/array/numpy_compat.py:40: RuntimeWarning: invalid value encountered in true_divide\n",
            "  x = np.divide(x1, x2, out)\n"
          ],
          "name": "stderr"
        },
        {
          "output_type": "execute_result",
          "data": {
            "text/plain": [
              "<xarray.plot.facetgrid.FacetGrid at 0x7ff47a027e10>"
            ]
          },
          "metadata": {
            "tags": []
          },
          "execution_count": 39
        },
        {
          "output_type": "display_data",
          "data": {
            "image/png": "[encoded data removed]",
            "text/plain": [
              "<Figure size 504x216 with 3 Axes>"
            ]
          },
          "metadata": {
            "tags": [],
            "needs_background": "light"
          }
        }
      ]
    },
    {
      "cell_type": "code",
      "metadata": {
        "id": "c0NW7aKeKUqR",
        "colab_type": "code",
        "outputId": "936ec393-5038-41f1-93ef-6370d3088c2c",
        "colab": {
          "base_uri": "https://localhost:8080/",
          "height": 382
        }
      },
      "source": [
        "%%time\n",
        "gda = get_cached_remote_zarr(group = 'nuts-2016-lau-2018', root = \"copernicus-climate/european-nuts-lau-geometries.zarr\")\n",
        "print(gda)"
      ],
      "execution_count": 40,
      "outputs": [
        {
          "output_type": "stream",
          "text": [
            "<xarray.Dataset>\n",
            "Dimensions:      (gid: 104568)\n",
            "Coordinates:\n",
            "    admin_level  (gid) int64 dask.array<chunksize=(104568,), meta=np.ndarray>\n",
            "    geoname      (gid) object dask.array<chunksize=(26142,), meta=np.ndarray>\n",
            "  * gid          (gid) object 'AL' 'CZ' 'DE' ... 'UK_W06000023' 'UK_W06000024'\n",
            "    iso3         (gid) object dask.array<chunksize=(26142,), meta=np.ndarray>\n",
            "Data variables:\n",
            "    geometry     (gid) object dask.array<chunksize=(26142,), meta=np.ndarray>\n",
            "Attributes:\n",
            "    crs:                 EPSG:4326\n",
            "    geospatial_lat_max:  75.814181\n",
            "    geospatial_lat_min:  26.018616\n",
            "    geospatial_lon_max:  69.103165\n",
            "    geospatial_lon_min:  61.78629\n",
            "    history:             Created by combining `ref-nuts-2016-01m` and `LAU-20...\n",
            "    keywords:            Statistical units, NUTS, LAU\n",
            "    summary:             This dataset represents the regions for levels 1, 2 ...\n",
            "    title:               European Union Nomenclature of Territorial Units for...\n",
            "CPU times: user 39.2 ms, sys: 4.04 ms, total: 43.3 ms\n",
            "Wall time: 2.24 s\n"
          ],
          "name": "stdout"
        }
      ]
    },
    {
      "cell_type": "code",
      "metadata": {
        "id": "4GqomgxAF0Y7",
        "colab_type": "code",
        "outputId": "017839c7-22e9-4d26-8f6a-696c4e7f92fb",
        "colab": {
          "base_uri": "https://localhost:8080/",
          "height": 364
        }
      },
      "source": [
        "%%time\n",
        "# Select nuts-lau level 2, 3 and 4 \n",
        "import shapely\n",
        "import geopandas\n",
        "\n",
        "# using mask and where\n",
        "mask = (gda.admin_level > 1) & (gda.iso3 == 'ESP') \n",
        "es = gda.where(mask, drop=True)\n",
        "\n",
        "# Convert to geodataframe\n",
        "df = es.reset_coords().to_dataframe().dropna().reset_index()\n",
        "geoms = [shapely.wkb.loads(g, hex=True) for g in es.geometry.values]\n",
        "# Return as geopandas object, converting geometry to shapley objects\n",
        "gdf = gpd.GeoDataFrame(df, geometry = geoms)\n",
        "\n",
        "# Select ESP admin levels\n",
        "es2 = gdf.loc[gdf.admin_level == 2]\n",
        "es3 = gdf.loc[gdf.admin_level == 3]\n",
        "es4 = gdf.loc[gdf.admin_level == 4]\n",
        "\n",
        "# Plot\n",
        "print(es2[['gid', 'geoname']].head())\n",
        "print(es3[['gid', 'geoname']].head())\n",
        "print(es4[['gid', 'geoname']].head())"
      ],
      "execution_count": 41,
      "outputs": [
        {
          "output_type": "stream",
          "text": [
            "    gid                 geoname\n",
            "0  ES53           Illes Balears\n",
            "1  ES12  Principado De Asturias\n",
            "2  ES24                  Aragón\n",
            "3  ES30     Comunidad De Madrid\n",
            "4  ES42      Castilla-La Mancha\n",
            "      gid    geoname\n",
            "19  ES432    Cáceres\n",
            "20  ES511  Barcelona\n",
            "21  ES613    Córdoba\n",
            "22  ES512     Girona\n",
            "23  ES513     Lleida\n",
            "         gid           geoname\n",
            "78  ES_01001  Alegría-Dulantzi\n",
            "79  ES_01002           Amurrio\n",
            "80  ES_01003           Aramaio\n",
            "81  ES_01004        Artziniega\n",
            "82  ES_01006           Armiñón\n",
            "CPU times: user 1.53 s, sys: 381 ms, total: 1.91 s\n",
            "Wall time: 4.34 s\n"
          ],
          "name": "stdout"
        }
      ]
    },
    {
      "cell_type": "code",
      "metadata": {
        "id": "gq5noEck85Y2",
        "colab_type": "code",
        "colab": {}
      },
      "source": [
        "# Find smallest geometry area\n",
        "mean_area_es2 = es2.area.min()\n",
        "mean_area_es3 = es3.area.min()\n",
        "mean_area_es4 = es4.area.mean()"
      ],
      "execution_count": 0,
      "outputs": []
    },
    {
      "cell_type": "code",
      "metadata": {
        "id": "Corjdrbd9fp3",
        "colab_type": "code",
        "outputId": "c261e4af-a30e-4a31-a892-6836c74adad3",
        "colab": {
          "base_uri": "https://localhost:8080/",
          "height": 69
        }
      },
      "source": [
        "# Approx size of smallest pixel\n",
        "print(np.sqrt(mean_area_es2))\n",
        "print(np.sqrt(mean_area_es3))\n",
        "print(np.sqrt(mean_area_es4)) # not this is mean!"
      ],
      "execution_count": 43,
      "outputs": [
        {
          "output_type": "stream",
          "text": [
            "0.03725370399270454\n",
            "0.03725370399270454\n",
            "0.08111702940265939\n"
          ],
          "name": "stdout"
        }
      ]
    },
    {
      "cell_type": "markdown",
      "metadata": {
        "id": "NjCndnBfFDSm",
        "colab_type": "text"
      },
      "source": [
        "## Zonal stats"
      ]
    },
    {
      "cell_type": "markdown",
      "metadata": {
        "id": "A-0j7FEd8aJz",
        "colab_type": "text"
      },
      "source": [
        "### Historical"
      ]
    },
    {
      "cell_type": "code",
      "metadata": {
        "id": "bRfDf05CuZIS",
        "colab_type": "code",
        "colab": {}
      },
      "source": [
        "import numpy as np\n",
        "import matplotlib.pyplot as plt\n",
        "\n",
        "def zonal_stats_his(level,\n",
        "                    dvars = ['tasmax',\n",
        "                             'tasmin',\n",
        "                             'heatwave_alerts',\n",
        "                             'heatwave_alarms',\n",
        "                             'heatwave_warnings',\n",
        "                             'coldsnap_alerts',\n",
        "                             'coldsnap_alarms',\n",
        "                             'coldsnap_warnings',\n",
        "                             'heatstress_extreme',\n",
        "                             'heatstress_strong',\n",
        "                             'heatstress_moderate',\n",
        "                             'coldstress_extreme',\n",
        "                             'coldstress_strong',\n",
        "                             'coldstress_moderate',\n",
        "                             'petmax',\n",
        "                             'petmin'],\n",
        "                    debug = False\n",
        "  ):\n",
        "  if isinstance(dvars, str):\n",
        "     dvars = [dvars]\n",
        "  if level < 4:\n",
        "    dx=0.03; dy=0.03\n",
        "  else:\n",
        "    dx=0.01; dy=0.01  \n",
        "  # Select vars\n",
        "  ds = his[dvars]\n",
        "  # Drop na values\n",
        "  ds = ds.where(ds[dvars].notnull()) \n",
        "  # Interpolate\n",
        "  print(\"Interpolating dataset\")\n",
        "  dsi = interpolate_dataset(ds, dx, dy)\n",
        "  \n",
        "  # Add area array to datasets\n",
        "  print(\"Adding area raster\")\n",
        "  dsi = add_area(dsi)\n",
        "  \n",
        "  # Create masks and add to datasets\n",
        "  print(\"Creating mask\")\n",
        "  if level == 2: gdf = es2\n",
        "  if level == 3: gdf = es3\n",
        "  if level == 4: gdf = es4\n",
        "  mask = create_ds_mask(gdf, dsi, 'gid', 'geoname', f\"nuts_{level}\")\n",
        "  \n",
        "  # Merge mask to interpolated ds\n",
        "  dsim = xr.merge([dsi, mask])\n",
        "  \n",
        "  # Area weighted mean per time\n",
        "  # Historical, level 2, 3 and 4\n",
        "  id_prop = 'gid'\n",
        "  print(\"Calculating zonal stats for...\\n\")\n",
        "  print(dvars)\n",
        "  out = area_wt_mean(dsim, dvars, id_prop, f\"nuts_{level}\")\n",
        "  \n",
        "  if debug == True:\n",
        "    #DEBUG\n",
        "    #print(\"interpolated\\n\")\n",
        "    #print(hisi)\n",
        "    #print(dvars)\n",
        "    plt.figure(figsize=(20,10))\n",
        "    plt.subplot(2, 2, 1)\n",
        "    dsi[dvars[0]].mean('time').plot()\n",
        "    #print(\"area\\n\")\n",
        "    plt.subplot(2, 2, 2)\n",
        "    dsi['area_km2'].plot()\n",
        "    #print(\"\\nmask codes\\n\")\n",
        "    #d = dict(zip(mask.attrs['id_ints'], mask.attrs['id_codes']))\n",
        "    #d2 = dict(zip(mask.attrs['id_ints'], mask.attrs['id_names']))\n",
        "    #print(d)\n",
        "    #print(d2)\n",
        "    plt.subplot(2, 2, 4)\n",
        "    flatui = ['#a6cee3','#1f78b4','#b2df8a','#33a02c','#fb9a99','#e31a1c','#fdbf6f','#ff7f00','#cab2d6','#6a3d9a','#ffff99','#b15928',\n",
        "              '#8dd3c7','#ffffb3','#bebada','#fb8072','#80b1d3','#fdb462','#b3de69','#fccde5','#d9d9d9','#bc80bd','#ccebc5','#ffed6f']\n",
        "    mask.plot(levels=len(mask.attrs['id_ints']), colors=flatui)\n",
        "    print(\"\\n zonal stats\\n\")\n",
        "    #print(out)\n",
        "    gda = get_cached_remote_zarr(group = 'nuts-2016-lau-2018', root = \"copernicus-climate/european-nuts-lau-geometries.zarr\")\n",
        "    out_mean = out[f\"{dvars[0]}_mean\"].mean('time')\n",
        "    gda_sel = gda.where(gda.gid.isin(out_mean.gid), drop=True).sortby('gid')\n",
        "    # Convert to geodataframe\n",
        "    df = xr.merge([out_mean, gda_sel]).reset_coords().to_dataframe().dropna().reset_index()\n",
        "    print(\"\\nZonal statistics results\\n\")\n",
        "    vname = f\"{dvars[0]}_mean\"\n",
        "    print(df[['gid', 'geoname', vname]].sort_values(vname))\n",
        "    geoms = [shapely.wkb.loads(g, hex=True) for g in df.geometry.values]\n",
        "    # Return as geopandas object, converting geometry to shapley objects\n",
        "    gdf = gpd.GeoDataFrame(df, geometry = geoms)\n",
        "    #print(gdf)\n",
        "    ax = plt.subplot(2, 2, 3)\n",
        "    gdf.plot(column=f\"{dvars[0]}_mean\", legend=True, ax=ax)\n",
        "    print(\"\\n Plots of variable, area, cloropleth and mask\\n\")\n",
        "    plt.show()\n",
        "\n",
        "  # Add coordinates\n",
        "  #out = out.assign_coords(nuts_level = [level])\n",
        "  #out = out.assign_coords(theme = ['historical'])\n",
        "  #out = out.assign_coords(experiment = ['NA'])\n",
        "  #out = out.transpose('theme', 'nuts_level', 'experiment', 'gid', 'time')\n",
        "  #out = out.sortby(['theme', 'nuts_level', 'experiment', 'gid', 'time'])\n",
        "  print(\"\\nDone...\\n\")\n",
        "  return out.chunk({id_prop:100})"
      ],
      "execution_count": 0,
      "outputs": []
    },
    {
      "cell_type": "markdown",
      "metadata": {
        "id": "EvMn10Q88er9",
        "colab_type": "text"
      },
      "source": [
        "### Seasonal"
      ]
    },
    {
      "cell_type": "code",
      "metadata": {
        "id": "WTIveeC21fZh",
        "colab_type": "code",
        "colab": {}
      },
      "source": [
        "def mean_std_by_model(ds, dvars):\n",
        "  sd = ds.std('model')\n",
        "  dvarssd = [f\"{v}_std\" for v in dvars]  \n",
        "  sd = sd.rename_vars(dict(zip(dvars, dvarssd))) \n",
        "  m = ds.mean('model')\n",
        "  dvarsm = [f\"{v}_mean\" for v in dvars]  \n",
        "  m = m.rename_vars(dict(zip(dvars, dvarsm))) \n",
        "  return xr.merge([m,sd]), dvarssd, dvarsm\n",
        "\n",
        "def zonal_stats_seas(level,\n",
        "                     dvars = ['tasmax', 'tasmin', 'heatwave_alerts', 'heatwave_alarms', 'heatwave_warnings', 'coldsnap_alerts', 'coldsnap_alarms', 'coldsnap_warnings'],\n",
        "                     debug = False\n",
        "                     ):\n",
        "  if isinstance(dvars, str):\n",
        "     dvars = [dvars]\n",
        "  # Select vars\n",
        "  ds = seas[dvars] \n",
        "  # Calculate mean and sd per experiment by model\n",
        "  ds, dvarssd, dvarsm = mean_std_by_model(ds, dvars)\n",
        "  if level < 4:\n",
        "    dx=0.03; dy=0.03\n",
        "  else:\n",
        "    dx=0.01; dy=0.01  \n",
        "  # Interpolate\n",
        "  dsi = interpolate_dataset(ds, dx, dy)\n",
        "  # Add area array to datasets\n",
        "  dsi = add_area(dsi)\n",
        "  # Create masks and add to datasets\n",
        "  if level == 2: gdf = es2\n",
        "  if level == 3: gdf = es3\n",
        "  if level == 4: gdf = es4\n",
        "  id_prop = 'gid'\n",
        "  mask = create_ds_mask(gdf, dsi, id_prop, 'geoname', f\"nuts_{level}\")\n",
        "  dsi = xr.merge([dsi, mask])\n",
        "  # Area weighted mean per time\n",
        "  ds_ss_m = area_wt_mean(dsi, dvarsm, id_prop, f\"nuts_{level}\")\n",
        "  ds_ss_sd = area_wt_mean(dsi, dvarssd, id_prop, f\"nuts_{level}\")\n",
        "  out = xr.merge([ds_ss_m, ds_ss_sd])\n",
        "  out = out.transpose(id_prop, 'time')\n",
        "  out = out.sortby([id_prop, 'time'])\n",
        "  # Rename\n",
        "  d = dict(zip([f\"{v}_mean\" for v in dvarsm + dvarssd], dvarsm + dvarssd))\n",
        "  out = out.rename_vars(d)\n",
        "  \n",
        "  if debug == True:\n",
        "    #DEBUG\n",
        "    #print(\"interpolated\\n\")\n",
        "    #print(hisi)\n",
        "    #print(dvars)\n",
        "    plt.figure(figsize=(20,10))\n",
        "    plt.subplot(2, 2, 1)\n",
        "    dsi[f\"{dvars[0]}_mean\"].mean('time').plot()\n",
        "    #print(\"area\\n\")\n",
        "    plt.subplot(2, 2, 2)\n",
        "    dsi['area_km2'].plot()\n",
        "    #print(\"\\nmask codes\\n\")\n",
        "    #d = dict(zip(mask.attrs['id_ints'], mask.attrs['id_codes']))\n",
        "    #d2 = dict(zip(mask.attrs['id_ints'], mask.attrs['id_names']))\n",
        "    #print(d)\n",
        "    #print(d2)\n",
        "    plt.subplot(2, 2, 4)\n",
        "    flatui = ['#a6cee3','#1f78b4','#b2df8a','#33a02c','#fb9a99','#e31a1c','#fdbf6f','#ff7f00','#cab2d6','#6a3d9a','#ffff99','#b15928',\n",
        "              '#8dd3c7','#ffffb3','#bebada','#fb8072','#80b1d3','#fdb462','#b3de69','#fccde5','#d9d9d9','#bc80bd','#ccebc5','#ffed6f']\n",
        "    mask.plot(levels=len(mask.attrs['id_ints']), colors=flatui)\n",
        "    print(\"\\n zonal stats\\n\")\n",
        "    #print(out)\n",
        "    gda = get_cached_remote_zarr(group = 'nuts-2016-lau-2018', root = \"copernicus-climate/european-nuts-lau-geometries.zarr\")\n",
        "    out_mean = out[f\"{dvars[0]}_mean\"].mean('time')\n",
        "    gda_sel = gda.where(gda.gid.isin(out_mean.gid), drop=True).sortby('gid')\n",
        "    # Convert to geodataframe\n",
        "    df = xr.merge([out_mean, gda_sel]).reset_coords().to_dataframe().dropna().reset_index()\n",
        "    print(\"\\nZonal statistics results\\n\")\n",
        "    vname = f\"{dvars[0]}_mean\"\n",
        "    print(df[['gid', 'geoname', vname]].sort_values(vname))\n",
        "    geoms = [shapely.wkb.loads(g, hex=True) for g in df.geometry.values]\n",
        "    # Return as geopandas object, converting geometry to shapley objects\n",
        "    gdf = gpd.GeoDataFrame(df, geometry = geoms)\n",
        "    #print(gdf)\n",
        "    ax = plt.subplot(2, 2, 3)\n",
        "    gdf.plot(column=f\"{dvars[0]}_mean\", legend=True, ax=ax)\n",
        "    print(\"\\n Plots of variable, area, cloropleth and mask\\n\")\n",
        "    plt.show()\n",
        "  \n",
        "  return out.chunk({id_prop:100})"
      ],
      "execution_count": 0,
      "outputs": []
    },
    {
      "cell_type": "markdown",
      "metadata": {
        "id": "SF17Mvkn8jF1",
        "colab_type": "text"
      },
      "source": [
        "### Longterm"
      ]
    },
    {
      "cell_type": "code",
      "metadata": {
        "id": "bp_5viuS54k9",
        "colab_type": "code",
        "colab": {}
      },
      "source": [
        "def mean_std_by_model(ds, dvars):\n",
        "  sd = ds.std('model')\n",
        "  dvarssd = [f\"{v}_std\" for v in dvars]  \n",
        "  sd = sd.rename_vars(dict(zip(dvars, dvarssd))) \n",
        "  m = ds.mean('model')\n",
        "  dvarsm = [f\"{v}_mean\" for v in dvars]  \n",
        "  m = m.rename_vars(dict(zip(dvars, dvarsm))) \n",
        "  return xr.merge([m,sd]), dvarssd, dvarsm\n",
        "\n",
        "def zonal_stats_fut(level,\n",
        "                    dvars = ['tasmax', 'tasmin', 'heatwave_alerts', 'heatwave_alarms', 'heatwave_warnings', 'coldsnap_alerts', 'coldsnap_alarms', 'coldsnap_warnings'],\n",
        "                    debug = True):\n",
        "  if isinstance(dvars, str):\n",
        "     dvars = [dvars]\n",
        "  # Select vars\n",
        "  ds = fut[dvars]\n",
        "  # Calculate mean and sd per experiment by model\n",
        "  ds, dvarssd, dvarsm = mean_std_by_model(ds, dvars)\n",
        "  if level < 4:\n",
        "    dx=0.03; dy=0.03\n",
        "  else:\n",
        "    dx=0.01; dy=0.01  \n",
        "  # Interpolate\n",
        "  dsi = interpolate_dataset(ds, dx, dy)\n",
        "  # Add area array to datasets\n",
        "  dsi = add_area(dsi)\n",
        "  # Create masks and add to datasets\n",
        "  if level == 2: gdf = es2\n",
        "  if level == 3: gdf = es3\n",
        "  if level == 4: gdf = es4\n",
        "  id_prop = 'gid'\n",
        "  mask = create_ds_mask(gdf, dsi, id_prop, 'geoname', f\"nuts_{level}\")\n",
        "  dsi = xr.merge([dsi, mask])\n",
        "  # Area weighted mean per time\n",
        "  ds_ss_m = area_wt_mean(dsi, dvarsm, id_prop, f\"nuts_{level}\")\n",
        "  ds_ss_sd = area_wt_mean(dsi, dvarssd, id_prop, f\"nuts_{level}\")\n",
        "  out = xr.merge([ds_ss_m, ds_ss_sd])\n",
        "  out['experiment'] = out.experiment.values.astype('str')\n",
        "  out = out.transpose('experiment', id_prop, 'time')\n",
        "  out = out.sortby(['experiment', id_prop, 'time'])\n",
        "  # Rename\n",
        "  d = dict(zip([f\"{v}_mean\" for v in dvarsm + dvarssd], dvarsm + dvarssd))\n",
        "  out = out.rename_vars(d)\n",
        "  \n",
        "  if debug == True:\n",
        "    #DEBUG\n",
        "    #print(\"interpolated\\n\")\n",
        "    #print(hisi)\n",
        "    #print(dvars)\n",
        "    plt.figure(figsize=(20,10))\n",
        "    plt.subplot(2, 2, 1)\n",
        "    dsi[f\"{dvars[0]}_mean\"].sel(experiment='rcp85').mean('time').plot()\n",
        "    #print(\"area\\n\")\n",
        "    plt.subplot(2, 2, 2)\n",
        "    dsi['area_km2'].plot()\n",
        "    #print(\"\\nmask codes\\n\")\n",
        "    #d = dict(zip(mask.attrs['id_ints'], mask.attrs['id_codes']))\n",
        "    #d2 = dict(zip(mask.attrs['id_ints'], mask.attrs['id_names']))\n",
        "    #print(d)\n",
        "    #print(d2)\n",
        "    plt.subplot(2, 2, 4)\n",
        "    flatui = ['#a6cee3','#1f78b4','#b2df8a','#33a02c','#fb9a99','#e31a1c','#fdbf6f','#ff7f00','#cab2d6','#6a3d9a','#ffff99','#b15928',\n",
        "              '#8dd3c7','#ffffb3','#bebada','#fb8072','#80b1d3','#fdb462','#b3de69','#fccde5','#d9d9d9','#bc80bd','#ccebc5','#ffed6f']\n",
        "    mask.plot(levels=len(mask.attrs['id_ints']), colors=flatui)\n",
        "    print(\"\\n zonal stats\\n\")\n",
        "    #print(out)\n",
        "    gda = get_cached_remote_zarr(group = 'nuts-2016-lau-2018', root = \"copernicus-climate/european-nuts-lau-geometries.zarr\")\n",
        "    out_mean = out[f\"{dvars[0]}_mean\"].sel(experiment='rcp85').mean('time')\n",
        "    gda_sel = gda.where(gda.gid.isin(out_mean.gid), drop=True).sortby('gid')\n",
        "    # Convert to geodataframe\n",
        "    df = xr.merge([out_mean, gda_sel]).reset_coords().to_dataframe().dropna().reset_index()\n",
        "    print(\"\\nZonal statistics results\\n\")\n",
        "    vname = f\"{dvars[0]}_mean\"\n",
        "    print(df[['gid', 'geoname', vname]].sort_values(vname))\n",
        "    geoms = [shapely.wkb.loads(g, hex=True) for g in df.geometry.values]\n",
        "    # Return as geopandas object, converting geometry to shapley objects\n",
        "    gdf = gpd.GeoDataFrame(df, geometry = geoms)\n",
        "    #print(gdf)\n",
        "    ax = plt.subplot(2, 2, 3)\n",
        "    gdf.plot(column=f\"{dvars[0]}_mean\", legend=True, ax=ax)\n",
        "    print(\"\\n Plots of variable, area, cloropleth and mask\\n\")\n",
        "    plt.show()\n",
        "\n",
        "  return out.chunk({id_prop:100})"
      ],
      "execution_count": 0,
      "outputs": []
    },
    {
      "cell_type": "markdown",
      "metadata": {
        "id": "XYmEA0H8vE-o",
        "colab_type": "text"
      },
      "source": [
        "## Calculate and save to Zarr"
      ]
    },
    {
      "cell_type": "code",
      "metadata": {
        "id": "2QqzaCmRvudv",
        "colab_type": "code",
        "outputId": "3b0485a2-c332-44d4-c195-a2ecd1c1c9cf",
        "colab": {
          "base_uri": "https://localhost:8080/",
          "height": 104
        }
      },
      "source": [
        "%%time\n",
        "# Remove before or append fails\n",
        "rmv_remote_zarr(group = \"historical-monthly-zs-nuts-level-2\", root = \"copernicus-climate/spain-zonal-stats.zarr\", show_tree=False)\n",
        "rmv_remote_zarr(group = \"historical-monthly-zs-nuts-level-3\", root = \"copernicus-climate/spain-zonal-stats.zarr\", show_tree=False)\n",
        "rmv_remote_zarr(group = \"historical-monthly-zs-nuts-level-4\", root = \"copernicus-climate/spain-zonal-stats.zarr\", show_tree=False)"
      ],
      "execution_count": 47,
      "outputs": [
        {
          "output_type": "stream",
          "text": [
            "Removing copernicus-climate/spain-zonal-stats.zarr/historical-monthly-zs-nuts-level-2\n",
            "Removing copernicus-climate/spain-zonal-stats.zarr/historical-monthly-zs-nuts-level-3\n",
            "Removing copernicus-climate/spain-zonal-stats.zarr/historical-monthly-zs-nuts-level-4\n",
            "CPU times: user 6.55 s, sys: 467 ms, total: 7.02 s\n",
            "Wall time: 14min 46s\n"
          ],
          "name": "stdout"
        }
      ]
    },
    {
      "cell_type": "code",
      "metadata": {
        "id": "UXTJG1E6-CcQ",
        "colab_type": "code",
        "outputId": "e0c2d993-dc8a-453c-a8f4-79bdde45c871",
        "colab": {
          "base_uri": "https://localhost:8080/",
          "height": 1000
        }
      },
      "source": [
        "%%time\n",
        "# Historical zonal stats\n",
        "# Combine all the zonal stats summaries\n",
        "# Define nuts levels\n",
        "levels = [2,3,4]\n",
        "dvars = ['tasmax','tasmin','heatwave_alerts','heatwave_alarms','heatwave_warnings','coldsnap_alerts','coldsnap_alarms','coldsnap_warnings','heatstress_extreme',\\\n",
        "        'heatstress_strong','heatstress_moderate','coldstress_extreme','coldstress_strong','coldstress_moderate','petmax','petmin']\n",
        "\n",
        "for l in levels:\n",
        "  for var in dvars:\n",
        "    print(f\"Processing level {l} variable {var}\")\n",
        "    ds_ss = zonal_stats_his(l, var, debug=False).chunk({'gid':100})\n",
        "    group = f\"historical-monthly-zs-nuts-level-{l}\"\n",
        "    write_to_remote_zarr(ds_ss, group=group, root = \"copernicus-climate/spain-zonal-stats.zarr\", show_tree=False, mode='a')\n",
        "    print(f\"{var} written to zarr store\\n -----------\\n\")\n"
      ],
      "execution_count": 48,
      "outputs": [
        {
          "output_type": "stream",
          "text": [
            "Processing level 2 variable tasmax\n",
            "Interpolating dataset\n",
            "Adding area raster\n",
            "Creating mask\n",
            "The mean ds cell area is 0.0009 deg.\n",
            "\n",
            "Clipped gdf to dataset bounds, giving 16 potential geometries, of which 16 are large enough.\n",
            "\n",
            "Geometries smaller than mean cell size:\n",
            "Empty GeoDataFrame\n",
            "Columns: [gid, geoname]\n",
            "Index: []\n",
            "\n",
            "\n",
            "Finished writing 16 geometries to nuts_2 mask.\n",
            "\n",
            "Calculating zonal stats for...\n",
            "\n",
            "['tasmax']\n",
            "\n",
            "Done...\n",
            "\n",
            "Starting to write to Zarr...\n",
            "\n",
            "GCS store is setup\n",
            "\n",
            "Writing to store...\n",
            "\n"
          ],
          "name": "stdout"
        },
        {
          "output_type": "stream",
          "text": [
            "/usr/local/lib/python3.6/dist-packages/dask/array/numpy_compat.py:40: RuntimeWarning: invalid value encountered in true_divide\n",
            "  x = np.divide(x1, x2, out)\n"
          ],
          "name": "stderr"
        },
        {
          "output_type": "stream",
          "text": [
            "Finished writing\n",
            "\n",
            "copernicus-climate/spain-zonal-stats.zarr is consoldiated? True\n",
            "\n",
            "tasmax written to zarr store\n",
            " -----------\n",
            "\n",
            "Processing level 2 variable tasmin\n",
            "Interpolating dataset\n",
            "Adding area raster\n",
            "Creating mask\n",
            "The mean ds cell area is 0.0009 deg.\n",
            "\n",
            "Clipped gdf to dataset bounds, giving 16 potential geometries, of which 16 are large enough.\n",
            "\n",
            "Geometries smaller than mean cell size:\n",
            "Empty GeoDataFrame\n",
            "Columns: [gid, geoname]\n",
            "Index: []\n",
            "\n",
            "\n",
            "Finished writing 16 geometries to nuts_2 mask.\n",
            "\n",
            "Calculating zonal stats for...\n",
            "\n",
            "['tasmin']\n",
            "\n",
            "Done...\n",
            "\n",
            "Starting to write to Zarr...\n",
            "\n",
            "GCS store is setup\n",
            "\n",
            "Writing to store...\n",
            "\n"
          ],
          "name": "stdout"
        },
        {
          "output_type": "stream",
          "text": [
            "/usr/local/lib/python3.6/dist-packages/dask/array/numpy_compat.py:40: RuntimeWarning: invalid value encountered in true_divide\n",
            "  x = np.divide(x1, x2, out)\n"
          ],
          "name": "stderr"
        },
        {
          "output_type": "stream",
          "text": [
            "Finished writing\n",
            "\n",
            "copernicus-climate/spain-zonal-stats.zarr is consoldiated? True\n",
            "\n",
            "tasmin written to zarr store\n",
            " -----------\n",
            "\n",
            "Processing level 2 variable heatwave_alerts\n",
            "Interpolating dataset\n",
            "Adding area raster\n",
            "Creating mask\n",
            "The mean ds cell area is 0.0009 deg.\n",
            "\n",
            "Clipped gdf to dataset bounds, giving 16 potential geometries, of which 16 are large enough.\n",
            "\n",
            "Geometries smaller than mean cell size:\n",
            "Empty GeoDataFrame\n",
            "Columns: [gid, geoname]\n",
            "Index: []\n",
            "\n",
            "\n",
            "Finished writing 16 geometries to nuts_2 mask.\n",
            "\n",
            "Calculating zonal stats for...\n",
            "\n",
            "['heatwave_alerts']\n",
            "\n",
            "Done...\n",
            "\n",
            "Starting to write to Zarr...\n",
            "\n",
            "GCS store is setup\n",
            "\n",
            "Writing to store...\n",
            "\n"
          ],
          "name": "stdout"
        },
        {
          "output_type": "stream",
          "text": [
            "/usr/local/lib/python3.6/dist-packages/dask/array/numpy_compat.py:40: RuntimeWarning: invalid value encountered in true_divide\n",
            "  x = np.divide(x1, x2, out)\n"
          ],
          "name": "stderr"
        },
        {
          "output_type": "stream",
          "text": [
            "Finished writing\n",
            "\n",
            "copernicus-climate/spain-zonal-stats.zarr is consoldiated? True\n",
            "\n",
            "heatwave_alerts written to zarr store\n",
            " -----------\n",
            "\n",
            "Processing level 2 variable heatwave_alarms\n",
            "Interpolating dataset\n",
            "Adding area raster\n",
            "Creating mask\n",
            "The mean ds cell area is 0.0009 deg.\n",
            "\n",
            "Clipped gdf to dataset bounds, giving 16 potential geometries, of which 16 are large enough.\n",
            "\n",
            "Geometries smaller than mean cell size:\n",
            "Empty GeoDataFrame\n",
            "Columns: [gid, geoname]\n",
            "Index: []\n",
            "\n",
            "\n",
            "Finished writing 16 geometries to nuts_2 mask.\n",
            "\n",
            "Calculating zonal stats for...\n",
            "\n",
            "['heatwave_alarms']\n",
            "\n",
            "Done...\n",
            "\n",
            "Starting to write to Zarr...\n",
            "\n",
            "GCS store is setup\n",
            "\n",
            "Writing to store...\n",
            "\n"
          ],
          "name": "stdout"
        },
        {
          "output_type": "stream",
          "text": [
            "/usr/local/lib/python3.6/dist-packages/dask/array/numpy_compat.py:40: RuntimeWarning: invalid value encountered in true_divide\n",
            "  x = np.divide(x1, x2, out)\n"
          ],
          "name": "stderr"
        },
        {
          "output_type": "stream",
          "text": [
            "Finished writing\n",
            "\n",
            "copernicus-climate/spain-zonal-stats.zarr is consoldiated? True\n",
            "\n",
            "heatwave_alarms written to zarr store\n",
            " -----------\n",
            "\n",
            "Processing level 2 variable heatwave_warnings\n",
            "Interpolating dataset\n",
            "Adding area raster\n",
            "Creating mask\n",
            "The mean ds cell area is 0.0009 deg.\n",
            "\n",
            "Clipped gdf to dataset bounds, giving 16 potential geometries, of which 16 are large enough.\n",
            "\n",
            "Geometries smaller than mean cell size:\n",
            "Empty GeoDataFrame\n",
            "Columns: [gid, geoname]\n",
            "Index: []\n",
            "\n",
            "\n",
            "Finished writing 16 geometries to nuts_2 mask.\n",
            "\n",
            "Calculating zonal stats for...\n",
            "\n",
            "['heatwave_warnings']\n",
            "\n",
            "Done...\n",
            "\n",
            "Starting to write to Zarr...\n",
            "\n",
            "GCS store is setup\n",
            "\n",
            "Writing to store...\n",
            "\n"
          ],
          "name": "stdout"
        },
        {
          "output_type": "stream",
          "text": [
            "/usr/local/lib/python3.6/dist-packages/dask/array/numpy_compat.py:40: RuntimeWarning: invalid value encountered in true_divide\n",
            "  x = np.divide(x1, x2, out)\n"
          ],
          "name": "stderr"
        },
        {
          "output_type": "stream",
          "text": [
            "Finished writing\n",
            "\n",
            "copernicus-climate/spain-zonal-stats.zarr is consoldiated? True\n",
            "\n",
            "heatwave_warnings written to zarr store\n",
            " -----------\n",
            "\n",
            "Processing level 2 variable coldsnap_alerts\n",
            "Interpolating dataset\n",
            "Adding area raster\n",
            "Creating mask\n",
            "The mean ds cell area is 0.0009 deg.\n",
            "\n",
            "Clipped gdf to dataset bounds, giving 16 potential geometries, of which 16 are large enough.\n",
            "\n",
            "Geometries smaller than mean cell size:\n",
            "Empty GeoDataFrame\n",
            "Columns: [gid, geoname]\n",
            "Index: []\n",
            "\n",
            "\n",
            "Finished writing 16 geometries to nuts_2 mask.\n",
            "\n",
            "Calculating zonal stats for...\n",
            "\n",
            "['coldsnap_alerts']\n",
            "\n",
            "Done...\n",
            "\n",
            "Starting to write to Zarr...\n",
            "\n",
            "GCS store is setup\n",
            "\n",
            "Writing to store...\n",
            "\n"
          ],
          "name": "stdout"
        },
        {
          "output_type": "stream",
          "text": [
            "/usr/local/lib/python3.6/dist-packages/dask/array/numpy_compat.py:40: RuntimeWarning: invalid value encountered in true_divide\n",
            "  x = np.divide(x1, x2, out)\n"
          ],
          "name": "stderr"
        },
        {
          "output_type": "stream",
          "text": [
            "Finished writing\n",
            "\n",
            "copernicus-climate/spain-zonal-stats.zarr is consoldiated? True\n",
            "\n",
            "coldsnap_alerts written to zarr store\n",
            " -----------\n",
            "\n",
            "Processing level 2 variable coldsnap_alarms\n",
            "Interpolating dataset\n",
            "Adding area raster\n",
            "Creating mask\n",
            "The mean ds cell area is 0.0009 deg.\n",
            "\n",
            "Clipped gdf to dataset bounds, giving 16 potential geometries, of which 16 are large enough.\n",
            "\n",
            "Geometries smaller than mean cell size:\n",
            "Empty GeoDataFrame\n",
            "Columns: [gid, geoname]\n",
            "Index: []\n",
            "\n",
            "\n",
            "Finished writing 16 geometries to nuts_2 mask.\n",
            "\n",
            "Calculating zonal stats for...\n",
            "\n",
            "['coldsnap_alarms']\n",
            "\n",
            "Done...\n",
            "\n",
            "Starting to write to Zarr...\n",
            "\n",
            "GCS store is setup\n",
            "\n",
            "Writing to store...\n",
            "\n"
          ],
          "name": "stdout"
        },
        {
          "output_type": "stream",
          "text": [
            "/usr/local/lib/python3.6/dist-packages/dask/array/numpy_compat.py:40: RuntimeWarning: invalid value encountered in true_divide\n",
            "  x = np.divide(x1, x2, out)\n"
          ],
          "name": "stderr"
        },
        {
          "output_type": "stream",
          "text": [
            "Finished writing\n",
            "\n",
            "copernicus-climate/spain-zonal-stats.zarr is consoldiated? True\n",
            "\n",
            "coldsnap_alarms written to zarr store\n",
            " -----------\n",
            "\n",
            "Processing level 2 variable coldsnap_warnings\n",
            "Interpolating dataset\n",
            "Adding area raster\n",
            "Creating mask\n",
            "The mean ds cell area is 0.0009 deg.\n",
            "\n",
            "Clipped gdf to dataset bounds, giving 16 potential geometries, of which 16 are large enough.\n",
            "\n",
            "Geometries smaller than mean cell size:\n",
            "Empty GeoDataFrame\n",
            "Columns: [gid, geoname]\n",
            "Index: []\n",
            "\n",
            "\n",
            "Finished writing 16 geometries to nuts_2 mask.\n",
            "\n",
            "Calculating zonal stats for...\n",
            "\n",
            "['coldsnap_warnings']\n",
            "\n",
            "Done...\n",
            "\n",
            "Starting to write to Zarr...\n",
            "\n",
            "GCS store is setup\n",
            "\n",
            "Writing to store...\n",
            "\n"
          ],
          "name": "stdout"
        },
        {
          "output_type": "stream",
          "text": [
            "/usr/local/lib/python3.6/dist-packages/dask/array/numpy_compat.py:40: RuntimeWarning: invalid value encountered in true_divide\n",
            "  x = np.divide(x1, x2, out)\n"
          ],
          "name": "stderr"
        },
        {
          "output_type": "stream",
          "text": [
            "Finished writing\n",
            "\n",
            "copernicus-climate/spain-zonal-stats.zarr is consoldiated? True\n",
            "\n",
            "coldsnap_warnings written to zarr store\n",
            " -----------\n",
            "\n",
            "Processing level 2 variable heatstress_extreme\n",
            "Interpolating dataset\n",
            "Adding area raster\n",
            "Creating mask\n",
            "The mean ds cell area is 0.0009 deg.\n",
            "\n",
            "Clipped gdf to dataset bounds, giving 16 potential geometries, of which 16 are large enough.\n",
            "\n",
            "Geometries smaller than mean cell size:\n",
            "Empty GeoDataFrame\n",
            "Columns: [gid, geoname]\n",
            "Index: []\n",
            "\n",
            "\n",
            "Finished writing 16 geometries to nuts_2 mask.\n",
            "\n",
            "Calculating zonal stats for...\n",
            "\n",
            "['heatstress_extreme']\n",
            "\n",
            "Done...\n",
            "\n",
            "Starting to write to Zarr...\n",
            "\n",
            "GCS store is setup\n",
            "\n",
            "Writing to store...\n",
            "\n"
          ],
          "name": "stdout"
        },
        {
          "output_type": "stream",
          "text": [
            "/usr/local/lib/python3.6/dist-packages/dask/array/numpy_compat.py:40: RuntimeWarning: invalid value encountered in true_divide\n",
            "  x = np.divide(x1, x2, out)\n"
          ],
          "name": "stderr"
        },
        {
          "output_type": "stream",
          "text": [
            "Finished writing\n",
            "\n",
            "copernicus-climate/spain-zonal-stats.zarr is consoldiated? True\n",
            "\n",
            "heatstress_extreme written to zarr store\n",
            " -----------\n",
            "\n",
            "Processing level 2 variable heatstress_strong\n",
            "Interpolating dataset\n",
            "Adding area raster\n",
            "Creating mask\n",
            "The mean ds cell area is 0.0009 deg.\n",
            "\n",
            "Clipped gdf to dataset bounds, giving 16 potential geometries, of which 16 are large enough.\n",
            "\n",
            "Geometries smaller than mean cell size:\n",
            "Empty GeoDataFrame\n",
            "Columns: [gid, geoname]\n",
            "Index: []\n",
            "\n",
            "\n",
            "Finished writing 16 geometries to nuts_2 mask.\n",
            "\n",
            "Calculating zonal stats for...\n",
            "\n",
            "['heatstress_strong']\n",
            "\n",
            "Done...\n",
            "\n",
            "Starting to write to Zarr...\n",
            "\n",
            "GCS store is setup\n",
            "\n",
            "Writing to store...\n",
            "\n"
          ],
          "name": "stdout"
        },
        {
          "output_type": "stream",
          "text": [
            "/usr/local/lib/python3.6/dist-packages/dask/array/numpy_compat.py:40: RuntimeWarning: invalid value encountered in true_divide\n",
            "  x = np.divide(x1, x2, out)\n"
          ],
          "name": "stderr"
        },
        {
          "output_type": "stream",
          "text": [
            "Finished writing\n",
            "\n",
            "copernicus-climate/spain-zonal-stats.zarr is consoldiated? True\n",
            "\n",
            "heatstress_strong written to zarr store\n",
            " -----------\n",
            "\n",
            "Processing level 2 variable heatstress_moderate\n",
            "Interpolating dataset\n",
            "Adding area raster\n",
            "Creating mask\n",
            "The mean ds cell area is 0.0009 deg.\n",
            "\n",
            "Clipped gdf to dataset bounds, giving 16 potential geometries, of which 16 are large enough.\n",
            "\n",
            "Geometries smaller than mean cell size:\n",
            "Empty GeoDataFrame\n",
            "Columns: [gid, geoname]\n",
            "Index: []\n",
            "\n",
            "\n",
            "Finished writing 16 geometries to nuts_2 mask.\n",
            "\n",
            "Calculating zonal stats for...\n",
            "\n",
            "['heatstress_moderate']\n",
            "\n",
            "Done...\n",
            "\n",
            "Starting to write to Zarr...\n",
            "\n",
            "GCS store is setup\n",
            "\n",
            "Writing to store...\n",
            "\n"
          ],
          "name": "stdout"
        },
        {
          "output_type": "stream",
          "text": [
            "/usr/local/lib/python3.6/dist-packages/dask/array/numpy_compat.py:40: RuntimeWarning: invalid value encountered in true_divide\n",
            "  x = np.divide(x1, x2, out)\n"
          ],
          "name": "stderr"
        },
        {
          "output_type": "stream",
          "text": [
            "Finished writing\n",
            "\n",
            "copernicus-climate/spain-zonal-stats.zarr is consoldiated? True\n",
            "\n",
            "heatstress_moderate written to zarr store\n",
            " -----------\n",
            "\n",
            "Processing level 2 variable coldstress_extreme\n",
            "Interpolating dataset\n",
            "Adding area raster\n",
            "Creating mask\n",
            "The mean ds cell area is 0.0009 deg.\n",
            "\n",
            "Clipped gdf to dataset bounds, giving 16 potential geometries, of which 16 are large enough.\n",
            "\n",
            "Geometries smaller than mean cell size:\n",
            "Empty GeoDataFrame\n",
            "Columns: [gid, geoname]\n",
            "Index: []\n",
            "\n",
            "\n",
            "Finished writing 16 geometries to nuts_2 mask.\n",
            "\n",
            "Calculating zonal stats for...\n",
            "\n",
            "['coldstress_extreme']\n",
            "\n",
            "Done...\n",
            "\n",
            "Starting to write to Zarr...\n",
            "\n",
            "GCS store is setup\n",
            "\n",
            "Writing to store...\n",
            "\n"
          ],
          "name": "stdout"
        },
        {
          "output_type": "stream",
          "text": [
            "/usr/local/lib/python3.6/dist-packages/dask/array/numpy_compat.py:40: RuntimeWarning: invalid value encountered in true_divide\n",
            "  x = np.divide(x1, x2, out)\n"
          ],
          "name": "stderr"
        },
        {
          "output_type": "stream",
          "text": [
            "Finished writing\n",
            "\n",
            "copernicus-climate/spain-zonal-stats.zarr is consoldiated? True\n",
            "\n",
            "coldstress_extreme written to zarr store\n",
            " -----------\n",
            "\n",
            "Processing level 2 variable coldstress_strong\n",
            "Interpolating dataset\n",
            "Adding area raster\n",
            "Creating mask\n",
            "The mean ds cell area is 0.0009 deg.\n",
            "\n",
            "Clipped gdf to dataset bounds, giving 16 potential geometries, of which 16 are large enough.\n",
            "\n",
            "Geometries smaller than mean cell size:\n",
            "Empty GeoDataFrame\n",
            "Columns: [gid, geoname]\n",
            "Index: []\n",
            "\n",
            "\n",
            "Finished writing 16 geometries to nuts_2 mask.\n",
            "\n",
            "Calculating zonal stats for...\n",
            "\n",
            "['coldstress_strong']\n",
            "\n",
            "Done...\n",
            "\n",
            "Starting to write to Zarr...\n",
            "\n",
            "GCS store is setup\n",
            "\n",
            "Writing to store...\n",
            "\n"
          ],
          "name": "stdout"
        },
        {
          "output_type": "stream",
          "text": [
            "/usr/local/lib/python3.6/dist-packages/dask/array/numpy_compat.py:40: RuntimeWarning: invalid value encountered in true_divide\n",
            "  x = np.divide(x1, x2, out)\n"
          ],
          "name": "stderr"
        },
        {
          "output_type": "stream",
          "text": [
            "Finished writing\n",
            "\n",
            "copernicus-climate/spain-zonal-stats.zarr is consoldiated? True\n",
            "\n",
            "coldstress_strong written to zarr store\n",
            " -----------\n",
            "\n",
            "Processing level 2 variable coldstress_moderate\n",
            "Interpolating dataset\n",
            "Adding area raster\n",
            "Creating mask\n",
            "The mean ds cell area is 0.0009 deg.\n",
            "\n",
            "Clipped gdf to dataset bounds, giving 16 potential geometries, of which 16 are large enough.\n",
            "\n",
            "Geometries smaller than mean cell size:\n",
            "Empty GeoDataFrame\n",
            "Columns: [gid, geoname]\n",
            "Index: []\n",
            "\n",
            "\n",
            "Finished writing 16 geometries to nuts_2 mask.\n",
            "\n",
            "Calculating zonal stats for...\n",
            "\n",
            "['coldstress_moderate']\n",
            "\n",
            "Done...\n",
            "\n",
            "Starting to write to Zarr...\n",
            "\n",
            "GCS store is setup\n",
            "\n",
            "Writing to store...\n",
            "\n"
          ],
          "name": "stdout"
        },
        {
          "output_type": "stream",
          "text": [
            "/usr/local/lib/python3.6/dist-packages/dask/array/numpy_compat.py:40: RuntimeWarning: invalid value encountered in true_divide\n",
            "  x = np.divide(x1, x2, out)\n"
          ],
          "name": "stderr"
        },
        {
          "output_type": "stream",
          "text": [
            "Finished writing\n",
            "\n",
            "copernicus-climate/spain-zonal-stats.zarr is consoldiated? True\n",
            "\n",
            "coldstress_moderate written to zarr store\n",
            " -----------\n",
            "\n",
            "Processing level 2 variable petmax\n",
            "Interpolating dataset\n",
            "Adding area raster\n",
            "Creating mask\n",
            "The mean ds cell area is 0.0009 deg.\n",
            "\n",
            "Clipped gdf to dataset bounds, giving 16 potential geometries, of which 16 are large enough.\n",
            "\n",
            "Geometries smaller than mean cell size:\n",
            "Empty GeoDataFrame\n",
            "Columns: [gid, geoname]\n",
            "Index: []\n",
            "\n",
            "\n",
            "Finished writing 16 geometries to nuts_2 mask.\n",
            "\n",
            "Calculating zonal stats for...\n",
            "\n",
            "['petmax']\n",
            "\n",
            "Done...\n",
            "\n",
            "Starting to write to Zarr...\n",
            "\n",
            "GCS store is setup\n",
            "\n",
            "Writing to store...\n",
            "\n"
          ],
          "name": "stdout"
        },
        {
          "output_type": "stream",
          "text": [
            "/usr/local/lib/python3.6/dist-packages/dask/array/numpy_compat.py:40: RuntimeWarning: invalid value encountered in true_divide\n",
            "  x = np.divide(x1, x2, out)\n"
          ],
          "name": "stderr"
        },
        {
          "output_type": "stream",
          "text": [
            "Finished writing\n",
            "\n",
            "copernicus-climate/spain-zonal-stats.zarr is consoldiated? True\n",
            "\n",
            "petmax written to zarr store\n",
            " -----------\n",
            "\n",
            "Processing level 2 variable petmin\n",
            "Interpolating dataset\n",
            "Adding area raster\n",
            "Creating mask\n",
            "The mean ds cell area is 0.0009 deg.\n",
            "\n",
            "Clipped gdf to dataset bounds, giving 16 potential geometries, of which 16 are large enough.\n",
            "\n",
            "Geometries smaller than mean cell size:\n",
            "Empty GeoDataFrame\n",
            "Columns: [gid, geoname]\n",
            "Index: []\n",
            "\n",
            "\n",
            "Finished writing 16 geometries to nuts_2 mask.\n",
            "\n",
            "Calculating zonal stats for...\n",
            "\n",
            "['petmin']\n",
            "\n",
            "Done...\n",
            "\n",
            "Starting to write to Zarr...\n",
            "\n",
            "GCS store is setup\n",
            "\n",
            "Writing to store...\n",
            "\n"
          ],
          "name": "stdout"
        },
        {
          "output_type": "stream",
          "text": [
            "/usr/local/lib/python3.6/dist-packages/dask/array/numpy_compat.py:40: RuntimeWarning: invalid value encountered in true_divide\n",
            "  x = np.divide(x1, x2, out)\n"
          ],
          "name": "stderr"
        },
        {
          "output_type": "stream",
          "text": [
            "Finished writing\n",
            "\n",
            "copernicus-climate/spain-zonal-stats.zarr is consoldiated? True\n",
            "\n",
            "petmin written to zarr store\n",
            " -----------\n",
            "\n",
            "Processing level 3 variable tasmax\n",
            "Interpolating dataset\n",
            "Adding area raster\n",
            "Creating mask\n",
            "The mean ds cell area is 0.0009 deg.\n",
            "\n",
            "Clipped gdf to dataset bounds, giving 50 potential geometries, of which 50 are large enough.\n",
            "\n",
            "Geometries smaller than mean cell size:\n",
            "Empty GeoDataFrame\n",
            "Columns: [gid, geoname]\n",
            "Index: []\n",
            "\n",
            "\n",
            "Finished writing 50 geometries to nuts_3 mask.\n",
            "\n",
            "Calculating zonal stats for...\n",
            "\n",
            "['tasmax']\n",
            "\n",
            "Done...\n",
            "\n",
            "Starting to write to Zarr...\n",
            "\n",
            "GCS store is setup\n",
            "\n",
            "Writing to store...\n",
            "\n"
          ],
          "name": "stdout"
        },
        {
          "output_type": "stream",
          "text": [
            "/usr/local/lib/python3.6/dist-packages/dask/array/numpy_compat.py:40: RuntimeWarning: invalid value encountered in true_divide\n",
            "  x = np.divide(x1, x2, out)\n",
            "/usr/local/lib/python3.6/dist-packages/dask/core.py:121: RuntimeWarning: invalid value encountered in true_divide\n",
            "  return func(*(_execute_task(a, cache) for a in args))\n"
          ],
          "name": "stderr"
        },
        {
          "output_type": "stream",
          "text": [
            "Finished writing\n",
            "\n",
            "copernicus-climate/spain-zonal-stats.zarr is consoldiated? True\n",
            "\n",
            "tasmax written to zarr store\n",
            " -----------\n",
            "\n",
            "Processing level 3 variable tasmin\n",
            "Interpolating dataset\n",
            "Adding area raster\n",
            "Creating mask\n",
            "The mean ds cell area is 0.0009 deg.\n",
            "\n",
            "Clipped gdf to dataset bounds, giving 50 potential geometries, of which 50 are large enough.\n",
            "\n",
            "Geometries smaller than mean cell size:\n",
            "Empty GeoDataFrame\n",
            "Columns: [gid, geoname]\n",
            "Index: []\n",
            "\n",
            "\n",
            "Finished writing 50 geometries to nuts_3 mask.\n",
            "\n",
            "Calculating zonal stats for...\n",
            "\n",
            "['tasmin']\n",
            "\n",
            "Done...\n",
            "\n",
            "Starting to write to Zarr...\n",
            "\n",
            "GCS store is setup\n",
            "\n",
            "Writing to store...\n",
            "\n"
          ],
          "name": "stdout"
        },
        {
          "output_type": "stream",
          "text": [
            "/usr/local/lib/python3.6/dist-packages/dask/array/numpy_compat.py:40: RuntimeWarning: invalid value encountered in true_divide\n",
            "  x = np.divide(x1, x2, out)\n",
            "/usr/local/lib/python3.6/dist-packages/dask/core.py:121: RuntimeWarning: invalid value encountered in true_divide\n",
            "  return func(*(_execute_task(a, cache) for a in args))\n"
          ],
          "name": "stderr"
        },
        {
          "output_type": "stream",
          "text": [
            "Finished writing\n",
            "\n",
            "copernicus-climate/spain-zonal-stats.zarr is consoldiated? True\n",
            "\n",
            "tasmin written to zarr store\n",
            " -----------\n",
            "\n",
            "Processing level 3 variable heatwave_alerts\n",
            "Interpolating dataset\n",
            "Adding area raster\n",
            "Creating mask\n",
            "The mean ds cell area is 0.0009 deg.\n",
            "\n",
            "Clipped gdf to dataset bounds, giving 50 potential geometries, of which 50 are large enough.\n",
            "\n",
            "Geometries smaller than mean cell size:\n",
            "Empty GeoDataFrame\n",
            "Columns: [gid, geoname]\n",
            "Index: []\n",
            "\n",
            "\n",
            "Finished writing 50 geometries to nuts_3 mask.\n",
            "\n",
            "Calculating zonal stats for...\n",
            "\n",
            "['heatwave_alerts']\n",
            "\n",
            "Done...\n",
            "\n",
            "Starting to write to Zarr...\n",
            "\n",
            "GCS store is setup\n",
            "\n",
            "Writing to store...\n",
            "\n"
          ],
          "name": "stdout"
        },
        {
          "output_type": "stream",
          "text": [
            "/usr/local/lib/python3.6/dist-packages/dask/array/numpy_compat.py:40: RuntimeWarning: invalid value encountered in true_divide\n",
            "  x = np.divide(x1, x2, out)\n",
            "/usr/local/lib/python3.6/dist-packages/dask/core.py:121: RuntimeWarning: invalid value encountered in true_divide\n",
            "  return func(*(_execute_task(a, cache) for a in args))\n"
          ],
          "name": "stderr"
        },
        {
          "output_type": "stream",
          "text": [
            "Finished writing\n",
            "\n",
            "copernicus-climate/spain-zonal-stats.zarr is consoldiated? True\n",
            "\n",
            "heatwave_alerts written to zarr store\n",
            " -----------\n",
            "\n",
            "Processing level 3 variable heatwave_alarms\n",
            "Interpolating dataset\n",
            "Adding area raster\n",
            "Creating mask\n",
            "The mean ds cell area is 0.0009 deg.\n",
            "\n",
            "Clipped gdf to dataset bounds, giving 50 potential geometries, of which 50 are large enough.\n",
            "\n",
            "Geometries smaller than mean cell size:\n",
            "Empty GeoDataFrame\n",
            "Columns: [gid, geoname]\n",
            "Index: []\n",
            "\n",
            "\n",
            "Finished writing 50 geometries to nuts_3 mask.\n",
            "\n",
            "Calculating zonal stats for...\n",
            "\n",
            "['heatwave_alarms']\n",
            "\n",
            "Done...\n",
            "\n",
            "Starting to write to Zarr...\n",
            "\n",
            "GCS store is setup\n",
            "\n",
            "Writing to store...\n",
            "\n"
          ],
          "name": "stdout"
        },
        {
          "output_type": "stream",
          "text": [
            "/usr/local/lib/python3.6/dist-packages/dask/array/numpy_compat.py:40: RuntimeWarning: invalid value encountered in true_divide\n",
            "  x = np.divide(x1, x2, out)\n",
            "/usr/local/lib/python3.6/dist-packages/dask/core.py:121: RuntimeWarning: invalid value encountered in true_divide\n",
            "  return func(*(_execute_task(a, cache) for a in args))\n"
          ],
          "name": "stderr"
        },
        {
          "output_type": "stream",
          "text": [
            "Finished writing\n",
            "\n",
            "copernicus-climate/spain-zonal-stats.zarr is consoldiated? True\n",
            "\n",
            "heatwave_alarms written to zarr store\n",
            " -----------\n",
            "\n",
            "Processing level 3 variable heatwave_warnings\n",
            "Interpolating dataset\n",
            "Adding area raster\n",
            "Creating mask\n",
            "The mean ds cell area is 0.0009 deg.\n",
            "\n",
            "Clipped gdf to dataset bounds, giving 50 potential geometries, of which 50 are large enough.\n",
            "\n",
            "Geometries smaller than mean cell size:\n",
            "Empty GeoDataFrame\n",
            "Columns: [gid, geoname]\n",
            "Index: []\n",
            "\n",
            "\n",
            "Finished writing 50 geometries to nuts_3 mask.\n",
            "\n",
            "Calculating zonal stats for...\n",
            "\n",
            "['heatwave_warnings']\n",
            "\n",
            "Done...\n",
            "\n",
            "Starting to write to Zarr...\n",
            "\n",
            "GCS store is setup\n",
            "\n",
            "Writing to store...\n",
            "\n"
          ],
          "name": "stdout"
        },
        {
          "output_type": "stream",
          "text": [
            "/usr/local/lib/python3.6/dist-packages/dask/array/numpy_compat.py:40: RuntimeWarning: invalid value encountered in true_divide\n",
            "  x = np.divide(x1, x2, out)\n",
            "/usr/local/lib/python3.6/dist-packages/dask/core.py:121: RuntimeWarning: invalid value encountered in true_divide\n",
            "  return func(*(_execute_task(a, cache) for a in args))\n"
          ],
          "name": "stderr"
        },
        {
          "output_type": "stream",
          "text": [
            "Finished writing\n",
            "\n",
            "copernicus-climate/spain-zonal-stats.zarr is consoldiated? True\n",
            "\n",
            "heatwave_warnings written to zarr store\n",
            " -----------\n",
            "\n",
            "Processing level 3 variable coldsnap_alerts\n",
            "Interpolating dataset\n",
            "Adding area raster\n",
            "Creating mask\n",
            "The mean ds cell area is 0.0009 deg.\n",
            "\n",
            "Clipped gdf to dataset bounds, giving 50 potential geometries, of which 50 are large enough.\n",
            "\n",
            "Geometries smaller than mean cell size:\n",
            "Empty GeoDataFrame\n",
            "Columns: [gid, geoname]\n",
            "Index: []\n",
            "\n",
            "\n",
            "Finished writing 50 geometries to nuts_3 mask.\n",
            "\n",
            "Calculating zonal stats for...\n",
            "\n",
            "['coldsnap_alerts']\n",
            "\n",
            "Done...\n",
            "\n",
            "Starting to write to Zarr...\n",
            "\n",
            "GCS store is setup\n",
            "\n",
            "Writing to store...\n",
            "\n"
          ],
          "name": "stdout"
        },
        {
          "output_type": "stream",
          "text": [
            "/usr/local/lib/python3.6/dist-packages/dask/array/numpy_compat.py:40: RuntimeWarning: invalid value encountered in true_divide\n",
            "  x = np.divide(x1, x2, out)\n",
            "/usr/local/lib/python3.6/dist-packages/dask/core.py:121: RuntimeWarning: invalid value encountered in true_divide\n",
            "  return func(*(_execute_task(a, cache) for a in args))\n"
          ],
          "name": "stderr"
        },
        {
          "output_type": "stream",
          "text": [
            "Finished writing\n",
            "\n",
            "copernicus-climate/spain-zonal-stats.zarr is consoldiated? True\n",
            "\n",
            "coldsnap_alerts written to zarr store\n",
            " -----------\n",
            "\n",
            "Processing level 3 variable coldsnap_alarms\n",
            "Interpolating dataset\n",
            "Adding area raster\n",
            "Creating mask\n",
            "The mean ds cell area is 0.0009 deg.\n",
            "\n",
            "Clipped gdf to dataset bounds, giving 50 potential geometries, of which 50 are large enough.\n",
            "\n",
            "Geometries smaller than mean cell size:\n",
            "Empty GeoDataFrame\n",
            "Columns: [gid, geoname]\n",
            "Index: []\n",
            "\n",
            "\n",
            "Finished writing 50 geometries to nuts_3 mask.\n",
            "\n",
            "Calculating zonal stats for...\n",
            "\n",
            "['coldsnap_alarms']\n",
            "\n",
            "Done...\n",
            "\n",
            "Starting to write to Zarr...\n",
            "\n",
            "GCS store is setup\n",
            "\n",
            "Writing to store...\n",
            "\n"
          ],
          "name": "stdout"
        },
        {
          "output_type": "stream",
          "text": [
            "/usr/local/lib/python3.6/dist-packages/dask/array/numpy_compat.py:40: RuntimeWarning: invalid value encountered in true_divide\n",
            "  x = np.divide(x1, x2, out)\n",
            "/usr/local/lib/python3.6/dist-packages/dask/core.py:121: RuntimeWarning: invalid value encountered in true_divide\n",
            "  return func(*(_execute_task(a, cache) for a in args))\n"
          ],
          "name": "stderr"
        },
        {
          "output_type": "stream",
          "text": [
            "Finished writing\n",
            "\n",
            "copernicus-climate/spain-zonal-stats.zarr is consoldiated? True\n",
            "\n",
            "coldsnap_alarms written to zarr store\n",
            " -----------\n",
            "\n",
            "Processing level 3 variable coldsnap_warnings\n",
            "Interpolating dataset\n",
            "Adding area raster\n",
            "Creating mask\n",
            "The mean ds cell area is 0.0009 deg.\n",
            "\n",
            "Clipped gdf to dataset bounds, giving 50 potential geometries, of which 50 are large enough.\n",
            "\n",
            "Geometries smaller than mean cell size:\n",
            "Empty GeoDataFrame\n",
            "Columns: [gid, geoname]\n",
            "Index: []\n",
            "\n",
            "\n",
            "Finished writing 50 geometries to nuts_3 mask.\n",
            "\n",
            "Calculating zonal stats for...\n",
            "\n",
            "['coldsnap_warnings']\n",
            "\n",
            "Done...\n",
            "\n",
            "Starting to write to Zarr...\n",
            "\n",
            "GCS store is setup\n",
            "\n",
            "Writing to store...\n",
            "\n"
          ],
          "name": "stdout"
        },
        {
          "output_type": "stream",
          "text": [
            "/usr/local/lib/python3.6/dist-packages/dask/array/numpy_compat.py:40: RuntimeWarning: invalid value encountered in true_divide\n",
            "  x = np.divide(x1, x2, out)\n",
            "/usr/local/lib/python3.6/dist-packages/dask/core.py:121: RuntimeWarning: invalid value encountered in true_divide\n",
            "  return func(*(_execute_task(a, cache) for a in args))\n"
          ],
          "name": "stderr"
        },
        {
          "output_type": "stream",
          "text": [
            "Finished writing\n",
            "\n",
            "copernicus-climate/spain-zonal-stats.zarr is consoldiated? True\n",
            "\n",
            "coldsnap_warnings written to zarr store\n",
            " -----------\n",
            "\n",
            "Processing level 3 variable heatstress_extreme\n",
            "Interpolating dataset\n",
            "Adding area raster\n",
            "Creating mask\n",
            "The mean ds cell area is 0.0009 deg.\n",
            "\n",
            "Clipped gdf to dataset bounds, giving 50 potential geometries, of which 50 are large enough.\n",
            "\n",
            "Geometries smaller than mean cell size:\n",
            "Empty GeoDataFrame\n",
            "Columns: [gid, geoname]\n",
            "Index: []\n",
            "\n",
            "\n",
            "Finished writing 50 geometries to nuts_3 mask.\n",
            "\n",
            "Calculating zonal stats for...\n",
            "\n",
            "['heatstress_extreme']\n",
            "\n",
            "Done...\n",
            "\n",
            "Starting to write to Zarr...\n",
            "\n",
            "GCS store is setup\n",
            "\n",
            "Writing to store...\n",
            "\n"
          ],
          "name": "stdout"
        },
        {
          "output_type": "stream",
          "text": [
            "/usr/local/lib/python3.6/dist-packages/dask/array/numpy_compat.py:40: RuntimeWarning: invalid value encountered in true_divide\n",
            "  x = np.divide(x1, x2, out)\n",
            "/usr/local/lib/python3.6/dist-packages/dask/core.py:121: RuntimeWarning: invalid value encountered in true_divide\n",
            "  return func(*(_execute_task(a, cache) for a in args))\n"
          ],
          "name": "stderr"
        },
        {
          "output_type": "stream",
          "text": [
            "Finished writing\n",
            "\n",
            "copernicus-climate/spain-zonal-stats.zarr is consoldiated? True\n",
            "\n",
            "heatstress_extreme written to zarr store\n",
            " -----------\n",
            "\n",
            "Processing level 3 variable heatstress_strong\n",
            "Interpolating dataset\n",
            "Adding area raster\n",
            "Creating mask\n",
            "The mean ds cell area is 0.0009 deg.\n",
            "\n",
            "Clipped gdf to dataset bounds, giving 50 potential geometries, of which 50 are large enough.\n",
            "\n",
            "Geometries smaller than mean cell size:\n",
            "Empty GeoDataFrame\n",
            "Columns: [gid, geoname]\n",
            "Index: []\n",
            "\n",
            "\n",
            "Finished writing 50 geometries to nuts_3 mask.\n",
            "\n",
            "Calculating zonal stats for...\n",
            "\n",
            "['heatstress_strong']\n",
            "\n",
            "Done...\n",
            "\n",
            "Starting to write to Zarr...\n",
            "\n",
            "GCS store is setup\n",
            "\n",
            "Writing to store...\n",
            "\n"
          ],
          "name": "stdout"
        },
        {
          "output_type": "stream",
          "text": [
            "/usr/local/lib/python3.6/dist-packages/dask/array/numpy_compat.py:40: RuntimeWarning: invalid value encountered in true_divide\n",
            "  x = np.divide(x1, x2, out)\n",
            "/usr/local/lib/python3.6/dist-packages/dask/core.py:121: RuntimeWarning: invalid value encountered in true_divide\n",
            "  return func(*(_execute_task(a, cache) for a in args))\n"
          ],
          "name": "stderr"
        },
        {
          "output_type": "stream",
          "text": [
            "Finished writing\n",
            "\n",
            "copernicus-climate/spain-zonal-stats.zarr is consoldiated? True\n",
            "\n",
            "heatstress_strong written to zarr store\n",
            " -----------\n",
            "\n",
            "Processing level 3 variable heatstress_moderate\n",
            "Interpolating dataset\n",
            "Adding area raster\n",
            "Creating mask\n",
            "The mean ds cell area is 0.0009 deg.\n",
            "\n",
            "Clipped gdf to dataset bounds, giving 50 potential geometries, of which 50 are large enough.\n",
            "\n",
            "Geometries smaller than mean cell size:\n",
            "Empty GeoDataFrame\n",
            "Columns: [gid, geoname]\n",
            "Index: []\n",
            "\n",
            "\n",
            "Finished writing 50 geometries to nuts_3 mask.\n",
            "\n",
            "Calculating zonal stats for...\n",
            "\n",
            "['heatstress_moderate']\n",
            "\n",
            "Done...\n",
            "\n",
            "Starting to write to Zarr...\n",
            "\n",
            "GCS store is setup\n",
            "\n",
            "Writing to store...\n",
            "\n"
          ],
          "name": "stdout"
        },
        {
          "output_type": "stream",
          "text": [
            "/usr/local/lib/python3.6/dist-packages/dask/array/numpy_compat.py:40: RuntimeWarning: invalid value encountered in true_divide\n",
            "  x = np.divide(x1, x2, out)\n",
            "/usr/local/lib/python3.6/dist-packages/dask/core.py:121: RuntimeWarning: invalid value encountered in true_divide\n",
            "  return func(*(_execute_task(a, cache) for a in args))\n"
          ],
          "name": "stderr"
        },
        {
          "output_type": "stream",
          "text": [
            "Finished writing\n",
            "\n",
            "copernicus-climate/spain-zonal-stats.zarr is consoldiated? True\n",
            "\n",
            "heatstress_moderate written to zarr store\n",
            " -----------\n",
            "\n",
            "Processing level 3 variable coldstress_extreme\n",
            "Interpolating dataset\n",
            "Adding area raster\n",
            "Creating mask\n",
            "The mean ds cell area is 0.0009 deg.\n",
            "\n",
            "Clipped gdf to dataset bounds, giving 50 potential geometries, of which 50 are large enough.\n",
            "\n",
            "Geometries smaller than mean cell size:\n",
            "Empty GeoDataFrame\n",
            "Columns: [gid, geoname]\n",
            "Index: []\n",
            "\n",
            "\n",
            "Finished writing 50 geometries to nuts_3 mask.\n",
            "\n",
            "Calculating zonal stats for...\n",
            "\n",
            "['coldstress_extreme']\n",
            "\n",
            "Done...\n",
            "\n",
            "Starting to write to Zarr...\n",
            "\n",
            "GCS store is setup\n",
            "\n",
            "Writing to store...\n",
            "\n"
          ],
          "name": "stdout"
        },
        {
          "output_type": "stream",
          "text": [
            "/usr/local/lib/python3.6/dist-packages/dask/array/numpy_compat.py:40: RuntimeWarning: invalid value encountered in true_divide\n",
            "  x = np.divide(x1, x2, out)\n",
            "/usr/local/lib/python3.6/dist-packages/dask/core.py:121: RuntimeWarning: invalid value encountered in true_divide\n",
            "  return func(*(_execute_task(a, cache) for a in args))\n"
          ],
          "name": "stderr"
        },
        {
          "output_type": "stream",
          "text": [
            "Finished writing\n",
            "\n",
            "copernicus-climate/spain-zonal-stats.zarr is consoldiated? True\n",
            "\n",
            "coldstress_extreme written to zarr store\n",
            " -----------\n",
            "\n",
            "Processing level 3 variable coldstress_strong\n",
            "Interpolating dataset\n",
            "Adding area raster\n",
            "Creating mask\n",
            "The mean ds cell area is 0.0009 deg.\n",
            "\n",
            "Clipped gdf to dataset bounds, giving 50 potential geometries, of which 50 are large enough.\n",
            "\n",
            "Geometries smaller than mean cell size:\n",
            "Empty GeoDataFrame\n",
            "Columns: [gid, geoname]\n",
            "Index: []\n",
            "\n",
            "\n",
            "Finished writing 50 geometries to nuts_3 mask.\n",
            "\n",
            "Calculating zonal stats for...\n",
            "\n",
            "['coldstress_strong']\n",
            "\n",
            "Done...\n",
            "\n",
            "Starting to write to Zarr...\n",
            "\n",
            "GCS store is setup\n",
            "\n",
            "Writing to store...\n",
            "\n"
          ],
          "name": "stdout"
        },
        {
          "output_type": "stream",
          "text": [
            "/usr/local/lib/python3.6/dist-packages/dask/array/numpy_compat.py:40: RuntimeWarning: invalid value encountered in true_divide\n",
            "  x = np.divide(x1, x2, out)\n",
            "/usr/local/lib/python3.6/dist-packages/dask/core.py:121: RuntimeWarning: invalid value encountered in true_divide\n",
            "  return func(*(_execute_task(a, cache) for a in args))\n"
          ],
          "name": "stderr"
        },
        {
          "output_type": "stream",
          "text": [
            "Finished writing\n",
            "\n",
            "copernicus-climate/spain-zonal-stats.zarr is consoldiated? True\n",
            "\n",
            "coldstress_strong written to zarr store\n",
            " -----------\n",
            "\n",
            "Processing level 3 variable coldstress_moderate\n",
            "Interpolating dataset\n",
            "Adding area raster\n",
            "Creating mask\n",
            "The mean ds cell area is 0.0009 deg.\n",
            "\n",
            "Clipped gdf to dataset bounds, giving 50 potential geometries, of which 50 are large enough.\n",
            "\n",
            "Geometries smaller than mean cell size:\n",
            "Empty GeoDataFrame\n",
            "Columns: [gid, geoname]\n",
            "Index: []\n",
            "\n",
            "\n",
            "Finished writing 50 geometries to nuts_3 mask.\n",
            "\n",
            "Calculating zonal stats for...\n",
            "\n",
            "['coldstress_moderate']\n",
            "\n",
            "Done...\n",
            "\n",
            "Starting to write to Zarr...\n",
            "\n",
            "GCS store is setup\n",
            "\n",
            "Writing to store...\n",
            "\n"
          ],
          "name": "stdout"
        },
        {
          "output_type": "stream",
          "text": [
            "/usr/local/lib/python3.6/dist-packages/dask/array/numpy_compat.py:40: RuntimeWarning: invalid value encountered in true_divide\n",
            "  x = np.divide(x1, x2, out)\n",
            "/usr/local/lib/python3.6/dist-packages/dask/core.py:121: RuntimeWarning: invalid value encountered in true_divide\n",
            "  return func(*(_execute_task(a, cache) for a in args))\n"
          ],
          "name": "stderr"
        },
        {
          "output_type": "stream",
          "text": [
            "Finished writing\n",
            "\n",
            "copernicus-climate/spain-zonal-stats.zarr is consoldiated? True\n",
            "\n",
            "coldstress_moderate written to zarr store\n",
            " -----------\n",
            "\n",
            "Processing level 3 variable petmax\n",
            "Interpolating dataset\n",
            "Adding area raster\n",
            "Creating mask\n",
            "The mean ds cell area is 0.0009 deg.\n",
            "\n",
            "Clipped gdf to dataset bounds, giving 50 potential geometries, of which 50 are large enough.\n",
            "\n",
            "Geometries smaller than mean cell size:\n",
            "Empty GeoDataFrame\n",
            "Columns: [gid, geoname]\n",
            "Index: []\n",
            "\n",
            "\n",
            "Finished writing 50 geometries to nuts_3 mask.\n",
            "\n",
            "Calculating zonal stats for...\n",
            "\n",
            "['petmax']\n",
            "\n",
            "Done...\n",
            "\n",
            "Starting to write to Zarr...\n",
            "\n",
            "GCS store is setup\n",
            "\n",
            "Writing to store...\n",
            "\n"
          ],
          "name": "stdout"
        },
        {
          "output_type": "stream",
          "text": [
            "/usr/local/lib/python3.6/dist-packages/dask/array/numpy_compat.py:40: RuntimeWarning: invalid value encountered in true_divide\n",
            "  x = np.divide(x1, x2, out)\n",
            "/usr/local/lib/python3.6/dist-packages/dask/core.py:121: RuntimeWarning: invalid value encountered in true_divide\n",
            "  return func(*(_execute_task(a, cache) for a in args))\n"
          ],
          "name": "stderr"
        },
        {
          "output_type": "stream",
          "text": [
            "Finished writing\n",
            "\n",
            "copernicus-climate/spain-zonal-stats.zarr is consoldiated? True\n",
            "\n",
            "petmax written to zarr store\n",
            " -----------\n",
            "\n",
            "Processing level 3 variable petmin\n",
            "Interpolating dataset\n",
            "Adding area raster\n",
            "Creating mask\n",
            "The mean ds cell area is 0.0009 deg.\n",
            "\n",
            "Clipped gdf to dataset bounds, giving 50 potential geometries, of which 50 are large enough.\n",
            "\n",
            "Geometries smaller than mean cell size:\n",
            "Empty GeoDataFrame\n",
            "Columns: [gid, geoname]\n",
            "Index: []\n",
            "\n",
            "\n",
            "Finished writing 50 geometries to nuts_3 mask.\n",
            "\n",
            "Calculating zonal stats for...\n",
            "\n",
            "['petmin']\n",
            "\n",
            "Done...\n",
            "\n",
            "Starting to write to Zarr...\n",
            "\n",
            "GCS store is setup\n",
            "\n",
            "Writing to store...\n",
            "\n"
          ],
          "name": "stdout"
        },
        {
          "output_type": "stream",
          "text": [
            "/usr/local/lib/python3.6/dist-packages/dask/array/numpy_compat.py:40: RuntimeWarning: invalid value encountered in true_divide\n",
            "  x = np.divide(x1, x2, out)\n",
            "/usr/local/lib/python3.6/dist-packages/dask/core.py:121: RuntimeWarning: invalid value encountered in true_divide\n",
            "  return func(*(_execute_task(a, cache) for a in args))\n"
          ],
          "name": "stderr"
        },
        {
          "output_type": "stream",
          "text": [
            "Finished writing\n",
            "\n",
            "copernicus-climate/spain-zonal-stats.zarr is consoldiated? True\n",
            "\n",
            "petmin written to zarr store\n",
            " -----------\n",
            "\n",
            "Processing level 4 variable tasmax\n",
            "Interpolating dataset\n",
            "Adding area raster\n",
            "Creating mask\n",
            "The mean ds cell area is 0.0001 deg.\n",
            "\n",
            "Clipped gdf to dataset bounds, giving 8031 potential geometries, of which 8013 are large enough.\n",
            "\n",
            "Geometries smaller than mean cell size:\n",
            "           gid                   geoname\n",
            "232   ES_03017      Alqueria D'Asnar, L'\n",
            "971   ES_08032           Caldes D'Estrac\n",
            "1112  ES_08174                Puigdàlber\n",
            "1152  ES_08215  Sant Hipòlit De Voltregà\n",
            "1947  ES_12067                     Geldo\n",
            "2575  ES_17046  Castellfollit De La Roca\n",
            "6988  ES_45138  Puente Del Arzobispo, El\n",
            "7109  ES_46054                Benetússer\n",
            "7116  ES_46061                   Beniflá\n",
            "7121  ES_46066                Benirredrà\n",
            "7129  ES_46074      Bonrepòs I Mirambell\n",
            "7151  ES_46096                     Cerdà\n",
            "7172  ES_46117                 Emperador\n",
            "7192  ES_46137  Granja De La Costera, La\n",
            "7207  ES_46152      Llocnou De La Corona\n",
            "7292  ES_46237         Tavernes Blanques\n",
            "7298  ES_46243                  Torrella\n",
            "8056  ES_50156                   Maleján\n",
            "\n",
            "\n",
            "Finished writing 8012 geometries to nuts_4 mask.\n",
            "\n",
            "Calculating zonal stats for...\n",
            "\n",
            "['tasmax']\n",
            "\n",
            "Done...\n",
            "\n",
            "Starting to write to Zarr...\n",
            "\n",
            "GCS store is setup\n",
            "\n",
            "Writing to store...\n",
            "\n"
          ],
          "name": "stdout"
        },
        {
          "output_type": "stream",
          "text": [
            "/usr/local/lib/python3.6/dist-packages/dask/array/numpy_compat.py:40: RuntimeWarning: invalid value encountered in true_divide\n",
            "  x = np.divide(x1, x2, out)\n",
            "/usr/local/lib/python3.6/dist-packages/dask/core.py:121: RuntimeWarning: invalid value encountered in true_divide\n",
            "  return func(*(_execute_task(a, cache) for a in args))\n"
          ],
          "name": "stderr"
        },
        {
          "output_type": "stream",
          "text": [
            "Finished writing\n",
            "\n",
            "copernicus-climate/spain-zonal-stats.zarr is consoldiated? True\n",
            "\n",
            "tasmax written to zarr store\n",
            " -----------\n",
            "\n",
            "Processing level 4 variable tasmin\n",
            "Interpolating dataset\n",
            "Adding area raster\n",
            "Creating mask\n",
            "The mean ds cell area is 0.0001 deg.\n",
            "\n",
            "Clipped gdf to dataset bounds, giving 8031 potential geometries, of which 8013 are large enough.\n",
            "\n",
            "Geometries smaller than mean cell size:\n",
            "           gid                   geoname\n",
            "232   ES_03017      Alqueria D'Asnar, L'\n",
            "971   ES_08032           Caldes D'Estrac\n",
            "1112  ES_08174                Puigdàlber\n",
            "1152  ES_08215  Sant Hipòlit De Voltregà\n",
            "1947  ES_12067                     Geldo\n",
            "2575  ES_17046  Castellfollit De La Roca\n",
            "6988  ES_45138  Puente Del Arzobispo, El\n",
            "7109  ES_46054                Benetússer\n",
            "7116  ES_46061                   Beniflá\n",
            "7121  ES_46066                Benirredrà\n",
            "7129  ES_46074      Bonrepòs I Mirambell\n",
            "7151  ES_46096                     Cerdà\n",
            "7172  ES_46117                 Emperador\n",
            "7192  ES_46137  Granja De La Costera, La\n",
            "7207  ES_46152      Llocnou De La Corona\n",
            "7292  ES_46237         Tavernes Blanques\n",
            "7298  ES_46243                  Torrella\n",
            "8056  ES_50156                   Maleján\n",
            "\n",
            "\n",
            "Finished writing 8012 geometries to nuts_4 mask.\n",
            "\n",
            "Calculating zonal stats for...\n",
            "\n",
            "['tasmin']\n",
            "\n",
            "Done...\n",
            "\n",
            "Starting to write to Zarr...\n",
            "\n",
            "GCS store is setup\n",
            "\n",
            "Writing to store...\n",
            "\n"
          ],
          "name": "stdout"
        },
        {
          "output_type": "stream",
          "text": [
            "/usr/local/lib/python3.6/dist-packages/dask/array/numpy_compat.py:40: RuntimeWarning: invalid value encountered in true_divide\n",
            "  x = np.divide(x1, x2, out)\n",
            "/usr/local/lib/python3.6/dist-packages/dask/core.py:121: RuntimeWarning: invalid value encountered in true_divide\n",
            "  return func(*(_execute_task(a, cache) for a in args))\n"
          ],
          "name": "stderr"
        },
        {
          "output_type": "stream",
          "text": [
            "Finished writing\n",
            "\n",
            "copernicus-climate/spain-zonal-stats.zarr is consoldiated? True\n",
            "\n",
            "tasmin written to zarr store\n",
            " -----------\n",
            "\n",
            "Processing level 4 variable heatwave_alerts\n",
            "Interpolating dataset\n",
            "Adding area raster\n",
            "Creating mask\n",
            "The mean ds cell area is 0.0001 deg.\n",
            "\n",
            "Clipped gdf to dataset bounds, giving 8031 potential geometries, of which 8013 are large enough.\n",
            "\n",
            "Geometries smaller than mean cell size:\n",
            "           gid                   geoname\n",
            "232   ES_03017      Alqueria D'Asnar, L'\n",
            "971   ES_08032           Caldes D'Estrac\n",
            "1112  ES_08174                Puigdàlber\n",
            "1152  ES_08215  Sant Hipòlit De Voltregà\n",
            "1947  ES_12067                     Geldo\n",
            "2575  ES_17046  Castellfollit De La Roca\n",
            "6988  ES_45138  Puente Del Arzobispo, El\n",
            "7109  ES_46054                Benetússer\n",
            "7116  ES_46061                   Beniflá\n",
            "7121  ES_46066                Benirredrà\n",
            "7129  ES_46074      Bonrepòs I Mirambell\n",
            "7151  ES_46096                     Cerdà\n",
            "7172  ES_46117                 Emperador\n",
            "7192  ES_46137  Granja De La Costera, La\n",
            "7207  ES_46152      Llocnou De La Corona\n",
            "7292  ES_46237         Tavernes Blanques\n",
            "7298  ES_46243                  Torrella\n",
            "8056  ES_50156                   Maleján\n",
            "\n",
            "\n",
            "Finished writing 8012 geometries to nuts_4 mask.\n",
            "\n",
            "Calculating zonal stats for...\n",
            "\n",
            "['heatwave_alerts']\n",
            "\n",
            "Done...\n",
            "\n",
            "Starting to write to Zarr...\n",
            "\n",
            "GCS store is setup\n",
            "\n",
            "Writing to store...\n",
            "\n"
          ],
          "name": "stdout"
        },
        {
          "output_type": "stream",
          "text": [
            "/usr/local/lib/python3.6/dist-packages/dask/array/numpy_compat.py:40: RuntimeWarning: invalid value encountered in true_divide\n",
            "  x = np.divide(x1, x2, out)\n",
            "/usr/local/lib/python3.6/dist-packages/dask/core.py:121: RuntimeWarning: invalid value encountered in true_divide\n",
            "  return func(*(_execute_task(a, cache) for a in args))\n"
          ],
          "name": "stderr"
        },
        {
          "output_type": "stream",
          "text": [
            "Finished writing\n",
            "\n",
            "copernicus-climate/spain-zonal-stats.zarr is consoldiated? True\n",
            "\n",
            "heatwave_alerts written to zarr store\n",
            " -----------\n",
            "\n",
            "Processing level 4 variable heatwave_alarms\n",
            "Interpolating dataset\n",
            "Adding area raster\n",
            "Creating mask\n",
            "The mean ds cell area is 0.0001 deg.\n",
            "\n",
            "Clipped gdf to dataset bounds, giving 8031 potential geometries, of which 8013 are large enough.\n",
            "\n",
            "Geometries smaller than mean cell size:\n",
            "           gid                   geoname\n",
            "232   ES_03017      Alqueria D'Asnar, L'\n",
            "971   ES_08032           Caldes D'Estrac\n",
            "1112  ES_08174                Puigdàlber\n",
            "1152  ES_08215  Sant Hipòlit De Voltregà\n",
            "1947  ES_12067                     Geldo\n",
            "2575  ES_17046  Castellfollit De La Roca\n",
            "6988  ES_45138  Puente Del Arzobispo, El\n",
            "7109  ES_46054                Benetússer\n",
            "7116  ES_46061                   Beniflá\n",
            "7121  ES_46066                Benirredrà\n",
            "7129  ES_46074      Bonrepòs I Mirambell\n",
            "7151  ES_46096                     Cerdà\n",
            "7172  ES_46117                 Emperador\n",
            "7192  ES_46137  Granja De La Costera, La\n",
            "7207  ES_46152      Llocnou De La Corona\n",
            "7292  ES_46237         Tavernes Blanques\n",
            "7298  ES_46243                  Torrella\n",
            "8056  ES_50156                   Maleján\n",
            "\n",
            "\n",
            "Finished writing 8012 geometries to nuts_4 mask.\n",
            "\n",
            "Calculating zonal stats for...\n",
            "\n",
            "['heatwave_alarms']\n",
            "\n",
            "Done...\n",
            "\n",
            "Starting to write to Zarr...\n",
            "\n",
            "GCS store is setup\n",
            "\n",
            "Writing to store...\n",
            "\n"
          ],
          "name": "stdout"
        },
        {
          "output_type": "stream",
          "text": [
            "/usr/local/lib/python3.6/dist-packages/dask/array/numpy_compat.py:40: RuntimeWarning: invalid value encountered in true_divide\n",
            "  x = np.divide(x1, x2, out)\n",
            "/usr/local/lib/python3.6/dist-packages/dask/core.py:121: RuntimeWarning: invalid value encountered in true_divide\n",
            "  return func(*(_execute_task(a, cache) for a in args))\n"
          ],
          "name": "stderr"
        },
        {
          "output_type": "stream",
          "text": [
            "Finished writing\n",
            "\n",
            "copernicus-climate/spain-zonal-stats.zarr is consoldiated? True\n",
            "\n",
            "heatwave_alarms written to zarr store\n",
            " -----------\n",
            "\n",
            "Processing level 4 variable heatwave_warnings\n",
            "Interpolating dataset\n",
            "Adding area raster\n",
            "Creating mask\n",
            "The mean ds cell area is 0.0001 deg.\n",
            "\n",
            "Clipped gdf to dataset bounds, giving 8031 potential geometries, of which 8013 are large enough.\n",
            "\n",
            "Geometries smaller than mean cell size:\n",
            "           gid                   geoname\n",
            "232   ES_03017      Alqueria D'Asnar, L'\n",
            "971   ES_08032           Caldes D'Estrac\n",
            "1112  ES_08174                Puigdàlber\n",
            "1152  ES_08215  Sant Hipòlit De Voltregà\n",
            "1947  ES_12067                     Geldo\n",
            "2575  ES_17046  Castellfollit De La Roca\n",
            "6988  ES_45138  Puente Del Arzobispo, El\n",
            "7109  ES_46054                Benetússer\n",
            "7116  ES_46061                   Beniflá\n",
            "7121  ES_46066                Benirredrà\n",
            "7129  ES_46074      Bonrepòs I Mirambell\n",
            "7151  ES_46096                     Cerdà\n",
            "7172  ES_46117                 Emperador\n",
            "7192  ES_46137  Granja De La Costera, La\n",
            "7207  ES_46152      Llocnou De La Corona\n",
            "7292  ES_46237         Tavernes Blanques\n",
            "7298  ES_46243                  Torrella\n",
            "8056  ES_50156                   Maleján\n",
            "\n",
            "\n",
            "Finished writing 8012 geometries to nuts_4 mask.\n",
            "\n",
            "Calculating zonal stats for...\n",
            "\n",
            "['heatwave_warnings']\n",
            "\n",
            "Done...\n",
            "\n",
            "Starting to write to Zarr...\n",
            "\n",
            "GCS store is setup\n",
            "\n",
            "Writing to store...\n",
            "\n"
          ],
          "name": "stdout"
        },
        {
          "output_type": "stream",
          "text": [
            "/usr/local/lib/python3.6/dist-packages/dask/array/numpy_compat.py:40: RuntimeWarning: invalid value encountered in true_divide\n",
            "  x = np.divide(x1, x2, out)\n",
            "/usr/local/lib/python3.6/dist-packages/dask/core.py:121: RuntimeWarning: invalid value encountered in true_divide\n",
            "  return func(*(_execute_task(a, cache) for a in args))\n"
          ],
          "name": "stderr"
        },
        {
          "output_type": "stream",
          "text": [
            "Finished writing\n",
            "\n",
            "copernicus-climate/spain-zonal-stats.zarr is consoldiated? True\n",
            "\n",
            "heatwave_warnings written to zarr store\n",
            " -----------\n",
            "\n",
            "Processing level 4 variable coldsnap_alerts\n",
            "Interpolating dataset\n",
            "Adding area raster\n",
            "Creating mask\n",
            "The mean ds cell area is 0.0001 deg.\n",
            "\n",
            "Clipped gdf to dataset bounds, giving 8031 potential geometries, of which 8013 are large enough.\n",
            "\n",
            "Geometries smaller than mean cell size:\n",
            "           gid                   geoname\n",
            "232   ES_03017      Alqueria D'Asnar, L'\n",
            "971   ES_08032           Caldes D'Estrac\n",
            "1112  ES_08174                Puigdàlber\n",
            "1152  ES_08215  Sant Hipòlit De Voltregà\n",
            "1947  ES_12067                     Geldo\n",
            "2575  ES_17046  Castellfollit De La Roca\n",
            "6988  ES_45138  Puente Del Arzobispo, El\n",
            "7109  ES_46054                Benetússer\n",
            "7116  ES_46061                   Beniflá\n",
            "7121  ES_46066                Benirredrà\n",
            "7129  ES_46074      Bonrepòs I Mirambell\n",
            "7151  ES_46096                     Cerdà\n",
            "7172  ES_46117                 Emperador\n",
            "7192  ES_46137  Granja De La Costera, La\n",
            "7207  ES_46152      Llocnou De La Corona\n",
            "7292  ES_46237         Tavernes Blanques\n",
            "7298  ES_46243                  Torrella\n",
            "8056  ES_50156                   Maleján\n",
            "\n",
            "\n",
            "Finished writing 8012 geometries to nuts_4 mask.\n",
            "\n",
            "Calculating zonal stats for...\n",
            "\n",
            "['coldsnap_alerts']\n",
            "\n",
            "Done...\n",
            "\n",
            "Starting to write to Zarr...\n",
            "\n",
            "GCS store is setup\n",
            "\n",
            "Writing to store...\n",
            "\n"
          ],
          "name": "stdout"
        },
        {
          "output_type": "stream",
          "text": [
            "/usr/local/lib/python3.6/dist-packages/dask/array/numpy_compat.py:40: RuntimeWarning: invalid value encountered in true_divide\n",
            "  x = np.divide(x1, x2, out)\n",
            "/usr/local/lib/python3.6/dist-packages/dask/core.py:121: RuntimeWarning: invalid value encountered in true_divide\n",
            "  return func(*(_execute_task(a, cache) for a in args))\n"
          ],
          "name": "stderr"
        },
        {
          "output_type": "stream",
          "text": [
            "Finished writing\n",
            "\n",
            "copernicus-climate/spain-zonal-stats.zarr is consoldiated? True\n",
            "\n",
            "coldsnap_alerts written to zarr store\n",
            " -----------\n",
            "\n",
            "Processing level 4 variable coldsnap_alarms\n",
            "Interpolating dataset\n",
            "Adding area raster\n",
            "Creating mask\n",
            "The mean ds cell area is 0.0001 deg.\n",
            "\n",
            "Clipped gdf to dataset bounds, giving 8031 potential geometries, of which 8013 are large enough.\n",
            "\n",
            "Geometries smaller than mean cell size:\n",
            "           gid                   geoname\n",
            "232   ES_03017      Alqueria D'Asnar, L'\n",
            "971   ES_08032           Caldes D'Estrac\n",
            "1112  ES_08174                Puigdàlber\n",
            "1152  ES_08215  Sant Hipòlit De Voltregà\n",
            "1947  ES_12067                     Geldo\n",
            "2575  ES_17046  Castellfollit De La Roca\n",
            "6988  ES_45138  Puente Del Arzobispo, El\n",
            "7109  ES_46054                Benetússer\n",
            "7116  ES_46061                   Beniflá\n",
            "7121  ES_46066                Benirredrà\n",
            "7129  ES_46074      Bonrepòs I Mirambell\n",
            "7151  ES_46096                     Cerdà\n",
            "7172  ES_46117                 Emperador\n",
            "7192  ES_46137  Granja De La Costera, La\n",
            "7207  ES_46152      Llocnou De La Corona\n",
            "7292  ES_46237         Tavernes Blanques\n",
            "7298  ES_46243                  Torrella\n",
            "8056  ES_50156                   Maleján\n",
            "\n",
            "\n",
            "Finished writing 8012 geometries to nuts_4 mask.\n",
            "\n",
            "Calculating zonal stats for...\n",
            "\n",
            "['coldsnap_alarms']\n",
            "\n",
            "Done...\n",
            "\n",
            "Starting to write to Zarr...\n",
            "\n",
            "GCS store is setup\n",
            "\n",
            "Writing to store...\n",
            "\n"
          ],
          "name": "stdout"
        },
        {
          "output_type": "stream",
          "text": [
            "/usr/local/lib/python3.6/dist-packages/dask/array/numpy_compat.py:40: RuntimeWarning: invalid value encountered in true_divide\n",
            "  x = np.divide(x1, x2, out)\n",
            "/usr/local/lib/python3.6/dist-packages/dask/core.py:121: RuntimeWarning: invalid value encountered in true_divide\n",
            "  return func(*(_execute_task(a, cache) for a in args))\n"
          ],
          "name": "stderr"
        },
        {
          "output_type": "stream",
          "text": [
            "Finished writing\n",
            "\n",
            "copernicus-climate/spain-zonal-stats.zarr is consoldiated? True\n",
            "\n",
            "coldsnap_alarms written to zarr store\n",
            " -----------\n",
            "\n",
            "Processing level 4 variable coldsnap_warnings\n",
            "Interpolating dataset\n",
            "Adding area raster\n",
            "Creating mask\n",
            "The mean ds cell area is 0.0001 deg.\n",
            "\n",
            "Clipped gdf to dataset bounds, giving 8031 potential geometries, of which 8013 are large enough.\n",
            "\n",
            "Geometries smaller than mean cell size:\n",
            "           gid                   geoname\n",
            "232   ES_03017      Alqueria D'Asnar, L'\n",
            "971   ES_08032           Caldes D'Estrac\n",
            "1112  ES_08174                Puigdàlber\n",
            "1152  ES_08215  Sant Hipòlit De Voltregà\n",
            "1947  ES_12067                     Geldo\n",
            "2575  ES_17046  Castellfollit De La Roca\n",
            "6988  ES_45138  Puente Del Arzobispo, El\n",
            "7109  ES_46054                Benetússer\n",
            "7116  ES_46061                   Beniflá\n",
            "7121  ES_46066                Benirredrà\n",
            "7129  ES_46074      Bonrepòs I Mirambell\n",
            "7151  ES_46096                     Cerdà\n",
            "7172  ES_46117                 Emperador\n",
            "7192  ES_46137  Granja De La Costera, La\n",
            "7207  ES_46152      Llocnou De La Corona\n",
            "7292  ES_46237         Tavernes Blanques\n",
            "7298  ES_46243                  Torrella\n",
            "8056  ES_50156                   Maleján\n",
            "\n",
            "\n",
            "Finished writing 8012 geometries to nuts_4 mask.\n",
            "\n",
            "Calculating zonal stats for...\n",
            "\n",
            "['coldsnap_warnings']\n",
            "\n",
            "Done...\n",
            "\n",
            "Starting to write to Zarr...\n",
            "\n",
            "GCS store is setup\n",
            "\n",
            "Writing to store...\n",
            "\n"
          ],
          "name": "stdout"
        },
        {
          "output_type": "stream",
          "text": [
            "/usr/local/lib/python3.6/dist-packages/dask/array/numpy_compat.py:40: RuntimeWarning: invalid value encountered in true_divide\n",
            "  x = np.divide(x1, x2, out)\n",
            "/usr/local/lib/python3.6/dist-packages/dask/core.py:121: RuntimeWarning: invalid value encountered in true_divide\n",
            "  return func(*(_execute_task(a, cache) for a in args))\n"
          ],
          "name": "stderr"
        },
        {
          "output_type": "stream",
          "text": [
            "Finished writing\n",
            "\n",
            "copernicus-climate/spain-zonal-stats.zarr is consoldiated? True\n",
            "\n",
            "coldsnap_warnings written to zarr store\n",
            " -----------\n",
            "\n",
            "Processing level 4 variable heatstress_extreme\n",
            "Interpolating dataset\n",
            "Adding area raster\n",
            "Creating mask\n",
            "The mean ds cell area is 0.0001 deg.\n",
            "\n",
            "Clipped gdf to dataset bounds, giving 8031 potential geometries, of which 8013 are large enough.\n",
            "\n",
            "Geometries smaller than mean cell size:\n",
            "           gid                   geoname\n",
            "232   ES_03017      Alqueria D'Asnar, L'\n",
            "971   ES_08032           Caldes D'Estrac\n",
            "1112  ES_08174                Puigdàlber\n",
            "1152  ES_08215  Sant Hipòlit De Voltregà\n",
            "1947  ES_12067                     Geldo\n",
            "2575  ES_17046  Castellfollit De La Roca\n",
            "6988  ES_45138  Puente Del Arzobispo, El\n",
            "7109  ES_46054                Benetússer\n",
            "7116  ES_46061                   Beniflá\n",
            "7121  ES_46066                Benirredrà\n",
            "7129  ES_46074      Bonrepòs I Mirambell\n",
            "7151  ES_46096                     Cerdà\n",
            "7172  ES_46117                 Emperador\n",
            "7192  ES_46137  Granja De La Costera, La\n",
            "7207  ES_46152      Llocnou De La Corona\n",
            "7292  ES_46237         Tavernes Blanques\n",
            "7298  ES_46243                  Torrella\n",
            "8056  ES_50156                   Maleján\n",
            "\n",
            "\n",
            "Finished writing 8012 geometries to nuts_4 mask.\n",
            "\n",
            "Calculating zonal stats for...\n",
            "\n",
            "['heatstress_extreme']\n",
            "\n",
            "Done...\n",
            "\n",
            "Starting to write to Zarr...\n",
            "\n",
            "GCS store is setup\n",
            "\n",
            "Writing to store...\n",
            "\n"
          ],
          "name": "stdout"
        },
        {
          "output_type": "stream",
          "text": [
            "/usr/local/lib/python3.6/dist-packages/dask/array/numpy_compat.py:40: RuntimeWarning: invalid value encountered in true_divide\n",
            "  x = np.divide(x1, x2, out)\n",
            "/usr/local/lib/python3.6/dist-packages/dask/core.py:121: RuntimeWarning: invalid value encountered in true_divide\n",
            "  return func(*(_execute_task(a, cache) for a in args))\n"
          ],
          "name": "stderr"
        },
        {
          "output_type": "stream",
          "text": [
            "Finished writing\n",
            "\n",
            "copernicus-climate/spain-zonal-stats.zarr is consoldiated? True\n",
            "\n",
            "heatstress_extreme written to zarr store\n",
            " -----------\n",
            "\n",
            "Processing level 4 variable heatstress_strong\n",
            "Interpolating dataset\n",
            "Adding area raster\n",
            "Creating mask\n",
            "The mean ds cell area is 0.0001 deg.\n",
            "\n",
            "Clipped gdf to dataset bounds, giving 8031 potential geometries, of which 8013 are large enough.\n",
            "\n",
            "Geometries smaller than mean cell size:\n",
            "           gid                   geoname\n",
            "232   ES_03017      Alqueria D'Asnar, L'\n",
            "971   ES_08032           Caldes D'Estrac\n",
            "1112  ES_08174                Puigdàlber\n",
            "1152  ES_08215  Sant Hipòlit De Voltregà\n",
            "1947  ES_12067                     Geldo\n",
            "2575  ES_17046  Castellfollit De La Roca\n",
            "6988  ES_45138  Puente Del Arzobispo, El\n",
            "7109  ES_46054                Benetússer\n",
            "7116  ES_46061                   Beniflá\n",
            "7121  ES_46066                Benirredrà\n",
            "7129  ES_46074      Bonrepòs I Mirambell\n",
            "7151  ES_46096                     Cerdà\n",
            "7172  ES_46117                 Emperador\n",
            "7192  ES_46137  Granja De La Costera, La\n",
            "7207  ES_46152      Llocnou De La Corona\n",
            "7292  ES_46237         Tavernes Blanques\n",
            "7298  ES_46243                  Torrella\n",
            "8056  ES_50156                   Maleján\n",
            "\n",
            "\n",
            "Finished writing 8012 geometries to nuts_4 mask.\n",
            "\n",
            "Calculating zonal stats for...\n",
            "\n",
            "['heatstress_strong']\n",
            "\n",
            "Done...\n",
            "\n",
            "Starting to write to Zarr...\n",
            "\n",
            "GCS store is setup\n",
            "\n",
            "Writing to store...\n",
            "\n"
          ],
          "name": "stdout"
        },
        {
          "output_type": "stream",
          "text": [
            "/usr/local/lib/python3.6/dist-packages/dask/array/numpy_compat.py:40: RuntimeWarning: invalid value encountered in true_divide\n",
            "  x = np.divide(x1, x2, out)\n",
            "/usr/local/lib/python3.6/dist-packages/dask/core.py:121: RuntimeWarning: invalid value encountered in true_divide\n",
            "  return func(*(_execute_task(a, cache) for a in args))\n"
          ],
          "name": "stderr"
        },
        {
          "output_type": "stream",
          "text": [
            "Finished writing\n",
            "\n",
            "copernicus-climate/spain-zonal-stats.zarr is consoldiated? True\n",
            "\n",
            "heatstress_strong written to zarr store\n",
            " -----------\n",
            "\n",
            "Processing level 4 variable heatstress_moderate\n",
            "Interpolating dataset\n",
            "Adding area raster\n",
            "Creating mask\n",
            "The mean ds cell area is 0.0001 deg.\n",
            "\n",
            "Clipped gdf to dataset bounds, giving 8031 potential geometries, of which 8013 are large enough.\n",
            "\n",
            "Geometries smaller than mean cell size:\n",
            "           gid                   geoname\n",
            "232   ES_03017      Alqueria D'Asnar, L'\n",
            "971   ES_08032           Caldes D'Estrac\n",
            "1112  ES_08174                Puigdàlber\n",
            "1152  ES_08215  Sant Hipòlit De Voltregà\n",
            "1947  ES_12067                     Geldo\n",
            "2575  ES_17046  Castellfollit De La Roca\n",
            "6988  ES_45138  Puente Del Arzobispo, El\n",
            "7109  ES_46054                Benetússer\n",
            "7116  ES_46061                   Beniflá\n",
            "7121  ES_46066                Benirredrà\n",
            "7129  ES_46074      Bonrepòs I Mirambell\n",
            "7151  ES_46096                     Cerdà\n",
            "7172  ES_46117                 Emperador\n",
            "7192  ES_46137  Granja De La Costera, La\n",
            "7207  ES_46152      Llocnou De La Corona\n",
            "7292  ES_46237         Tavernes Blanques\n",
            "7298  ES_46243                  Torrella\n",
            "8056  ES_50156                   Maleján\n",
            "\n",
            "\n",
            "Finished writing 8012 geometries to nuts_4 mask.\n",
            "\n",
            "Calculating zonal stats for...\n",
            "\n",
            "['heatstress_moderate']\n",
            "\n",
            "Done...\n",
            "\n",
            "Starting to write to Zarr...\n",
            "\n",
            "GCS store is setup\n",
            "\n",
            "Writing to store...\n",
            "\n"
          ],
          "name": "stdout"
        },
        {
          "output_type": "stream",
          "text": [
            "/usr/local/lib/python3.6/dist-packages/dask/array/numpy_compat.py:40: RuntimeWarning: invalid value encountered in true_divide\n",
            "  x = np.divide(x1, x2, out)\n",
            "/usr/local/lib/python3.6/dist-packages/dask/core.py:121: RuntimeWarning: invalid value encountered in true_divide\n",
            "  return func(*(_execute_task(a, cache) for a in args))\n"
          ],
          "name": "stderr"
        },
        {
          "output_type": "stream",
          "text": [
            "Finished writing\n",
            "\n",
            "copernicus-climate/spain-zonal-stats.zarr is consoldiated? True\n",
            "\n",
            "heatstress_moderate written to zarr store\n",
            " -----------\n",
            "\n",
            "Processing level 4 variable coldstress_extreme\n",
            "Interpolating dataset\n",
            "Adding area raster\n",
            "Creating mask\n",
            "The mean ds cell area is 0.0001 deg.\n",
            "\n",
            "Clipped gdf to dataset bounds, giving 8031 potential geometries, of which 8013 are large enough.\n",
            "\n",
            "Geometries smaller than mean cell size:\n",
            "           gid                   geoname\n",
            "232   ES_03017      Alqueria D'Asnar, L'\n",
            "971   ES_08032           Caldes D'Estrac\n",
            "1112  ES_08174                Puigdàlber\n",
            "1152  ES_08215  Sant Hipòlit De Voltregà\n",
            "1947  ES_12067                     Geldo\n",
            "2575  ES_17046  Castellfollit De La Roca\n",
            "6988  ES_45138  Puente Del Arzobispo, El\n",
            "7109  ES_46054                Benetússer\n",
            "7116  ES_46061                   Beniflá\n",
            "7121  ES_46066                Benirredrà\n",
            "7129  ES_46074      Bonrepòs I Mirambell\n",
            "7151  ES_46096                     Cerdà\n",
            "7172  ES_46117                 Emperador\n",
            "7192  ES_46137  Granja De La Costera, La\n",
            "7207  ES_46152      Llocnou De La Corona\n",
            "7292  ES_46237         Tavernes Blanques\n",
            "7298  ES_46243                  Torrella\n",
            "8056  ES_50156                   Maleján\n",
            "\n",
            "\n",
            "Finished writing 8012 geometries to nuts_4 mask.\n",
            "\n",
            "Calculating zonal stats for...\n",
            "\n",
            "['coldstress_extreme']\n",
            "\n",
            "Done...\n",
            "\n",
            "Starting to write to Zarr...\n",
            "\n",
            "GCS store is setup\n",
            "\n",
            "Writing to store...\n",
            "\n"
          ],
          "name": "stdout"
        },
        {
          "output_type": "stream",
          "text": [
            "/usr/local/lib/python3.6/dist-packages/dask/array/numpy_compat.py:40: RuntimeWarning: invalid value encountered in true_divide\n",
            "  x = np.divide(x1, x2, out)\n",
            "/usr/local/lib/python3.6/dist-packages/dask/core.py:121: RuntimeWarning: invalid value encountered in true_divide\n",
            "  return func(*(_execute_task(a, cache) for a in args))\n"
          ],
          "name": "stderr"
        },
        {
          "output_type": "stream",
          "text": [
            "Finished writing\n",
            "\n",
            "copernicus-climate/spain-zonal-stats.zarr is consoldiated? True\n",
            "\n",
            "coldstress_extreme written to zarr store\n",
            " -----------\n",
            "\n",
            "Processing level 4 variable coldstress_strong\n",
            "Interpolating dataset\n",
            "Adding area raster\n",
            "Creating mask\n",
            "The mean ds cell area is 0.0001 deg.\n",
            "\n",
            "Clipped gdf to dataset bounds, giving 8031 potential geometries, of which 8013 are large enough.\n",
            "\n",
            "Geometries smaller than mean cell size:\n",
            "           gid                   geoname\n",
            "232   ES_03017      Alqueria D'Asnar, L'\n",
            "971   ES_08032           Caldes D'Estrac\n",
            "1112  ES_08174                Puigdàlber\n",
            "1152  ES_08215  Sant Hipòlit De Voltregà\n",
            "1947  ES_12067                     Geldo\n",
            "2575  ES_17046  Castellfollit De La Roca\n",
            "6988  ES_45138  Puente Del Arzobispo, El\n",
            "7109  ES_46054                Benetússer\n",
            "7116  ES_46061                   Beniflá\n",
            "7121  ES_46066                Benirredrà\n",
            "7129  ES_46074      Bonrepòs I Mirambell\n",
            "7151  ES_46096                     Cerdà\n",
            "7172  ES_46117                 Emperador\n",
            "7192  ES_46137  Granja De La Costera, La\n",
            "7207  ES_46152      Llocnou De La Corona\n",
            "7292  ES_46237         Tavernes Blanques\n",
            "7298  ES_46243                  Torrella\n",
            "8056  ES_50156                   Maleján\n",
            "\n",
            "\n",
            "Finished writing 8012 geometries to nuts_4 mask.\n",
            "\n",
            "Calculating zonal stats for...\n",
            "\n",
            "['coldstress_strong']\n",
            "\n",
            "Done...\n",
            "\n",
            "Starting to write to Zarr...\n",
            "\n",
            "GCS store is setup\n",
            "\n",
            "Writing to store...\n",
            "\n"
          ],
          "name": "stdout"
        },
        {
          "output_type": "stream",
          "text": [
            "/usr/local/lib/python3.6/dist-packages/dask/array/numpy_compat.py:40: RuntimeWarning: invalid value encountered in true_divide\n",
            "  x = np.divide(x1, x2, out)\n",
            "/usr/local/lib/python3.6/dist-packages/dask/core.py:121: RuntimeWarning: invalid value encountered in true_divide\n",
            "  return func(*(_execute_task(a, cache) for a in args))\n"
          ],
          "name": "stderr"
        },
        {
          "output_type": "stream",
          "text": [
            "Finished writing\n",
            "\n",
            "copernicus-climate/spain-zonal-stats.zarr is consoldiated? True\n",
            "\n",
            "coldstress_strong written to zarr store\n",
            " -----------\n",
            "\n",
            "Processing level 4 variable coldstress_moderate\n",
            "Interpolating dataset\n",
            "Adding area raster\n",
            "Creating mask\n",
            "The mean ds cell area is 0.0001 deg.\n",
            "\n",
            "Clipped gdf to dataset bounds, giving 8031 potential geometries, of which 8013 are large enough.\n",
            "\n",
            "Geometries smaller than mean cell size:\n",
            "           gid                   geoname\n",
            "232   ES_03017      Alqueria D'Asnar, L'\n",
            "971   ES_08032           Caldes D'Estrac\n",
            "1112  ES_08174                Puigdàlber\n",
            "1152  ES_08215  Sant Hipòlit De Voltregà\n",
            "1947  ES_12067                     Geldo\n",
            "2575  ES_17046  Castellfollit De La Roca\n",
            "6988  ES_45138  Puente Del Arzobispo, El\n",
            "7109  ES_46054                Benetússer\n",
            "7116  ES_46061                   Beniflá\n",
            "7121  ES_46066                Benirredrà\n",
            "7129  ES_46074      Bonrepòs I Mirambell\n",
            "7151  ES_46096                     Cerdà\n",
            "7172  ES_46117                 Emperador\n",
            "7192  ES_46137  Granja De La Costera, La\n",
            "7207  ES_46152      Llocnou De La Corona\n",
            "7292  ES_46237         Tavernes Blanques\n",
            "7298  ES_46243                  Torrella\n",
            "8056  ES_50156                   Maleján\n",
            "\n",
            "\n",
            "Finished writing 8012 geometries to nuts_4 mask.\n",
            "\n",
            "Calculating zonal stats for...\n",
            "\n",
            "['coldstress_moderate']\n",
            "\n",
            "Done...\n",
            "\n",
            "Starting to write to Zarr...\n",
            "\n",
            "GCS store is setup\n",
            "\n",
            "Writing to store...\n",
            "\n"
          ],
          "name": "stdout"
        },
        {
          "output_type": "stream",
          "text": [
            "/usr/local/lib/python3.6/dist-packages/dask/array/numpy_compat.py:40: RuntimeWarning: invalid value encountered in true_divide\n",
            "  x = np.divide(x1, x2, out)\n",
            "/usr/local/lib/python3.6/dist-packages/dask/core.py:121: RuntimeWarning: invalid value encountered in true_divide\n",
            "  return func(*(_execute_task(a, cache) for a in args))\n"
          ],
          "name": "stderr"
        },
        {
          "output_type": "stream",
          "text": [
            "Finished writing\n",
            "\n",
            "copernicus-climate/spain-zonal-stats.zarr is consoldiated? True\n",
            "\n",
            "coldstress_moderate written to zarr store\n",
            " -----------\n",
            "\n",
            "Processing level 4 variable petmax\n",
            "Interpolating dataset\n",
            "Adding area raster\n",
            "Creating mask\n",
            "The mean ds cell area is 0.0001 deg.\n",
            "\n",
            "Clipped gdf to dataset bounds, giving 8031 potential geometries, of which 8013 are large enough.\n",
            "\n",
            "Geometries smaller than mean cell size:\n",
            "           gid                   geoname\n",
            "232   ES_03017      Alqueria D'Asnar, L'\n",
            "971   ES_08032           Caldes D'Estrac\n",
            "1112  ES_08174                Puigdàlber\n",
            "1152  ES_08215  Sant Hipòlit De Voltregà\n",
            "1947  ES_12067                     Geldo\n",
            "2575  ES_17046  Castellfollit De La Roca\n",
            "6988  ES_45138  Puente Del Arzobispo, El\n",
            "7109  ES_46054                Benetússer\n",
            "7116  ES_46061                   Beniflá\n",
            "7121  ES_46066                Benirredrà\n",
            "7129  ES_46074      Bonrepòs I Mirambell\n",
            "7151  ES_46096                     Cerdà\n",
            "7172  ES_46117                 Emperador\n",
            "7192  ES_46137  Granja De La Costera, La\n",
            "7207  ES_46152      Llocnou De La Corona\n",
            "7292  ES_46237         Tavernes Blanques\n",
            "7298  ES_46243                  Torrella\n",
            "8056  ES_50156                   Maleján\n",
            "\n",
            "\n",
            "Finished writing 8012 geometries to nuts_4 mask.\n",
            "\n",
            "Calculating zonal stats for...\n",
            "\n",
            "['petmax']\n",
            "\n",
            "Done...\n",
            "\n",
            "Starting to write to Zarr...\n",
            "\n",
            "GCS store is setup\n",
            "\n",
            "Writing to store...\n",
            "\n"
          ],
          "name": "stdout"
        },
        {
          "output_type": "stream",
          "text": [
            "/usr/local/lib/python3.6/dist-packages/dask/array/numpy_compat.py:40: RuntimeWarning: invalid value encountered in true_divide\n",
            "  x = np.divide(x1, x2, out)\n",
            "/usr/local/lib/python3.6/dist-packages/dask/core.py:121: RuntimeWarning: invalid value encountered in true_divide\n",
            "  return func(*(_execute_task(a, cache) for a in args))\n"
          ],
          "name": "stderr"
        },
        {
          "output_type": "stream",
          "text": [
            "Finished writing\n",
            "\n",
            "copernicus-climate/spain-zonal-stats.zarr is consoldiated? True\n",
            "\n",
            "petmax written to zarr store\n",
            " -----------\n",
            "\n",
            "Processing level 4 variable petmin\n",
            "Interpolating dataset\n",
            "Adding area raster\n",
            "Creating mask\n",
            "The mean ds cell area is 0.0001 deg.\n",
            "\n",
            "Clipped gdf to dataset bounds, giving 8031 potential geometries, of which 8013 are large enough.\n",
            "\n",
            "Geometries smaller than mean cell size:\n",
            "           gid                   geoname\n",
            "232   ES_03017      Alqueria D'Asnar, L'\n",
            "971   ES_08032           Caldes D'Estrac\n",
            "1112  ES_08174                Puigdàlber\n",
            "1152  ES_08215  Sant Hipòlit De Voltregà\n",
            "1947  ES_12067                     Geldo\n",
            "2575  ES_17046  Castellfollit De La Roca\n",
            "6988  ES_45138  Puente Del Arzobispo, El\n",
            "7109  ES_46054                Benetússer\n",
            "7116  ES_46061                   Beniflá\n",
            "7121  ES_46066                Benirredrà\n",
            "7129  ES_46074      Bonrepòs I Mirambell\n",
            "7151  ES_46096                     Cerdà\n",
            "7172  ES_46117                 Emperador\n",
            "7192  ES_46137  Granja De La Costera, La\n",
            "7207  ES_46152      Llocnou De La Corona\n",
            "7292  ES_46237         Tavernes Blanques\n",
            "7298  ES_46243                  Torrella\n",
            "8056  ES_50156                   Maleján\n",
            "\n",
            "\n",
            "Finished writing 8012 geometries to nuts_4 mask.\n",
            "\n",
            "Calculating zonal stats for...\n",
            "\n",
            "['petmin']\n",
            "\n",
            "Done...\n",
            "\n",
            "Starting to write to Zarr...\n",
            "\n",
            "GCS store is setup\n",
            "\n",
            "Writing to store...\n",
            "\n"
          ],
          "name": "stdout"
        },
        {
          "output_type": "stream",
          "text": [
            "/usr/local/lib/python3.6/dist-packages/dask/array/numpy_compat.py:40: RuntimeWarning: invalid value encountered in true_divide\n",
            "  x = np.divide(x1, x2, out)\n",
            "/usr/local/lib/python3.6/dist-packages/dask/core.py:121: RuntimeWarning: invalid value encountered in true_divide\n",
            "  return func(*(_execute_task(a, cache) for a in args))\n"
          ],
          "name": "stderr"
        },
        {
          "output_type": "stream",
          "text": [
            "Finished writing\n",
            "\n",
            "copernicus-climate/spain-zonal-stats.zarr is consoldiated? True\n",
            "\n",
            "petmin written to zarr store\n",
            " -----------\n",
            "\n",
            "CPU times: user 1h 22min 46s, sys: 10min 17s, total: 1h 33min 3s\n",
            "Wall time: 2h 1min 25s\n"
          ],
          "name": "stdout"
        }
      ]
    },
    {
      "cell_type": "code",
      "metadata": {
        "id": "Qjdj52U-i_av",
        "colab_type": "code",
        "outputId": "5943ffd3-1b2d-45c8-e99e-2c06427f5ca6",
        "colab": {
          "base_uri": "https://localhost:8080/",
          "height": 104
        }
      },
      "source": [
        "%%time\n",
        "# Remove before or append fails\n",
        "rmv_remote_zarr(group = \"future-seasonal-monthly-zs-nuts-level-2\", root = \"copernicus-climate/spain-zonal-stats.zarr\", show_tree=False)\n",
        "rmv_remote_zarr(group = \"future-seasonal-monthly-zs-nuts-level-3\", root = \"copernicus-climate/spain-zonal-stats.zarr\", show_tree=False)\n",
        "rmv_remote_zarr(group = \"future-seasonal-monthly-zs-nuts-level-4\", root = \"copernicus-climate/spain-zonal-stats.zarr\", show_tree=False)"
      ],
      "execution_count": 49,
      "outputs": [
        {
          "output_type": "stream",
          "text": [
            "Removing copernicus-climate/spain-zonal-stats.zarr/future-seasonal-monthly-zs-nuts-level-2\n",
            "Removing copernicus-climate/spain-zonal-stats.zarr/future-seasonal-monthly-zs-nuts-level-3\n",
            "Removing copernicus-climate/spain-zonal-stats.zarr/future-seasonal-monthly-zs-nuts-level-4\n",
            "CPU times: user 5.58 s, sys: 341 ms, total: 5.92 s\n",
            "Wall time: 11min 5s\n"
          ],
          "name": "stdout"
        }
      ]
    },
    {
      "cell_type": "code",
      "metadata": {
        "id": "wtbdpF4mtIpc",
        "colab_type": "code",
        "outputId": "49cc6429-085f-448c-a7e0-0f3f45890a4f",
        "colab": {
          "base_uri": "https://localhost:8080/",
          "height": 1000
        }
      },
      "source": [
        "%%time\n",
        "# Seasonal zonal stats\n",
        "# Combine all the zonal stats summaries\n",
        "levels = [2, 3, 4]\n",
        "dvars = ['tasmax','tasmin','heatwave_alerts','heatwave_alarms','heatwave_warnings','coldsnap_alerts','coldsnap_alarms','coldsnap_warnings']\n",
        "\n",
        "for l in levels:\n",
        "  for var in dvars:\n",
        "    print(f\"Processing level {l} variable {var}\")\n",
        "    ds_ss = zonal_stats_seas(l, var, debug=False).chunk({'gid':100})\n",
        "    group = f\"future-seasonal-monthly-zs-nuts-level-{l}\"\n",
        "    write_to_remote_zarr(ds_ss, group=group, root = \"copernicus-climate/spain-zonal-stats.zarr\", show_tree=False, mode='a')\n",
        "    print(f\"{var} written to zarr store\\n -----------\\n\")"
      ],
      "execution_count": 0,
      "outputs": [
        {
          "output_type": "stream",
          "text": [
            "Processing level 2 variable tasmax\n",
            "The mean ds cell area is 0.0009 deg.\n",
            "\n",
            "Clipped gdf to dataset bounds, giving 16 potential geometries, of which 16 are large enough.\n",
            "\n",
            "Geometries smaller than mean cell size:\n",
            "Empty GeoDataFrame\n",
            "Columns: [gid, geoname]\n",
            "Index: []\n",
            "\n",
            "\n",
            "Finished writing 16 geometries to nuts_2 mask.\n",
            "\n",
            "Starting to write to Zarr...\n",
            "\n",
            "GCS store is setup\n",
            "\n",
            "Writing to store...\n",
            "\n"
          ],
          "name": "stdout"
        },
        {
          "output_type": "stream",
          "text": [
            "/usr/local/lib/python3.6/dist-packages/dask/array/numpy_compat.py:40: RuntimeWarning: invalid value encountered in true_divide\n",
            "  x = np.divide(x1, x2, out)\n"
          ],
          "name": "stderr"
        },
        {
          "output_type": "stream",
          "text": [
            "Finished writing\n",
            "\n",
            "copernicus-climate/spain-zonal-stats.zarr is consoldiated? True\n",
            "\n",
            "tasmax written to zarr store\n",
            " -----------\n",
            "\n",
            "Processing level 2 variable tasmin\n",
            "The mean ds cell area is 0.0009 deg.\n",
            "\n",
            "Clipped gdf to dataset bounds, giving 16 potential geometries, of which 16 are large enough.\n",
            "\n",
            "Geometries smaller than mean cell size:\n",
            "Empty GeoDataFrame\n",
            "Columns: [gid, geoname]\n",
            "Index: []\n",
            "\n",
            "\n",
            "Finished writing 16 geometries to nuts_2 mask.\n",
            "\n",
            "Starting to write to Zarr...\n",
            "\n",
            "GCS store is setup\n",
            "\n",
            "Writing to store...\n",
            "\n"
          ],
          "name": "stdout"
        },
        {
          "output_type": "stream",
          "text": [
            "/usr/local/lib/python3.6/dist-packages/dask/array/numpy_compat.py:40: RuntimeWarning: invalid value encountered in true_divide\n",
            "  x = np.divide(x1, x2, out)\n"
          ],
          "name": "stderr"
        },
        {
          "output_type": "stream",
          "text": [
            "Finished writing\n",
            "\n",
            "copernicus-climate/spain-zonal-stats.zarr is consoldiated? True\n",
            "\n",
            "tasmin written to zarr store\n",
            " -----------\n",
            "\n",
            "Processing level 2 variable heatwave_alerts\n",
            "The mean ds cell area is 0.0009 deg.\n",
            "\n",
            "Clipped gdf to dataset bounds, giving 16 potential geometries, of which 16 are large enough.\n",
            "\n",
            "Geometries smaller than mean cell size:\n",
            "Empty GeoDataFrame\n",
            "Columns: [gid, geoname]\n",
            "Index: []\n",
            "\n",
            "\n",
            "Finished writing 16 geometries to nuts_2 mask.\n",
            "\n",
            "Starting to write to Zarr...\n",
            "\n",
            "GCS store is setup\n",
            "\n",
            "Writing to store...\n",
            "\n"
          ],
          "name": "stdout"
        },
        {
          "output_type": "stream",
          "text": [
            "/usr/local/lib/python3.6/dist-packages/dask/array/numpy_compat.py:40: RuntimeWarning: invalid value encountered in true_divide\n",
            "  x = np.divide(x1, x2, out)\n"
          ],
          "name": "stderr"
        },
        {
          "output_type": "stream",
          "text": [
            "Finished writing\n",
            "\n",
            "copernicus-climate/spain-zonal-stats.zarr is consoldiated? True\n",
            "\n",
            "heatwave_alerts written to zarr store\n",
            " -----------\n",
            "\n",
            "Processing level 2 variable heatwave_alarms\n",
            "The mean ds cell area is 0.0009 deg.\n",
            "\n",
            "Clipped gdf to dataset bounds, giving 16 potential geometries, of which 16 are large enough.\n",
            "\n",
            "Geometries smaller than mean cell size:\n",
            "Empty GeoDataFrame\n",
            "Columns: [gid, geoname]\n",
            "Index: []\n",
            "\n",
            "\n",
            "Finished writing 16 geometries to nuts_2 mask.\n",
            "\n",
            "Starting to write to Zarr...\n",
            "\n",
            "GCS store is setup\n",
            "\n",
            "Writing to store...\n",
            "\n"
          ],
          "name": "stdout"
        },
        {
          "output_type": "stream",
          "text": [
            "/usr/local/lib/python3.6/dist-packages/dask/array/numpy_compat.py:40: RuntimeWarning: invalid value encountered in true_divide\n",
            "  x = np.divide(x1, x2, out)\n"
          ],
          "name": "stderr"
        },
        {
          "output_type": "stream",
          "text": [
            "Finished writing\n",
            "\n",
            "copernicus-climate/spain-zonal-stats.zarr is consoldiated? True\n",
            "\n",
            "heatwave_alarms written to zarr store\n",
            " -----------\n",
            "\n",
            "Processing level 2 variable heatwave_warnings\n",
            "The mean ds cell area is 0.0009 deg.\n",
            "\n",
            "Clipped gdf to dataset bounds, giving 16 potential geometries, of which 16 are large enough.\n",
            "\n",
            "Geometries smaller than mean cell size:\n",
            "Empty GeoDataFrame\n",
            "Columns: [gid, geoname]\n",
            "Index: []\n",
            "\n",
            "\n",
            "Finished writing 16 geometries to nuts_2 mask.\n",
            "\n",
            "Starting to write to Zarr...\n",
            "\n",
            "GCS store is setup\n",
            "\n",
            "Writing to store...\n",
            "\n"
          ],
          "name": "stdout"
        },
        {
          "output_type": "stream",
          "text": [
            "/usr/local/lib/python3.6/dist-packages/dask/array/numpy_compat.py:40: RuntimeWarning: invalid value encountered in true_divide\n",
            "  x = np.divide(x1, x2, out)\n"
          ],
          "name": "stderr"
        },
        {
          "output_type": "stream",
          "text": [
            "Finished writing\n",
            "\n",
            "copernicus-climate/spain-zonal-stats.zarr is consoldiated? True\n",
            "\n",
            "heatwave_warnings written to zarr store\n",
            " -----------\n",
            "\n",
            "Processing level 2 variable coldsnap_alerts\n",
            "The mean ds cell area is 0.0009 deg.\n",
            "\n",
            "Clipped gdf to dataset bounds, giving 16 potential geometries, of which 16 are large enough.\n",
            "\n",
            "Geometries smaller than mean cell size:\n",
            "Empty GeoDataFrame\n",
            "Columns: [gid, geoname]\n",
            "Index: []\n",
            "\n",
            "\n",
            "Finished writing 16 geometries to nuts_2 mask.\n",
            "\n",
            "Starting to write to Zarr...\n",
            "\n",
            "GCS store is setup\n",
            "\n",
            "Writing to store...\n",
            "\n"
          ],
          "name": "stdout"
        },
        {
          "output_type": "stream",
          "text": [
            "/usr/local/lib/python3.6/dist-packages/dask/array/numpy_compat.py:40: RuntimeWarning: invalid value encountered in true_divide\n",
            "  x = np.divide(x1, x2, out)\n"
          ],
          "name": "stderr"
        },
        {
          "output_type": "stream",
          "text": [
            "Finished writing\n",
            "\n",
            "copernicus-climate/spain-zonal-stats.zarr is consoldiated? True\n",
            "\n",
            "coldsnap_alerts written to zarr store\n",
            " -----------\n",
            "\n",
            "Processing level 2 variable coldsnap_alarms\n",
            "The mean ds cell area is 0.0009 deg.\n",
            "\n",
            "Clipped gdf to dataset bounds, giving 16 potential geometries, of which 16 are large enough.\n",
            "\n",
            "Geometries smaller than mean cell size:\n",
            "Empty GeoDataFrame\n",
            "Columns: [gid, geoname]\n",
            "Index: []\n",
            "\n",
            "\n",
            "Finished writing 16 geometries to nuts_2 mask.\n",
            "\n",
            "Starting to write to Zarr...\n",
            "\n",
            "GCS store is setup\n",
            "\n",
            "Writing to store...\n",
            "\n"
          ],
          "name": "stdout"
        },
        {
          "output_type": "stream",
          "text": [
            "/usr/local/lib/python3.6/dist-packages/dask/array/numpy_compat.py:40: RuntimeWarning: invalid value encountered in true_divide\n",
            "  x = np.divide(x1, x2, out)\n"
          ],
          "name": "stderr"
        },
        {
          "output_type": "stream",
          "text": [
            "Finished writing\n",
            "\n",
            "copernicus-climate/spain-zonal-stats.zarr is consoldiated? True\n",
            "\n",
            "coldsnap_alarms written to zarr store\n",
            " -----------\n",
            "\n",
            "Processing level 2 variable coldsnap_warnings\n",
            "The mean ds cell area is 0.0009 deg.\n",
            "\n",
            "Clipped gdf to dataset bounds, giving 16 potential geometries, of which 16 are large enough.\n",
            "\n",
            "Geometries smaller than mean cell size:\n",
            "Empty GeoDataFrame\n",
            "Columns: [gid, geoname]\n",
            "Index: []\n",
            "\n",
            "\n",
            "Finished writing 16 geometries to nuts_2 mask.\n",
            "\n",
            "Starting to write to Zarr...\n",
            "\n",
            "GCS store is setup\n",
            "\n",
            "Writing to store...\n",
            "\n"
          ],
          "name": "stdout"
        },
        {
          "output_type": "stream",
          "text": [
            "/usr/local/lib/python3.6/dist-packages/dask/array/numpy_compat.py:40: RuntimeWarning: invalid value encountered in true_divide\n",
            "  x = np.divide(x1, x2, out)\n"
          ],
          "name": "stderr"
        },
        {
          "output_type": "stream",
          "text": [
            "Finished writing\n",
            "\n",
            "copernicus-climate/spain-zonal-stats.zarr is consoldiated? True\n",
            "\n",
            "coldsnap_warnings written to zarr store\n",
            " -----------\n",
            "\n",
            "Processing level 3 variable tasmax\n",
            "The mean ds cell area is 0.0009 deg.\n",
            "\n",
            "Clipped gdf to dataset bounds, giving 50 potential geometries, of which 50 are large enough.\n",
            "\n",
            "Geometries smaller than mean cell size:\n",
            "Empty GeoDataFrame\n",
            "Columns: [gid, geoname]\n",
            "Index: []\n",
            "\n",
            "\n",
            "Finished writing 50 geometries to nuts_3 mask.\n",
            "\n",
            "Starting to write to Zarr...\n",
            "\n",
            "GCS store is setup\n",
            "\n",
            "Writing to store...\n",
            "\n"
          ],
          "name": "stdout"
        },
        {
          "output_type": "stream",
          "text": [
            "/usr/local/lib/python3.6/dist-packages/dask/array/numpy_compat.py:40: RuntimeWarning: invalid value encountered in true_divide\n",
            "  x = np.divide(x1, x2, out)\n",
            "/usr/local/lib/python3.6/dist-packages/dask/core.py:121: RuntimeWarning: invalid value encountered in true_divide\n",
            "  return func(*(_execute_task(a, cache) for a in args))\n"
          ],
          "name": "stderr"
        },
        {
          "output_type": "stream",
          "text": [
            "Finished writing\n",
            "\n",
            "copernicus-climate/spain-zonal-stats.zarr is consoldiated? True\n",
            "\n",
            "tasmax written to zarr store\n",
            " -----------\n",
            "\n",
            "Processing level 3 variable tasmin\n",
            "The mean ds cell area is 0.0009 deg.\n",
            "\n",
            "Clipped gdf to dataset bounds, giving 50 potential geometries, of which 50 are large enough.\n",
            "\n",
            "Geometries smaller than mean cell size:\n",
            "Empty GeoDataFrame\n",
            "Columns: [gid, geoname]\n",
            "Index: []\n",
            "\n",
            "\n",
            "Finished writing 50 geometries to nuts_3 mask.\n",
            "\n",
            "Starting to write to Zarr...\n",
            "\n",
            "GCS store is setup\n",
            "\n",
            "Writing to store...\n",
            "\n"
          ],
          "name": "stdout"
        },
        {
          "output_type": "stream",
          "text": [
            "/usr/local/lib/python3.6/dist-packages/dask/array/numpy_compat.py:40: RuntimeWarning: invalid value encountered in true_divide\n",
            "  x = np.divide(x1, x2, out)\n",
            "/usr/local/lib/python3.6/dist-packages/dask/core.py:121: RuntimeWarning: invalid value encountered in true_divide\n",
            "  return func(*(_execute_task(a, cache) for a in args))\n"
          ],
          "name": "stderr"
        },
        {
          "output_type": "stream",
          "text": [
            "Finished writing\n",
            "\n",
            "copernicus-climate/spain-zonal-stats.zarr is consoldiated? True\n",
            "\n",
            "tasmin written to zarr store\n",
            " -----------\n",
            "\n",
            "Processing level 3 variable heatwave_alerts\n",
            "The mean ds cell area is 0.0009 deg.\n",
            "\n",
            "Clipped gdf to dataset bounds, giving 50 potential geometries, of which 50 are large enough.\n",
            "\n",
            "Geometries smaller than mean cell size:\n",
            "Empty GeoDataFrame\n",
            "Columns: [gid, geoname]\n",
            "Index: []\n",
            "\n",
            "\n",
            "Finished writing 50 geometries to nuts_3 mask.\n",
            "\n",
            "Starting to write to Zarr...\n",
            "\n",
            "GCS store is setup\n",
            "\n",
            "Writing to store...\n",
            "\n"
          ],
          "name": "stdout"
        },
        {
          "output_type": "stream",
          "text": [
            "/usr/local/lib/python3.6/dist-packages/dask/array/numpy_compat.py:40: RuntimeWarning: invalid value encountered in true_divide\n",
            "  x = np.divide(x1, x2, out)\n",
            "/usr/local/lib/python3.6/dist-packages/dask/core.py:121: RuntimeWarning: invalid value encountered in true_divide\n",
            "  return func(*(_execute_task(a, cache) for a in args))\n"
          ],
          "name": "stderr"
        },
        {
          "output_type": "stream",
          "text": [
            "Finished writing\n",
            "\n",
            "copernicus-climate/spain-zonal-stats.zarr is consoldiated? True\n",
            "\n",
            "heatwave_alerts written to zarr store\n",
            " -----------\n",
            "\n",
            "Processing level 3 variable heatwave_alarms\n",
            "The mean ds cell area is 0.0009 deg.\n",
            "\n",
            "Clipped gdf to dataset bounds, giving 50 potential geometries, of which 50 are large enough.\n",
            "\n",
            "Geometries smaller than mean cell size:\n",
            "Empty GeoDataFrame\n",
            "Columns: [gid, geoname]\n",
            "Index: []\n",
            "\n",
            "\n",
            "Finished writing 50 geometries to nuts_3 mask.\n",
            "\n",
            "Starting to write to Zarr...\n",
            "\n",
            "GCS store is setup\n",
            "\n",
            "Writing to store...\n",
            "\n"
          ],
          "name": "stdout"
        },
        {
          "output_type": "stream",
          "text": [
            "/usr/local/lib/python3.6/dist-packages/dask/array/numpy_compat.py:40: RuntimeWarning: invalid value encountered in true_divide\n",
            "  x = np.divide(x1, x2, out)\n",
            "/usr/local/lib/python3.6/dist-packages/dask/core.py:121: RuntimeWarning: invalid value encountered in true_divide\n",
            "  return func(*(_execute_task(a, cache) for a in args))\n"
          ],
          "name": "stderr"
        },
        {
          "output_type": "stream",
          "text": [
            "Finished writing\n",
            "\n",
            "copernicus-climate/spain-zonal-stats.zarr is consoldiated? True\n",
            "\n",
            "heatwave_alarms written to zarr store\n",
            " -----------\n",
            "\n",
            "Processing level 3 variable heatwave_warnings\n",
            "The mean ds cell area is 0.0009 deg.\n",
            "\n",
            "Clipped gdf to dataset bounds, giving 50 potential geometries, of which 50 are large enough.\n",
            "\n",
            "Geometries smaller than mean cell size:\n",
            "Empty GeoDataFrame\n",
            "Columns: [gid, geoname]\n",
            "Index: []\n",
            "\n",
            "\n",
            "Finished writing 50 geometries to nuts_3 mask.\n",
            "\n",
            "Starting to write to Zarr...\n",
            "\n",
            "GCS store is setup\n",
            "\n",
            "Writing to store...\n",
            "\n"
          ],
          "name": "stdout"
        },
        {
          "output_type": "stream",
          "text": [
            "/usr/local/lib/python3.6/dist-packages/dask/array/numpy_compat.py:40: RuntimeWarning: invalid value encountered in true_divide\n",
            "  x = np.divide(x1, x2, out)\n",
            "/usr/local/lib/python3.6/dist-packages/dask/core.py:121: RuntimeWarning: invalid value encountered in true_divide\n",
            "  return func(*(_execute_task(a, cache) for a in args))\n"
          ],
          "name": "stderr"
        },
        {
          "output_type": "stream",
          "text": [
            "Finished writing\n",
            "\n",
            "copernicus-climate/spain-zonal-stats.zarr is consoldiated? True\n",
            "\n",
            "heatwave_warnings written to zarr store\n",
            " -----------\n",
            "\n",
            "Processing level 3 variable coldsnap_alerts\n",
            "The mean ds cell area is 0.0009 deg.\n",
            "\n",
            "Clipped gdf to dataset bounds, giving 50 potential geometries, of which 50 are large enough.\n",
            "\n",
            "Geometries smaller than mean cell size:\n",
            "Empty GeoDataFrame\n",
            "Columns: [gid, geoname]\n",
            "Index: []\n",
            "\n",
            "\n",
            "Finished writing 50 geometries to nuts_3 mask.\n",
            "\n",
            "Starting to write to Zarr...\n",
            "\n",
            "GCS store is setup\n",
            "\n",
            "Writing to store...\n",
            "\n"
          ],
          "name": "stdout"
        },
        {
          "output_type": "stream",
          "text": [
            "/usr/local/lib/python3.6/dist-packages/dask/array/numpy_compat.py:40: RuntimeWarning: invalid value encountered in true_divide\n",
            "  x = np.divide(x1, x2, out)\n",
            "/usr/local/lib/python3.6/dist-packages/dask/core.py:121: RuntimeWarning: invalid value encountered in true_divide\n",
            "  return func(*(_execute_task(a, cache) for a in args))\n"
          ],
          "name": "stderr"
        },
        {
          "output_type": "stream",
          "text": [
            "Finished writing\n",
            "\n",
            "copernicus-climate/spain-zonal-stats.zarr is consoldiated? True\n",
            "\n",
            "coldsnap_alerts written to zarr store\n",
            " -----------\n",
            "\n",
            "Processing level 3 variable coldsnap_alarms\n",
            "The mean ds cell area is 0.0009 deg.\n",
            "\n",
            "Clipped gdf to dataset bounds, giving 50 potential geometries, of which 50 are large enough.\n",
            "\n",
            "Geometries smaller than mean cell size:\n",
            "Empty GeoDataFrame\n",
            "Columns: [gid, geoname]\n",
            "Index: []\n",
            "\n",
            "\n",
            "Finished writing 50 geometries to nuts_3 mask.\n",
            "\n",
            "Starting to write to Zarr...\n",
            "\n",
            "GCS store is setup\n",
            "\n",
            "Writing to store...\n",
            "\n"
          ],
          "name": "stdout"
        },
        {
          "output_type": "stream",
          "text": [
            "/usr/local/lib/python3.6/dist-packages/dask/array/numpy_compat.py:40: RuntimeWarning: invalid value encountered in true_divide\n",
            "  x = np.divide(x1, x2, out)\n",
            "/usr/local/lib/python3.6/dist-packages/dask/core.py:121: RuntimeWarning: invalid value encountered in true_divide\n",
            "  return func(*(_execute_task(a, cache) for a in args))\n"
          ],
          "name": "stderr"
        },
        {
          "output_type": "stream",
          "text": [
            "Finished writing\n",
            "\n",
            "copernicus-climate/spain-zonal-stats.zarr is consoldiated? True\n",
            "\n",
            "coldsnap_alarms written to zarr store\n",
            " -----------\n",
            "\n",
            "Processing level 3 variable coldsnap_warnings\n",
            "The mean ds cell area is 0.0009 deg.\n",
            "\n",
            "Clipped gdf to dataset bounds, giving 50 potential geometries, of which 50 are large enough.\n",
            "\n",
            "Geometries smaller than mean cell size:\n",
            "Empty GeoDataFrame\n",
            "Columns: [gid, geoname]\n",
            "Index: []\n",
            "\n",
            "\n",
            "Finished writing 50 geometries to nuts_3 mask.\n",
            "\n",
            "Starting to write to Zarr...\n",
            "\n",
            "GCS store is setup\n",
            "\n",
            "Writing to store...\n",
            "\n"
          ],
          "name": "stdout"
        },
        {
          "output_type": "stream",
          "text": [
            "/usr/local/lib/python3.6/dist-packages/dask/array/numpy_compat.py:40: RuntimeWarning: invalid value encountered in true_divide\n",
            "  x = np.divide(x1, x2, out)\n",
            "/usr/local/lib/python3.6/dist-packages/dask/core.py:121: RuntimeWarning: invalid value encountered in true_divide\n",
            "  return func(*(_execute_task(a, cache) for a in args))\n"
          ],
          "name": "stderr"
        },
        {
          "output_type": "stream",
          "text": [
            "Finished writing\n",
            "\n",
            "copernicus-climate/spain-zonal-stats.zarr is consoldiated? True\n",
            "\n",
            "coldsnap_warnings written to zarr store\n",
            " -----------\n",
            "\n",
            "Processing level 4 variable tasmax\n",
            "The mean ds cell area is 0.0001 deg.\n",
            "\n",
            "Clipped gdf to dataset bounds, giving 8031 potential geometries, of which 8013 are large enough.\n",
            "\n",
            "Geometries smaller than mean cell size:\n",
            "           gid                   geoname\n",
            "232   ES_03017      Alqueria D'Asnar, L'\n",
            "971   ES_08032           Caldes D'Estrac\n",
            "1112  ES_08174                Puigdàlber\n",
            "1152  ES_08215  Sant Hipòlit De Voltregà\n",
            "1947  ES_12067                     Geldo\n",
            "2575  ES_17046  Castellfollit De La Roca\n",
            "6988  ES_45138  Puente Del Arzobispo, El\n",
            "7109  ES_46054                Benetússer\n",
            "7116  ES_46061                   Beniflá\n",
            "7121  ES_46066                Benirredrà\n",
            "7129  ES_46074      Bonrepòs I Mirambell\n",
            "7151  ES_46096                     Cerdà\n",
            "7172  ES_46117                 Emperador\n",
            "7192  ES_46137  Granja De La Costera, La\n",
            "7207  ES_46152      Llocnou De La Corona\n",
            "7292  ES_46237         Tavernes Blanques\n",
            "7298  ES_46243                  Torrella\n",
            "8056  ES_50156                   Maleján\n",
            "\n",
            "\n",
            "Finished writing 8012 geometries to nuts_4 mask.\n",
            "\n",
            "Starting to write to Zarr...\n",
            "\n",
            "GCS store is setup\n",
            "\n",
            "Writing to store...\n",
            "\n"
          ],
          "name": "stdout"
        },
        {
          "output_type": "stream",
          "text": [
            "/usr/local/lib/python3.6/dist-packages/dask/array/numpy_compat.py:40: RuntimeWarning: invalid value encountered in true_divide\n",
            "  x = np.divide(x1, x2, out)\n",
            "/usr/local/lib/python3.6/dist-packages/dask/core.py:121: RuntimeWarning: invalid value encountered in true_divide\n",
            "  return func(*(_execute_task(a, cache) for a in args))\n"
          ],
          "name": "stderr"
        },
        {
          "output_type": "stream",
          "text": [
            "Finished writing\n",
            "\n",
            "copernicus-climate/spain-zonal-stats.zarr is consoldiated? True\n",
            "\n",
            "tasmax written to zarr store\n",
            " -----------\n",
            "\n",
            "Processing level 4 variable tasmin\n",
            "The mean ds cell area is 0.0001 deg.\n",
            "\n",
            "Clipped gdf to dataset bounds, giving 8031 potential geometries, of which 8013 are large enough.\n",
            "\n",
            "Geometries smaller than mean cell size:\n",
            "           gid                   geoname\n",
            "232   ES_03017      Alqueria D'Asnar, L'\n",
            "971   ES_08032           Caldes D'Estrac\n",
            "1112  ES_08174                Puigdàlber\n",
            "1152  ES_08215  Sant Hipòlit De Voltregà\n",
            "1947  ES_12067                     Geldo\n",
            "2575  ES_17046  Castellfollit De La Roca\n",
            "6988  ES_45138  Puente Del Arzobispo, El\n",
            "7109  ES_46054                Benetússer\n",
            "7116  ES_46061                   Beniflá\n",
            "7121  ES_46066                Benirredrà\n",
            "7129  ES_46074      Bonrepòs I Mirambell\n",
            "7151  ES_46096                     Cerdà\n",
            "7172  ES_46117                 Emperador\n",
            "7192  ES_46137  Granja De La Costera, La\n",
            "7207  ES_46152      Llocnou De La Corona\n",
            "7292  ES_46237         Tavernes Blanques\n",
            "7298  ES_46243                  Torrella\n",
            "8056  ES_50156                   Maleján\n",
            "\n",
            "\n",
            "Finished writing 8012 geometries to nuts_4 mask.\n",
            "\n",
            "Starting to write to Zarr...\n",
            "\n",
            "GCS store is setup\n",
            "\n",
            "Writing to store...\n",
            "\n"
          ],
          "name": "stdout"
        },
        {
          "output_type": "stream",
          "text": [
            "/usr/local/lib/python3.6/dist-packages/dask/array/numpy_compat.py:40: RuntimeWarning: invalid value encountered in true_divide\n",
            "  x = np.divide(x1, x2, out)\n",
            "/usr/local/lib/python3.6/dist-packages/dask/core.py:121: RuntimeWarning: invalid value encountered in true_divide\n",
            "  return func(*(_execute_task(a, cache) for a in args))\n"
          ],
          "name": "stderr"
        },
        {
          "output_type": "stream",
          "text": [
            "Finished writing\n",
            "\n",
            "copernicus-climate/spain-zonal-stats.zarr is consoldiated? True\n",
            "\n",
            "tasmin written to zarr store\n",
            " -----------\n",
            "\n",
            "Processing level 4 variable heatwave_alerts\n",
            "The mean ds cell area is 0.0001 deg.\n",
            "\n",
            "Clipped gdf to dataset bounds, giving 8031 potential geometries, of which 8013 are large enough.\n",
            "\n",
            "Geometries smaller than mean cell size:\n",
            "           gid                   geoname\n",
            "232   ES_03017      Alqueria D'Asnar, L'\n",
            "971   ES_08032           Caldes D'Estrac\n",
            "1112  ES_08174                Puigdàlber\n",
            "1152  ES_08215  Sant Hipòlit De Voltregà\n",
            "1947  ES_12067                     Geldo\n",
            "2575  ES_17046  Castellfollit De La Roca\n",
            "6988  ES_45138  Puente Del Arzobispo, El\n",
            "7109  ES_46054                Benetússer\n",
            "7116  ES_46061                   Beniflá\n",
            "7121  ES_46066                Benirredrà\n",
            "7129  ES_46074      Bonrepòs I Mirambell\n",
            "7151  ES_46096                     Cerdà\n",
            "7172  ES_46117                 Emperador\n",
            "7192  ES_46137  Granja De La Costera, La\n",
            "7207  ES_46152      Llocnou De La Corona\n",
            "7292  ES_46237         Tavernes Blanques\n",
            "7298  ES_46243                  Torrella\n",
            "8056  ES_50156                   Maleján\n",
            "\n",
            "\n",
            "Finished writing 8012 geometries to nuts_4 mask.\n",
            "\n",
            "Starting to write to Zarr...\n",
            "\n",
            "GCS store is setup\n",
            "\n",
            "Writing to store...\n",
            "\n"
          ],
          "name": "stdout"
        },
        {
          "output_type": "stream",
          "text": [
            "/usr/local/lib/python3.6/dist-packages/dask/array/numpy_compat.py:40: RuntimeWarning: invalid value encountered in true_divide\n",
            "  x = np.divide(x1, x2, out)\n",
            "/usr/local/lib/python3.6/dist-packages/dask/core.py:121: RuntimeWarning: invalid value encountered in true_divide\n",
            "  return func(*(_execute_task(a, cache) for a in args))\n"
          ],
          "name": "stderr"
        },
        {
          "output_type": "stream",
          "text": [
            "Finished writing\n",
            "\n",
            "copernicus-climate/spain-zonal-stats.zarr is consoldiated? True\n",
            "\n",
            "heatwave_alerts written to zarr store\n",
            " -----------\n",
            "\n",
            "Processing level 4 variable heatwave_alarms\n",
            "The mean ds cell area is 0.0001 deg.\n",
            "\n",
            "Clipped gdf to dataset bounds, giving 8031 potential geometries, of which 8013 are large enough.\n",
            "\n",
            "Geometries smaller than mean cell size:\n",
            "           gid                   geoname\n",
            "232   ES_03017      Alqueria D'Asnar, L'\n",
            "971   ES_08032           Caldes D'Estrac\n",
            "1112  ES_08174                Puigdàlber\n",
            "1152  ES_08215  Sant Hipòlit De Voltregà\n",
            "1947  ES_12067                     Geldo\n",
            "2575  ES_17046  Castellfollit De La Roca\n",
            "6988  ES_45138  Puente Del Arzobispo, El\n",
            "7109  ES_46054                Benetússer\n",
            "7116  ES_46061                   Beniflá\n",
            "7121  ES_46066                Benirredrà\n",
            "7129  ES_46074      Bonrepòs I Mirambell\n",
            "7151  ES_46096                     Cerdà\n",
            "7172  ES_46117                 Emperador\n",
            "7192  ES_46137  Granja De La Costera, La\n",
            "7207  ES_46152      Llocnou De La Corona\n",
            "7292  ES_46237         Tavernes Blanques\n",
            "7298  ES_46243                  Torrella\n",
            "8056  ES_50156                   Maleján\n",
            "\n",
            "\n",
            "Finished writing 8012 geometries to nuts_4 mask.\n",
            "\n",
            "Starting to write to Zarr...\n",
            "\n",
            "GCS store is setup\n",
            "\n",
            "Writing to store...\n",
            "\n"
          ],
          "name": "stdout"
        },
        {
          "output_type": "stream",
          "text": [
            "/usr/local/lib/python3.6/dist-packages/dask/array/numpy_compat.py:40: RuntimeWarning: invalid value encountered in true_divide\n",
            "  x = np.divide(x1, x2, out)\n",
            "/usr/local/lib/python3.6/dist-packages/dask/core.py:121: RuntimeWarning: invalid value encountered in true_divide\n",
            "  return func(*(_execute_task(a, cache) for a in args))\n"
          ],
          "name": "stderr"
        },
        {
          "output_type": "stream",
          "text": [
            "Finished writing\n",
            "\n",
            "copernicus-climate/spain-zonal-stats.zarr is consoldiated? True\n",
            "\n",
            "heatwave_alarms written to zarr store\n",
            " -----------\n",
            "\n",
            "Processing level 4 variable heatwave_warnings\n",
            "The mean ds cell area is 0.0001 deg.\n",
            "\n",
            "Clipped gdf to dataset bounds, giving 8031 potential geometries, of which 8013 are large enough.\n",
            "\n",
            "Geometries smaller than mean cell size:\n",
            "           gid                   geoname\n",
            "232   ES_03017      Alqueria D'Asnar, L'\n",
            "971   ES_08032           Caldes D'Estrac\n",
            "1112  ES_08174                Puigdàlber\n",
            "1152  ES_08215  Sant Hipòlit De Voltregà\n",
            "1947  ES_12067                     Geldo\n",
            "2575  ES_17046  Castellfollit De La Roca\n",
            "6988  ES_45138  Puente Del Arzobispo, El\n",
            "7109  ES_46054                Benetússer\n",
            "7116  ES_46061                   Beniflá\n",
            "7121  ES_46066                Benirredrà\n",
            "7129  ES_46074      Bonrepòs I Mirambell\n",
            "7151  ES_46096                     Cerdà\n",
            "7172  ES_46117                 Emperador\n",
            "7192  ES_46137  Granja De La Costera, La\n",
            "7207  ES_46152      Llocnou De La Corona\n",
            "7292  ES_46237         Tavernes Blanques\n",
            "7298  ES_46243                  Torrella\n",
            "8056  ES_50156                   Maleján\n",
            "\n",
            "\n",
            "Finished writing 8012 geometries to nuts_4 mask.\n",
            "\n",
            "Starting to write to Zarr...\n",
            "\n",
            "GCS store is setup\n",
            "\n",
            "Writing to store...\n",
            "\n"
          ],
          "name": "stdout"
        },
        {
          "output_type": "stream",
          "text": [
            "/usr/local/lib/python3.6/dist-packages/dask/array/numpy_compat.py:40: RuntimeWarning: invalid value encountered in true_divide\n",
            "  x = np.divide(x1, x2, out)\n",
            "/usr/local/lib/python3.6/dist-packages/dask/core.py:121: RuntimeWarning: invalid value encountered in true_divide\n",
            "  return func(*(_execute_task(a, cache) for a in args))\n"
          ],
          "name": "stderr"
        },
        {
          "output_type": "stream",
          "text": [
            "Finished writing\n",
            "\n",
            "copernicus-climate/spain-zonal-stats.zarr is consoldiated? True\n",
            "\n",
            "heatwave_warnings written to zarr store\n",
            " -----------\n",
            "\n",
            "Processing level 4 variable coldsnap_alerts\n",
            "The mean ds cell area is 0.0001 deg.\n",
            "\n",
            "Clipped gdf to dataset bounds, giving 8031 potential geometries, of which 8013 are large enough.\n",
            "\n",
            "Geometries smaller than mean cell size:\n",
            "           gid                   geoname\n",
            "232   ES_03017      Alqueria D'Asnar, L'\n",
            "971   ES_08032           Caldes D'Estrac\n",
            "1112  ES_08174                Puigdàlber\n",
            "1152  ES_08215  Sant Hipòlit De Voltregà\n",
            "1947  ES_12067                     Geldo\n",
            "2575  ES_17046  Castellfollit De La Roca\n",
            "6988  ES_45138  Puente Del Arzobispo, El\n",
            "7109  ES_46054                Benetússer\n",
            "7116  ES_46061                   Beniflá\n",
            "7121  ES_46066                Benirredrà\n",
            "7129  ES_46074      Bonrepòs I Mirambell\n",
            "7151  ES_46096                     Cerdà\n",
            "7172  ES_46117                 Emperador\n",
            "7192  ES_46137  Granja De La Costera, La\n",
            "7207  ES_46152      Llocnou De La Corona\n",
            "7292  ES_46237         Tavernes Blanques\n",
            "7298  ES_46243                  Torrella\n",
            "8056  ES_50156                   Maleján\n",
            "\n",
            "\n",
            "Finished writing 8012 geometries to nuts_4 mask.\n",
            "\n",
            "Starting to write to Zarr...\n",
            "\n",
            "GCS store is setup\n",
            "\n",
            "Writing to store...\n",
            "\n"
          ],
          "name": "stdout"
        },
        {
          "output_type": "stream",
          "text": [
            "/usr/local/lib/python3.6/dist-packages/dask/array/numpy_compat.py:40: RuntimeWarning: invalid value encountered in true_divide\n",
            "  x = np.divide(x1, x2, out)\n",
            "/usr/local/lib/python3.6/dist-packages/dask/core.py:121: RuntimeWarning: invalid value encountered in true_divide\n",
            "  return func(*(_execute_task(a, cache) for a in args))\n"
          ],
          "name": "stderr"
        },
        {
          "output_type": "stream",
          "text": [
            "Finished writing\n",
            "\n",
            "copernicus-climate/spain-zonal-stats.zarr is consoldiated? True\n",
            "\n",
            "coldsnap_alerts written to zarr store\n",
            " -----------\n",
            "\n",
            "Processing level 4 variable coldsnap_alarms\n",
            "The mean ds cell area is 0.0001 deg.\n",
            "\n",
            "Clipped gdf to dataset bounds, giving 8031 potential geometries, of which 8013 are large enough.\n",
            "\n",
            "Geometries smaller than mean cell size:\n",
            "           gid                   geoname\n",
            "232   ES_03017      Alqueria D'Asnar, L'\n",
            "971   ES_08032           Caldes D'Estrac\n",
            "1112  ES_08174                Puigdàlber\n",
            "1152  ES_08215  Sant Hipòlit De Voltregà\n",
            "1947  ES_12067                     Geldo\n",
            "2575  ES_17046  Castellfollit De La Roca\n",
            "6988  ES_45138  Puente Del Arzobispo, El\n",
            "7109  ES_46054                Benetússer\n",
            "7116  ES_46061                   Beniflá\n",
            "7121  ES_46066                Benirredrà\n",
            "7129  ES_46074      Bonrepòs I Mirambell\n",
            "7151  ES_46096                     Cerdà\n",
            "7172  ES_46117                 Emperador\n",
            "7192  ES_46137  Granja De La Costera, La\n",
            "7207  ES_46152      Llocnou De La Corona\n",
            "7292  ES_46237         Tavernes Blanques\n",
            "7298  ES_46243                  Torrella\n",
            "8056  ES_50156                   Maleján\n",
            "\n",
            "\n",
            "Finished writing 8012 geometries to nuts_4 mask.\n",
            "\n"
          ],
          "name": "stdout"
        }
      ]
    },
    {
      "cell_type": "code",
      "metadata": {
        "id": "-n9w8Q_vjD5j",
        "colab_type": "code",
        "colab": {}
      },
      "source": [
        "%%time\n",
        "# Remove before or append fails\n",
        "rmv_remote_zarr(group = \"future-longterm-monthly-zs-nuts-level-2\", root = \"copernicus-climate/spain-zonal-stats.zarr\", show_tree=False)\n",
        "rmv_remote_zarr(group = \"future-longterm-monthly-zs-nuts-level-3\", root = \"copernicus-climate/spain-zonal-stats.zarr\", show_tree=False)\n",
        "rmv_remote_zarr(group = \"future-longterm-monthly-zs-nuts-level-4\", root = \"copernicus-climate/spain-zonal-stats.zarr\", show_tree=False)"
      ],
      "execution_count": 0,
      "outputs": []
    },
    {
      "cell_type": "code",
      "metadata": {
        "id": "CqmvwesKtabm",
        "colab_type": "code",
        "colab": {}
      },
      "source": [
        "%%time\n",
        "# Longterm zonal stats\n",
        "# Combine all the zonal stats summaries\n",
        "levels = [2,3,4]\n",
        "dvars = ['tasmax','tasmin','heatwave_alerts','heatwave_alarms','heatwave_warnings','coldsnap_alerts','coldsnap_alarms','coldsnap_warnings']\n",
        "\n",
        "for l in levels:\n",
        "  for var in dvars:\n",
        "    print(f\"Processing level {l} variable {var}\")\n",
        "    ds_ss = zonal_stats_fut(l, var, debug=False).chunk({'gid':100})\n",
        "    ds_ss['experiment'] = ds_ss['experiment'].astype('str')\n",
        "    group = f\"future-longterm-monthly-zs-nuts-level-{l}\"\n",
        "    write_to_remote_zarr(ds_ss, group=group, root = \"copernicus-climate/spain-zonal-stats.zarr\", show_tree=False, mode='a')\n",
        "    print(f\"{var} written to zarr store\")"
      ],
      "execution_count": 0,
      "outputs": []
    },
    {
      "cell_type": "code",
      "metadata": {
        "id": "UTgu9msXrQ8e",
        "colab_type": "code",
        "colab": {}
      },
      "source": [
        "# Make Zarr directories PUBLIC\n",
        "set_acl_to_public(f\"{gcs_prefix}/spain-zonal-stats.zarr\")"
      ],
      "execution_count": 0,
      "outputs": []
    },
    {
      "cell_type": "code",
      "metadata": {
        "id": "vDqFs2ikcKxl",
        "colab_type": "code",
        "colab": {}
      },
      "source": [
        "# Write CSV to GCS\n",
        "#%%time\n",
        "#import gcsfs\n",
        "#fs = gcsfs.GCSFileSystem(project=gc_project, token=f\"/root/.{gc_creds}\")\n",
        "\n",
        "#with fs.open(f\"{gcs_prefix}/zonal_stats/historical_nuts-234.csv\", 'w') as f:\n",
        "#  his_ss.to_dataframe().reset_index(drop=False).to_csv(f, index=False)\n",
        "#with fs.open(f\"{gcs_prefix}/zonal_stats/future-seasonal_nuts-234.csv\", 'w') as f:\n",
        "#  seas_ss.to_dataframe().reset_index(drop=False).to_csv(f, index=False)\n",
        "#with fs.open(f\"{gcs_prefix}/zonal_stats/future-longterm_nuts-234.csv\", 'w') as f:\n",
        "#  fut_ss.to_dataframe().reset_index(drop=False).to_csv(f, index=False)\n",
        "#print(\"Finished writing files\")  "
      ],
      "execution_count": 0,
      "outputs": []
    },
    {
      "cell_type": "markdown",
      "metadata": {
        "id": "I1e7GoGmtpBx",
        "colab_type": "text"
      },
      "source": [
        "# End"
      ]
    },
    {
      "cell_type": "code",
      "metadata": {
        "id": "5cWtsBjj7h66",
        "colab_type": "code",
        "colab": {}
      },
      "source": [
        "# Total time\n",
        "from datetime import datetime\n",
        "end_time = datetime.now()\n",
        "tot = end_time - start_time_setup\n",
        "proc = end_time - start_time_processing\n",
        "print(f\"Total time {tot} of which processing was {proc}\")"
      ],
      "execution_count": 0,
      "outputs": []
    }
  ]
}